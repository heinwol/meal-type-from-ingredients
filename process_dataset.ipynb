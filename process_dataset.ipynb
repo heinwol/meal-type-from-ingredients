{
 "cells": [
  {
   "cell_type": "code",
   "execution_count": 129,
   "id": "bdb09cb6-6cfc-436a-a92e-79e3a9a24ff0",
   "metadata": {},
   "outputs": [],
   "source": [
    "import numpy as np\n",
    "import matplotlib.pyplot as plt\n",
    "import pandas as pd\n",
    "%matplotlib widget\n",
    "\n",
    "from toolz import *\n",
    "\n",
    "import os\n",
    "import pickle\n",
    "import json\n",
    "import pathlib\n",
    "\n",
    "import glom\n",
    "from lenses import lens"
   ]
  },
  {
   "cell_type": "code",
   "execution_count": 2,
   "id": "a013d5a9-3482-4198-9276-edf7c5592419",
   "metadata": {},
   "outputs": [],
   "source": [
    "lmap = compose(list, map)"
   ]
  },
  {
   "cell_type": "code",
   "execution_count": 3,
   "id": "d1e5ad78-0b7b-465b-8656-64cd31ae0ee4",
   "metadata": {},
   "outputs": [],
   "source": [
    "def list_of_str_to_list_of_json(lst):\n",
    "    it = map(lambda x: x.replace('\\xa0', ' '), lst)\n",
    "    it = filter(lambda x: x != '', it)\n",
    "    it = lmap(json.loads, it)\n",
    "    return it"
   ]
  },
  {
   "cell_type": "code",
   "execution_count": 4,
   "id": "7b665ebb-a1b9-4c98-86de-b6ab073973be",
   "metadata": {},
   "outputs": [],
   "source": [
    "data_path = pathlib.Path('data')"
   ]
  },
  {
   "cell_type": "markdown",
   "id": "4001a009-8cd0-49f5-9c9c-bd51dd448768",
   "metadata": {},
   "source": [
    "## Loading dataset from files (as nested structure):"
   ]
  },
  {
   "cell_type": "code",
   "execution_count": 9,
   "id": "0286f30a-b24c-4d41-9184-d746c19b8295",
   "metadata": {},
   "outputs": [],
   "source": [
    "dict_json_by_course = {}\n",
    "for path_course in pathlib.Path('data').joinpath('collected').iterdir():\n",
    "    list_of_course_jsons = []\n",
    "    for path_file in path_course.iterdir():\n",
    "        with open(path_file, 'r', encoding='utf-8') as f:\n",
    "            list_of_course_jsons += list_of_str_to_list_of_json(f.readlines())\n",
    "    dict_json_by_course[str(path_course.name)] = list_of_course_jsons"
   ]
  },
  {
   "cell_type": "code",
   "execution_count": 10,
   "id": "4bc66139-09f9-47f1-ba5a-abb7862cab48",
   "metadata": {},
   "outputs": [
    {
     "data": {
      "text/plain": [
       "dict_keys(['Выпечка и десерты', 'Завтраки', 'Закуски', 'Напитки', 'Основные блюда', 'Паста и пицца', 'Салаты', 'Соусы и маринады', 'Супы'])"
      ]
     },
     "execution_count": 10,
     "metadata": {},
     "output_type": "execute_result"
    }
   ],
   "source": [
    "dict_json_by_course.keys()"
   ]
  },
  {
   "cell_type": "code",
   "execution_count": 14,
   "id": "30ea994c-c8a7-41b7-883b-e1d47b2ce0fd",
   "metadata": {},
   "outputs": [
    {
     "data": {
      "text/plain": [
       "{'url': 'https://eda.ru/recepty/zavtraki/yaichnica-po-abhazski-138276',\n",
       " 'title': 'Яичница по-абхазски',\n",
       " 'category': 'Завтраки',\n",
       " 'cuisine': 'Абхазская кухня',\n",
       " 'menu': 'Еда без ограничений',\n",
       " 'description': 'Рецепт взят из книги «Абхазская кухня» издательства «Эксмо».',\n",
       " 'ingredients': [['Куриное яйцо', '3 штуки'],\n",
       "  ['Аджика', '½ чайные ложки'],\n",
       "  ['Сливочное масло', '15 г']],\n",
       " 'instructions': [['1', 'Смешать яйца с аджикой, немного взбить.'],\n",
       "  ['2',\n",
       "   'На сковороде растопить сливочное масло и вылить на нее яичную смесь. Жарить яичницу 2–3 минуты, подавать горячей.']],\n",
       " 'advice': ''}"
      ]
     },
     "execution_count": 14,
     "metadata": {},
     "output_type": "execute_result"
    }
   ],
   "source": [
    "instance_entry = dict_json_by_course['Завтраки'][0]\n",
    "instance_entry"
   ]
  },
  {
   "cell_type": "markdown",
   "id": "604f2a97-27d2-46ff-89cf-c8bc31ab6f7c",
   "metadata": {},
   "source": [
    "## Processing:\n",
    "\n",
    "Now we're ready to process this data to create dataset for our needs"
   ]
  },
  {
   "cell_type": "code",
   "execution_count": 18,
   "id": "3c39ce52-e649-4e4d-9ae2-e82b16450dcf",
   "metadata": {},
   "outputs": [],
   "source": [
    "def map_dict_of_lists(func, structure):\n",
    "    \"\"\"\n",
    "    helper function to simplify mapping of \n",
    "    different functions to our structure\n",
    "    `func` -- function that gets a dict as\n",
    "        an input\n",
    "    \"\"\"\n",
    "    res = valmap(\n",
    "        lambda list_by_category: lmap(\n",
    "            func,\n",
    "            list_by_category),\n",
    "        structure)\n",
    "    return res"
   ]
  },
  {
   "cell_type": "markdown",
   "id": "6ca02f47-be2b-4a6f-a816-4eacb56f2c46",
   "metadata": {},
   "source": [
    "### First of all, renaming `category` to `course`:"
   ]
  },
  {
   "cell_type": "code",
   "execution_count": 42,
   "id": "eef09d4d-dde4-4879-88bd-176a192981e2",
   "metadata": {},
   "outputs": [
    {
     "data": {
      "text/plain": [
       "{'url': 'https://eda.ru/recepty/zavtraki/yaichnica-po-abhazski-138276',\n",
       " 'title': 'Яичница по-абхазски',\n",
       " 'course': 'Завтраки',\n",
       " 'cuisine': 'Абхазская кухня',\n",
       " 'menu': 'Еда без ограничений',\n",
       " 'description': 'Рецепт взят из книги «Абхазская кухня» издательства «Эксмо».',\n",
       " 'ingredients': [['Куриное яйцо', '3 штуки'],\n",
       "  ['Аджика', '½ чайные ложки'],\n",
       "  ['Сливочное масло', '15 г']],\n",
       " 'instructions': [['1', 'Смешать яйца с аджикой, немного взбить.'],\n",
       "  ['2',\n",
       "   'На сковороде растопить сливочное масло и вылить на нее яичную смесь. Жарить яичницу 2–3 минуты, подавать горячей.']],\n",
       " 'advice': ''}"
      ]
     },
     "execution_count": 42,
     "metadata": {},
     "output_type": "execute_result"
    }
   ],
   "source": [
    "dict_json_by_course_renamed = map_dict_of_lists(\n",
    "    lambda instance: keymap(\n",
    "        lambda field_name: 'course' if field_name == 'category' else field_name,\n",
    "        instance),\n",
    "    dict_json_by_course)\n",
    "instance_entry = dict_json_by_course_renamed['Завтраки'][0]\n",
    "instance_entry"
   ]
  },
  {
   "cell_type": "code",
   "execution_count": 47,
   "id": "8b0b7d18-adc3-4e50-bc52-60581f19c99c",
   "metadata": {},
   "outputs": [
    {
     "data": {
      "text/plain": [
       "{'Выпечка и десерты': [{'url': 'https://eda.ru/recepty/vypechka-deserty/bananovoe-morozhenoe-s-koricej-28195',\n",
       "   'title': 'Банановое мороженое с корицей',\n",
       "   'course': 'Выпечка и десерты',\n",
       "   'cuisine': 'Карибская кухня',\n",
       "   'menu': 'Детское меню',\n",
       "   'description': '',\n",
       "   'ingredients': [],\n",
       "   'instructions': [],\n",
       "   'advice': ''},\n",
       "  {'url': 'https://eda.ru/recepty/vypechka-deserty/ananasovo-kokosovij-sherbet-28141',\n",
       "   'title': 'Ананасово-кокосовый шербет',\n",
       "   'course': 'Выпечка и десерты',\n",
       "   'cuisine': 'Карибская кухня',\n",
       "   'menu': 'Еда без ограничений',\n",
       "   'description': '',\n",
       "   'ingredients': [],\n",
       "   'instructions': [],\n",
       "   'advice': ''}],\n",
       " 'Завтраки': [{'url': 'https://eda.ru/recepty/zavtraki/yaichnica-po-abhazski-138276',\n",
       "   'title': 'Яичница по-абхазски',\n",
       "   'course': 'Завтраки',\n",
       "   'cuisine': 'Абхазская кухня',\n",
       "   'menu': 'Еда без ограничений',\n",
       "   'description': 'Рецепт взят из книги «Абхазская кухня» издательства «Эксмо».',\n",
       "   'ingredients': [],\n",
       "   'instructions': [],\n",
       "   'advice': ''},\n",
       "  {'url': 'https://eda.ru/recepty/zavtraki/omlet-s-kukuruzoy-138277',\n",
       "   'title': 'Омлет с кукурузой',\n",
       "   'course': 'Завтраки',\n",
       "   'cuisine': 'Абхазская кухня',\n",
       "   'menu': 'Еда без ограничений',\n",
       "   'description': 'Рецепт взят из книги «Абхазская кухня» издательства «Эксмо».',\n",
       "   'ingredients': [],\n",
       "   'instructions': [],\n",
       "   'advice': ''}],\n",
       " 'Закуски': [{'url': 'https://eda.ru/recepty/zakuski/gorjachaja-zakuska-v-bagete-36497',\n",
       "   'title': 'Горячая закуска в багете',\n",
       "   'course': 'Закуски',\n",
       "   'cuisine': 'Французская кухня',\n",
       "   'menu': 'Еда без ограничений',\n",
       "   'description': '',\n",
       "   'ingredients': [],\n",
       "   'instructions': [],\n",
       "   'advice': ''},\n",
       "  {'url': 'https://eda.ru/recepty/zakuski/bystrye-zakuski-v-tartaletkah-80298',\n",
       "   'title': 'Быстрые закуски в тарталетках',\n",
       "   'course': 'Закуски',\n",
       "   'cuisine': 'Французская кухня',\n",
       "   'menu': 'Еда без ограничений',\n",
       "   'description': '',\n",
       "   'ingredients': [],\n",
       "   'instructions': [],\n",
       "   'advice': ''}]}"
      ]
     },
     "execution_count": 47,
     "metadata": {},
     "output_type": "execute_result"
    }
   ],
   "source": [
    "sample = {}\n",
    "for i, key in enumerate(dict_json_by_course_renamed.keys()):\n",
    "    sample[key] = []\n",
    "    for j, lst_element in enumerate(dict_json_by_course_renamed[key]):\n",
    "        sample[key].append(lst_element)\n",
    "        sample[key][j]['ingredients'] = []\n",
    "        sample[key][j]['instructions'] = []\n",
    "        if j == 1: break\n",
    "    if i == 2: break\n",
    "sample"
   ]
  },
  {
   "cell_type": "code",
   "execution_count": 121,
   "id": "76c82cc7-7aad-4a94-8754-562ff8e1e9d2",
   "metadata": {},
   "outputs": [
    {
     "data": {
      "text/plain": [
       "{'planet_names': ['earth', 'jupiter'],\n",
       " 'moon_names': [['luna'], ['io', 'europa']]}"
      ]
     },
     "execution_count": 121,
     "metadata": {},
     "output_type": "execute_result"
    }
   ],
   "source": [
    "target = {\n",
    "    'system': {\n",
    "        'planets': [\n",
    "            {\n",
    "                'name': 'earth',\n",
    "                'moons': [\n",
    "                    {'name': 'luna'}\n",
    "                ]\n",
    "            },\n",
    "            {\n",
    "                'name': 'jupiter',\n",
    "                'moons': [\n",
    "                    {'name': 'io'},\n",
    "                    {'name': 'europa'}\n",
    "                ]\n",
    "            }\n",
    "        ]\n",
    "    }\n",
    "}\n",
    "spec = {\n",
    "    'planet_names': ('system.planets', ['name']),\n",
    "    'moon_names': ('system.planets', [('moons', ['name'])])\n",
    "}\n",
    "glom.glom(target, spec)"
   ]
  },
  {
   "cell_type": "code",
   "execution_count": 127,
   "id": "5f4cba6b-7131-4132-8447-ce0bfa47fffd",
   "metadata": {},
   "outputs": [
    {
     "data": {
      "text/plain": [
       "[[{'url': 'https://eda.ru/recepty/vypechka-deserty/bananovoe-morozhenoe-s-koricej-28195',\n",
       "   'title': 'Банановое мороженое с корицей',\n",
       "   'course': 'Выпечка и десерты',\n",
       "   'cuisine': 'Карибская кухня',\n",
       "   'menu': 'Детское меню',\n",
       "   'description': '',\n",
       "   'ingredients': [],\n",
       "   'instructions': [],\n",
       "   'advice': ''},\n",
       "  {'url': 'https://eda.ru/recepty/vypechka-deserty/ananasovo-kokosovij-sherbet-28141',\n",
       "   'title': 'Ананасово-кокосовый шербет',\n",
       "   'course': 'Выпечка и десерты',\n",
       "   'cuisine': 'Карибская кухня',\n",
       "   'menu': 'Еда без ограничений',\n",
       "   'description': '',\n",
       "   'ingredients': [],\n",
       "   'instructions': [],\n",
       "   'advice': ''}],\n",
       " [{'url': 'https://eda.ru/recepty/zavtraki/yaichnica-po-abhazski-138276',\n",
       "   'title': 'Яичница по-абхазски',\n",
       "   'course': 'Завтраки',\n",
       "   'cuisine': 'Абхазская кухня',\n",
       "   'menu': 'Еда без ограничений',\n",
       "   'description': 'Рецепт взят из книги «Абхазская кухня» издательства «Эксмо».',\n",
       "   'ingredients': [],\n",
       "   'instructions': [],\n",
       "   'advice': ''},\n",
       "  {'url': 'https://eda.ru/recepty/zavtraki/omlet-s-kukuruzoy-138277',\n",
       "   'title': 'Омлет с кукурузой',\n",
       "   'course': 'Завтраки',\n",
       "   'cuisine': 'Абхазская кухня',\n",
       "   'menu': 'Еда без ограничений',\n",
       "   'description': 'Рецепт взят из книги «Абхазская кухня» издательства «Эксмо».',\n",
       "   'ingredients': [],\n",
       "   'instructions': [],\n",
       "   'advice': ''}],\n",
       " [{'url': 'https://eda.ru/recepty/zakuski/gorjachaja-zakuska-v-bagete-36497',\n",
       "   'title': 'Горячая закуска в багете',\n",
       "   'course': 'Закуски',\n",
       "   'cuisine': 'Французская кухня',\n",
       "   'menu': 'Еда без ограничений',\n",
       "   'description': '',\n",
       "   'ingredients': [],\n",
       "   'instructions': [],\n",
       "   'advice': ''},\n",
       "  {'url': 'https://eda.ru/recepty/zakuski/bystrye-zakuski-v-tartaletkah-80298',\n",
       "   'title': 'Быстрые закуски в тарталетках',\n",
       "   'course': 'Закуски',\n",
       "   'cuisine': 'Французская кухня',\n",
       "   'menu': 'Еда без ограничений',\n",
       "   'description': '',\n",
       "   'ingredients': [],\n",
       "   'instructions': [],\n",
       "   'advice': ''}]]"
      ]
     },
     "execution_count": 127,
     "metadata": {},
     "output_type": "execute_result"
    }
   ],
   "source": [
    "it = glom.glom(sample, ('*', ['*']))\n",
    "(it)"
   ]
  },
  {
   "cell_type": "code",
   "execution_count": 35,
   "id": "4212db91-9379-49b2-8656-f7892cca1a7d",
   "metadata": {},
   "outputs": [
    {
     "data": {
      "text/plain": [
       "[['Банановое мороженое с корицей', 'Ананасово-кокосовый шербет'],\n",
       " ['Яичница по-абхазски', 'Омлет с кукурузой'],\n",
       " ['Горячая закуска в багете', 'Быстрые закуски в тарталетках']]"
      ]
     },
     "execution_count": 35,
     "metadata": {},
     "output_type": "execute_result"
    }
   ],
   "source": [
    "glom.glom(sample, '*.*.title')"
   ]
  },
  {
   "cell_type": "code",
   "execution_count": null,
   "id": "043a3bbf-c4e5-4a04-9e59-16b7db813d69",
   "metadata": {},
   "outputs": [],
   "source": [
    "# with open('foodie_favorites_dataset/first_reviews.json', 'r') as f:\n",
    "#     rewiews_lines = f.readlines() #json.load(f)\n",
    "\n",
    "# rewiews_first = json.loads(rewiews_lines[1])\n",
    "\n",
    "# with open('foodie_favorites_dataset/restaurants.json', 'r') as f:\n",
    "#     for _ in range(1):\n",
    "#         f.readline()\n",
    "#     restaurant_nth = json.loads(f.readline())\n",
    "\n",
    "# for i in range(len(rewiews_first['reviews'])):\n",
    "#     print(rewiews_first['reviews'][i]['comment'])\n",
    "#     print('\\n' + '-'*100 + '\\n')\n",
    "\n",
    "list_vypechka = []\n",
    "for file in data_path.joinpath('vypechka-deserty').iterdir():\n",
    "    list_vypechka.append(file.read_text(encoding='utf-8'))\n",
    "\n",
    "vypechka_path_to_add =  data_path.joinpath('data_file_vypechka_evropeyskaya.json')\n",
    "with open(vypechka_path_to_add, 'r', encoding='utf-8') as f:\n",
    "    list_vypechka += f.readlines()\n",
    "\n",
    "vypechka_path_to_add =  data_path.joinpath('data_file.json')\n",
    "with open(vypechka_path_to_add, 'r', encoding='utf-8') as f:\n",
    "    list_vypechka += f.readlines()\n",
    "\n",
    "for path in ['data_file_osnovnye_blyda.json',\n",
    "             'data_file_Завтраки_Напитки_Паста_и_пицца_Соусы_и_маринады_Супы.json',\n",
    "             'data_file_Закуски_Салаты.json']:\n",
    "    path_obj = data_path.joinpath(path)\n",
    "    with open(path_obj, 'r', encoding='utf-8') as f:\n",
    "        path_list = f.readlines()\n",
    "    json_form = json.dumps(list_of_str_to_list_of_json(list_vypechka), indent=2, ensure_ascii=False)\n",
    "    path_obj.write_text(json_form)\n",
    "\n",
    "json_form = json.dumps(list_of_str_to_list_of_json(list_vypechka), indent=2, ensure_ascii=False)\n",
    "data_path.joinpath('vypechka-deserty.json').write_text(json_form)\n"
   ]
  },
  {
   "cell_type": "code",
   "execution_count": 34,
   "id": "4afb5cb1-8bfd-4e6d-828f-aa1048206105",
   "metadata": {},
   "outputs": [],
   "source": [
    "res = {}\n",
    "for elt in data_path.parent.joinpath('old').iterdir():\n",
    "    if not elt.is_dir():\n",
    "        res[str(elt)] = pd.json_normalize(json.loads(elt.read_text(encoding='utf-8')))"
   ]
  },
  {
   "cell_type": "code",
   "execution_count": 35,
   "id": "c76a23a9-06c1-4671-8c5a-317aac1a169a",
   "metadata": {},
   "outputs": [
    {
     "data": {
      "text/html": [
       "<div>\n",
       "<style scoped>\n",
       "    .dataframe tbody tr th:only-of-type {\n",
       "        vertical-align: middle;\n",
       "    }\n",
       "\n",
       "    .dataframe tbody tr th {\n",
       "        vertical-align: top;\n",
       "    }\n",
       "\n",
       "    .dataframe thead th {\n",
       "        text-align: right;\n",
       "    }\n",
       "</style>\n",
       "<table border=\"1\" class=\"dataframe\">\n",
       "  <thead>\n",
       "    <tr style=\"text-align: right;\">\n",
       "      <th></th>\n",
       "      <th>title</th>\n",
       "      <th>category</th>\n",
       "      <th>cuisine</th>\n",
       "      <th>menu</th>\n",
       "      <th>description</th>\n",
       "    </tr>\n",
       "  </thead>\n",
       "  <tbody>\n",
       "    <tr>\n",
       "      <th>0</th>\n",
       "      <td>Фаршированные белые грибы с сыром</td>\n",
       "      <td>Закуски</td>\n",
       "      <td>Русская кухня</td>\n",
       "      <td>Еда без ограничений</td>\n",
       "      <td></td>\n",
       "    </tr>\n",
       "    <tr>\n",
       "      <th>1</th>\n",
       "      <td>Рулеты из огурца, картофельного пюре и сельди</td>\n",
       "      <td>Закуски</td>\n",
       "      <td>Русская кухня</td>\n",
       "      <td>Еда без ограничений</td>\n",
       "      <td></td>\n",
       "    </tr>\n",
       "    <tr>\n",
       "      <th>2</th>\n",
       "      <td>Глазированная репа</td>\n",
       "      <td>Закуски</td>\n",
       "      <td>Русская кухня</td>\n",
       "      <td>Еда без ограничений</td>\n",
       "      <td></td>\n",
       "    </tr>\n",
       "    <tr>\n",
       "      <th>3</th>\n",
       "      <td>Баклажаны с грибами в сметанном соусе</td>\n",
       "      <td>Закуски</td>\n",
       "      <td>Русская кухня</td>\n",
       "      <td>Еда без ограничений</td>\n",
       "      <td></td>\n",
       "    </tr>\n",
       "    <tr>\n",
       "      <th>4</th>\n",
       "      <td>Оладьи из малоглазого макруруса</td>\n",
       "      <td>Закуски</td>\n",
       "      <td>Русская кухня</td>\n",
       "      <td>Еда без ограничений</td>\n",
       "      <td></td>\n",
       "    </tr>\n",
       "    <tr>\n",
       "      <th>...</th>\n",
       "      <td>...</td>\n",
       "      <td>...</td>\n",
       "      <td>...</td>\n",
       "      <td>...</td>\n",
       "      <td>...</td>\n",
       "    </tr>\n",
       "    <tr>\n",
       "      <th>7632</th>\n",
       "      <td>Мидии с пармезаном и белым вином</td>\n",
       "      <td>Салаты</td>\n",
       "      <td>Бельгийская кухня</td>\n",
       "      <td>Еда без ограничений</td>\n",
       "      <td></td>\n",
       "    </tr>\n",
       "    <tr>\n",
       "      <th>7633</th>\n",
       "      <td>Салат с подкопченой семгой и хурмой</td>\n",
       "      <td>Салаты</td>\n",
       "      <td>Аргентинская кухня</td>\n",
       "      <td>Еда без ограничений</td>\n",
       "      <td></td>\n",
       "    </tr>\n",
       "    <tr>\n",
       "      <th>7634</th>\n",
       "      <td>Салат из мяса, овощей и моцареллы с соусом чим...</td>\n",
       "      <td>Салаты</td>\n",
       "      <td>Аргентинская кухня</td>\n",
       "      <td>Еда без ограничений</td>\n",
       "      <td></td>\n",
       "    </tr>\n",
       "    <tr>\n",
       "      <th>7635</th>\n",
       "      <td>Биф-салат</td>\n",
       "      <td>Салаты</td>\n",
       "      <td>Аргентинская кухня</td>\n",
       "      <td>Еда без ограничений</td>\n",
       "      <td></td>\n",
       "    </tr>\n",
       "    <tr>\n",
       "      <th>7636</th>\n",
       "      <td>Салат из двух видов фасоли с соусом чимичурри</td>\n",
       "      <td>Салаты</td>\n",
       "      <td>Аргентинская кухня</td>\n",
       "      <td>Веганская еда</td>\n",
       "      <td></td>\n",
       "    </tr>\n",
       "  </tbody>\n",
       "</table>\n",
       "<p>7637 rows × 5 columns</p>\n",
       "</div>"
      ],
      "text/plain": [
       "                                                  title category  \\\n",
       "0                     Фаршированные белые грибы с сыром  Закуски   \n",
       "1         Рулеты из огурца, картофельного пюре и сельди  Закуски   \n",
       "2                                    Глазированная репа  Закуски   \n",
       "3                 Баклажаны с грибами в сметанном соусе  Закуски   \n",
       "4                       Оладьи из малоглазого макруруса  Закуски   \n",
       "...                                                 ...      ...   \n",
       "7632                   Мидии с пармезаном и белым вином   Салаты   \n",
       "7633                Салат с подкопченой семгой и хурмой   Салаты   \n",
       "7634  Салат из мяса, овощей и моцареллы с соусом чим...   Салаты   \n",
       "7635                                          Биф-салат   Салаты   \n",
       "7636      Салат из двух видов фасоли с соусом чимичурри   Салаты   \n",
       "\n",
       "                 cuisine                 menu description  \n",
       "0          Русская кухня  Еда без ограничений              \n",
       "1          Русская кухня  Еда без ограничений              \n",
       "2          Русская кухня  Еда без ограничений              \n",
       "3          Русская кухня  Еда без ограничений              \n",
       "4          Русская кухня  Еда без ограничений              \n",
       "...                  ...                  ...         ...  \n",
       "7632   Бельгийская кухня  Еда без ограничений              \n",
       "7633  Аргентинская кухня  Еда без ограничений              \n",
       "7634  Аргентинская кухня  Еда без ограничений              \n",
       "7635  Аргентинская кухня  Еда без ограничений              \n",
       "7636  Аргентинская кухня        Веганская еда              \n",
       "\n",
       "[7637 rows x 5 columns]"
      ]
     },
     "execution_count": 35,
     "metadata": {},
     "output_type": "execute_result"
    }
   ],
   "source": [
    "res_lst = list(res.values())\n",
    "res_lst[0]"
   ]
  }
 ],
 "metadata": {
  "kernelspec": {
   "display_name": "Python 3 (ipykernel)",
   "language": "python",
   "name": "python3"
  },
  "language_info": {
   "codemirror_mode": {
    "name": "ipython",
    "version": 3
   },
   "file_extension": ".py",
   "mimetype": "text/x-python",
   "name": "python",
   "nbconvert_exporter": "python",
   "pygments_lexer": "ipython3",
   "version": "3.10.6"
  }
 },
 "nbformat": 4,
 "nbformat_minor": 5
}
