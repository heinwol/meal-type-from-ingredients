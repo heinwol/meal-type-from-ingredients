{
 "cells": [
  {
   "cell_type": "code",
   "execution_count": 1,
   "id": "bdb09cb6-6cfc-436a-a92e-79e3a9a24ff0",
   "metadata": {},
   "outputs": [],
   "source": [
    "import numpy as np\n",
    "import matplotlib.pyplot as plt\n",
    "import pandas as pd\n",
    "%matplotlib widget\n",
    "\n",
    "from toolz import *\n",
    "\n",
    "import os\n",
    "import pickle\n",
    "import json\n",
    "import pathlib\n",
    "\n",
    "import glom\n",
    "from lenses import lens"
   ]
  },
  {
   "cell_type": "code",
   "execution_count": 2,
   "id": "a013d5a9-3482-4198-9276-edf7c5592419",
   "metadata": {},
   "outputs": [],
   "source": [
    "lmap = compose(list, map)"
   ]
  },
  {
   "cell_type": "code",
   "execution_count": 3,
   "id": "d1e5ad78-0b7b-465b-8656-64cd31ae0ee4",
   "metadata": {},
   "outputs": [],
   "source": [
    "def list_of_str_to_list_of_json(lst):\n",
    "    it = map(lambda x: x.replace('\\xa0', ' '), lst)\n",
    "    it = filter(lambda x: x != '', it)\n",
    "    it = lmap(json.loads, it)\n",
    "    return it"
   ]
  },
  {
   "cell_type": "code",
   "execution_count": 4,
   "id": "7b665ebb-a1b9-4c98-86de-b6ab073973be",
   "metadata": {},
   "outputs": [],
   "source": [
    "data_path = pathlib.Path('data')"
   ]
  },
  {
   "cell_type": "code",
   "execution_count": 5,
   "id": "b4465a3d-ff97-4e7c-aa51-303292e0b91e",
   "metadata": {},
   "outputs": [],
   "source": [
    "instance_entry_lens_get = lens['Завтраки'][3].get()"
   ]
  },
  {
   "cell_type": "markdown",
   "id": "4001a009-8cd0-49f5-9c9c-bd51dd448768",
   "metadata": {},
   "source": [
    "## Loading dataset from files (as nested structure):"
   ]
  },
  {
   "cell_type": "code",
   "execution_count": 6,
   "id": "0286f30a-b24c-4d41-9184-d746c19b8295",
   "metadata": {},
   "outputs": [],
   "source": [
    "dict_json_by_course = {}\n",
    "for path_course in pathlib.Path('data').joinpath('collected').iterdir():\n",
    "    list_of_course_jsons = []\n",
    "    for path_file in path_course.iterdir():\n",
    "        with open(path_file, 'r', encoding='utf-8') as f:\n",
    "            list_of_course_jsons += list_of_str_to_list_of_json(f.readlines())\n",
    "    dict_json_by_course[str(path_course.name)] = list_of_course_jsons"
   ]
  },
  {
   "cell_type": "code",
   "execution_count": 7,
   "id": "4bc66139-09f9-47f1-ba5a-abb7862cab48",
   "metadata": {},
   "outputs": [
    {
     "data": {
      "text/plain": [
       "dict_keys(['Выпечка и десерты', 'Завтраки', 'Закуски', 'Напитки', 'Основные блюда', 'Паста и пицца', 'Салаты', 'Соусы и маринады', 'Супы'])"
      ]
     },
     "execution_count": 7,
     "metadata": {},
     "output_type": "execute_result"
    }
   ],
   "source": [
    "dict_json_by_course.keys()"
   ]
  },
  {
   "cell_type": "code",
   "execution_count": 8,
   "id": "30ea994c-c8a7-41b7-883b-e1d47b2ce0fd",
   "metadata": {},
   "outputs": [
    {
     "data": {
      "text/plain": [
       "{'url': 'https://eda.ru/recepty/zavtraki/zapekanka-iz-lapshi-vetchini-schinkenfleckerln-22024',\n",
       " 'title': 'Запеканка из лапши и ветчины (Schinkenfleckerln)',\n",
       " 'category': 'Завтраки',\n",
       " 'cuisine': 'Австрийская кухня',\n",
       " 'menu': 'Еда без ограничений',\n",
       " 'description': 'Запеканка из макарон — вовсе не странность: ашкеназский кугель, русский лапшевик, итальянская лазанья, листы для которой тоже относятся к пасте, так что австрийский шинкенфлекерльн в хорошей компании. Приготовить это блюдо проще, чем выговорить его название: сочетание лапши, ветчины и сыра, конечно, сплошные калории, зато ученые все больше склоняются к тому, что жиры и углеводы действительно могут помочь нам справиться со стрессом. Или можете заменить жирные сорта ветчины, к примеру, вареной индейкой, сразу сбросив часть груза калорий. К тому же готовится такая запеканка не дольше, чем яичница, вполне укладывается даже в утренний тайминг и позволяет пустить в дело замыленный кусочек сыра или остатки вчерашних макарон. Если будете готовить шинкенфлекерльн, имейте в виду, все самое вкусное — на верхушке пирамиды, где макароны запекаются, становятся чуточку хрустящими и покрываются румяной сырной корочкой.',\n",
       " 'ingredients': [['Ветчина', '200 г'],\n",
       "  ['Широкая лапша', '200 г'],\n",
       "  ['Репчатый лук', '1 головка'],\n",
       "  ['Тертый сыр пармезан ', '100 г'],\n",
       "  ['Соль', 'по вкусу'],\n",
       "  ['Свежемолотый черный перец', 'по вкусу'],\n",
       "  ['Оливковое масло', 'по вкусу']],\n",
       " 'instructions': [['1',\n",
       "   'Отварите лапшу в кипящей подсоленной воде до готовности.'],\n",
       "  ['2',\n",
       "   'Тем временем, разогрейте небольшое количество оливкового масла в сковороде на среднем огне. Добавьте мелко нарезанный лук и жарьте до мягкости и золотистого цвета примерно 3 минуты. Затем добавьте нарезанную небольшими кусочками ветчину и обжарьте еще минуту. Добавьте готовую лапшу, посолите и поперчите по вкусу.'],\n",
       "  ['3', 'Посыпьте сыром, поставьте под гриль и дайте сыру подрумяниться.']],\n",
       " 'advice': ''}"
      ]
     },
     "execution_count": 8,
     "metadata": {},
     "output_type": "execute_result"
    }
   ],
   "source": [
    "instance_entry_lens_get(dict_json_by_course)"
   ]
  },
  {
   "cell_type": "markdown",
   "id": "604f2a97-27d2-46ff-89cf-c8bc31ab6f7c",
   "metadata": {},
   "source": [
    "## Processing:\n",
    "\n",
    "Now we're ready to process this data to create dataset for our needs"
   ]
  },
  {
   "cell_type": "code",
   "execution_count": 9,
   "id": "2a732fa8-f600-4680-aa3b-e0cea53e959d",
   "metadata": {},
   "outputs": [],
   "source": [
    "# lens that yields seperate dicts from the data\n",
    "# (like `instance_entry_lens_get(dict_json_by_course)` above)\n",
    "data_processing_lens = lens.Values().Each()"
   ]
  },
  {
   "cell_type": "markdown",
   "id": "6ca02f47-be2b-4a6f-a816-4eacb56f2c46",
   "metadata": {},
   "source": [
    "### First of all, renaming `category` to `course`:"
   ]
  },
  {
   "cell_type": "code",
   "execution_count": 10,
   "id": "eef09d4d-dde4-4879-88bd-176a192981e2",
   "metadata": {},
   "outputs": [
    {
     "data": {
      "text/plain": [
       "{'url': 'https://eda.ru/recepty/zavtraki/zapekanka-iz-lapshi-vetchini-schinkenfleckerln-22024',\n",
       " 'title': 'Запеканка из лапши и ветчины (Schinkenfleckerln)',\n",
       " 'course': 'Завтраки',\n",
       " 'cuisine': 'Австрийская кухня',\n",
       " 'menu': 'Еда без ограничений',\n",
       " 'description': 'Запеканка из макарон — вовсе не странность: ашкеназский кугель, русский лапшевик, итальянская лазанья, листы для которой тоже относятся к пасте, так что австрийский шинкенфлекерльн в хорошей компании. Приготовить это блюдо проще, чем выговорить его название: сочетание лапши, ветчины и сыра, конечно, сплошные калории, зато ученые все больше склоняются к тому, что жиры и углеводы действительно могут помочь нам справиться со стрессом. Или можете заменить жирные сорта ветчины, к примеру, вареной индейкой, сразу сбросив часть груза калорий. К тому же готовится такая запеканка не дольше, чем яичница, вполне укладывается даже в утренний тайминг и позволяет пустить в дело замыленный кусочек сыра или остатки вчерашних макарон. Если будете готовить шинкенфлекерльн, имейте в виду, все самое вкусное — на верхушке пирамиды, где макароны запекаются, становятся чуточку хрустящими и покрываются румяной сырной корочкой.',\n",
       " 'ingredients': [['Ветчина', '200 г'],\n",
       "  ['Широкая лапша', '200 г'],\n",
       "  ['Репчатый лук', '1 головка'],\n",
       "  ['Тертый сыр пармезан ', '100 г'],\n",
       "  ['Соль', 'по вкусу'],\n",
       "  ['Свежемолотый черный перец', 'по вкусу'],\n",
       "  ['Оливковое масло', 'по вкусу']],\n",
       " 'instructions': [['1',\n",
       "   'Отварите лапшу в кипящей подсоленной воде до готовности.'],\n",
       "  ['2',\n",
       "   'Тем временем, разогрейте небольшое количество оливкового масла в сковороде на среднем огне. Добавьте мелко нарезанный лук и жарьте до мягкости и золотистого цвета примерно 3 минуты. Затем добавьте нарезанную небольшими кусочками ветчину и обжарьте еще минуту. Добавьте готовую лапшу, посолите и поперчите по вкусу.'],\n",
       "  ['3', 'Посыпьте сыром, поставьте под гриль и дайте сыру подрумяниться.']],\n",
       " 'advice': ''}"
      ]
     },
     "execution_count": 10,
     "metadata": {},
     "output_type": "execute_result"
    }
   ],
   "source": [
    "dict_json_by_course_renamed = data_processing_lens.Keys().modify(\n",
    "    lambda field_name: 'course' if field_name == 'category' else field_name,\n",
    ")(dict_json_by_course)\n",
    "\n",
    "example_instance = instance_entry_lens_get(dict_json_by_course_renamed)\n",
    "example_instance"
   ]
  },
  {
   "cell_type": "markdown",
   "id": "8b2d0858-8205-417d-8f5b-8acf664cd9ed",
   "metadata": {},
   "source": [
    "### Get rid of redundant data and generate `id`s:"
   ]
  },
  {
   "cell_type": "code",
   "execution_count": 14,
   "id": "712ad3f8-add3-4b04-bde9-2abbd042efee",
   "metadata": {},
   "outputs": [
    {
     "data": {
      "text/plain": [
       "{'id': 22024,\n",
       " 'title': 'Запеканка из лапши и ветчины (Schinkenfleckerln)',\n",
       " 'course': 'Завтраки',\n",
       " 'cuisine': 'Австрийская кухня',\n",
       " 'ingredients': ['Ветчина',\n",
       "  'Широкая лапша',\n",
       "  'Репчатый лук',\n",
       "  'Тертый сыр пармезан',\n",
       "  'Соль',\n",
       "  'Свежемолотый черный перец',\n",
       "  'Оливковое масло']}"
      ]
     },
     "execution_count": 14,
     "metadata": {},
     "output_type": "execute_result"
    }
   ],
   "source": [
    "id_from_url = lambda url: int(url.split('-')[-1])\n",
    "def process_instance(instance):\n",
    "    return glom.glom(instance, {\n",
    "        'id': glom.Invoke(id_from_url).specs('url'),\n",
    "        'title': glom.Invoke(str.strip).specs('title'),\n",
    "        'course': 'course',\n",
    "        'cuisine': 'cuisine',\n",
    "        'ingredients': ('ingredients', glom.Iter().map(lambda x: x[0].strip()).all())\n",
    "    })\n",
    "process_instance(example_instance)"
   ]
  },
  {
   "cell_type": "code",
   "execution_count": 15,
   "id": "fa2aba88-de6e-4e5c-9ada-ea4353d944ac",
   "metadata": {},
   "outputs": [
    {
     "data": {
      "text/plain": [
       "{'id': 22024,\n",
       " 'title': 'Запеканка из лапши и ветчины (Schinkenfleckerln)',\n",
       " 'course': 'Завтраки',\n",
       " 'cuisine': 'Австрийская кухня',\n",
       " 'ingredients': ['Ветчина',\n",
       "  'Широкая лапша',\n",
       "  'Репчатый лук',\n",
       "  'Тертый сыр пармезан',\n",
       "  'Соль',\n",
       "  'Свежемолотый черный перец',\n",
       "  'Оливковое масло']}"
      ]
     },
     "execution_count": 15,
     "metadata": {},
     "output_type": "execute_result"
    }
   ],
   "source": [
    "dict_json_by_course_processed = data_processing_lens.modify(process_instance)(dict_json_by_course_renamed)\n",
    "instance_entry_lens_get(dict_json_by_course_processed)"
   ]
  },
  {
   "cell_type": "markdown",
   "id": "adb1c3b4-e8bc-42a8-98a5-a83520685302",
   "metadata": {},
   "source": [
    "### We're ready to flatten our data ang turn it into dataframe:"
   ]
  },
  {
   "cell_type": "code",
   "execution_count": 16,
   "id": "1bbd3fbf-12fe-4055-b4fd-d2cf56424e23",
   "metadata": {},
   "outputs": [
    {
     "data": {
      "text/plain": [
       "{'id': 28195,\n",
       " 'title': 'Банановое мороженое с корицей',\n",
       " 'course': 'Выпечка и десерты',\n",
       " 'cuisine': 'Карибская кухня',\n",
       " 'ingredients': ['Бананы',\n",
       "  'Лимонный сок',\n",
       "  'Молотая корица',\n",
       "  'Ванильное мороженое']}"
      ]
     },
     "execution_count": 16,
     "metadata": {},
     "output_type": "execute_result"
    }
   ],
   "source": [
    "all_instances_flattened = data_processing_lens.collect()(dict_json_by_course_processed)\n",
    "all_instances_flattened[0]"
   ]
  },
  {
   "cell_type": "code",
   "execution_count": 18,
   "id": "a5b2378e-f3fd-4593-907a-59b099dc8838",
   "metadata": {},
   "outputs": [
    {
     "data": {
      "text/html": [
       "<div>\n",
       "<style scoped>\n",
       "    .dataframe tbody tr th:only-of-type {\n",
       "        vertical-align: middle;\n",
       "    }\n",
       "\n",
       "    .dataframe tbody tr th {\n",
       "        vertical-align: top;\n",
       "    }\n",
       "\n",
       "    .dataframe thead th {\n",
       "        text-align: right;\n",
       "    }\n",
       "</style>\n",
       "<table border=\"1\" class=\"dataframe\">\n",
       "  <thead>\n",
       "    <tr style=\"text-align: right;\">\n",
       "      <th></th>\n",
       "      <th>id</th>\n",
       "      <th>title</th>\n",
       "      <th>course</th>\n",
       "      <th>cuisine</th>\n",
       "      <th>ingredients</th>\n",
       "    </tr>\n",
       "  </thead>\n",
       "  <tbody>\n",
       "    <tr>\n",
       "      <th>0</th>\n",
       "      <td>28195</td>\n",
       "      <td>Банановое мороженое с корицей</td>\n",
       "      <td>Выпечка и десерты</td>\n",
       "      <td>Карибская кухня</td>\n",
       "      <td>[Бананы, Лимонный сок, Молотая корица, Ванильн...</td>\n",
       "    </tr>\n",
       "    <tr>\n",
       "      <th>1</th>\n",
       "      <td>28141</td>\n",
       "      <td>Ананасово-кокосовый шербет</td>\n",
       "      <td>Выпечка и десерты</td>\n",
       "      <td>Карибская кухня</td>\n",
       "      <td>[Сахар, Кокосовое молоко, Корень имбиря, Анана...</td>\n",
       "    </tr>\n",
       "    <tr>\n",
       "      <th>2</th>\n",
       "      <td>27929</td>\n",
       "      <td>Десерт из манго, клубники и текилы</td>\n",
       "      <td>Выпечка и десерты</td>\n",
       "      <td>Карибская кухня</td>\n",
       "      <td>[Клубника, Манго, Сахар, Тертая цедра лайма, Т...</td>\n",
       "    </tr>\n",
       "    <tr>\n",
       "      <th>3</th>\n",
       "      <td>28192</td>\n",
       "      <td>Ананас с соусом из манго и рома</td>\n",
       "      <td>Выпечка и десерты</td>\n",
       "      <td>Карибская кухня</td>\n",
       "      <td>[Манго, Темный ром, Сок лайма, Сахар, Тертая ц...</td>\n",
       "    </tr>\n",
       "    <tr>\n",
       "      <th>4</th>\n",
       "      <td>28463</td>\n",
       "      <td>Клубничный соус с текилой</td>\n",
       "      <td>Выпечка и десерты</td>\n",
       "      <td>Карибская кухня</td>\n",
       "      <td>[Клубника, Сахарная пудра, Сок лайма, Текила, ...</td>\n",
       "    </tr>\n",
       "    <tr>\n",
       "      <th>...</th>\n",
       "      <td>...</td>\n",
       "      <td>...</td>\n",
       "      <td>...</td>\n",
       "      <td>...</td>\n",
       "      <td>...</td>\n",
       "    </tr>\n",
       "    <tr>\n",
       "      <th>42196</th>\n",
       "      <td>43380</td>\n",
       "      <td>Постный борщ с фасолью</td>\n",
       "      <td>Супы</td>\n",
       "      <td>Украинская кухня</td>\n",
       "      <td>[Белая фасоль, Овощной бульон, Свекла, Картофе...</td>\n",
       "    </tr>\n",
       "    <tr>\n",
       "      <th>42197</th>\n",
       "      <td>80446</td>\n",
       "      <td>Суп энгамат</td>\n",
       "      <td>Супы</td>\n",
       "      <td>Шведская кухня</td>\n",
       "      <td>[Цветная капуста, Морковь, Картофель, Лук-поре...</td>\n",
       "    </tr>\n",
       "    <tr>\n",
       "      <th>42198</th>\n",
       "      <td>136820</td>\n",
       "      <td>Гороховый суп с блинчиками</td>\n",
       "      <td>Супы</td>\n",
       "      <td>Шведская кухня</td>\n",
       "      <td>[Горох, Репчатый лук, Гвоздика, Свиная рулька,...</td>\n",
       "    </tr>\n",
       "    <tr>\n",
       "      <th>42199</th>\n",
       "      <td>18014</td>\n",
       "      <td>Суп из брокколи и кростини с сыром бри</td>\n",
       "      <td>Супы</td>\n",
       "      <td>Шведская кухня</td>\n",
       "      <td>[Оливковое масло, Репчатый лук, Овощной бульон...</td>\n",
       "    </tr>\n",
       "    <tr>\n",
       "      <th>42200</th>\n",
       "      <td>49530</td>\n",
       "      <td>Сливочный суп с фрикадельками</td>\n",
       "      <td>Супы</td>\n",
       "      <td>Шведская кухня</td>\n",
       "      <td>[Картофель, Репчатый лук, Мясной фарш, Морковь...</td>\n",
       "    </tr>\n",
       "  </tbody>\n",
       "</table>\n",
       "<p>42201 rows × 5 columns</p>\n",
       "</div>"
      ],
      "text/plain": [
       "           id                                   title             course  \\\n",
       "0       28195           Банановое мороженое с корицей  Выпечка и десерты   \n",
       "1       28141              Ананасово-кокосовый шербет  Выпечка и десерты   \n",
       "2       27929      Десерт из манго, клубники и текилы  Выпечка и десерты   \n",
       "3       28192         Ананас с соусом из манго и рома  Выпечка и десерты   \n",
       "4       28463               Клубничный соус с текилой  Выпечка и десерты   \n",
       "...       ...                                     ...                ...   \n",
       "42196   43380                  Постный борщ с фасолью               Супы   \n",
       "42197   80446                             Суп энгамат               Супы   \n",
       "42198  136820              Гороховый суп с блинчиками               Супы   \n",
       "42199   18014  Суп из брокколи и кростини с сыром бри               Супы   \n",
       "42200   49530           Сливочный суп с фрикадельками               Супы   \n",
       "\n",
       "                cuisine                                        ingredients  \n",
       "0       Карибская кухня  [Бананы, Лимонный сок, Молотая корица, Ванильн...  \n",
       "1       Карибская кухня  [Сахар, Кокосовое молоко, Корень имбиря, Анана...  \n",
       "2       Карибская кухня  [Клубника, Манго, Сахар, Тертая цедра лайма, Т...  \n",
       "3       Карибская кухня  [Манго, Темный ром, Сок лайма, Сахар, Тертая ц...  \n",
       "4       Карибская кухня  [Клубника, Сахарная пудра, Сок лайма, Текила, ...  \n",
       "...                 ...                                                ...  \n",
       "42196  Украинская кухня  [Белая фасоль, Овощной бульон, Свекла, Картофе...  \n",
       "42197    Шведская кухня  [Цветная капуста, Морковь, Картофель, Лук-поре...  \n",
       "42198    Шведская кухня  [Горох, Репчатый лук, Гвоздика, Свиная рулька,...  \n",
       "42199    Шведская кухня  [Оливковое масло, Репчатый лук, Овощной бульон...  \n",
       "42200    Шведская кухня  [Картофель, Репчатый лук, Мясной фарш, Морковь...  \n",
       "\n",
       "[42201 rows x 5 columns]"
      ]
     },
     "execution_count": 18,
     "metadata": {},
     "output_type": "execute_result"
    }
   ],
   "source": [
    "df = pd.DataFrame(all_instances_flattened)\n",
    "df"
   ]
  },
  {
   "cell_type": "code",
   "execution_count": 23,
   "id": "bf32a01e-ee90-4148-a817-f04f484c0540",
   "metadata": {},
   "outputs": [
    {
     "data": {
      "text/html": [
       "<div>\n",
       "<style scoped>\n",
       "    .dataframe tbody tr th:only-of-type {\n",
       "        vertical-align: middle;\n",
       "    }\n",
       "\n",
       "    .dataframe tbody tr th {\n",
       "        vertical-align: top;\n",
       "    }\n",
       "\n",
       "    .dataframe thead th {\n",
       "        text-align: right;\n",
       "    }\n",
       "</style>\n",
       "<table border=\"1\" class=\"dataframe\">\n",
       "  <thead>\n",
       "    <tr style=\"text-align: right;\">\n",
       "      <th></th>\n",
       "      <th>title</th>\n",
       "      <th>course</th>\n",
       "      <th>cuisine</th>\n",
       "      <th>ingredients</th>\n",
       "    </tr>\n",
       "    <tr>\n",
       "      <th>id</th>\n",
       "      <th></th>\n",
       "      <th></th>\n",
       "      <th></th>\n",
       "      <th></th>\n",
       "    </tr>\n",
       "  </thead>\n",
       "  <tbody>\n",
       "    <tr>\n",
       "      <th>40356</th>\n",
       "      <td>3</td>\n",
       "      <td>3</td>\n",
       "      <td>3</td>\n",
       "      <td>3</td>\n",
       "    </tr>\n",
       "    <tr>\n",
       "      <th>41279</th>\n",
       "      <td>3</td>\n",
       "      <td>3</td>\n",
       "      <td>3</td>\n",
       "      <td>3</td>\n",
       "    </tr>\n",
       "  </tbody>\n",
       "</table>\n",
       "</div>"
      ],
      "text/plain": [
       "       title  course  cuisine  ingredients\n",
       "id                                        \n",
       "40356      3       3        3            3\n",
       "41279      3       3        3            3"
      ]
     },
     "execution_count": 23,
     "metadata": {},
     "output_type": "execute_result"
    }
   ],
   "source": [
    "it = df.groupby('id').count()\n",
    "it[it['title'] > 2]"
   ]
  },
  {
   "cell_type": "code",
   "execution_count": null,
   "id": "043a3bbf-c4e5-4a04-9e59-16b7db813d69",
   "metadata": {},
   "outputs": [],
   "source": [
    "# with open('foodie_favorites_dataset/first_reviews.json', 'r') as f:\n",
    "#     rewiews_lines = f.readlines() #json.load(f)\n",
    "\n",
    "# rewiews_first = json.loads(rewiews_lines[1])\n",
    "\n",
    "# with open('foodie_favorites_dataset/restaurants.json', 'r') as f:\n",
    "#     for _ in range(1):\n",
    "#         f.readline()\n",
    "#     restaurant_nth = json.loads(f.readline())\n",
    "\n",
    "# for i in range(len(rewiews_first['reviews'])):\n",
    "#     print(rewiews_first['reviews'][i]['comment'])\n",
    "#     print('\\n' + '-'*100 + '\\n')\n",
    "\n",
    "list_vypechka = []\n",
    "for file in data_path.joinpath('vypechka-deserty').iterdir():\n",
    "    list_vypechka.append(file.read_text(encoding='utf-8'))\n",
    "\n",
    "vypechka_path_to_add =  data_path.joinpath('data_file_vypechka_evropeyskaya.json')\n",
    "with open(vypechka_path_to_add, 'r', encoding='utf-8') as f:\n",
    "    list_vypechka += f.readlines()\n",
    "\n",
    "vypechka_path_to_add =  data_path.joinpath('data_file.json')\n",
    "with open(vypechka_path_to_add, 'r', encoding='utf-8') as f:\n",
    "    list_vypechka += f.readlines()\n",
    "\n",
    "for path in ['data_file_osnovnye_blyda.json',\n",
    "             'data_file_Завтраки_Напитки_Паста_и_пицца_Соусы_и_маринады_Супы.json',\n",
    "             'data_file_Закуски_Салаты.json']:\n",
    "    path_obj = data_path.joinpath(path)\n",
    "    with open(path_obj, 'r', encoding='utf-8') as f:\n",
    "        path_list = f.readlines()\n",
    "    json_form = json.dumps(list_of_str_to_list_of_json(list_vypechka), indent=2, ensure_ascii=False)\n",
    "    path_obj.write_text(json_form)\n",
    "\n",
    "json_form = json.dumps(list_of_str_to_list_of_json(list_vypechka), indent=2, ensure_ascii=False)\n",
    "data_path.joinpath('vypechka-deserty.json').write_text(json_form)\n"
   ]
  },
  {
   "cell_type": "code",
   "execution_count": 34,
   "id": "4afb5cb1-8bfd-4e6d-828f-aa1048206105",
   "metadata": {},
   "outputs": [],
   "source": [
    "res = {}\n",
    "for elt in data_path.parent.joinpath('old').iterdir():\n",
    "    if not elt.is_dir():\n",
    "        res[str(elt)] = pd.json_normalize(json.loads(elt.read_text(encoding='utf-8')))"
   ]
  },
  {
   "cell_type": "code",
   "execution_count": 35,
   "id": "c76a23a9-06c1-4671-8c5a-317aac1a169a",
   "metadata": {},
   "outputs": [
    {
     "data": {
      "text/html": [
       "<div>\n",
       "<style scoped>\n",
       "    .dataframe tbody tr th:only-of-type {\n",
       "        vertical-align: middle;\n",
       "    }\n",
       "\n",
       "    .dataframe tbody tr th {\n",
       "        vertical-align: top;\n",
       "    }\n",
       "\n",
       "    .dataframe thead th {\n",
       "        text-align: right;\n",
       "    }\n",
       "</style>\n",
       "<table border=\"1\" class=\"dataframe\">\n",
       "  <thead>\n",
       "    <tr style=\"text-align: right;\">\n",
       "      <th></th>\n",
       "      <th>title</th>\n",
       "      <th>category</th>\n",
       "      <th>cuisine</th>\n",
       "      <th>menu</th>\n",
       "      <th>description</th>\n",
       "    </tr>\n",
       "  </thead>\n",
       "  <tbody>\n",
       "    <tr>\n",
       "      <th>0</th>\n",
       "      <td>Фаршированные белые грибы с сыром</td>\n",
       "      <td>Закуски</td>\n",
       "      <td>Русская кухня</td>\n",
       "      <td>Еда без ограничений</td>\n",
       "      <td></td>\n",
       "    </tr>\n",
       "    <tr>\n",
       "      <th>1</th>\n",
       "      <td>Рулеты из огурца, картофельного пюре и сельди</td>\n",
       "      <td>Закуски</td>\n",
       "      <td>Русская кухня</td>\n",
       "      <td>Еда без ограничений</td>\n",
       "      <td></td>\n",
       "    </tr>\n",
       "    <tr>\n",
       "      <th>2</th>\n",
       "      <td>Глазированная репа</td>\n",
       "      <td>Закуски</td>\n",
       "      <td>Русская кухня</td>\n",
       "      <td>Еда без ограничений</td>\n",
       "      <td></td>\n",
       "    </tr>\n",
       "    <tr>\n",
       "      <th>3</th>\n",
       "      <td>Баклажаны с грибами в сметанном соусе</td>\n",
       "      <td>Закуски</td>\n",
       "      <td>Русская кухня</td>\n",
       "      <td>Еда без ограничений</td>\n",
       "      <td></td>\n",
       "    </tr>\n",
       "    <tr>\n",
       "      <th>4</th>\n",
       "      <td>Оладьи из малоглазого макруруса</td>\n",
       "      <td>Закуски</td>\n",
       "      <td>Русская кухня</td>\n",
       "      <td>Еда без ограничений</td>\n",
       "      <td></td>\n",
       "    </tr>\n",
       "    <tr>\n",
       "      <th>...</th>\n",
       "      <td>...</td>\n",
       "      <td>...</td>\n",
       "      <td>...</td>\n",
       "      <td>...</td>\n",
       "      <td>...</td>\n",
       "    </tr>\n",
       "    <tr>\n",
       "      <th>7632</th>\n",
       "      <td>Мидии с пармезаном и белым вином</td>\n",
       "      <td>Салаты</td>\n",
       "      <td>Бельгийская кухня</td>\n",
       "      <td>Еда без ограничений</td>\n",
       "      <td></td>\n",
       "    </tr>\n",
       "    <tr>\n",
       "      <th>7633</th>\n",
       "      <td>Салат с подкопченой семгой и хурмой</td>\n",
       "      <td>Салаты</td>\n",
       "      <td>Аргентинская кухня</td>\n",
       "      <td>Еда без ограничений</td>\n",
       "      <td></td>\n",
       "    </tr>\n",
       "    <tr>\n",
       "      <th>7634</th>\n",
       "      <td>Салат из мяса, овощей и моцареллы с соусом чим...</td>\n",
       "      <td>Салаты</td>\n",
       "      <td>Аргентинская кухня</td>\n",
       "      <td>Еда без ограничений</td>\n",
       "      <td></td>\n",
       "    </tr>\n",
       "    <tr>\n",
       "      <th>7635</th>\n",
       "      <td>Биф-салат</td>\n",
       "      <td>Салаты</td>\n",
       "      <td>Аргентинская кухня</td>\n",
       "      <td>Еда без ограничений</td>\n",
       "      <td></td>\n",
       "    </tr>\n",
       "    <tr>\n",
       "      <th>7636</th>\n",
       "      <td>Салат из двух видов фасоли с соусом чимичурри</td>\n",
       "      <td>Салаты</td>\n",
       "      <td>Аргентинская кухня</td>\n",
       "      <td>Веганская еда</td>\n",
       "      <td></td>\n",
       "    </tr>\n",
       "  </tbody>\n",
       "</table>\n",
       "<p>7637 rows × 5 columns</p>\n",
       "</div>"
      ],
      "text/plain": [
       "                                                  title category  \\\n",
       "0                     Фаршированные белые грибы с сыром  Закуски   \n",
       "1         Рулеты из огурца, картофельного пюре и сельди  Закуски   \n",
       "2                                    Глазированная репа  Закуски   \n",
       "3                 Баклажаны с грибами в сметанном соусе  Закуски   \n",
       "4                       Оладьи из малоглазого макруруса  Закуски   \n",
       "...                                                 ...      ...   \n",
       "7632                   Мидии с пармезаном и белым вином   Салаты   \n",
       "7633                Салат с подкопченой семгой и хурмой   Салаты   \n",
       "7634  Салат из мяса, овощей и моцареллы с соусом чим...   Салаты   \n",
       "7635                                          Биф-салат   Салаты   \n",
       "7636      Салат из двух видов фасоли с соусом чимичурри   Салаты   \n",
       "\n",
       "                 cuisine                 menu description  \n",
       "0          Русская кухня  Еда без ограничений              \n",
       "1          Русская кухня  Еда без ограничений              \n",
       "2          Русская кухня  Еда без ограничений              \n",
       "3          Русская кухня  Еда без ограничений              \n",
       "4          Русская кухня  Еда без ограничений              \n",
       "...                  ...                  ...         ...  \n",
       "7632   Бельгийская кухня  Еда без ограничений              \n",
       "7633  Аргентинская кухня  Еда без ограничений              \n",
       "7634  Аргентинская кухня  Еда без ограничений              \n",
       "7635  Аргентинская кухня  Еда без ограничений              \n",
       "7636  Аргентинская кухня        Веганская еда              \n",
       "\n",
       "[7637 rows x 5 columns]"
      ]
     },
     "execution_count": 35,
     "metadata": {},
     "output_type": "execute_result"
    }
   ],
   "source": [
    "res_lst = list(res.values())\n",
    "res_lst[0]"
   ]
  },
  {
   "cell_type": "markdown",
   "id": "f006d9d0-2ef0-4bcb-88e5-c17fcdd336a1",
   "metadata": {},
   "source": [
    "## Test stuff:"
   ]
  },
  {
   "cell_type": "code",
   "execution_count": 165,
   "id": "ee95fd69-d930-49bf-8ed5-c77dad78df24",
   "metadata": {},
   "outputs": [
    {
     "data": {
      "text/plain": [
       "{'Выпечка и десерты': [{'url': 'https://eda.ru/recepty/vypechka-deserty/bananovoe-morozhenoe-s-koricej-28195',\n",
       "   'title': 'Банановое мороженое с корицей',\n",
       "   'course': 'Выпечка и десерты',\n",
       "   'cuisine': 'Карибская кухня',\n",
       "   'menu': 'Детское меню',\n",
       "   'description': '',\n",
       "   'ingredients': [],\n",
       "   'instructions': [],\n",
       "   'advice': ''},\n",
       "  {'url': 'https://eda.ru/recepty/vypechka-deserty/ananasovo-kokosovij-sherbet-28141',\n",
       "   'title': 'Ананасово-кокосовый шербет',\n",
       "   'course': 'Выпечка и десерты',\n",
       "   'cuisine': 'Карибская кухня',\n",
       "   'menu': 'Еда без ограничений',\n",
       "   'description': '',\n",
       "   'ingredients': [],\n",
       "   'instructions': [],\n",
       "   'advice': ''}],\n",
       " 'Завтраки': [{'url': 'https://eda.ru/recepty/zavtraki/yaichnica-po-abhazski-138276',\n",
       "   'title': 'Яичница по-абхазски',\n",
       "   'course': 'Завтраки',\n",
       "   'cuisine': 'Абхазская кухня',\n",
       "   'menu': 'Еда без ограничений',\n",
       "   'description': 'Рецепт взят из книги «Абхазская кухня» издательства «Эксмо».',\n",
       "   'ingredients': [],\n",
       "   'instructions': [],\n",
       "   'advice': ''},\n",
       "  {'url': 'https://eda.ru/recepty/zavtraki/omlet-s-kukuruzoy-138277',\n",
       "   'title': 'Омлет с кукурузой',\n",
       "   'course': 'Завтраки',\n",
       "   'cuisine': 'Абхазская кухня',\n",
       "   'menu': 'Еда без ограничений',\n",
       "   'description': 'Рецепт взят из книги «Абхазская кухня» издательства «Эксмо».',\n",
       "   'ingredients': [],\n",
       "   'instructions': [],\n",
       "   'advice': ''}],\n",
       " 'Закуски': [{'url': 'https://eda.ru/recepty/zakuski/gorjachaja-zakuska-v-bagete-36497',\n",
       "   'title': 'Горячая закуска в багете',\n",
       "   'course': 'Закуски',\n",
       "   'cuisine': 'Французская кухня',\n",
       "   'menu': 'Еда без ограничений',\n",
       "   'description': '',\n",
       "   'ingredients': [],\n",
       "   'instructions': [],\n",
       "   'advice': ''},\n",
       "  {'url': 'https://eda.ru/recepty/zakuski/bystrye-zakuski-v-tartaletkah-80298',\n",
       "   'title': 'Быстрые закуски в тарталетках',\n",
       "   'course': 'Закуски',\n",
       "   'cuisine': 'Французская кухня',\n",
       "   'menu': 'Еда без ограничений',\n",
       "   'description': '',\n",
       "   'ingredients': [],\n",
       "   'instructions': [],\n",
       "   'advice': ''}]}"
      ]
     },
     "execution_count": 165,
     "metadata": {},
     "output_type": "execute_result"
    }
   ],
   "source": [
    "sample = {}\n",
    "for i, key in enumerate(dict_json_by_course.keys()):\n",
    "    sample[key] = []\n",
    "    for j, lst_element in enumerate(dict_json_by_course_renamed[key]):\n",
    "        sample[key].append(lst_element)\n",
    "        sample[key][j]['ingredients'] = []\n",
    "        sample[key][j]['instructions'] = []\n",
    "        if j == 1: break\n",
    "    if i == 2: break\n",
    "sample"
   ]
  },
  {
   "cell_type": "code",
   "execution_count": null,
   "id": "144d9e79-5ef7-4405-b87f-8bb119fdace4",
   "metadata": {},
   "outputs": [],
   "source": []
  }
 ],
 "metadata": {
  "kernelspec": {
   "display_name": "Python 3 (ipykernel)",
   "language": "python",
   "name": "python3"
  },
  "language_info": {
   "codemirror_mode": {
    "name": "ipython",
    "version": 3
   },
   "file_extension": ".py",
   "mimetype": "text/x-python",
   "name": "python",
   "nbconvert_exporter": "python",
   "pygments_lexer": "ipython3",
   "version": "3.10.6"
  }
 },
 "nbformat": 4,
 "nbformat_minor": 5
}
