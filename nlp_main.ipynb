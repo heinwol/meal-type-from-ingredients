{
 "cells": [
  {
   "cell_type": "code",
   "execution_count": 3,
   "id": "efee2b7a-0175-491d-9783-5612e42506b0",
   "metadata": {},
   "outputs": [],
   "source": [
    "import numpy as np\n",
    "import matplotlib.pyplot as plt\n",
    "import pandas as pd\n",
    "%matplotlib widget\n",
    "\n",
    "from toolz import *\n",
    "\n",
    "import os\n",
    "import pickle\n",
    "import json\n",
    "import pathlib"
   ]
  },
  {
   "cell_type": "code",
   "execution_count": 26,
   "id": "1f57b13f-0e68-4238-89be-f329432f34dc",
   "metadata": {},
   "outputs": [],
   "source": [
    "lmap = compose(list, map)"
   ]
  },
  {
   "cell_type": "code",
   "execution_count": 69,
   "id": "39375359-729a-4a6b-ae55-1490c6158bad",
   "metadata": {},
   "outputs": [],
   "source": [
    "def list_of_str_to_list_of_json(lst):\n",
    "    it = map(lambda x: x.replace('\\xa0', ' '), lst)\n",
    "    it = filter(lambda x: x != '', it)\n",
    "    it = lmap(json.loads, it)\n",
    "    return it"
   ]
  },
  {
   "cell_type": "code",
   "execution_count": 1,
   "id": "48d0dd6b-4693-4895-9b7a-d63cc6b28885",
   "metadata": {},
   "outputs": [],
   "source": [
    "# with open('foodie_favorites_dataset/first_reviews.json', 'r') as f:\n",
    "#     rewiews_lines = f.readlines() #json.load(f)\n",
    "\n",
    "# rewiews_first = json.loads(rewiews_lines[1])\n",
    "\n",
    "# with open('foodie_favorites_dataset/restaurants.json', 'r') as f:\n",
    "#     for _ in range(1):\n",
    "#         f.readline()\n",
    "#     restaurant_nth = json.loads(f.readline())\n",
    "\n",
    "# for i in range(len(rewiews_first['reviews'])):\n",
    "#     print(rewiews_first['reviews'][i]['comment'])\n",
    "#     print('\\n' + '-'*100 + '\\n')"
   ]
  },
  {
   "cell_type": "code",
   "execution_count": 84,
   "id": "14f261bf-f0ad-400a-91fd-dbfc6470ecf6",
   "metadata": {},
   "outputs": [],
   "source": [
    "data_path = pathlib.Path('data')"
   ]
  },
  {
   "cell_type": "code",
   "execution_count": 95,
   "id": "af350b91-7438-47ff-a257-a66968ac3eee",
   "metadata": {},
   "outputs": [],
   "source": [
    "# list_vypechka = []\n",
    "# for file in data_path.joinpath('vypechka-deserty').iterdir():\n",
    "#     list_vypechka.append(file.read_text(encoding='utf-8'))\n",
    "\n",
    "# vypechka_path_to_add =  data_path.joinpath('data_file_vypechka_evropeyskaya.json')\n",
    "# with open(vypechka_path_to_add, 'r', encoding='utf-8') as f:\n",
    "#     list_vypechka += f.readlines()\n",
    "\n",
    "# vypechka_path_to_add =  data_path.joinpath('data_file.json')\n",
    "# with open(vypechka_path_to_add, 'r', encoding='utf-8') as f:\n",
    "#     list_vypechka += f.readlines()"
   ]
  },
  {
   "cell_type": "code",
   "execution_count": 96,
   "id": "79fc3bbb-0d2e-439f-82ce-cfb655919f66",
   "metadata": {},
   "outputs": [],
   "source": [
    "# for path in ['data_file_osnovnye_blyda.json',\n",
    "#              'data_file_Завтраки_Напитки_Паста_и_пицца_Соусы_и_маринады_Супы.json',\n",
    "#              'data_file_Закуски_Салаты.json']:\n",
    "#     path_obj = data_path.joinpath(path)\n",
    "#     with open(path_obj, 'r', encoding='utf-8') as f:\n",
    "#         path_list = f.readlines()\n",
    "#     json_form = json.dumps(list_of_str_to_list_of_json(list_vypechka), indent=2, ensure_ascii=False)\n",
    "#     path_obj.write_text(json_form)"
   ]
  },
  {
   "cell_type": "code",
   "execution_count": 97,
   "id": "458bbfd2-cf8e-4f44-8468-cadeab0494e8",
   "metadata": {},
   "outputs": [],
   "source": [
    "# json_form = json.dumps(list_of_str_to_list_of_json(list_vypechka), indent=2, ensure_ascii=False)\n",
    "# data_path.joinpath('vypechka-deserty.json').write_text(json_form)"
   ]
  },
  {
   "cell_type": "code",
   "execution_count": null,
   "id": "17efb34b-4fff-4c73-b785-c5259bbb3b5f",
   "metadata": {},
   "outputs": [],
   "source": []
  },
  {
   "cell_type": "code",
   "execution_count": null,
   "id": "8fd7dea6-df4d-489b-b316-a2bcdc1013b3",
   "metadata": {},
   "outputs": [],
   "source": []
  }
 ],
 "metadata": {
  "kernelspec": {
   "display_name": "Python 3 (ipykernel)",
   "language": "python",
   "name": "python3"
  },
  "language_info": {
   "codemirror_mode": {
    "name": "ipython",
    "version": 3
   },
   "file_extension": ".py",
   "mimetype": "text/x-python",
   "name": "python",
   "nbconvert_exporter": "python",
   "pygments_lexer": "ipython3",
   "version": "3.10.6"
  }
 },
 "nbformat": 4,
 "nbformat_minor": 5
}
