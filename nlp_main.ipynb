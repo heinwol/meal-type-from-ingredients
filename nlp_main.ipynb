{
 "cells": [
  {
   "cell_type": "code",
   "execution_count": 33,
   "id": "efee2b7a-0175-491d-9783-5612e42506b0",
   "metadata": {},
   "outputs": [],
   "source": [
    "from toolz import *\n",
    "import numpy as np\n",
    "import matplotlib.pyplot as plt\n",
    "import pandas as pd\n",
    "import plotly.graph_objects as go\n",
    "%matplotlib widget\n",
    "\n",
    "\n",
    "import pathlib\n",
    "from lenses import lens\n",
    "\n",
    "from collections import Counter\n",
    "\n",
    "import re\n",
    "import nltk\n",
    "import pymorphy2\n",
    "import fasttext.util\n",
    "\n",
    "import tensorflow as tf"
   ]
  },
  {
   "cell_type": "code",
   "execution_count": 35,
   "id": "3a7365e6-8a0f-4d9d-9630-c2d47dd5072c",
   "metadata": {
    "tags": []
   },
   "outputs": [
    {
     "name": "stderr",
     "output_type": "stream",
     "text": [
      "[nltk_data] Downloading collection 'popular'\n",
      "[nltk_data]    | \n",
      "[nltk_data]    | Downloading package cmudict to\n",
      "[nltk_data]    |     C:\\Users\\aakomlev\\AppData\\Roaming\\nltk_data...\n",
      "[nltk_data]    |   Package cmudict is already up-to-date!\n",
      "[nltk_data]    | Downloading package gazetteers to\n",
      "[nltk_data]    |     C:\\Users\\aakomlev\\AppData\\Roaming\\nltk_data...\n",
      "[nltk_data]    |   Package gazetteers is already up-to-date!\n",
      "[nltk_data]    | Downloading package genesis to\n",
      "[nltk_data]    |     C:\\Users\\aakomlev\\AppData\\Roaming\\nltk_data...\n",
      "[nltk_data]    |   Package genesis is already up-to-date!\n",
      "[nltk_data]    | Downloading package gutenberg to\n",
      "[nltk_data]    |     C:\\Users\\aakomlev\\AppData\\Roaming\\nltk_data...\n",
      "[nltk_data]    |   Package gutenberg is already up-to-date!\n",
      "[nltk_data]    | Downloading package inaugural to\n",
      "[nltk_data]    |     C:\\Users\\aakomlev\\AppData\\Roaming\\nltk_data...\n",
      "[nltk_data]    |   Package inaugural is already up-to-date!\n",
      "[nltk_data]    | Downloading package movie_reviews to\n",
      "[nltk_data]    |     C:\\Users\\aakomlev\\AppData\\Roaming\\nltk_data...\n",
      "[nltk_data]    |   Package movie_reviews is already up-to-date!\n",
      "[nltk_data]    | Downloading package names to\n",
      "[nltk_data]    |     C:\\Users\\aakomlev\\AppData\\Roaming\\nltk_data...\n",
      "[nltk_data]    |   Package names is already up-to-date!\n",
      "[nltk_data]    | Downloading package shakespeare to\n",
      "[nltk_data]    |     C:\\Users\\aakomlev\\AppData\\Roaming\\nltk_data...\n",
      "[nltk_data]    |   Package shakespeare is already up-to-date!\n",
      "[nltk_data]    | Downloading package stopwords to\n",
      "[nltk_data]    |     C:\\Users\\aakomlev\\AppData\\Roaming\\nltk_data...\n",
      "[nltk_data]    |   Package stopwords is already up-to-date!\n",
      "[nltk_data]    | Downloading package treebank to\n",
      "[nltk_data]    |     C:\\Users\\aakomlev\\AppData\\Roaming\\nltk_data...\n",
      "[nltk_data]    |   Package treebank is already up-to-date!\n",
      "[nltk_data]    | Downloading package twitter_samples to\n",
      "[nltk_data]    |     C:\\Users\\aakomlev\\AppData\\Roaming\\nltk_data...\n",
      "[nltk_data]    |   Package twitter_samples is already up-to-date!\n",
      "[nltk_data]    | Downloading package omw to\n",
      "[nltk_data]    |     C:\\Users\\aakomlev\\AppData\\Roaming\\nltk_data...\n",
      "[nltk_data]    |   Package omw is already up-to-date!\n",
      "[nltk_data]    | Downloading package omw-1.4 to\n",
      "[nltk_data]    |     C:\\Users\\aakomlev\\AppData\\Roaming\\nltk_data...\n",
      "[nltk_data]    |   Package omw-1.4 is already up-to-date!\n",
      "[nltk_data]    | Downloading package wordnet to\n",
      "[nltk_data]    |     C:\\Users\\aakomlev\\AppData\\Roaming\\nltk_data...\n",
      "[nltk_data]    |   Package wordnet is already up-to-date!\n",
      "[nltk_data]    | Downloading package wordnet2021 to\n",
      "[nltk_data]    |     C:\\Users\\aakomlev\\AppData\\Roaming\\nltk_data...\n",
      "[nltk_data]    |   Package wordnet2021 is already up-to-date!\n",
      "[nltk_data]    | Downloading package wordnet31 to\n",
      "[nltk_data]    |     C:\\Users\\aakomlev\\AppData\\Roaming\\nltk_data...\n",
      "[nltk_data]    |   Package wordnet31 is already up-to-date!\n",
      "[nltk_data]    | Downloading package wordnet_ic to\n",
      "[nltk_data]    |     C:\\Users\\aakomlev\\AppData\\Roaming\\nltk_data...\n",
      "[nltk_data]    |   Package wordnet_ic is already up-to-date!\n",
      "[nltk_data]    | Downloading package words to\n",
      "[nltk_data]    |     C:\\Users\\aakomlev\\AppData\\Roaming\\nltk_data...\n",
      "[nltk_data]    |   Package words is already up-to-date!\n",
      "[nltk_data]    | Downloading package maxent_ne_chunker to\n",
      "[nltk_data]    |     C:\\Users\\aakomlev\\AppData\\Roaming\\nltk_data...\n",
      "[nltk_data]    |   Package maxent_ne_chunker is already up-to-date!\n",
      "[nltk_data]    | Downloading package punkt to\n",
      "[nltk_data]    |     C:\\Users\\aakomlev\\AppData\\Roaming\\nltk_data...\n",
      "[nltk_data]    |   Package punkt is already up-to-date!\n",
      "[nltk_data]    | Downloading package snowball_data to\n",
      "[nltk_data]    |     C:\\Users\\aakomlev\\AppData\\Roaming\\nltk_data...\n",
      "[nltk_data]    |   Package snowball_data is already up-to-date!\n",
      "[nltk_data]    | Downloading package averaged_perceptron_tagger to\n",
      "[nltk_data]    |     C:\\Users\\aakomlev\\AppData\\Roaming\\nltk_data...\n",
      "[nltk_data]    |   Package averaged_perceptron_tagger is already up-\n",
      "[nltk_data]    |       to-date!\n",
      "[nltk_data]    | \n",
      "[nltk_data]  Done downloading collection popular\n",
      "[nltk_data] Downloading package punkt to\n",
      "[nltk_data]     C:\\Users\\aakomlev\\AppData\\Roaming\\nltk_data...\n",
      "[nltk_data]   Package punkt is already up-to-date!\n",
      "[nltk_data] Downloading package averaged_perceptron_tagger_ru to\n",
      "[nltk_data]     C:\\Users\\aakomlev\\AppData\\Roaming\\nltk_data...\n",
      "[nltk_data]   Package averaged_perceptron_tagger_ru is already up-to-\n",
      "[nltk_data]       date!\n",
      "[nltk_data] Downloading package tagsets to\n",
      "[nltk_data]     C:\\Users\\aakomlev\\AppData\\Roaming\\nltk_data...\n",
      "[nltk_data]   Package tagsets is already up-to-date!\n",
      "[nltk_data] Downloading package stopwords to\n",
      "[nltk_data]     C:\\Users\\aakomlev\\AppData\\Roaming\\nltk_data...\n",
      "[nltk_data]   Package stopwords is already up-to-date!\n"
     ]
    },
    {
     "data": {
      "text/plain": [
       "True"
      ]
     },
     "execution_count": 35,
     "metadata": {},
     "output_type": "execute_result"
    }
   ],
   "source": [
    "nltk.download('popular')\n",
    "nltk.download('punkt')\n",
    "nltk.download('averaged_perceptron_tagger_ru')\n",
    "nltk.download('tagsets')\n",
    "nltk.download('stopwords')"
   ]
  },
  {
   "cell_type": "code",
   "execution_count": 36,
   "id": "1f57b13f-0e68-4238-89be-f329432f34dc",
   "metadata": {},
   "outputs": [],
   "source": [
    "lmap = compose(list, map)\n",
    "ltake = compose(list, take)"
   ]
  },
  {
   "cell_type": "code",
   "execution_count": 37,
   "id": "f0c653bd-a45d-4b2e-ae48-9d8974097a18",
   "metadata": {},
   "outputs": [],
   "source": [
    "def map_df_ingredients_element(func, df):\n",
    "    df = df.copy()\n",
    "    df['ingredients'] = df['ingredients'].map(lambda v: lmap(func, v))\n",
    "    return df"
   ]
  },
  {
   "cell_type": "code",
   "execution_count": 38,
   "id": "38a34a4c-caa8-439e-9c5d-6cd5931754dc",
   "metadata": {},
   "outputs": [],
   "source": [
    "data_path = pathlib.Path('data')"
   ]
  },
  {
   "cell_type": "markdown",
   "id": "6ddb79ff-902b-4147-8ece-4e403228b15a",
   "metadata": {},
   "source": [
    "## Загружаем датафрейм с данными"
   ]
  },
  {
   "cell_type": "code",
   "execution_count": 39,
   "id": "07d413a1-165f-4c00-828c-135c0227fbec",
   "metadata": {},
   "outputs": [
    {
     "data": {
      "text/html": [
       "<div>\n",
       "<style scoped>\n",
       "    .dataframe tbody tr th:only-of-type {\n",
       "        vertical-align: middle;\n",
       "    }\n",
       "\n",
       "    .dataframe tbody tr th {\n",
       "        vertical-align: top;\n",
       "    }\n",
       "\n",
       "    .dataframe thead th {\n",
       "        text-align: right;\n",
       "    }\n",
       "</style>\n",
       "<table border=\"1\" class=\"dataframe\">\n",
       "  <thead>\n",
       "    <tr style=\"text-align: right;\">\n",
       "      <th></th>\n",
       "      <th>id</th>\n",
       "      <th>title</th>\n",
       "      <th>course</th>\n",
       "      <th>cuisine</th>\n",
       "      <th>ingredients</th>\n",
       "    </tr>\n",
       "  </thead>\n",
       "  <tbody>\n",
       "    <tr>\n",
       "      <th>0</th>\n",
       "      <td>28195</td>\n",
       "      <td>Банановое мороженое с корицей</td>\n",
       "      <td>Выпечка и десерты</td>\n",
       "      <td>Карибская кухня</td>\n",
       "      <td>[бананы, лимонный сок, молотая корица, ванильн...</td>\n",
       "    </tr>\n",
       "    <tr>\n",
       "      <th>1</th>\n",
       "      <td>28141</td>\n",
       "      <td>Ананасово-кокосовый шербет</td>\n",
       "      <td>Выпечка и десерты</td>\n",
       "      <td>Карибская кухня</td>\n",
       "      <td>[сахар, кокосовое молоко, корень имбиря, анана...</td>\n",
       "    </tr>\n",
       "    <tr>\n",
       "      <th>2</th>\n",
       "      <td>27929</td>\n",
       "      <td>Десерт из манго, клубники и текилы</td>\n",
       "      <td>Выпечка и десерты</td>\n",
       "      <td>Карибская кухня</td>\n",
       "      <td>[клубника, манго, сахар, тертая цедра лайма, т...</td>\n",
       "    </tr>\n",
       "    <tr>\n",
       "      <th>3</th>\n",
       "      <td>28192</td>\n",
       "      <td>Ананас с соусом из манго и рома</td>\n",
       "      <td>Выпечка и десерты</td>\n",
       "      <td>Карибская кухня</td>\n",
       "      <td>[манго, темный ром, сок лайма, сахар, тертая ц...</td>\n",
       "    </tr>\n",
       "    <tr>\n",
       "      <th>4</th>\n",
       "      <td>28463</td>\n",
       "      <td>Клубничный соус с текилой</td>\n",
       "      <td>Выпечка и десерты</td>\n",
       "      <td>Карибская кухня</td>\n",
       "      <td>[клубника, сахарная пудра, сок лайма, текила, ...</td>\n",
       "    </tr>\n",
       "    <tr>\n",
       "      <th>...</th>\n",
       "      <td>...</td>\n",
       "      <td>...</td>\n",
       "      <td>...</td>\n",
       "      <td>...</td>\n",
       "      <td>...</td>\n",
       "    </tr>\n",
       "    <tr>\n",
       "      <th>41433</th>\n",
       "      <td>43380</td>\n",
       "      <td>Постный борщ с фасолью</td>\n",
       "      <td>Супы</td>\n",
       "      <td>Украинская кухня</td>\n",
       "      <td>[белая фасоль, овощной бульон, свекла, картофе...</td>\n",
       "    </tr>\n",
       "    <tr>\n",
       "      <th>41434</th>\n",
       "      <td>80446</td>\n",
       "      <td>Суп энгамат</td>\n",
       "      <td>Супы</td>\n",
       "      <td>Шведская кухня</td>\n",
       "      <td>[цветная капуста, морковь, картофель, лук-поре...</td>\n",
       "    </tr>\n",
       "    <tr>\n",
       "      <th>41435</th>\n",
       "      <td>136820</td>\n",
       "      <td>Гороховый суп с блинчиками</td>\n",
       "      <td>Супы</td>\n",
       "      <td>Шведская кухня</td>\n",
       "      <td>[горох, репчатый лук, гвоздика, свиная рулька,...</td>\n",
       "    </tr>\n",
       "    <tr>\n",
       "      <th>41436</th>\n",
       "      <td>18014</td>\n",
       "      <td>Суп из брокколи и кростини с сыром бри</td>\n",
       "      <td>Супы</td>\n",
       "      <td>Шведская кухня</td>\n",
       "      <td>[оливковое масло, репчатый лук, овощной бульон...</td>\n",
       "    </tr>\n",
       "    <tr>\n",
       "      <th>41437</th>\n",
       "      <td>49530</td>\n",
       "      <td>Сливочный суп с фрикадельками</td>\n",
       "      <td>Супы</td>\n",
       "      <td>Шведская кухня</td>\n",
       "      <td>[картофель, репчатый лук, мясной фарш, морковь...</td>\n",
       "    </tr>\n",
       "  </tbody>\n",
       "</table>\n",
       "<p>41438 rows × 5 columns</p>\n",
       "</div>"
      ],
      "text/plain": [
       "           id                                   title             course  \\\n",
       "0       28195           Банановое мороженое с корицей  Выпечка и десерты   \n",
       "1       28141              Ананасово-кокосовый шербет  Выпечка и десерты   \n",
       "2       27929      Десерт из манго, клубники и текилы  Выпечка и десерты   \n",
       "3       28192         Ананас с соусом из манго и рома  Выпечка и десерты   \n",
       "4       28463               Клубничный соус с текилой  Выпечка и десерты   \n",
       "...       ...                                     ...                ...   \n",
       "41433   43380                  Постный борщ с фасолью               Супы   \n",
       "41434   80446                             Суп энгамат               Супы   \n",
       "41435  136820              Гороховый суп с блинчиками               Супы   \n",
       "41436   18014  Суп из брокколи и кростини с сыром бри               Супы   \n",
       "41437   49530           Сливочный суп с фрикадельками               Супы   \n",
       "\n",
       "                cuisine                                        ingredients  \n",
       "0       Карибская кухня  [бананы, лимонный сок, молотая корица, ванильн...  \n",
       "1       Карибская кухня  [сахар, кокосовое молоко, корень имбиря, анана...  \n",
       "2       Карибская кухня  [клубника, манго, сахар, тертая цедра лайма, т...  \n",
       "3       Карибская кухня  [манго, темный ром, сок лайма, сахар, тертая ц...  \n",
       "4       Карибская кухня  [клубника, сахарная пудра, сок лайма, текила, ...  \n",
       "...                 ...                                                ...  \n",
       "41433  Украинская кухня  [белая фасоль, овощной бульон, свекла, картофе...  \n",
       "41434    Шведская кухня  [цветная капуста, морковь, картофель, лук-поре...  \n",
       "41435    Шведская кухня  [горох, репчатый лук, гвоздика, свиная рулька,...  \n",
       "41436    Шведская кухня  [оливковое масло, репчатый лук, овощной бульон...  \n",
       "41437    Шведская кухня  [картофель, репчатый лук, мясной фарш, морковь...  \n",
       "\n",
       "[41438 rows x 5 columns]"
      ]
     },
     "execution_count": 39,
     "metadata": {},
     "output_type": "execute_result"
    }
   ],
   "source": [
    "df = pd.read_json(data_path.joinpath('ready_dataframe.json'))\n",
    "df = map_df_ingredients_element(compose(str.lower, str.strip), df)\n",
    "df"
   ]
  },
  {
   "cell_type": "markdown",
   "id": "acd92478-e00c-4507-9cd9-bccc0e6e4a1c",
   "metadata": {},
   "source": [
    "## Работа с ингридиентами"
   ]
  },
  {
   "cell_type": "markdown",
   "id": "4803caf6-ff99-4f27-8b85-d2e570daee43",
   "metadata": {},
   "source": [
    "Удобнее работать с листом листов:"
   ]
  },
  {
   "cell_type": "code",
   "execution_count": 40,
   "id": "d83a2ede-2ce3-494e-884a-8e6ba5a8be34",
   "metadata": {},
   "outputs": [
    {
     "data": {
      "text/plain": [
       "[['бананы', 'лимонный сок', 'молотая корица', 'ванильное мороженое'],\n",
       " ['сахар', 'кокосовое молоко', 'корень имбиря', 'ананас', 'сок лайма'],\n",
       " ['клубника',\n",
       "  'манго',\n",
       "  'сахар',\n",
       "  'тертая цедра лайма',\n",
       "  'текила',\n",
       "  'сок лайма',\n",
       "  'апельсиновый ликер']]"
      ]
     },
     "execution_count": 40,
     "metadata": {},
     "output_type": "execute_result"
    }
   ],
   "source": [
    "ingredients = list(df['ingredients'])\n",
    "# TODO !!!!!!!!! Временно берем только первые несколько записей \n",
    "ingredients = ingredients[:20]\n",
    "ingredients[:3]"
   ]
  },
  {
   "cell_type": "markdown",
   "id": "b6d59646-3337-4a30-b94c-d6314fb73d00",
   "metadata": {},
   "source": [
    "### Самые часто встречающиеся слова в ингридиентах"
   ]
  },
  {
   "cell_type": "code",
   "execution_count": 41,
   "id": "c403e384-8ec0-416c-8bf7-b382b6db1094",
   "metadata": {},
   "outputs": [
    {
     "data": {
      "text/plain": [
       "[('сахар', 15),\n",
       " ('пшеничная мука', 14),\n",
       " ('куриное яйцо', 11),\n",
       " ('сливочное масло', 9),\n",
       " ('соль', 7),\n",
       " ('сахарная пудра', 5),\n",
       " ('сок лайма', 4),\n",
       " ('сметана', 3),\n",
       " ('сода', 3),\n",
       " ('корица', 3)]"
      ]
     },
     "execution_count": 41,
     "metadata": {},
     "output_type": "execute_result"
    }
   ],
   "source": [
    "ingredients_counter = Counter()\n",
    "for lst in ingredients:\n",
    "    ingredients_counter.update(lst)\n",
    "# first_ingresients, _ = zip(*ingredients_counter.most_common(10))\n",
    "# first_ingresients = list(first_ingresients)\n",
    "# first_ingresients\n",
    "ingredients_counter.most_common(10)"
   ]
  },
  {
   "cell_type": "code",
   "execution_count": 42,
   "id": "af98db77-67ff-47ce-996b-26f573a929fc",
   "metadata": {},
   "outputs": [
    {
     "data": {
      "text/plain": [
       "[('банан',),\n",
       " ('лимонный', 'сок'),\n",
       " ('молотый', 'корица'),\n",
       " ('ванильный', 'мороженое'),\n",
       " ('сахар',),\n",
       " ('кокосовый', 'молоко'),\n",
       " ('корень', 'имбирь'),\n",
       " ('ананас',),\n",
       " ('сок', 'лайм'),\n",
       " ('клубника',)]"
      ]
     },
     "execution_count": 42,
     "metadata": {},
     "output_type": "execute_result"
    }
   ],
   "source": [
    "morph = pymorphy2.MorphAnalyzer()\n",
    "def lemmatize(word):\n",
    "    return morph.parse(word)[0].normal_form\n",
    "\n",
    "it = lmap(compose(tuple, nltk.word_tokenize), ingredients_counter)\n",
    "it = lens.Each().Each().modify(lemmatize)(it)\n",
    "it[:10]"
   ]
  },
  {
   "cell_type": "markdown",
   "id": "f152605a-e739-435e-86e1-add757188c03",
   "metadata": {},
   "source": [
    "### Токенизация"
   ]
  },
  {
   "cell_type": "code",
   "execution_count": 43,
   "id": "fd1c36b6-5ce0-4f4e-b00a-6ccde843f86a",
   "metadata": {},
   "outputs": [
    {
     "data": {
      "text/plain": [
       "[[['бананы'],\n",
       "  ['лимонный', 'сок'],\n",
       "  ['молотая', 'корица'],\n",
       "  ['ванильное', 'мороженое']],\n",
       " [['сахар'],\n",
       "  ['кокосовое', 'молоко'],\n",
       "  ['корень', 'имбиря'],\n",
       "  ['ананас'],\n",
       "  ['сок', 'лайма']],\n",
       " [['клубника'],\n",
       "  ['манго'],\n",
       "  ['сахар'],\n",
       "  ['тертая', 'цедра', 'лайма'],\n",
       "  ['текила'],\n",
       "  ['сок', 'лайма'],\n",
       "  ['апельсиновый', 'ликер']],\n",
       " [['манго'],\n",
       "  ['темный', 'ром'],\n",
       "  ['сок', 'лайма'],\n",
       "  ['сахар'],\n",
       "  ['тертая', 'цедра', 'лайма'],\n",
       "  ['ананас']]]"
      ]
     },
     "execution_count": 43,
     "metadata": {},
     "output_type": "execute_result"
    }
   ],
   "source": [
    "ingredients_tokenized = lens.Each().Each().modify(nltk.word_tokenize)(ingredients)\n",
    "ingredients_tokenized[:4]"
   ]
  },
  {
   "cell_type": "markdown",
   "id": "b927e726-f87f-4378-81ea-79b0f77c05af",
   "metadata": {},
   "source": [
    "### Стоп-слова и фильтрация"
   ]
  },
  {
   "cell_type": "code",
   "execution_count": 44,
   "id": "7ba5bab3-648d-4869-aa48-f3cde9247424",
   "metadata": {},
   "outputs": [],
   "source": [
    "stopwords = nltk.corpus.stopwords.words('russian')"
   ]
  },
  {
   "cell_type": "code",
   "execution_count": 45,
   "id": "65d5a043-e3a6-42fb-91c1-1b4eda58640a",
   "metadata": {},
   "outputs": [],
   "source": [
    "rx = re.compile(r'[a-zA-Zа-яА-Я][a-zA-Zа-яА-Я\\d\\-]*')"
   ]
  },
  {
   "cell_type": "code",
   "execution_count": 46,
   "id": "04908c5d-33c3-464d-9112-c0afeb873dcd",
   "metadata": {},
   "outputs": [
    {
     "data": {
      "text/plain": [
       "[[('бананы',),\n",
       "  ('лимонный', 'сок'),\n",
       "  ('молотая', 'корица'),\n",
       "  ('ванильное', 'мороженое')],\n",
       " [('сахар',),\n",
       "  ('кокосовое', 'молоко'),\n",
       "  ('корень', 'имбиря'),\n",
       "  ('ананас',),\n",
       "  ('сок', 'лайма')],\n",
       " [('клубника',),\n",
       "  ('манго',),\n",
       "  ('сахар',),\n",
       "  ('тертая', 'цедра', 'лайма'),\n",
       "  ('текила',),\n",
       "  ('сок', 'лайма'),\n",
       "  ('апельсиновый', 'ликер')],\n",
       " [('манго',),\n",
       "  ('темный', 'ром'),\n",
       "  ('сок', 'лайма'),\n",
       "  ('сахар',),\n",
       "  ('тертая', 'цедра', 'лайма'),\n",
       "  ('ананас',)]]"
      ]
     },
     "execution_count": 46,
     "metadata": {},
     "output_type": "execute_result"
    }
   ],
   "source": [
    "ingredients_filtered = (lens\n",
    "    .Each().Each().modify(\n",
    "        lambda tokenized: tuple(filter(\n",
    "            lambda word: word not in stopwords and rx.match(word),\n",
    "            tokenized))\n",
    "    )(ingredients_tokenized)\n",
    ")\n",
    "ingredients_filtered[:4]"
   ]
  },
  {
   "cell_type": "markdown",
   "id": "51d931a6-a5ef-4c65-8199-4e3078fd7bfb",
   "metadata": {},
   "source": [
    "### Лемматизация"
   ]
  },
  {
   "cell_type": "code",
   "execution_count": 47,
   "id": "82a9cb15-8b4d-43aa-b6eb-f58043fd8be9",
   "metadata": {},
   "outputs": [
    {
     "data": {
      "text/plain": [
       "[[('банан',),\n",
       "  ('лимонный', 'сок'),\n",
       "  ('молотый', 'корица'),\n",
       "  ('ванильный', 'мороженое')],\n",
       " [('сахар',),\n",
       "  ('кокосовый', 'молоко'),\n",
       "  ('корень', 'имбирь'),\n",
       "  ('ананас',),\n",
       "  ('сок', 'лайм')],\n",
       " [('клубника',),\n",
       "  ('манго',),\n",
       "  ('сахар',),\n",
       "  ('тёртый', 'цедра', 'лайм'),\n",
       "  ('текила',),\n",
       "  ('сок', 'лайм'),\n",
       "  ('апельсиновый', 'ликёр')],\n",
       " [('манго',),\n",
       "  ('тёмный', 'ром'),\n",
       "  ('сок', 'лайм'),\n",
       "  ('сахар',),\n",
       "  ('тёртый', 'цедра', 'лайм'),\n",
       "  ('ананас',)]]"
      ]
     },
     "execution_count": 47,
     "metadata": {},
     "output_type": "execute_result"
    }
   ],
   "source": [
    "ingredients_lemmatized = lens.Each().Each().Each().modify(lemmatize)(ingredients_filtered)\n",
    "ingredients_lemmatized[:4]"
   ]
  },
  {
   "cell_type": "code",
   "execution_count": 48,
   "id": "2526af97",
   "metadata": {},
   "outputs": [
    {
     "data": {
      "text/plain": [
       "['абрикосовый',\n",
       " 'ананас',\n",
       " 'апельсиновый',\n",
       " 'банан',\n",
       " 'белок',\n",
       " 'брынза',\n",
       " 'ванилин',\n",
       " 'ваниль',\n",
       " 'ванильный',\n",
       " 'вишня']"
      ]
     },
     "execution_count": 48,
     "metadata": {},
     "output_type": "execute_result"
    }
   ],
   "source": [
    "all_words_lemmatized = Counter(lens.Each().Each().Each().collect()(ingredients_lemmatized))\n",
    "\n",
    "all_words_lemmatized_list = list(all_words_lemmatized)\n",
    "all_words_lemmatized_list.sort()\n",
    "all_words_lemmatized_list[:10]\n",
    "# dict(all_words.items())"
   ]
  },
  {
   "cell_type": "code",
   "execution_count": 49,
   "id": "fe4e3e2e",
   "metadata": {},
   "outputs": [
    {
     "data": {
      "text/plain": [
       "'cc.ru.300.bin'"
      ]
     },
     "execution_count": 49,
     "metadata": {},
     "output_type": "execute_result"
    }
   ],
   "source": [
    "#ОЧЕНЬ ДОЛГО\n",
    "fasttext.util.download_model('ru', if_exists='ignore')"
   ]
  },
  {
   "cell_type": "code",
   "execution_count": 50,
   "id": "a8d4327f",
   "metadata": {},
   "outputs": [
    {
     "data": {
      "text/plain": [
       "300"
      ]
     },
     "execution_count": 50,
     "metadata": {},
     "output_type": "execute_result"
    }
   ],
   "source": [
    "ft = fasttext.load_model('cc.ru.300.bin')\n",
    "dim = ft.get_dimension()\n",
    "dim"
   ]
  },
  {
   "cell_type": "markdown",
   "id": "6bc90973",
   "metadata": {},
   "source": [
    "### Получаем векторы для слов "
   ]
  },
  {
   "cell_type": "code",
   "execution_count": 51,
   "id": "1f490b04",
   "metadata": {},
   "outputs": [],
   "source": [
    "word_embeddings_dict = {}\n",
    "for word in all_words_lemmatized:\n",
    "    word_embeddings_dict[word] = ft.get_word_vector(word)"
   ]
  },
  {
   "cell_type": "code",
   "execution_count": 52,
   "id": "67199b34-d757-4216-b887-18d9a1da0fef",
   "metadata": {},
   "outputs": [
    {
     "data": {
      "text/plain": [
       "('банан',\n",
       " array([ 1.94887385e-01, -6.60526380e-02,  7.88492113e-02,  9.03176740e-02,\n",
       "         8.94880146e-02, -1.48379147e-01,  2.24311762e-02, -4.75879619e-03,\n",
       "         1.16267549e-02,  2.68354528e-02, -3.72944064e-02,  1.64822105e-03,\n",
       "         5.10738790e-02,  1.01585977e-01,  6.48163483e-02, -1.15610115e-01,\n",
       "        -3.05616856e-03,  3.19645479e-02, -6.46575615e-02, -6.13481402e-02,\n",
       "        -3.28286402e-02,  7.68222064e-02,  2.55825445e-02,  7.40136206e-03,\n",
       "         7.12529644e-02,  2.17049755e-02,  4.97756004e-02, -8.80596880e-03,\n",
       "        -4.95500583e-03,  5.70715070e-02, -9.71776620e-02,  7.35110492e-02,\n",
       "         2.72706505e-02,  3.32054943e-02, -4.71901185e-05, -1.14237860e-01,\n",
       "        -2.79167667e-04, -9.27831605e-02, -6.35195374e-02, -5.84830642e-02,\n",
       "         1.06558718e-01, -4.90855798e-03,  7.06979185e-02, -1.20925326e-02,\n",
       "         6.83131441e-02,  5.63351624e-02, -1.07557401e-02,  7.19010383e-02,\n",
       "         9.81174409e-02,  8.48399326e-02,  3.53266597e-02,  5.46764955e-02,\n",
       "        -8.05987641e-02,  6.47882000e-03, -5.90900518e-02,  8.69588107e-02,\n",
       "         6.97326586e-02, -9.01075900e-02, -2.13131979e-02, -3.42012942e-02,\n",
       "        -1.60827376e-02, -3.15402225e-02,  4.70691100e-02, -1.40543412e-02,\n",
       "         9.46760848e-02,  6.67571602e-03, -2.42960081e-02,  1.28133059e-01,\n",
       "        -4.28922698e-02, -1.55349309e-02, -7.92914852e-02, -2.67527252e-02,\n",
       "         1.12961605e-02, -4.11566384e-02, -1.88459679e-02,  1.58790872e-01,\n",
       "        -1.06955834e-01, -4.75773923e-02, -7.98961446e-02,  1.51026808e-02,\n",
       "        -3.50350887e-02,  4.25367914e-02, -3.56615335e-03, -5.33599444e-02,\n",
       "        -6.02363199e-02,  7.62802884e-02, -6.41511977e-02, -6.70213019e-03,\n",
       "        -5.72584756e-03, -4.10913080e-02,  2.03733873e-02, -1.15417168e-01,\n",
       "         4.33197338e-03,  3.37197557e-02, -6.77811503e-02,  5.37031367e-02,\n",
       "         5.70520349e-02, -6.44367263e-02, -1.88969262e-02,  2.55674347e-02,\n",
       "        -1.12809226e-01,  8.24382529e-02,  9.66500938e-02, -2.19827872e-02,\n",
       "         7.76296668e-03,  5.65948598e-02, -4.47309501e-02, -2.66321339e-02,\n",
       "        -9.35779810e-02,  3.91556695e-03, -5.89806214e-03,  2.33171154e-02,\n",
       "        -7.08511844e-03,  7.62888342e-02,  3.55559960e-02,  4.77253720e-02,\n",
       "         1.34874374e-01, -1.08927950e-01, -1.22243986e-01,  6.46124035e-02,\n",
       "         6.87061297e-03, -1.22763678e-01,  4.53395769e-02, -1.28313690e-01,\n",
       "        -6.09587394e-02,  1.75522827e-02, -1.05560690e-01, -6.23227730e-02,\n",
       "         6.78576976e-02,  5.59215695e-02,  6.45525008e-02, -2.17552856e-02,\n",
       "        -1.16645105e-01, -2.43000910e-02, -5.17416298e-02,  6.70885593e-02,\n",
       "         9.44201276e-02,  4.71730717e-04,  7.91822374e-02,  1.14815153e-01,\n",
       "         1.07147083e-01,  6.80262521e-02,  7.84112513e-02,  1.38911009e-02,\n",
       "        -3.81978974e-02,  3.45805734e-02,  8.24577212e-02,  6.37568682e-02,\n",
       "        -2.73942016e-03,  8.90125930e-02,  2.66155880e-02,  1.07332133e-03,\n",
       "        -1.40022829e-01, -1.01861358e-01, -5.92539981e-02,  1.62975684e-01,\n",
       "         2.93122064e-02,  2.35287510e-02,  1.28477916e-01,  3.33920196e-02,\n",
       "         7.66370445e-02,  2.26269141e-02, -1.55494362e-01,  1.13481283e-03,\n",
       "        -1.42416656e-02,  1.65515784e-02, -4.45721671e-04,  4.28089797e-02,\n",
       "        -3.32801342e-02, -4.12124842e-02,  6.14615716e-03, -9.39436629e-03,\n",
       "         8.19559267e-04, -3.74066606e-02, -4.97808754e-02, -1.03249140e-01,\n",
       "        -8.86319205e-02, -2.90556625e-02,  5.36130406e-02, -5.57892881e-02,\n",
       "        -6.75235614e-02,  5.91254607e-03, -5.14603928e-02, -7.89601356e-02,\n",
       "         3.19411382e-02, -9.17018056e-02, -5.22156954e-02, -3.23716328e-02,\n",
       "        -9.87342373e-03,  3.62650566e-02,  3.55476439e-02, -1.24743432e-01,\n",
       "        -1.17012538e-01, -1.14418492e-02, -2.67573893e-02,  1.74278542e-02,\n",
       "         2.70491615e-02, -3.06422217e-03,  4.78167459e-02, -1.82095766e-02,\n",
       "        -4.37152497e-02,  1.14484198e-01, -2.49190852e-02, -3.39401364e-02,\n",
       "         7.24771470e-02, -2.88245454e-02, -7.21293688e-02,  5.88414147e-02,\n",
       "        -4.42490801e-02, -8.41934979e-02,  6.99497387e-02,  8.00091028e-02,\n",
       "        -2.34607104e-02, -3.83637324e-02,  3.44832577e-02,  1.17123080e-02,\n",
       "         6.63608313e-03, -6.88075088e-03, -1.39976829e-01, -3.46727073e-02,\n",
       "         1.91699062e-02,  9.85700414e-02, -7.79010355e-02,  3.79938111e-02,\n",
       "         1.46389455e-01,  9.90546718e-02, -2.69508678e-02,  4.89535816e-02,\n",
       "         5.13961799e-02, -1.26880765e-01,  2.75415760e-02, -5.29612899e-02,\n",
       "         3.11851539e-02,  3.97773907e-02,  1.50792748e-02, -5.69614507e-02,\n",
       "        -9.17663351e-02,  6.34314641e-02, -1.84998706e-01,  3.11520547e-02,\n",
       "        -3.43257487e-02, -3.43395397e-02, -3.38003300e-02,  7.30993897e-02,\n",
       "         2.32257461e-03, -2.25434266e-02,  5.49139827e-03,  6.53365999e-02,\n",
       "        -3.57924029e-02, -7.02967420e-02,  1.65589936e-02, -3.80514339e-02,\n",
       "        -9.55606848e-02,  3.41360904e-02, -9.21655074e-02,  4.91495207e-02,\n",
       "        -8.75469893e-02,  1.13167182e-01, -8.13458934e-02, -1.06249917e-02,\n",
       "        -8.08204338e-02, -3.07364855e-04, -7.78310671e-02,  4.10130844e-02,\n",
       "        -7.13473558e-02, -7.73615018e-03, -7.15524424e-03, -5.35878614e-02,\n",
       "         2.23687142e-02, -6.48641214e-02,  8.91795456e-02,  2.82905642e-02,\n",
       "         1.47343397e-01, -2.41410770e-02,  1.21197902e-01,  8.04609433e-02,\n",
       "        -5.42704575e-03, -1.93661042e-02, -1.46199502e-02,  8.84274170e-02,\n",
       "        -7.19376877e-02, -4.40864712e-02, -1.55748120e-02,  5.11171948e-03,\n",
       "        -6.67978153e-02, -4.64670956e-02, -6.54735714e-02,  9.61186066e-02,\n",
       "        -3.62226591e-02,  6.72648251e-02,  8.12147409e-02,  1.06662668e-01,\n",
       "        -9.56509821e-03, -3.22419703e-02, -2.40251124e-02,  3.34417038e-02,\n",
       "         6.31893054e-03,  7.70338345e-03, -6.12779781e-02, -3.33771631e-02],\n",
       "       dtype=float32))"
      ]
     },
     "execution_count": 52,
     "metadata": {},
     "output_type": "execute_result"
    }
   ],
   "source": [
    "first(word_embeddings_dict.items())"
   ]
  },
  {
   "cell_type": "code",
   "execution_count": 53,
   "id": "2d7ac829",
   "metadata": {},
   "outputs": [],
   "source": [
    "# word_embeddings_dict"
   ]
  },
  {
   "cell_type": "code",
   "execution_count": 54,
   "id": "066c458e",
   "metadata": {},
   "outputs": [],
   "source": [
    "# word_num = [(word, i) for i, word in enumerate(words)]\n",
    "# word_num[:10]"
   ]
  },
  {
   "cell_type": "markdown",
   "id": "ec42c86c",
   "metadata": {},
   "source": [
    "### Векторы для ингредиентов"
   ]
  },
  {
   "cell_type": "code",
   "execution_count": 55,
   "id": "636af530",
   "metadata": {},
   "outputs": [
    {
     "ename": "NameError",
     "evalue": "name 'ingrediendts_num' is not defined",
     "output_type": "error",
     "traceback": [
      "\u001b[1;31m---------------------------------------------------------------------------\u001b[0m",
      "\u001b[1;31mNameError\u001b[0m                                 Traceback (most recent call last)",
      "Cell \u001b[1;32mIn [55], line 3\u001b[0m\n\u001b[0;32m      1\u001b[0m all_ingredients_list \u001b[38;5;241m=\u001b[39m  \u001b[38;5;28mlist\u001b[39m(\u001b[38;5;28mset\u001b[39m(lens\u001b[38;5;241m.\u001b[39mEach()\u001b[38;5;241m.\u001b[39mEach()\u001b[38;5;241m.\u001b[39mcollect()(ingredients_lemmatized)))\n\u001b[0;32m      2\u001b[0m ingrediendts_numbering_dict \u001b[38;5;241m=\u001b[39m {ingredient: i \u001b[38;5;28;01mfor\u001b[39;00m i, ingredient \u001b[38;5;129;01min\u001b[39;00m \u001b[38;5;28menumerate\u001b[39m(all_ingredients_list)}\n\u001b[1;32m----> 3\u001b[0m ltake(\u001b[38;5;241m6\u001b[39m, ingrediendts_num\u001b[38;5;241m.\u001b[39mitems())\n",
      "\u001b[1;31mNameError\u001b[0m: name 'ingrediendts_num' is not defined"
     ]
    }
   ],
   "source": [
    "all_ingredients_list =  list(set(lens.Each().Each().collect()(ingredients_lemmatized)))\n",
    "ingrediendts_numbering_dict = {ingredient: i for i, ingredient in enumerate(all_ingredients_list)}\n",
    "ltake(6, ingrediendts_num.items())"
   ]
  },
  {
   "cell_type": "code",
   "execution_count": null,
   "id": "eb985431-5c4e-4b19-b762-cbb6c7a6e768",
   "metadata": {},
   "outputs": [],
   "source": []
  },
  {
   "cell_type": "markdown",
   "id": "bbe1fa5f-77ce-4ab9-9a51-73795258450f",
   "metadata": {},
   "source": [
    "Для получения вектора для ингридиента просто суммируем векторы для каждого слова в этом ингридиенте:"
   ]
  },
  {
   "cell_type": "code",
   "execution_count": null,
   "id": "3600593c",
   "metadata": {},
   "outputs": [],
   "source": [
    "ingrediendts_embeddings_dict = {}\n",
    "for ingr in all_ingredients_list:\n",
    "    ingrediendts_embeddings_dict[ingr] = np.zeros(dim)\n",
    "    for word in ingr:\n",
    "#         ingrediendts_embeddings_dict[ingr] += ft.get_word_vector(word) \n",
    "        ingrediendts_embeddings_dict[ingr] += word_embeddings_dict[word] # Должно заработать, когда \n",
    "                                                                         # ингредиенты будут лемматизированны\n",
    "ltake(1, ingrediendts_embeddings_dict.items())[0]\n"
   ]
  },
  {
   "cell_type": "markdown",
   "id": "93987e23-8a9f-4cbb-b9d1-ffa406859267",
   "metadata": {},
   "source": [
    "Наконец, для каждого рецепта возьмем его векторизацию как сумму векторов его ингридиентов"
   ]
  },
  {
   "cell_type": "code",
   "execution_count": null,
   "id": "41bc1ab4-75eb-4a2b-bb6c-49065f27580d",
   "metadata": {},
   "outputs": [],
   "source": [
    "ingredients_by_recipe_embedding = [\n",
    "    sum(ingrediendts_embeddings_dict[ingredient]\n",
    "        for ingredient in ingredient_list) \n",
    "    for ingredient_list in ingredients_lemmatized\n",
    "]\n",
    "len(ingredients_by_recipe_embedding)"
   ]
  },
  {
   "cell_type": "markdown",
   "id": "b4818b87-28b4-4b6f-8036-81be5233bb88",
   "metadata": {},
   "source": [
    "## Данные для нейросети"
   ]
  },
  {
   "cell_type": "markdown",
   "id": "56e15c2e-fa53-4166-881e-8be468bd437d",
   "metadata": {},
   "source": [
    "Всевозможные метки (course):"
   ]
  },
  {
   "cell_type": "code",
   "execution_count": null,
   "id": "f23112eb-fec9-4205-b25c-d7d57f2afa18",
   "metadata": {},
   "outputs": [],
   "source": [
    "all_courses = {name: num for num, name in enumerate(df['course'][~df['course'].duplicated()])}\n",
    "all_courses"
   ]
  },
  {
   "cell_type": "code",
   "execution_count": null,
   "id": "f53ad845-6e9e-41bf-aad6-9ad11c3f22ed",
   "metadata": {},
   "outputs": [],
   "source": [
    "df_for_learning = pd.DataFrame(data={\n",
    "    'id': df['id'][:20],\n",
    "    'ingredient_embedding': ingredients_by_recipe_embedding,\n",
    "    'course_mark': [all_courses[course] for course in df['course']][:20]\n",
    "})\n",
    "df_for_learning"
   ]
  },
  {
   "cell_type": "code",
   "execution_count": null,
   "id": "c1935ce5-3410-4152-ab7f-a2aa989f9ae0",
   "metadata": {},
   "outputs": [],
   "source": [
    "# tf.keras.preprocessing.text.one_hot(all_courses, len(all_courses))\n"
   ]
  },
  {
   "cell_type": "code",
   "execution_count": 58,
   "id": "9949a929",
   "metadata": {},
   "outputs": [
    {
     "data": {
      "text/plain": [
       "(72, 300)"
      ]
     },
     "execution_count": 58,
     "metadata": {},
     "output_type": "execute_result"
    }
   ],
   "source": [
    "#Эта матрица будет использоваться для слоя Embedding в keras\n",
    "ingrediendts_embeddings_matrix = np.zeros((len(ingrediendts_num), dim))\n",
    "ingrediendts_embeddings_matrix.shape\n"
   ]
  },
  {
   "cell_type": "markdown",
   "id": "c35e2f04-8ee4-4aec-a28e-cb12b4f6ccfe",
   "metadata": {},
   "source": [
    "## Прочее:"
   ]
  },
  {
   "cell_type": "code",
   "execution_count": 20,
   "id": "87ef55b7-a142-4fe0-884d-00f672da020e",
   "metadata": {},
   "outputs": [
    {
     "data": {
      "text/html": [
       "<div>\n",
       "<style scoped>\n",
       "    .dataframe tbody tr th:only-of-type {\n",
       "        vertical-align: middle;\n",
       "    }\n",
       "\n",
       "    .dataframe tbody tr th {\n",
       "        vertical-align: top;\n",
       "    }\n",
       "\n",
       "    .dataframe thead th {\n",
       "        text-align: right;\n",
       "    }\n",
       "</style>\n",
       "<table border=\"1\" class=\"dataframe\">\n",
       "  <thead>\n",
       "    <tr style=\"text-align: right;\">\n",
       "      <th></th>\n",
       "      <th>id</th>\n",
       "      <th>title</th>\n",
       "      <th>course</th>\n",
       "      <th>ingredients</th>\n",
       "    </tr>\n",
       "    <tr>\n",
       "      <th>cuisine</th>\n",
       "      <th></th>\n",
       "      <th></th>\n",
       "      <th></th>\n",
       "      <th></th>\n",
       "    </tr>\n",
       "  </thead>\n",
       "  <tbody>\n",
       "    <tr>\n",
       "      <th>Европейская кухня</th>\n",
       "      <td>11699</td>\n",
       "      <td>11699</td>\n",
       "      <td>11699</td>\n",
       "      <td>11699</td>\n",
       "    </tr>\n",
       "    <tr>\n",
       "      <th>Русская кухня</th>\n",
       "      <td>7111</td>\n",
       "      <td>7111</td>\n",
       "      <td>7111</td>\n",
       "      <td>7111</td>\n",
       "    </tr>\n",
       "    <tr>\n",
       "      <th>Итальянская кухня</th>\n",
       "      <td>4943</td>\n",
       "      <td>4943</td>\n",
       "      <td>4943</td>\n",
       "      <td>4943</td>\n",
       "    </tr>\n",
       "    <tr>\n",
       "      <th>Французская кухня</th>\n",
       "      <td>3055</td>\n",
       "      <td>3055</td>\n",
       "      <td>3055</td>\n",
       "      <td>3055</td>\n",
       "    </tr>\n",
       "    <tr>\n",
       "      <th>Американская кухня</th>\n",
       "      <td>2192</td>\n",
       "      <td>2192</td>\n",
       "      <td>2192</td>\n",
       "      <td>2192</td>\n",
       "    </tr>\n",
       "    <tr>\n",
       "      <th>Авторская кухня</th>\n",
       "      <td>1822</td>\n",
       "      <td>1822</td>\n",
       "      <td>1822</td>\n",
       "      <td>1822</td>\n",
       "    </tr>\n",
       "    <tr>\n",
       "      <th>Китайская кухня</th>\n",
       "      <td>840</td>\n",
       "      <td>840</td>\n",
       "      <td>840</td>\n",
       "      <td>840</td>\n",
       "    </tr>\n",
       "    <tr>\n",
       "      <th>Греческая кухня</th>\n",
       "      <td>640</td>\n",
       "      <td>640</td>\n",
       "      <td>640</td>\n",
       "      <td>640</td>\n",
       "    </tr>\n",
       "    <tr>\n",
       "      <th>Мексиканская кухня</th>\n",
       "      <td>583</td>\n",
       "      <td>583</td>\n",
       "      <td>583</td>\n",
       "      <td>583</td>\n",
       "    </tr>\n",
       "    <tr>\n",
       "      <th>Японская кухня</th>\n",
       "      <td>569</td>\n",
       "      <td>569</td>\n",
       "      <td>569</td>\n",
       "      <td>569</td>\n",
       "    </tr>\n",
       "    <tr>\n",
       "      <th>Испанская кухня</th>\n",
       "      <td>560</td>\n",
       "      <td>560</td>\n",
       "      <td>560</td>\n",
       "      <td>560</td>\n",
       "    </tr>\n",
       "    <tr>\n",
       "      <th>Грузинская кухня</th>\n",
       "      <td>532</td>\n",
       "      <td>532</td>\n",
       "      <td>532</td>\n",
       "      <td>532</td>\n",
       "    </tr>\n",
       "    <tr>\n",
       "      <th>Паназиатская кухня</th>\n",
       "      <td>517</td>\n",
       "      <td>517</td>\n",
       "      <td>517</td>\n",
       "      <td>517</td>\n",
       "    </tr>\n",
       "    <tr>\n",
       "      <th>Британская кухня</th>\n",
       "      <td>503</td>\n",
       "      <td>503</td>\n",
       "      <td>503</td>\n",
       "      <td>503</td>\n",
       "    </tr>\n",
       "    <tr>\n",
       "      <th>Средиземноморская кухня</th>\n",
       "      <td>484</td>\n",
       "      <td>484</td>\n",
       "      <td>484</td>\n",
       "      <td>484</td>\n",
       "    </tr>\n",
       "    <tr>\n",
       "      <th>Индийская кухня</th>\n",
       "      <td>416</td>\n",
       "      <td>416</td>\n",
       "      <td>416</td>\n",
       "      <td>416</td>\n",
       "    </tr>\n",
       "    <tr>\n",
       "      <th>Немецкая кухня</th>\n",
       "      <td>320</td>\n",
       "      <td>320</td>\n",
       "      <td>320</td>\n",
       "      <td>320</td>\n",
       "    </tr>\n",
       "    <tr>\n",
       "      <th>Тайская кухня</th>\n",
       "      <td>307</td>\n",
       "      <td>307</td>\n",
       "      <td>307</td>\n",
       "      <td>307</td>\n",
       "    </tr>\n",
       "    <tr>\n",
       "      <th>Украинская кухня</th>\n",
       "      <td>305</td>\n",
       "      <td>305</td>\n",
       "      <td>305</td>\n",
       "      <td>305</td>\n",
       "    </tr>\n",
       "    <tr>\n",
       "      <th>Арабская кухня</th>\n",
       "      <td>260</td>\n",
       "      <td>260</td>\n",
       "      <td>260</td>\n",
       "      <td>260</td>\n",
       "    </tr>\n",
       "    <tr>\n",
       "      <th>Еврейская кухня</th>\n",
       "      <td>255</td>\n",
       "      <td>255</td>\n",
       "      <td>255</td>\n",
       "      <td>255</td>\n",
       "    </tr>\n",
       "    <tr>\n",
       "      <th>Турецкая кухня</th>\n",
       "      <td>239</td>\n",
       "      <td>239</td>\n",
       "      <td>239</td>\n",
       "      <td>239</td>\n",
       "    </tr>\n",
       "    <tr>\n",
       "      <th>Армянская кухня</th>\n",
       "      <td>210</td>\n",
       "      <td>210</td>\n",
       "      <td>210</td>\n",
       "      <td>210</td>\n",
       "    </tr>\n",
       "    <tr>\n",
       "      <th>Югославская кухня</th>\n",
       "      <td>173</td>\n",
       "      <td>173</td>\n",
       "      <td>173</td>\n",
       "      <td>173</td>\n",
       "    </tr>\n",
       "    <tr>\n",
       "      <th>Австрийская кухня</th>\n",
       "      <td>170</td>\n",
       "      <td>170</td>\n",
       "      <td>170</td>\n",
       "      <td>170</td>\n",
       "    </tr>\n",
       "    <tr>\n",
       "      <th>Узбекская кухня</th>\n",
       "      <td>153</td>\n",
       "      <td>153</td>\n",
       "      <td>153</td>\n",
       "      <td>153</td>\n",
       "    </tr>\n",
       "    <tr>\n",
       "      <th>Болгарская кухня</th>\n",
       "      <td>151</td>\n",
       "      <td>151</td>\n",
       "      <td>151</td>\n",
       "      <td>151</td>\n",
       "    </tr>\n",
       "    <tr>\n",
       "      <th>Корейская кухня</th>\n",
       "      <td>136</td>\n",
       "      <td>136</td>\n",
       "      <td>136</td>\n",
       "      <td>136</td>\n",
       "    </tr>\n",
       "    <tr>\n",
       "      <th>Азербайджанская кухня</th>\n",
       "      <td>128</td>\n",
       "      <td>128</td>\n",
       "      <td>128</td>\n",
       "      <td>128</td>\n",
       "    </tr>\n",
       "    <tr>\n",
       "      <th>Марокканская кухня</th>\n",
       "      <td>118</td>\n",
       "      <td>118</td>\n",
       "      <td>118</td>\n",
       "      <td>118</td>\n",
       "    </tr>\n",
       "  </tbody>\n",
       "</table>\n",
       "</div>"
      ],
      "text/plain": [
       "                            id  title  course  ingredients\n",
       "cuisine                                                   \n",
       "Европейская кухня        11699  11699   11699        11699\n",
       "Русская кухня             7111   7111    7111         7111\n",
       "Итальянская кухня         4943   4943    4943         4943\n",
       "Французская кухня         3055   3055    3055         3055\n",
       "Американская кухня        2192   2192    2192         2192\n",
       "Авторская кухня           1822   1822    1822         1822\n",
       "Китайская кухня            840    840     840          840\n",
       "Греческая кухня            640    640     640          640\n",
       "Мексиканская кухня         583    583     583          583\n",
       "Японская кухня             569    569     569          569\n",
       "Испанская кухня            560    560     560          560\n",
       "Грузинская кухня           532    532     532          532\n",
       "Паназиатская кухня         517    517     517          517\n",
       "Британская кухня           503    503     503          503\n",
       "Средиземноморская кухня    484    484     484          484\n",
       "Индийская кухня            416    416     416          416\n",
       "Немецкая кухня             320    320     320          320\n",
       "Тайская кухня              307    307     307          307\n",
       "Украинская кухня           305    305     305          305\n",
       "Арабская кухня             260    260     260          260\n",
       "Еврейская кухня            255    255     255          255\n",
       "Турецкая кухня             239    239     239          239\n",
       "Армянская кухня            210    210     210          210\n",
       "Югославская кухня          173    173     173          173\n",
       "Австрийская кухня          170    170     170          170\n",
       "Узбекская кухня            153    153     153          153\n",
       "Болгарская кухня           151    151     151          151\n",
       "Корейская кухня            136    136     136          136\n",
       "Азербайджанская кухня      128    128     128          128\n",
       "Марокканская кухня         118    118     118          118"
      ]
     },
     "execution_count": 20,
     "metadata": {},
     "output_type": "execute_result"
    }
   ],
   "source": [
    "it = df.groupby('cuisine').count()\n",
    "it.sort_values('title', ascending=False).head(30)"
   ]
  },
  {
   "cell_type": "code",
   "execution_count": 44,
   "id": "8891bcd1-671e-4efa-99d9-fc983bb3c670",
   "metadata": {},
   "outputs": [
    {
     "data": {
      "text/plain": [
       "0.5043752"
      ]
     },
     "execution_count": 44,
     "metadata": {},
     "output_type": "execute_result"
    }
   ],
   "source": [
    "a = ft.get_word_vector('кокосовый')-ft.get_word_vector('кокосовое')+ft.get_word_vector('кремовое')-ft.get_word_vector('кремовый')\n",
    "a@a"
   ]
  },
  {
   "cell_type": "code",
   "execution_count": null,
   "id": "69997cf5",
   "metadata": {},
   "outputs": [],
   "source": []
  }
 ],
 "metadata": {
  "kernelspec": {
   "display_name": "Python 3 (ipykernel)",
   "language": "python",
   "name": "python3"
  },
  "language_info": {
   "codemirror_mode": {
    "name": "ipython",
    "version": 3
   },
   "file_extension": ".py",
   "mimetype": "text/x-python",
   "name": "python",
   "nbconvert_exporter": "python",
   "pygments_lexer": "ipython3",
   "version": "3.9.13"
  }
 },
 "nbformat": 4,
 "nbformat_minor": 5
}
