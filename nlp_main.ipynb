{
 "cells": [
  {
   "cell_type": "code",
   "execution_count": 1,
   "id": "efee2b7a-0175-491d-9783-5612e42506b0",
   "metadata": {},
   "outputs": [],
   "source": [
    "from toolz import *\n",
    "import numpy as np\n",
    "import matplotlib.pyplot as plt\n",
    "import pandas as pd\n",
    "import plotly.graph_objects as go\n",
    "# %matplotlib widget\n",
    "\n",
    "\n",
    "import pathlib\n",
    "from lenses import lens\n",
    "\n",
    "from collections import Counter\n",
    "\n",
    "import re\n",
    "import nltk\n",
    "import pymorphy2\n",
    "import fasttext.util\n",
    "\n",
    "import tensorflow as tf\n",
    "from tensorflow import keras\n",
    "from tensorflow.keras import layers\n",
    "from tensorflow.keras.utils import to_categorical\n",
    "from tensorflow.keras.preprocessing.sequence import pad_sequences\n",
    "import matplotlib.pyplot as plt"
   ]
  },
  {
   "cell_type": "code",
   "execution_count": 2,
   "id": "3a7365e6-8a0f-4d9d-9630-c2d47dd5072c",
   "metadata": {
    "tags": []
   },
   "outputs": [
    {
     "name": "stderr",
     "output_type": "stream",
     "text": [
      "[nltk_data] Downloading collection 'popular'\n",
      "[nltk_data]    | \n",
      "[nltk_data]    | Downloading package cmudict to\n",
      "[nltk_data]    |     C:\\Users\\aakomlev\\AppData\\Roaming\\nltk_data...\n",
      "[nltk_data]    |   Package cmudict is already up-to-date!\n",
      "[nltk_data]    | Downloading package gazetteers to\n",
      "[nltk_data]    |     C:\\Users\\aakomlev\\AppData\\Roaming\\nltk_data...\n",
      "[nltk_data]    |   Package gazetteers is already up-to-date!\n",
      "[nltk_data]    | Downloading package genesis to\n",
      "[nltk_data]    |     C:\\Users\\aakomlev\\AppData\\Roaming\\nltk_data...\n",
      "[nltk_data]    |   Package genesis is already up-to-date!\n",
      "[nltk_data]    | Downloading package gutenberg to\n",
      "[nltk_data]    |     C:\\Users\\aakomlev\\AppData\\Roaming\\nltk_data...\n",
      "[nltk_data]    |   Package gutenberg is already up-to-date!\n",
      "[nltk_data]    | Downloading package inaugural to\n",
      "[nltk_data]    |     C:\\Users\\aakomlev\\AppData\\Roaming\\nltk_data...\n",
      "[nltk_data]    |   Package inaugural is already up-to-date!\n",
      "[nltk_data]    | Downloading package movie_reviews to\n",
      "[nltk_data]    |     C:\\Users\\aakomlev\\AppData\\Roaming\\nltk_data...\n",
      "[nltk_data]    |   Package movie_reviews is already up-to-date!\n",
      "[nltk_data]    | Downloading package names to\n",
      "[nltk_data]    |     C:\\Users\\aakomlev\\AppData\\Roaming\\nltk_data...\n",
      "[nltk_data]    |   Package names is already up-to-date!\n",
      "[nltk_data]    | Downloading package shakespeare to\n",
      "[nltk_data]    |     C:\\Users\\aakomlev\\AppData\\Roaming\\nltk_data...\n",
      "[nltk_data]    |   Package shakespeare is already up-to-date!\n",
      "[nltk_data]    | Downloading package stopwords to\n",
      "[nltk_data]    |     C:\\Users\\aakomlev\\AppData\\Roaming\\nltk_data...\n",
      "[nltk_data]    |   Package stopwords is already up-to-date!\n",
      "[nltk_data]    | Downloading package treebank to\n",
      "[nltk_data]    |     C:\\Users\\aakomlev\\AppData\\Roaming\\nltk_data...\n",
      "[nltk_data]    |   Package treebank is already up-to-date!\n",
      "[nltk_data]    | Downloading package twitter_samples to\n",
      "[nltk_data]    |     C:\\Users\\aakomlev\\AppData\\Roaming\\nltk_data...\n",
      "[nltk_data]    |   Package twitter_samples is already up-to-date!\n",
      "[nltk_data]    | Downloading package omw to\n",
      "[nltk_data]    |     C:\\Users\\aakomlev\\AppData\\Roaming\\nltk_data...\n",
      "[nltk_data]    |   Package omw is already up-to-date!\n",
      "[nltk_data]    | Downloading package omw-1.4 to\n",
      "[nltk_data]    |     C:\\Users\\aakomlev\\AppData\\Roaming\\nltk_data...\n",
      "[nltk_data]    |   Package omw-1.4 is already up-to-date!\n",
      "[nltk_data]    | Downloading package wordnet to\n",
      "[nltk_data]    |     C:\\Users\\aakomlev\\AppData\\Roaming\\nltk_data...\n",
      "[nltk_data]    |   Package wordnet is already up-to-date!\n",
      "[nltk_data]    | Downloading package wordnet2021 to\n",
      "[nltk_data]    |     C:\\Users\\aakomlev\\AppData\\Roaming\\nltk_data...\n",
      "[nltk_data]    |   Package wordnet2021 is already up-to-date!\n",
      "[nltk_data]    | Downloading package wordnet31 to\n",
      "[nltk_data]    |     C:\\Users\\aakomlev\\AppData\\Roaming\\nltk_data...\n",
      "[nltk_data]    |   Package wordnet31 is already up-to-date!\n",
      "[nltk_data]    | Downloading package wordnet_ic to\n",
      "[nltk_data]    |     C:\\Users\\aakomlev\\AppData\\Roaming\\nltk_data...\n",
      "[nltk_data]    |   Package wordnet_ic is already up-to-date!\n",
      "[nltk_data]    | Downloading package words to\n",
      "[nltk_data]    |     C:\\Users\\aakomlev\\AppData\\Roaming\\nltk_data...\n",
      "[nltk_data]    |   Package words is already up-to-date!\n",
      "[nltk_data]    | Downloading package maxent_ne_chunker to\n",
      "[nltk_data]    |     C:\\Users\\aakomlev\\AppData\\Roaming\\nltk_data...\n",
      "[nltk_data]    |   Package maxent_ne_chunker is already up-to-date!\n",
      "[nltk_data]    | Downloading package punkt to\n",
      "[nltk_data]    |     C:\\Users\\aakomlev\\AppData\\Roaming\\nltk_data...\n",
      "[nltk_data]    |   Package punkt is already up-to-date!\n",
      "[nltk_data]    | Downloading package snowball_data to\n",
      "[nltk_data]    |     C:\\Users\\aakomlev\\AppData\\Roaming\\nltk_data...\n",
      "[nltk_data]    |   Package snowball_data is already up-to-date!\n",
      "[nltk_data]    | Downloading package averaged_perceptron_tagger to\n",
      "[nltk_data]    |     C:\\Users\\aakomlev\\AppData\\Roaming\\nltk_data...\n",
      "[nltk_data]    |   Package averaged_perceptron_tagger is already up-\n",
      "[nltk_data]    |       to-date!\n",
      "[nltk_data]    | \n",
      "[nltk_data]  Done downloading collection popular\n",
      "[nltk_data] Downloading package punkt to\n",
      "[nltk_data]     C:\\Users\\aakomlev\\AppData\\Roaming\\nltk_data...\n",
      "[nltk_data]   Package punkt is already up-to-date!\n",
      "[nltk_data] Downloading package averaged_perceptron_tagger_ru to\n",
      "[nltk_data]     C:\\Users\\aakomlev\\AppData\\Roaming\\nltk_data...\n",
      "[nltk_data]   Package averaged_perceptron_tagger_ru is already up-to-\n",
      "[nltk_data]       date!\n",
      "[nltk_data] Downloading package tagsets to\n",
      "[nltk_data]     C:\\Users\\aakomlev\\AppData\\Roaming\\nltk_data...\n",
      "[nltk_data]   Package tagsets is already up-to-date!\n",
      "[nltk_data] Downloading package stopwords to\n",
      "[nltk_data]     C:\\Users\\aakomlev\\AppData\\Roaming\\nltk_data...\n",
      "[nltk_data]   Package stopwords is already up-to-date!\n"
     ]
    },
    {
     "data": {
      "text/plain": [
       "True"
      ]
     },
     "execution_count": 2,
     "metadata": {},
     "output_type": "execute_result"
    }
   ],
   "source": [
    "nltk.download('popular')\n",
    "nltk.download('punkt')\n",
    "nltk.download('averaged_perceptron_tagger_ru')\n",
    "nltk.download('tagsets')\n",
    "nltk.download('stopwords')"
   ]
  },
  {
   "cell_type": "code",
   "execution_count": 3,
   "id": "1f57b13f-0e68-4238-89be-f329432f34dc",
   "metadata": {},
   "outputs": [],
   "source": [
    "lmap = compose(list, map)\n",
    "ltake = compose(list, take)"
   ]
  },
  {
   "cell_type": "code",
   "execution_count": 4,
   "id": "f0c653bd-a45d-4b2e-ae48-9d8974097a18",
   "metadata": {},
   "outputs": [],
   "source": [
    "def map_df_ingredients_element(func, df):\n",
    "    df = df.copy()\n",
    "    df['ingredients'] = df['ingredients'].map(lambda v: lmap(func, v))\n",
    "    return df"
   ]
  },
  {
   "cell_type": "code",
   "execution_count": 5,
   "id": "38a34a4c-caa8-439e-9c5d-6cd5931754dc",
   "metadata": {},
   "outputs": [],
   "source": [
    "data_path = pathlib.Path('data')"
   ]
  },
  {
   "cell_type": "markdown",
   "id": "6ddb79ff-902b-4147-8ece-4e403228b15a",
   "metadata": {},
   "source": [
    "## Загружаем датафрейм с данными"
   ]
  },
  {
   "cell_type": "code",
   "execution_count": 6,
   "id": "07d413a1-165f-4c00-828c-135c0227fbec",
   "metadata": {},
   "outputs": [
    {
     "data": {
      "text/html": [
       "<div>\n",
       "<style scoped>\n",
       "    .dataframe tbody tr th:only-of-type {\n",
       "        vertical-align: middle;\n",
       "    }\n",
       "\n",
       "    .dataframe tbody tr th {\n",
       "        vertical-align: top;\n",
       "    }\n",
       "\n",
       "    .dataframe thead th {\n",
       "        text-align: right;\n",
       "    }\n",
       "</style>\n",
       "<table border=\"1\" class=\"dataframe\">\n",
       "  <thead>\n",
       "    <tr style=\"text-align: right;\">\n",
       "      <th></th>\n",
       "      <th>id</th>\n",
       "      <th>title</th>\n",
       "      <th>course</th>\n",
       "      <th>cuisine</th>\n",
       "      <th>ingredients</th>\n",
       "    </tr>\n",
       "  </thead>\n",
       "  <tbody>\n",
       "    <tr>\n",
       "      <th>0</th>\n",
       "      <td>28195</td>\n",
       "      <td>Банановое мороженое с корицей</td>\n",
       "      <td>Выпечка и десерты</td>\n",
       "      <td>Карибская кухня</td>\n",
       "      <td>[бананы, лимонный сок, молотая корица, ванильн...</td>\n",
       "    </tr>\n",
       "    <tr>\n",
       "      <th>1</th>\n",
       "      <td>28141</td>\n",
       "      <td>Ананасово-кокосовый шербет</td>\n",
       "      <td>Выпечка и десерты</td>\n",
       "      <td>Карибская кухня</td>\n",
       "      <td>[сахар, кокосовое молоко, корень имбиря, анана...</td>\n",
       "    </tr>\n",
       "    <tr>\n",
       "      <th>2</th>\n",
       "      <td>27929</td>\n",
       "      <td>Десерт из манго, клубники и текилы</td>\n",
       "      <td>Выпечка и десерты</td>\n",
       "      <td>Карибская кухня</td>\n",
       "      <td>[клубника, манго, сахар, тертая цедра лайма, т...</td>\n",
       "    </tr>\n",
       "    <tr>\n",
       "      <th>3</th>\n",
       "      <td>28192</td>\n",
       "      <td>Ананас с соусом из манго и рома</td>\n",
       "      <td>Выпечка и десерты</td>\n",
       "      <td>Карибская кухня</td>\n",
       "      <td>[манго, темный ром, сок лайма, сахар, тертая ц...</td>\n",
       "    </tr>\n",
       "    <tr>\n",
       "      <th>4</th>\n",
       "      <td>28463</td>\n",
       "      <td>Клубничный соус с текилой</td>\n",
       "      <td>Выпечка и десерты</td>\n",
       "      <td>Карибская кухня</td>\n",
       "      <td>[клубника, сахарная пудра, сок лайма, текила, ...</td>\n",
       "    </tr>\n",
       "    <tr>\n",
       "      <th>...</th>\n",
       "      <td>...</td>\n",
       "      <td>...</td>\n",
       "      <td>...</td>\n",
       "      <td>...</td>\n",
       "      <td>...</td>\n",
       "    </tr>\n",
       "    <tr>\n",
       "      <th>41433</th>\n",
       "      <td>43380</td>\n",
       "      <td>Постный борщ с фасолью</td>\n",
       "      <td>Супы</td>\n",
       "      <td>Украинская кухня</td>\n",
       "      <td>[белая фасоль, овощной бульон, свекла, картофе...</td>\n",
       "    </tr>\n",
       "    <tr>\n",
       "      <th>41434</th>\n",
       "      <td>80446</td>\n",
       "      <td>Суп энгамат</td>\n",
       "      <td>Супы</td>\n",
       "      <td>Шведская кухня</td>\n",
       "      <td>[цветная капуста, морковь, картофель, лук-поре...</td>\n",
       "    </tr>\n",
       "    <tr>\n",
       "      <th>41435</th>\n",
       "      <td>136820</td>\n",
       "      <td>Гороховый суп с блинчиками</td>\n",
       "      <td>Супы</td>\n",
       "      <td>Шведская кухня</td>\n",
       "      <td>[горох, репчатый лук, гвоздика, свиная рулька,...</td>\n",
       "    </tr>\n",
       "    <tr>\n",
       "      <th>41436</th>\n",
       "      <td>18014</td>\n",
       "      <td>Суп из брокколи и кростини с сыром бри</td>\n",
       "      <td>Супы</td>\n",
       "      <td>Шведская кухня</td>\n",
       "      <td>[оливковое масло, репчатый лук, овощной бульон...</td>\n",
       "    </tr>\n",
       "    <tr>\n",
       "      <th>41437</th>\n",
       "      <td>49530</td>\n",
       "      <td>Сливочный суп с фрикадельками</td>\n",
       "      <td>Супы</td>\n",
       "      <td>Шведская кухня</td>\n",
       "      <td>[картофель, репчатый лук, мясной фарш, морковь...</td>\n",
       "    </tr>\n",
       "  </tbody>\n",
       "</table>\n",
       "<p>41438 rows × 5 columns</p>\n",
       "</div>"
      ],
      "text/plain": [
       "           id                                   title             course  \\\n",
       "0       28195           Банановое мороженое с корицей  Выпечка и десерты   \n",
       "1       28141              Ананасово-кокосовый шербет  Выпечка и десерты   \n",
       "2       27929      Десерт из манго, клубники и текилы  Выпечка и десерты   \n",
       "3       28192         Ананас с соусом из манго и рома  Выпечка и десерты   \n",
       "4       28463               Клубничный соус с текилой  Выпечка и десерты   \n",
       "...       ...                                     ...                ...   \n",
       "41433   43380                  Постный борщ с фасолью               Супы   \n",
       "41434   80446                             Суп энгамат               Супы   \n",
       "41435  136820              Гороховый суп с блинчиками               Супы   \n",
       "41436   18014  Суп из брокколи и кростини с сыром бри               Супы   \n",
       "41437   49530           Сливочный суп с фрикадельками               Супы   \n",
       "\n",
       "                cuisine                                        ingredients  \n",
       "0       Карибская кухня  [бананы, лимонный сок, молотая корица, ванильн...  \n",
       "1       Карибская кухня  [сахар, кокосовое молоко, корень имбиря, анана...  \n",
       "2       Карибская кухня  [клубника, манго, сахар, тертая цедра лайма, т...  \n",
       "3       Карибская кухня  [манго, темный ром, сок лайма, сахар, тертая ц...  \n",
       "4       Карибская кухня  [клубника, сахарная пудра, сок лайма, текила, ...  \n",
       "...                 ...                                                ...  \n",
       "41433  Украинская кухня  [белая фасоль, овощной бульон, свекла, картофе...  \n",
       "41434    Шведская кухня  [цветная капуста, морковь, картофель, лук-поре...  \n",
       "41435    Шведская кухня  [горох, репчатый лук, гвоздика, свиная рулька,...  \n",
       "41436    Шведская кухня  [оливковое масло, репчатый лук, овощной бульон...  \n",
       "41437    Шведская кухня  [картофель, репчатый лук, мясной фарш, морковь...  \n",
       "\n",
       "[41438 rows x 5 columns]"
      ]
     },
     "execution_count": 6,
     "metadata": {},
     "output_type": "execute_result"
    }
   ],
   "source": [
    "df = pd.read_json(data_path.joinpath('ready_dataframe.json'))\n",
    "df = map_df_ingredients_element(compose(str.lower, str.strip), df)\n",
    "df"
   ]
  },
  {
   "cell_type": "markdown",
   "id": "acd92478-e00c-4507-9cd9-bccc0e6e4a1c",
   "metadata": {},
   "source": [
    "## Работа с ингридиентами"
   ]
  },
  {
   "cell_type": "markdown",
   "id": "4803caf6-ff99-4f27-8b85-d2e570daee43",
   "metadata": {},
   "source": [
    "Удобнее работать с листом листов:"
   ]
  },
  {
   "cell_type": "code",
   "execution_count": 7,
   "id": "d83a2ede-2ce3-494e-884a-8e6ba5a8be34",
   "metadata": {},
   "outputs": [
    {
     "data": {
      "text/plain": [
       "[['бананы', 'лимонный сок', 'молотая корица', 'ванильное мороженое'],\n",
       " ['сахар', 'кокосовое молоко', 'корень имбиря', 'ананас', 'сок лайма'],\n",
       " ['клубника',\n",
       "  'манго',\n",
       "  'сахар',\n",
       "  'тертая цедра лайма',\n",
       "  'текила',\n",
       "  'сок лайма',\n",
       "  'апельсиновый ликер']]"
      ]
     },
     "execution_count": 7,
     "metadata": {},
     "output_type": "execute_result"
    }
   ],
   "source": [
    "ingredients = list(df['ingredients'])\n",
    "# TODO !!!!!!!!! Временно берем только первые несколько записей \n",
    "ingredients = ingredients \n",
    "ingredients[:3]"
   ]
  },
  {
   "cell_type": "markdown",
   "id": "b6d59646-3337-4a30-b94c-d6314fb73d00",
   "metadata": {},
   "source": [
    "### Самые часто встречающиеся слова в ингридиентах"
   ]
  },
  {
   "cell_type": "code",
   "execution_count": 8,
   "id": "c403e384-8ec0-416c-8bf7-b382b6db1094",
   "metadata": {},
   "outputs": [
    {
     "data": {
      "text/plain": [
       "[('соль', 20427),\n",
       " ('куриное яйцо', 11621),\n",
       " ('сахар', 10953),\n",
       " ('молотый черный перец', 10877),\n",
       " ('сливочное масло', 10323),\n",
       " ('пшеничная мука', 9950),\n",
       " ('чеснок', 9558),\n",
       " ('оливковое масло', 7932),\n",
       " ('репчатый лук', 7272),\n",
       " ('растительное масло', 6456)]"
      ]
     },
     "execution_count": 8,
     "metadata": {},
     "output_type": "execute_result"
    }
   ],
   "source": [
    "ingredients_counter = Counter()\n",
    "for lst in ingredients:\n",
    "    ingredients_counter.update(lst)\n",
    "# first_ingresients, _ = zip(*ingredients_counter.most_common(10))\n",
    "# first_ingresients = list(first_ingresients)\n",
    "# first_ingresients\n",
    "ingredients_counter.most_common(10)"
   ]
  },
  {
   "cell_type": "code",
   "execution_count": 9,
   "id": "af98db77-67ff-47ce-996b-26f573a929fc",
   "metadata": {},
   "outputs": [
    {
     "data": {
      "text/plain": [
       "[('банан',),\n",
       " ('лимонный', 'сок'),\n",
       " ('молотый', 'корица'),\n",
       " ('ванильный', 'мороженое'),\n",
       " ('сахар',),\n",
       " ('кокосовый', 'молоко'),\n",
       " ('корень', 'имбирь'),\n",
       " ('ананас',),\n",
       " ('сок', 'лайм'),\n",
       " ('клубника',)]"
      ]
     },
     "execution_count": 9,
     "metadata": {},
     "output_type": "execute_result"
    }
   ],
   "source": [
    "morph = pymorphy2.MorphAnalyzer()\n",
    "def lemmatize(word):\n",
    "    return morph.parse(word)[0].normal_form\n",
    "\n",
    "it = lmap(compose(tuple, nltk.word_tokenize), ingredients_counter)\n",
    "it = lens.Each().Each().modify(lemmatize)(it)\n",
    "it[:10]"
   ]
  },
  {
   "cell_type": "markdown",
   "id": "f152605a-e739-435e-86e1-add757188c03",
   "metadata": {},
   "source": [
    "### Токенизация"
   ]
  },
  {
   "cell_type": "code",
   "execution_count": 10,
   "id": "fd1c36b6-5ce0-4f4e-b00a-6ccde843f86a",
   "metadata": {},
   "outputs": [
    {
     "data": {
      "text/plain": [
       "[[['бананы'],\n",
       "  ['лимонный', 'сок'],\n",
       "  ['молотая', 'корица'],\n",
       "  ['ванильное', 'мороженое']],\n",
       " [['сахар'],\n",
       "  ['кокосовое', 'молоко'],\n",
       "  ['корень', 'имбиря'],\n",
       "  ['ананас'],\n",
       "  ['сок', 'лайма']],\n",
       " [['клубника'],\n",
       "  ['манго'],\n",
       "  ['сахар'],\n",
       "  ['тертая', 'цедра', 'лайма'],\n",
       "  ['текила'],\n",
       "  ['сок', 'лайма'],\n",
       "  ['апельсиновый', 'ликер']],\n",
       " [['манго'],\n",
       "  ['темный', 'ром'],\n",
       "  ['сок', 'лайма'],\n",
       "  ['сахар'],\n",
       "  ['тертая', 'цедра', 'лайма'],\n",
       "  ['ананас']]]"
      ]
     },
     "execution_count": 10,
     "metadata": {},
     "output_type": "execute_result"
    }
   ],
   "source": [
    "ingredients_tokenized = lens.Each().Each().modify(nltk.word_tokenize)(ingredients)\n",
    "ingredients_tokenized[:4]"
   ]
  },
  {
   "cell_type": "markdown",
   "id": "b927e726-f87f-4378-81ea-79b0f77c05af",
   "metadata": {},
   "source": [
    "### Стоп-слова и фильтрация"
   ]
  },
  {
   "cell_type": "code",
   "execution_count": 11,
   "id": "7ba5bab3-648d-4869-aa48-f3cde9247424",
   "metadata": {},
   "outputs": [],
   "source": [
    "stopwords = nltk.corpus.stopwords.words('russian')"
   ]
  },
  {
   "cell_type": "code",
   "execution_count": 12,
   "id": "65d5a043-e3a6-42fb-91c1-1b4eda58640a",
   "metadata": {},
   "outputs": [],
   "source": [
    "rx = re.compile(r'[a-zA-Zа-яА-Я][a-zA-Zа-яА-Я\\d\\-]*')"
   ]
  },
  {
   "cell_type": "code",
   "execution_count": 13,
   "id": "04908c5d-33c3-464d-9112-c0afeb873dcd",
   "metadata": {},
   "outputs": [
    {
     "data": {
      "text/plain": [
       "[[('бананы',),\n",
       "  ('лимонный', 'сок'),\n",
       "  ('молотая', 'корица'),\n",
       "  ('ванильное', 'мороженое')],\n",
       " [('сахар',),\n",
       "  ('кокосовое', 'молоко'),\n",
       "  ('корень', 'имбиря'),\n",
       "  ('ананас',),\n",
       "  ('сок', 'лайма')],\n",
       " [('клубника',),\n",
       "  ('манго',),\n",
       "  ('сахар',),\n",
       "  ('тертая', 'цедра', 'лайма'),\n",
       "  ('текила',),\n",
       "  ('сок', 'лайма'),\n",
       "  ('апельсиновый', 'ликер')],\n",
       " [('манго',),\n",
       "  ('темный', 'ром'),\n",
       "  ('сок', 'лайма'),\n",
       "  ('сахар',),\n",
       "  ('тертая', 'цедра', 'лайма'),\n",
       "  ('ананас',)]]"
      ]
     },
     "execution_count": 13,
     "metadata": {},
     "output_type": "execute_result"
    }
   ],
   "source": [
    "ingredients_filtered = (lens\n",
    "    .Each().Each().modify(\n",
    "        lambda tokenized: tuple(filter(\n",
    "            lambda word: word not in stopwords and rx.match(word),\n",
    "            tokenized))\n",
    "    )(ingredients_tokenized)\n",
    ")\n",
    "ingredients_filtered[:4]"
   ]
  },
  {
   "cell_type": "markdown",
   "id": "51d931a6-a5ef-4c65-8199-4e3078fd7bfb",
   "metadata": {},
   "source": [
    "### Лемматизация"
   ]
  },
  {
   "cell_type": "code",
   "execution_count": 14,
   "id": "82a9cb15-8b4d-43aa-b6eb-f58043fd8be9",
   "metadata": {},
   "outputs": [
    {
     "data": {
      "text/plain": [
       "[[('банан',),\n",
       "  ('лимонный', 'сок'),\n",
       "  ('молотый', 'корица'),\n",
       "  ('ванильный', 'мороженое')],\n",
       " [('сахар',),\n",
       "  ('кокосовый', 'молоко'),\n",
       "  ('корень', 'имбирь'),\n",
       "  ('ананас',),\n",
       "  ('сок', 'лайм')],\n",
       " [('клубника',),\n",
       "  ('манго',),\n",
       "  ('сахар',),\n",
       "  ('тёртый', 'цедра', 'лайм'),\n",
       "  ('текила',),\n",
       "  ('сок', 'лайм'),\n",
       "  ('апельсиновый', 'ликёр')],\n",
       " [('манго',),\n",
       "  ('тёмный', 'ром'),\n",
       "  ('сок', 'лайм'),\n",
       "  ('сахар',),\n",
       "  ('тёртый', 'цедра', 'лайм'),\n",
       "  ('ананас',)]]"
      ]
     },
     "execution_count": 14,
     "metadata": {},
     "output_type": "execute_result"
    }
   ],
   "source": [
    "ingredients_lemmatized = lens.Each().Each().Each().modify(lemmatize)(ingredients_filtered)\n",
    "ingredients_lemmatized[:4]"
   ]
  },
  {
   "cell_type": "code",
   "execution_count": 50,
   "id": "2526af97",
   "metadata": {},
   "outputs": [
    {
     "data": {
      "text/plain": [
       "['PAD',\n",
       " 'UNK',\n",
       " 'añejo',\n",
       " 'baby',\n",
       " 'baileys',\n",
       " 'bambino',\n",
       " 'bean',\n",
       " 'biogourmet',\n",
       " 'biscoff',\n",
       " 'blue',\n",
       " 'bounty',\n",
       " 'brugal',\n",
       " 'bull',\n",
       " 'calibrata',\n",
       " 'calve',\n",
       " 'campbell',\n",
       " 'captain',\n",
       " 'cassis',\n",
       " 'cheerios',\n",
       " 'chili',\n",
       " 'clasico',\n",
       " 'corona',\n",
       " 'crisp',\n",
       " 'curacao',\n",
       " 'cмородиновый',\n",
       " 'cыр',\n",
       " 'daniel',\n",
       " 'delikate',\n",
       " 'dr.oetker',\n",
       " 'earl',\n",
       " 'everclear',\n",
       " 'extra',\n",
       " 'finn',\n",
       " 'frank',\n",
       " 'fresca',\n",
       " 'gatorade',\n",
       " 'gillardeau',\n",
       " 'grey',\n",
       " 'guinness',\n",
       " 'heinz',\n",
       " 'hendrick',\n",
       " 'herbamare',\n",
       " 'hochland',\n",
       " 'hp',\n",
       " 'ideal',\n",
       " 'irca',\n",
       " 'jack',\n",
       " 'jameson',\n",
       " 'kewpie',\n",
       " 'king',\n",
       " 'kitchen',\n",
       " 'kitkat',\n",
       " 'knorr',\n",
       " 'kriek',\n",
       " 'lambic',\n",
       " 'le',\n",
       " 'lindemans',\n",
       " 'm',\n",
       " 'maltesers',\n",
       " 'men',\n",
       " 'mix',\n",
       " 'morgan',\n",
       " 'mort',\n",
       " 'nutella®',\n",
       " 'olivotto',\n",
       " 'oreo',\n",
       " 'party',\n",
       " 'pasta',\n",
       " 'peychaud',\n",
       " 'powder',\n",
       " 'red',\n",
       " 'rib',\n",
       " 'roule',\n",
       " 's',\n",
       " 'sablé',\n",
       " 'sambar',\n",
       " 'semola',\n",
       " 'spare',\n",
       " 'spiced',\n",
       " 'spicy',\n",
       " 'subite',\n",
       " 'suze',\n",
       " 'tabasco®',\n",
       " 'traditional',\n",
       " 'unagrande',\n",
       " 'valsugana',\n",
       " 'virgin',\n",
       " 'vita',\n",
       " 'witte',\n",
       " 'würze',\n",
       " 'абрикос',\n",
       " 'абрикосовый',\n",
       " 'абсент',\n",
       " 'авелука',\n",
       " 'авокадо',\n",
       " 'агава',\n",
       " 'агар-агар',\n",
       " 'аджарский',\n",
       " 'аджика',\n",
       " 'аджиномото']"
      ]
     },
     "execution_count": 50,
     "metadata": {},
     "output_type": "execute_result"
    }
   ],
   "source": [
    "#ОЧЕНЬ ДОЛГО\n",
    "all_words_lemmatized = Counter(lens.Each().Each().Each().collect()(ingredients_lemmatized))\n",
    "\n",
    "all_words_lemmatized_list = list(all_words_lemmatized)\n",
    "\n",
    "#Добавил UNK и PAD\n",
    "all_words_lemmatized_list = ['PAD', 'UNK']+all_words_lemmatized_list\n",
    "all_words_lemmatized_list.sort()\n",
    "all_words_lemmatized_list[:10]\n",
    "# dict(all_words.items())"
   ]
  },
  {
   "cell_type": "code",
   "execution_count": 16,
   "id": "fe4e3e2e",
   "metadata": {},
   "outputs": [
    {
     "data": {
      "text/plain": [
       "'cc.ru.300.bin'"
      ]
     },
     "execution_count": 16,
     "metadata": {},
     "output_type": "execute_result"
    }
   ],
   "source": [
    "#ДОЛГО + много оперативки\n",
    "fasttext.util.download_model('ru', if_exists='ignore')"
   ]
  },
  {
   "cell_type": "code",
   "execution_count": 106,
   "id": "a8d4327f",
   "metadata": {},
   "outputs": [
    {
     "data": {
      "text/plain": [
       "50"
      ]
     },
     "execution_count": 106,
     "metadata": {},
     "output_type": "execute_result"
    }
   ],
   "source": [
    "ft = fasttext.load_model('cc.ru.300.bin')\n",
    "fasttext.util.reduce_model(ft, 50)\n",
    "dim = ft.get_dimension()\n",
    "dim"
   ]
  },
  {
   "cell_type": "markdown",
   "id": "6bc90973",
   "metadata": {},
   "source": [
    "### Получаем векторы для слов "
   ]
  },
  {
   "cell_type": "code",
   "execution_count": 107,
   "id": "1f490b04",
   "metadata": {},
   "outputs": [],
   "source": [
    "word_embeddings_dict = {}\n",
    "for word in all_words_lemmatized_list:\n",
    "    if word  == 'PAD':\n",
    "        word_embeddings_dict[word] = np.concatenate((np.zeros(dim),[1, 0]))\n",
    "    elif word  == 'UNK':\n",
    "        word_embeddings_dict[word] = np.concatenate((np.zeros(dim),[0, 1]))\n",
    "    else:\n",
    "        word_embeddings_dict[word] = np.concatenate((ft.get_word_vector(word), [0, 0]))"
   ]
  },
  {
   "cell_type": "code",
   "execution_count": 108,
   "id": "67199b34-d757-4216-b887-18d9a1da0fef",
   "metadata": {
    "scrolled": true
   },
   "outputs": [
    {
     "data": {
      "text/plain": [
       "('PAD',\n",
       " array([0., 0., 0., 0., 0., 0., 0., 0., 0., 0., 0., 0., 0., 0., 0., 0., 0.,\n",
       "        0., 0., 0., 0., 0., 0., 0., 0., 0., 0., 0., 0., 0., 0., 0., 0., 0.,\n",
       "        0., 0., 0., 0., 0., 0., 0., 0., 0., 0., 0., 0., 0., 0., 0., 0., 1.,\n",
       "        0.]))"
      ]
     },
     "execution_count": 108,
     "metadata": {},
     "output_type": "execute_result"
    }
   ],
   "source": [
    "first(word_embeddings_dict.items())\n",
    "# np.concatenate((ft.get_word_vector(word), [0, 0])).shape"
   ]
  },
  {
   "cell_type": "markdown",
   "id": "ae872952",
   "metadata": {},
   "source": [
    "Расширяем разметрости для PAD и UNK"
   ]
  },
  {
   "cell_type": "code",
   "execution_count": 109,
   "id": "cac9a054",
   "metadata": {},
   "outputs": [],
   "source": [
    "dim += 2\n",
    "# dim = 102"
   ]
  },
  {
   "cell_type": "code",
   "execution_count": 110,
   "id": "2d7ac829",
   "metadata": {},
   "outputs": [],
   "source": [
    "# Освободаем оперативку\n",
    "del ft"
   ]
  },
  {
   "cell_type": "code",
   "execution_count": 111,
   "id": "066c458e",
   "metadata": {},
   "outputs": [],
   "source": [
    "# word_num = [(word, i) for i, word in enumerate(words)]\n",
    "# word_num[:10]"
   ]
  },
  {
   "cell_type": "markdown",
   "id": "ec42c86c",
   "metadata": {},
   "source": [
    "### Векторы для ингредиентов"
   ]
  },
  {
   "cell_type": "code",
   "execution_count": 112,
   "id": "636af530",
   "metadata": {},
   "outputs": [
    {
     "data": {
      "text/plain": [
       "[(('PAD',), 0),\n",
       " (('UNK',), 1),\n",
       " (('устрица', 'gillardeau'), 2),\n",
       " (('малосольный', 'огурец'), 3),\n",
       " (('свиной', 'копчёный', 'рулька'), 4),\n",
       " (('измельчить', 'жареный', 'фундук'), 5)]"
      ]
     },
     "execution_count": 112,
     "metadata": {},
     "output_type": "execute_result"
    }
   ],
   "source": [
    "all_ingredients_list =  list(set(lens.Each().Each().collect()(ingredients_lemmatized)))\n",
    "#Добавил UNK и PAD\n",
    "all_ingredients_list = [('PAD',), ('UNK',)]+all_ingredients_list\n",
    "all_ingredients_list \n",
    "ingredients_numbering_dict = {ingredient: i for i, ingredient in enumerate(all_ingredients_list)}\n",
    "ltake(6, ingredients_numbering_dict.items())"
   ]
  },
  {
   "cell_type": "markdown",
   "id": "bbe1fa5f-77ce-4ab9-9a51-73795258450f",
   "metadata": {},
   "source": [
    "Для получения вектора для ингридиента просто суммируем векторы для каждого слова в этом ингридиенте:"
   ]
  },
  {
   "cell_type": "code",
   "execution_count": 113,
   "id": "3600593c",
   "metadata": {
    "scrolled": true
   },
   "outputs": [
    {
     "data": {
      "text/plain": [
       "(('PAD',),\n",
       " array([0., 0., 0., 0., 0., 0., 0., 0., 0., 0., 0., 0., 0., 0., 0., 0., 0.,\n",
       "        0., 0., 0., 0., 0., 0., 0., 0., 0., 0., 0., 0., 0., 0., 0., 0., 0.,\n",
       "        0., 0., 0., 0., 0., 0., 0., 0., 0., 0., 0., 0., 0., 0., 0., 0., 1.,\n",
       "        0.]))"
      ]
     },
     "execution_count": 113,
     "metadata": {},
     "output_type": "execute_result"
    }
   ],
   "source": [
    "ingredients_embeddings_dict = {}\n",
    "for ingr in all_ingredients_list:\n",
    "    ingredients_embeddings_dict[ingr] = np.zeros(dim)\n",
    "    for word in ingr:\n",
    "#         ingredients_embeddings_dict[ingr] += ft.get_word_vector(word) \n",
    "        ingredients_embeddings_dict[ingr] += word_embeddings_dict[word] # Должно заработать, когда \n",
    "                                                                         # ингредиенты будут лемматизированны\n",
    "ltake(1, ingredients_embeddings_dict.items())[0]\n"
   ]
  },
  {
   "cell_type": "markdown",
   "id": "93987e23-8a9f-4cbb-b9d1-ffa406859267",
   "metadata": {},
   "source": [
    "Наконец, для каждого рецепта возьмем его векторизацию как сумму векторов его ингридиентов"
   ]
  },
  {
   "cell_type": "code",
   "execution_count": 114,
   "id": "41bc1ab4-75eb-4a2b-bb6c-49065f27580d",
   "metadata": {},
   "outputs": [
    {
     "data": {
      "text/plain": [
       "41438"
      ]
     },
     "execution_count": 114,
     "metadata": {},
     "output_type": "execute_result"
    }
   ],
   "source": [
    "ingredients_by_recipe_embedding = [\n",
    "    sum(ingredients_embeddings_dict[ingredient]\n",
    "        for ingredient in ingredient_list) \n",
    "    for ingredient_list in ingredients_lemmatized\n",
    "]\n",
    "len(ingredients_by_recipe_embedding)"
   ]
  },
  {
   "cell_type": "markdown",
   "id": "b4818b87-28b4-4b6f-8036-81be5233bb88",
   "metadata": {},
   "source": [
    "## Данные для нейросети"
   ]
  },
  {
   "cell_type": "markdown",
   "id": "56e15c2e-fa53-4166-881e-8be468bd437d",
   "metadata": {},
   "source": [
    "Всевозможные метки (course):"
   ]
  },
  {
   "cell_type": "code",
   "execution_count": 115,
   "id": "f23112eb-fec9-4205-b25c-d7d57f2afa18",
   "metadata": {},
   "outputs": [
    {
     "data": {
      "text/plain": [
       "{'Выпечка и десерты': 0,\n",
       " 'Завтраки': 1,\n",
       " 'Закуски': 2,\n",
       " 'Напитки': 3,\n",
       " 'Основные блюда': 4,\n",
       " 'Паста и пицца': 5,\n",
       " 'Салаты': 6,\n",
       " 'Соусы и маринады': 7,\n",
       " 'Супы': 8}"
      ]
     },
     "execution_count": 115,
     "metadata": {},
     "output_type": "execute_result"
    }
   ],
   "source": [
    "all_courses = {name: num for num, name in enumerate(df['course'][~df['course'].duplicated()])}\n",
    "all_courses"
   ]
  },
  {
   "cell_type": "code",
   "execution_count": 116,
   "id": "f53ad845-6e9e-41bf-aad6-9ad11c3f22ed",
   "metadata": {
    "scrolled": true
   },
   "outputs": [
    {
     "data": {
      "text/html": [
       "<div>\n",
       "<style scoped>\n",
       "    .dataframe tbody tr th:only-of-type {\n",
       "        vertical-align: middle;\n",
       "    }\n",
       "\n",
       "    .dataframe tbody tr th {\n",
       "        vertical-align: top;\n",
       "    }\n",
       "\n",
       "    .dataframe thead th {\n",
       "        text-align: right;\n",
       "    }\n",
       "</style>\n",
       "<table border=\"1\" class=\"dataframe\">\n",
       "  <thead>\n",
       "    <tr style=\"text-align: right;\">\n",
       "      <th></th>\n",
       "      <th>id</th>\n",
       "      <th>ingredient_embedding</th>\n",
       "      <th>course_mark</th>\n",
       "    </tr>\n",
       "  </thead>\n",
       "  <tbody>\n",
       "    <tr>\n",
       "      <th>0</th>\n",
       "      <td>28195</td>\n",
       "      <td>[0.529789550229907, 0.3361273128539324, -0.270...</td>\n",
       "      <td>0</td>\n",
       "    </tr>\n",
       "    <tr>\n",
       "      <th>1</th>\n",
       "      <td>28141</td>\n",
       "      <td>[0.32061362639069557, 0.49827011598972604, -0....</td>\n",
       "      <td>0</td>\n",
       "    </tr>\n",
       "    <tr>\n",
       "      <th>2</th>\n",
       "      <td>27929</td>\n",
       "      <td>[1.038355067372322, 0.4399354930501431, -0.348...</td>\n",
       "      <td>0</td>\n",
       "    </tr>\n",
       "    <tr>\n",
       "      <th>3</th>\n",
       "      <td>28192</td>\n",
       "      <td>[1.0121009461581707, 0.6283394705387764, -0.37...</td>\n",
       "      <td>0</td>\n",
       "    </tr>\n",
       "    <tr>\n",
       "      <th>4</th>\n",
       "      <td>28463</td>\n",
       "      <td>[0.6364698223769665, 0.1647892117034644, -0.29...</td>\n",
       "      <td>0</td>\n",
       "    </tr>\n",
       "    <tr>\n",
       "      <th>...</th>\n",
       "      <td>...</td>\n",
       "      <td>...</td>\n",
       "      <td>...</td>\n",
       "    </tr>\n",
       "    <tr>\n",
       "      <th>41433</th>\n",
       "      <td>43380</td>\n",
       "      <td>[1.2473316863179207, 0.8848994169384241, -0.62...</td>\n",
       "      <td>8</td>\n",
       "    </tr>\n",
       "    <tr>\n",
       "      <th>41434</th>\n",
       "      <td>80446</td>\n",
       "      <td>[1.2712522372603416, 0.5677279131487012, -0.42...</td>\n",
       "      <td>8</td>\n",
       "    </tr>\n",
       "    <tr>\n",
       "      <th>41435</th>\n",
       "      <td>136820</td>\n",
       "      <td>[1.2513769371435046, 0.7746094663161784, -0.04...</td>\n",
       "      <td>8</td>\n",
       "    </tr>\n",
       "    <tr>\n",
       "      <th>41436</th>\n",
       "      <td>18014</td>\n",
       "      <td>[1.3760087881237268, 0.718187878606841, -0.361...</td>\n",
       "      <td>8</td>\n",
       "    </tr>\n",
       "    <tr>\n",
       "      <th>41437</th>\n",
       "      <td>49530</td>\n",
       "      <td>[0.4850403805262431, 0.4952830793336034, -0.09...</td>\n",
       "      <td>8</td>\n",
       "    </tr>\n",
       "  </tbody>\n",
       "</table>\n",
       "<p>41438 rows × 3 columns</p>\n",
       "</div>"
      ],
      "text/plain": [
       "           id                               ingredient_embedding  course_mark\n",
       "0       28195  [0.529789550229907, 0.3361273128539324, -0.270...            0\n",
       "1       28141  [0.32061362639069557, 0.49827011598972604, -0....            0\n",
       "2       27929  [1.038355067372322, 0.4399354930501431, -0.348...            0\n",
       "3       28192  [1.0121009461581707, 0.6283394705387764, -0.37...            0\n",
       "4       28463  [0.6364698223769665, 0.1647892117034644, -0.29...            0\n",
       "...       ...                                                ...          ...\n",
       "41433   43380  [1.2473316863179207, 0.8848994169384241, -0.62...            8\n",
       "41434   80446  [1.2712522372603416, 0.5677279131487012, -0.42...            8\n",
       "41435  136820  [1.2513769371435046, 0.7746094663161784, -0.04...            8\n",
       "41436   18014  [1.3760087881237268, 0.718187878606841, -0.361...            8\n",
       "41437   49530  [0.4850403805262431, 0.4952830793336034, -0.09...            8\n",
       "\n",
       "[41438 rows x 3 columns]"
      ]
     },
     "execution_count": 116,
     "metadata": {},
     "output_type": "execute_result"
    }
   ],
   "source": [
    "df_for_learning = pd.DataFrame(data={\n",
    "    'id': df['id'],\n",
    "    'ingredient_embedding': ingredients_by_recipe_embedding,\n",
    "    'course_mark': [all_courses[course] for course in df['course']]\n",
    "})\n",
    "df_for_learning"
   ]
  },
  {
   "cell_type": "code",
   "execution_count": 117,
   "id": "c1935ce5-3410-4152-ab7f-a2aa989f9ae0",
   "metadata": {
    "scrolled": true
   },
   "outputs": [],
   "source": [
    "# tf.keras.preprocessing.text.one_hot(all_courses, len(all_courses))"
   ]
  },
  {
   "cell_type": "markdown",
   "id": "a029a738",
   "metadata": {},
   "source": [
    "## Подготовка BoE"
   ]
  },
  {
   "cell_type": "code",
   "execution_count": null,
   "id": "fc1d3791",
   "metadata": {},
   "outputs": [],
   "source": [
    "data = np.array(ingredients_by_recipe_embedding)\n",
    "labels = to_categorical(np.array(df_for_learning['course_mark']), num_classes=len(all_courses))\n",
    "\n",
    "indices = np.arange(data.shape[0])\n",
    "np.random.shuffle(indices)\n",
    "data = data[indices]\n",
    "labels = labels[indices]\n",
    "\n",
    "VALIDATION_SPLIT = 0.2\n",
    "nb_validation_samples = int(VALIDATION_SPLIT * data.shape[0])\n",
    "\n",
    "x_train = data[:-nb_validation_samples]\n",
    "y_train = labels[:-nb_validation_samples]\n",
    "x_val = data[-nb_validation_samples:]\n",
    "y_val = labels[-nb_validation_samples:]"
   ]
  },
  {
   "cell_type": "markdown",
   "id": "f354bb8e",
   "metadata": {},
   "source": [
    "## Обучение BoE"
   ]
  },
  {
   "cell_type": "code",
   "execution_count": null,
   "id": "0b0c7945",
   "metadata": {},
   "outputs": [],
   "source": [
    "sequence_input = layers.Input(shape=(dim,), dtype='int32')\n",
    "x = layers.Dense(64, activation='relu')(sequence_input)\n",
    "x = layers.Dense(16, activation='relu')(x)\n",
    "preds = layers.Dense(len(all_courses), activation='softmax')(x)\n",
    "\n",
    "model = keras.Model(sequence_input, preds)\n",
    "model.compile(loss='categorical_crossentropy',\n",
    "              optimizer='rmsprop',\n",
    "              metrics=['accuracy'])\n"
   ]
  },
  {
   "cell_type": "code",
   "execution_count": null,
   "id": "e1468c0e",
   "metadata": {},
   "outputs": [],
   "source": [
    "model.summary()"
   ]
  },
  {
   "cell_type": "code",
   "execution_count": null,
   "id": "00bc0be7",
   "metadata": {},
   "outputs": [],
   "source": [
    "EPOCHS = 20\n",
    "H = model.fit(x_train, y_train, validation_data=(x_val, y_val),\n",
    "          epochs=EPOCHS, batch_size=128)"
   ]
  },
  {
   "cell_type": "code",
   "execution_count": null,
   "id": "e54e71be",
   "metadata": {},
   "outputs": [],
   "source": [
    "loss = H.history['loss'] \n",
    "val_loss = H.history['val_loss']\n",
    "epochs = range(1, len(loss) + 1)\n",
    "plt.plot(epochs, loss, 'bo', label='Training loss')\n",
    "plt.plot(epochs, val_loss, 'b', label='Validation loss')\n",
    "plt.title('Training loss')\n",
    "plt.xlabel('Epochs')\n",
    "plt.ylabel('Loss')\n",
    "plt.legend()\n",
    "plt.show()"
   ]
  },
  {
   "cell_type": "code",
   "execution_count": null,
   "id": "95a42db6",
   "metadata": {},
   "outputs": [],
   "source": [
    "acc = H.history['accuracy']\n",
    "val_acc = H.history['val_accuracy']\n",
    "plt.plot(epochs, acc, 'bo', label='Training accuracy')\n",
    "plt.plot(epochs, val_acc, 'b', label='Validation accuracy')\n",
    "plt.title('Training binary accuracy')\n",
    "plt.xlabel('Epochs')\n",
    "plt.ylabel('Accuracy')\n",
    "plt.legend()\n",
    "plt.show()"
   ]
  },
  {
   "cell_type": "markdown",
   "id": "9f79865f",
   "metadata": {},
   "source": [
    "## Подготовка к CNN"
   ]
  },
  {
   "cell_type": "code",
   "execution_count": 118,
   "id": "90d8d4d2",
   "metadata": {},
   "outputs": [],
   "source": [
    "data = lens.Each().Each().modify(lambda x: ingredients_numbering_dict[x])(ingredients_lemmatized)"
   ]
  },
  {
   "cell_type": "code",
   "execution_count": 119,
   "id": "e47479ef",
   "metadata": {},
   "outputs": [
    {
     "data": {
      "text/plain": [
       "[[1421, 1297, 204, 2187], [1124, 1323, 2338, 3615, 3469]]"
      ]
     },
     "execution_count": 119,
     "metadata": {},
     "output_type": "execute_result"
    }
   ],
   "source": [
    "data[:2]"
   ]
  },
  {
   "cell_type": "code",
   "execution_count": 120,
   "id": "b0b8717d",
   "metadata": {},
   "outputs": [],
   "source": [
    "data = pad_sequences(data, padding='post', value=0)\n",
    "labels = to_categorical(np.array(df_for_learning['course_mark']), num_classes=len(all_courses))\n",
    "\n",
    "indices = np.arange(data.shape[0])\n",
    "np.random.shuffle(indices)\n",
    "data = data[indices]\n",
    "labels = labels[indices]\n",
    "\n",
    "VALIDATION_SPLIT = 0.2\n",
    "nb_validation_samples = int(VALIDATION_SPLIT * data.shape[0])\n",
    "\n",
    "x_train = data[:-nb_validation_samples]\n",
    "y_train = labels[:-nb_validation_samples]\n",
    "x_val = data[-nb_validation_samples:]\n",
    "y_val = labels[-nb_validation_samples:]"
   ]
  },
  {
   "cell_type": "code",
   "execution_count": 121,
   "id": "f90c9af1",
   "metadata": {},
   "outputs": [
    {
     "data": {
      "text/plain": [
       "40"
      ]
     },
     "execution_count": 121,
     "metadata": {},
     "output_type": "execute_result"
    }
   ],
   "source": [
    "max_length = len(data[0])\n",
    "max_length"
   ]
  },
  {
   "cell_type": "code",
   "execution_count": 122,
   "id": "9949a929",
   "metadata": {},
   "outputs": [
    {
     "data": {
      "text/plain": [
       "(4406, 52)"
      ]
     },
     "execution_count": 122,
     "metadata": {},
     "output_type": "execute_result"
    }
   ],
   "source": [
    "#Эта матрица будет использоваться для слоя Embedding в keras\n",
    "ingredients_embeddings_matrix = np.zeros((len(all_ingredients_list), dim))\n",
    "ingredients_embeddings_matrix.shape\n",
    "for ingr in all_ingredients_list:\n",
    "    ingredients_embeddings_matrix[ingredients_numbering_dict[ingr]] = ingredients_embeddings_dict[ingr]\n",
    "ingredients_embeddings_matrix.shape"
   ]
  },
  {
   "cell_type": "markdown",
   "id": "57afeacf",
   "metadata": {},
   "source": [
    "## Обучение CNN"
   ]
  },
  {
   "cell_type": "code",
   "execution_count": 123,
   "id": "b7230a09",
   "metadata": {},
   "outputs": [],
   "source": [
    "embedding_layer = layers.Embedding(len(ingredients_embeddings_dict),\n",
    "                            dim,\n",
    "                            weights=[ingredients_embeddings_matrix],\n",
    "                            input_length=max_length,\n",
    "                            trainable=True)\n",
    "# trainable=True позволит до обучаться эмбеддингам на нашем датасете"
   ]
  },
  {
   "cell_type": "code",
   "execution_count": 124,
   "id": "d19b9906",
   "metadata": {},
   "outputs": [],
   "source": [
    "sequence_input = layers.Input(shape=(max_length,), dtype='int32')\n",
    "embedded_sequences = embedding_layer(sequence_input)\n",
    "x = layers.Conv1D(64, 2, activation='relu')(embedded_sequences)\n",
    "x = layers.GlobalMaxPool1D()(x)\n",
    "x = layers.Flatten()(x)\n",
    "x = layers.Dense(32, activation='relu')(x)\n",
    "preds = layers.Dense(len(all_courses), activation='softmax')(x)\n",
    "\n",
    "model = keras.Model(sequence_input, preds)\n",
    "model.compile(loss='categorical_crossentropy',\n",
    "              optimizer='rmsprop',\n",
    "              metrics=['accuracy'])\n",
    "\n"
   ]
  },
  {
   "cell_type": "code",
   "execution_count": 125,
   "id": "32b7d14e",
   "metadata": {},
   "outputs": [
    {
     "name": "stdout",
     "output_type": "stream",
     "text": [
      "Model: \"model_8\"\n",
      "_________________________________________________________________\n",
      " Layer (type)                Output Shape              Param #   \n",
      "=================================================================\n",
      " input_9 (InputLayer)        [(None, 40)]              0         \n",
      "                                                                 \n",
      " embedding_3 (Embedding)     (None, 40, 52)            229112    \n",
      "                                                                 \n",
      " conv1d_7 (Conv1D)           (None, 39, 64)            6720      \n",
      "                                                                 \n",
      " global_max_pooling1d_2 (Glo  (None, 64)               0         \n",
      " balMaxPooling1D)                                                \n",
      "                                                                 \n",
      " flatten_7 (Flatten)         (None, 64)                0         \n",
      "                                                                 \n",
      " dense_17 (Dense)            (None, 32)                2080      \n",
      "                                                                 \n",
      " dense_18 (Dense)            (None, 9)                 297       \n",
      "                                                                 \n",
      "=================================================================\n",
      "Total params: 238,209\n",
      "Trainable params: 238,209\n",
      "Non-trainable params: 0\n",
      "_________________________________________________________________\n"
     ]
    }
   ],
   "source": [
    "model.summary()"
   ]
  },
  {
   "cell_type": "code",
   "execution_count": 126,
   "id": "28ee62ef",
   "metadata": {
    "scrolled": true
   },
   "outputs": [
    {
     "name": "stdout",
     "output_type": "stream",
     "text": [
      "Epoch 1/20\n",
      "259/259 [==============================] - 3s 10ms/step - loss: 1.4732 - accuracy: 0.5013 - val_loss: 1.2160 - val_accuracy: 0.5761\n",
      "Epoch 2/20\n",
      "259/259 [==============================] - 2s 8ms/step - loss: 1.0865 - accuracy: 0.6170 - val_loss: 0.9963 - val_accuracy: 0.6398\n",
      "Epoch 3/20\n",
      "259/259 [==============================] - 3s 10ms/step - loss: 0.9067 - accuracy: 0.6809 - val_loss: 0.9204 - val_accuracy: 0.6702\n",
      "Epoch 4/20\n",
      "259/259 [==============================] - 2s 9ms/step - loss: 0.8152 - accuracy: 0.7127 - val_loss: 0.8665 - val_accuracy: 0.6918\n",
      "Epoch 5/20\n",
      "259/259 [==============================] - 2s 9ms/step - loss: 0.7544 - accuracy: 0.7376 - val_loss: 0.8353 - val_accuracy: 0.7052\n",
      "Epoch 6/20\n",
      "259/259 [==============================] - 3s 10ms/step - loss: 0.7074 - accuracy: 0.7543 - val_loss: 0.8158 - val_accuracy: 0.7141\n",
      "Epoch 7/20\n",
      "259/259 [==============================] - 2s 9ms/step - loss: 0.6687 - accuracy: 0.7685 - val_loss: 0.8111 - val_accuracy: 0.7136\n",
      "Epoch 8/20\n",
      "259/259 [==============================] - 2s 9ms/step - loss: 0.6353 - accuracy: 0.7825 - val_loss: 0.8267 - val_accuracy: 0.7108\n",
      "Epoch 9/20\n",
      "259/259 [==============================] - 2s 9ms/step - loss: 0.6048 - accuracy: 0.7911 - val_loss: 0.8123 - val_accuracy: 0.7194\n",
      "Epoch 10/20\n",
      "259/259 [==============================] - 2s 9ms/step - loss: 0.5795 - accuracy: 0.8007 - val_loss: 0.8193 - val_accuracy: 0.7188\n",
      "Epoch 11/20\n",
      "259/259 [==============================] - 2s 9ms/step - loss: 0.5555 - accuracy: 0.8097 - val_loss: 0.8239 - val_accuracy: 0.7202\n",
      "Epoch 12/20\n",
      "259/259 [==============================] - 3s 10ms/step - loss: 0.5315 - accuracy: 0.8205 - val_loss: 0.8176 - val_accuracy: 0.7233\n",
      "Epoch 13/20\n",
      "259/259 [==============================] - 2s 9ms/step - loss: 0.5096 - accuracy: 0.8279 - val_loss: 0.8302 - val_accuracy: 0.7181\n",
      "Epoch 14/20\n",
      "259/259 [==============================] - 3s 10ms/step - loss: 0.4878 - accuracy: 0.8356 - val_loss: 0.8538 - val_accuracy: 0.7161\n",
      "Epoch 15/20\n",
      "259/259 [==============================] - 2s 8ms/step - loss: 0.4673 - accuracy: 0.8453 - val_loss: 0.8606 - val_accuracy: 0.7174\n",
      "Epoch 16/20\n",
      "259/259 [==============================] - 2s 8ms/step - loss: 0.4467 - accuracy: 0.8517 - val_loss: 0.8629 - val_accuracy: 0.7187\n",
      "Epoch 17/20\n",
      "259/259 [==============================] - 3s 10ms/step - loss: 0.4282 - accuracy: 0.8583 - val_loss: 0.8805 - val_accuracy: 0.7128\n",
      "Epoch 18/20\n",
      "259/259 [==============================] - 3s 13ms/step - loss: 0.4096 - accuracy: 0.8661 - val_loss: 0.9154 - val_accuracy: 0.7103\n",
      "Epoch 19/20\n",
      "259/259 [==============================] - 3s 10ms/step - loss: 0.3936 - accuracy: 0.8715 - val_loss: 0.9257 - val_accuracy: 0.7147\n",
      "Epoch 20/20\n",
      "259/259 [==============================] - 2s 9ms/step - loss: 0.3750 - accuracy: 0.8777 - val_loss: 0.9786 - val_accuracy: 0.7006\n"
     ]
    }
   ],
   "source": [
    "H = model.fit(x_train, y_train, validation_data=(x_val, y_val),\n",
    "          epochs=20, batch_size=128)"
   ]
  },
  {
   "cell_type": "code",
   "execution_count": 127,
   "id": "e78c01a1",
   "metadata": {},
   "outputs": [
    {
     "data": {
      "image/png": "[encoded data removed]",
      "text/plain": [
       "<Figure size 640x480 with 1 Axes>"
      ]
     },
     "metadata": {},
     "output_type": "display_data"
    }
   ],
   "source": [
    "loss = H.history['loss'] \n",
    "val_loss = H.history['val_loss']\n",
    "epochs = range(1, len(loss) + 1)\n",
    "plt.plot(epochs, loss, 'bo', label='Training loss')\n",
    "plt.plot(epochs, val_loss, 'b', label='Validation loss')\n",
    "plt.title('Training loss')\n",
    "plt.xlabel('Epochs')\n",
    "plt.ylabel('Loss')\n",
    "plt.legend()\n",
    "plt.show()"
   ]
  },
  {
   "cell_type": "code",
   "execution_count": 128,
   "id": "1d646978",
   "metadata": {},
   "outputs": [
    {
     "data": {
      "image/png": "[encoded data removed]",
      "text/plain": [
       "<Figure size 640x480 with 1 Axes>"
      ]
     },
     "metadata": {},
     "output_type": "display_data"
    }
   ],
   "source": [
    "acc = H.history['accuracy']\n",
    "val_acc = H.history['val_accuracy']\n",
    "plt.plot(epochs, acc, 'bo', label='Training accuracy')\n",
    "plt.plot(epochs, val_acc, 'b', label='Validation accuracy')\n",
    "plt.title('Training binary accuracy')\n",
    "plt.xlabel('Epochs')\n",
    "plt.ylabel('Accuracy')\n",
    "plt.legend()\n",
    "plt.show()"
   ]
  },
  {
   "cell_type": "markdown",
   "id": "c35e2f04-8ee4-4aec-a28e-cb12b4f6ccfe",
   "metadata": {},
   "source": [
    "## Прочее:"
   ]
  },
  {
   "cell_type": "code",
   "execution_count": 45,
   "id": "87ef55b7-a142-4fe0-884d-00f672da020e",
   "metadata": {},
   "outputs": [
    {
     "data": {
      "text/html": [
       "<div>\n",
       "<style scoped>\n",
       "    .dataframe tbody tr th:only-of-type {\n",
       "        vertical-align: middle;\n",
       "    }\n",
       "\n",
       "    .dataframe tbody tr th {\n",
       "        vertical-align: top;\n",
       "    }\n",
       "\n",
       "    .dataframe thead th {\n",
       "        text-align: right;\n",
       "    }\n",
       "</style>\n",
       "<table border=\"1\" class=\"dataframe\">\n",
       "  <thead>\n",
       "    <tr style=\"text-align: right;\">\n",
       "      <th></th>\n",
       "      <th>id</th>\n",
       "      <th>title</th>\n",
       "      <th>course</th>\n",
       "      <th>ingredients</th>\n",
       "    </tr>\n",
       "    <tr>\n",
       "      <th>cuisine</th>\n",
       "      <th></th>\n",
       "      <th></th>\n",
       "      <th></th>\n",
       "      <th></th>\n",
       "    </tr>\n",
       "  </thead>\n",
       "  <tbody>\n",
       "    <tr>\n",
       "      <th>Европейская кухня</th>\n",
       "      <td>11699</td>\n",
       "      <td>11699</td>\n",
       "      <td>11699</td>\n",
       "      <td>11699</td>\n",
       "    </tr>\n",
       "    <tr>\n",
       "      <th>Русская кухня</th>\n",
       "      <td>7111</td>\n",
       "      <td>7111</td>\n",
       "      <td>7111</td>\n",
       "      <td>7111</td>\n",
       "    </tr>\n",
       "    <tr>\n",
       "      <th>Итальянская кухня</th>\n",
       "      <td>4943</td>\n",
       "      <td>4943</td>\n",
       "      <td>4943</td>\n",
       "      <td>4943</td>\n",
       "    </tr>\n",
       "    <tr>\n",
       "      <th>Французская кухня</th>\n",
       "      <td>3055</td>\n",
       "      <td>3055</td>\n",
       "      <td>3055</td>\n",
       "      <td>3055</td>\n",
       "    </tr>\n",
       "    <tr>\n",
       "      <th>Американская кухня</th>\n",
       "      <td>2192</td>\n",
       "      <td>2192</td>\n",
       "      <td>2192</td>\n",
       "      <td>2192</td>\n",
       "    </tr>\n",
       "    <tr>\n",
       "      <th>Авторская кухня</th>\n",
       "      <td>1822</td>\n",
       "      <td>1822</td>\n",
       "      <td>1822</td>\n",
       "      <td>1822</td>\n",
       "    </tr>\n",
       "    <tr>\n",
       "      <th>Китайская кухня</th>\n",
       "      <td>840</td>\n",
       "      <td>840</td>\n",
       "      <td>840</td>\n",
       "      <td>840</td>\n",
       "    </tr>\n",
       "    <tr>\n",
       "      <th>Греческая кухня</th>\n",
       "      <td>640</td>\n",
       "      <td>640</td>\n",
       "      <td>640</td>\n",
       "      <td>640</td>\n",
       "    </tr>\n",
       "    <tr>\n",
       "      <th>Мексиканская кухня</th>\n",
       "      <td>583</td>\n",
       "      <td>583</td>\n",
       "      <td>583</td>\n",
       "      <td>583</td>\n",
       "    </tr>\n",
       "    <tr>\n",
       "      <th>Японская кухня</th>\n",
       "      <td>569</td>\n",
       "      <td>569</td>\n",
       "      <td>569</td>\n",
       "      <td>569</td>\n",
       "    </tr>\n",
       "    <tr>\n",
       "      <th>Испанская кухня</th>\n",
       "      <td>560</td>\n",
       "      <td>560</td>\n",
       "      <td>560</td>\n",
       "      <td>560</td>\n",
       "    </tr>\n",
       "    <tr>\n",
       "      <th>Грузинская кухня</th>\n",
       "      <td>532</td>\n",
       "      <td>532</td>\n",
       "      <td>532</td>\n",
       "      <td>532</td>\n",
       "    </tr>\n",
       "    <tr>\n",
       "      <th>Паназиатская кухня</th>\n",
       "      <td>517</td>\n",
       "      <td>517</td>\n",
       "      <td>517</td>\n",
       "      <td>517</td>\n",
       "    </tr>\n",
       "    <tr>\n",
       "      <th>Британская кухня</th>\n",
       "      <td>503</td>\n",
       "      <td>503</td>\n",
       "      <td>503</td>\n",
       "      <td>503</td>\n",
       "    </tr>\n",
       "    <tr>\n",
       "      <th>Средиземноморская кухня</th>\n",
       "      <td>484</td>\n",
       "      <td>484</td>\n",
       "      <td>484</td>\n",
       "      <td>484</td>\n",
       "    </tr>\n",
       "    <tr>\n",
       "      <th>Индийская кухня</th>\n",
       "      <td>416</td>\n",
       "      <td>416</td>\n",
       "      <td>416</td>\n",
       "      <td>416</td>\n",
       "    </tr>\n",
       "    <tr>\n",
       "      <th>Немецкая кухня</th>\n",
       "      <td>320</td>\n",
       "      <td>320</td>\n",
       "      <td>320</td>\n",
       "      <td>320</td>\n",
       "    </tr>\n",
       "    <tr>\n",
       "      <th>Тайская кухня</th>\n",
       "      <td>307</td>\n",
       "      <td>307</td>\n",
       "      <td>307</td>\n",
       "      <td>307</td>\n",
       "    </tr>\n",
       "    <tr>\n",
       "      <th>Украинская кухня</th>\n",
       "      <td>305</td>\n",
       "      <td>305</td>\n",
       "      <td>305</td>\n",
       "      <td>305</td>\n",
       "    </tr>\n",
       "    <tr>\n",
       "      <th>Арабская кухня</th>\n",
       "      <td>260</td>\n",
       "      <td>260</td>\n",
       "      <td>260</td>\n",
       "      <td>260</td>\n",
       "    </tr>\n",
       "    <tr>\n",
       "      <th>Еврейская кухня</th>\n",
       "      <td>255</td>\n",
       "      <td>255</td>\n",
       "      <td>255</td>\n",
       "      <td>255</td>\n",
       "    </tr>\n",
       "    <tr>\n",
       "      <th>Турецкая кухня</th>\n",
       "      <td>239</td>\n",
       "      <td>239</td>\n",
       "      <td>239</td>\n",
       "      <td>239</td>\n",
       "    </tr>\n",
       "    <tr>\n",
       "      <th>Армянская кухня</th>\n",
       "      <td>210</td>\n",
       "      <td>210</td>\n",
       "      <td>210</td>\n",
       "      <td>210</td>\n",
       "    </tr>\n",
       "    <tr>\n",
       "      <th>Югославская кухня</th>\n",
       "      <td>173</td>\n",
       "      <td>173</td>\n",
       "      <td>173</td>\n",
       "      <td>173</td>\n",
       "    </tr>\n",
       "    <tr>\n",
       "      <th>Австрийская кухня</th>\n",
       "      <td>170</td>\n",
       "      <td>170</td>\n",
       "      <td>170</td>\n",
       "      <td>170</td>\n",
       "    </tr>\n",
       "    <tr>\n",
       "      <th>Узбекская кухня</th>\n",
       "      <td>153</td>\n",
       "      <td>153</td>\n",
       "      <td>153</td>\n",
       "      <td>153</td>\n",
       "    </tr>\n",
       "    <tr>\n",
       "      <th>Болгарская кухня</th>\n",
       "      <td>151</td>\n",
       "      <td>151</td>\n",
       "      <td>151</td>\n",
       "      <td>151</td>\n",
       "    </tr>\n",
       "    <tr>\n",
       "      <th>Корейская кухня</th>\n",
       "      <td>136</td>\n",
       "      <td>136</td>\n",
       "      <td>136</td>\n",
       "      <td>136</td>\n",
       "    </tr>\n",
       "    <tr>\n",
       "      <th>Азербайджанская кухня</th>\n",
       "      <td>128</td>\n",
       "      <td>128</td>\n",
       "      <td>128</td>\n",
       "      <td>128</td>\n",
       "    </tr>\n",
       "    <tr>\n",
       "      <th>Марокканская кухня</th>\n",
       "      <td>118</td>\n",
       "      <td>118</td>\n",
       "      <td>118</td>\n",
       "      <td>118</td>\n",
       "    </tr>\n",
       "  </tbody>\n",
       "</table>\n",
       "</div>"
      ],
      "text/plain": [
       "                            id  title  course  ingredients\n",
       "cuisine                                                   \n",
       "Европейская кухня        11699  11699   11699        11699\n",
       "Русская кухня             7111   7111    7111         7111\n",
       "Итальянская кухня         4943   4943    4943         4943\n",
       "Французская кухня         3055   3055    3055         3055\n",
       "Американская кухня        2192   2192    2192         2192\n",
       "Авторская кухня           1822   1822    1822         1822\n",
       "Китайская кухня            840    840     840          840\n",
       "Греческая кухня            640    640     640          640\n",
       "Мексиканская кухня         583    583     583          583\n",
       "Японская кухня             569    569     569          569\n",
       "Испанская кухня            560    560     560          560\n",
       "Грузинская кухня           532    532     532          532\n",
       "Паназиатская кухня         517    517     517          517\n",
       "Британская кухня           503    503     503          503\n",
       "Средиземноморская кухня    484    484     484          484\n",
       "Индийская кухня            416    416     416          416\n",
       "Немецкая кухня             320    320     320          320\n",
       "Тайская кухня              307    307     307          307\n",
       "Украинская кухня           305    305     305          305\n",
       "Арабская кухня             260    260     260          260\n",
       "Еврейская кухня            255    255     255          255\n",
       "Турецкая кухня             239    239     239          239\n",
       "Армянская кухня            210    210     210          210\n",
       "Югославская кухня          173    173     173          173\n",
       "Австрийская кухня          170    170     170          170\n",
       "Узбекская кухня            153    153     153          153\n",
       "Болгарская кухня           151    151     151          151\n",
       "Корейская кухня            136    136     136          136\n",
       "Азербайджанская кухня      128    128     128          128\n",
       "Марокканская кухня         118    118     118          118"
      ]
     },
     "execution_count": 45,
     "metadata": {},
     "output_type": "execute_result"
    }
   ],
   "source": [
    "it = df.groupby('cuisine').count()\n",
    "it.sort_values('title', ascending=False).head(30)"
   ]
  },
  {
   "cell_type": "code",
   "execution_count": 46,
   "id": "8891bcd1-671e-4efa-99d9-fc983bb3c670",
   "metadata": {},
   "outputs": [
    {
     "ename": "NameError",
     "evalue": "name 'ft' is not defined",
     "output_type": "error",
     "traceback": [
      "\u001b[1;31m---------------------------------------------------------------------------\u001b[0m",
      "\u001b[1;31mNameError\u001b[0m                                 Traceback (most recent call last)",
      "Cell \u001b[1;32mIn [46], line 1\u001b[0m\n\u001b[1;32m----> 1\u001b[0m a \u001b[38;5;241m=\u001b[39m ft\u001b[38;5;241m.\u001b[39mget_word_vector(\u001b[38;5;124m'\u001b[39m\u001b[38;5;124mкокосовый\u001b[39m\u001b[38;5;124m'\u001b[39m)\u001b[38;5;241m-\u001b[39mft\u001b[38;5;241m.\u001b[39mget_word_vector(\u001b[38;5;124m'\u001b[39m\u001b[38;5;124mкокосовое\u001b[39m\u001b[38;5;124m'\u001b[39m)\u001b[38;5;241m+\u001b[39mft\u001b[38;5;241m.\u001b[39mget_word_vector(\u001b[38;5;124m'\u001b[39m\u001b[38;5;124mкремовое\u001b[39m\u001b[38;5;124m'\u001b[39m)\u001b[38;5;241m-\u001b[39mft\u001b[38;5;241m.\u001b[39mget_word_vector(\u001b[38;5;124m'\u001b[39m\u001b[38;5;124mкремовый\u001b[39m\u001b[38;5;124m'\u001b[39m)\n\u001b[0;32m      2\u001b[0m a\u001b[38;5;129m@a\u001b[39m\n",
      "\u001b[1;31mNameError\u001b[0m: name 'ft' is not defined"
     ]
    }
   ],
   "source": [
    "a = ft.get_word_vector('кокосовый')-ft.get_word_vector('кокосовое')+ft.get_word_vector('кремовое')-ft.get_word_vector('кремовый')\n",
    "a@a"
   ]
  },
  {
   "cell_type": "code",
   "execution_count": null,
   "id": "69997cf5",
   "metadata": {},
   "outputs": [],
   "source": []
  }
 ],
 "metadata": {
  "kernelspec": {
   "display_name": "Python 3 (ipykernel)",
   "language": "python",
   "name": "python3"
  },
  "language_info": {
   "codemirror_mode": {
    "name": "ipython",
    "version": 3
   },
   "file_extension": ".py",
   "mimetype": "text/x-python",
   "name": "python",
   "nbconvert_exporter": "python",
   "pygments_lexer": "ipython3",
   "version": "3.9.13"
  }
 },
 "nbformat": 4,
 "nbformat_minor": 5
}
