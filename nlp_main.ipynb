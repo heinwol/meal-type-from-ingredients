{
 "cells": [
  {
   "cell_type": "code",
   "execution_count": 1,
   "id": "efee2b7a-0175-491d-9783-5612e42506b0",
   "metadata": {},
   "outputs": [],
   "source": [
    "from toolz import *\n",
    "import numpy as np\n",
    "import matplotlib.pyplot as plt\n",
    "import pandas as pd\n",
    "import plotly.graph_objects as go\n",
    "%matplotlib widget\n",
    "\n",
    "\n",
    "import pathlib\n",
    "from lenses import lens\n",
    "\n",
    "from collections import Counter\n",
    "\n",
    "import re\n",
    "import nltk\n",
    "import pymorphy2\n",
    "import fasttext.util\n",
    "\n",
    "import tensorflow as tf\n",
    "from tensorflow import keras\n",
    "from tensorflow.keras import layers\n",
    "from tensorflow.keras.utils import to_categorical\n",
    "from tensorflow.keras.preprocessing.sequence import pad_sequences"
   ]
  },
  {
   "cell_type": "code",
   "execution_count": 2,
   "id": "3a7365e6-8a0f-4d9d-9630-c2d47dd5072c",
   "metadata": {
    "tags": []
   },
   "outputs": [
    {
     "name": "stderr",
     "output_type": "stream",
     "text": [
      "[nltk_data] Downloading collection 'popular'\n",
      "[nltk_data]    | \n",
      "[nltk_data]    | Downloading package cmudict to\n",
      "[nltk_data]    |     C:\\Users\\aakomlev\\AppData\\Roaming\\nltk_data...\n",
      "[nltk_data]    |   Package cmudict is already up-to-date!\n",
      "[nltk_data]    | Downloading package gazetteers to\n",
      "[nltk_data]    |     C:\\Users\\aakomlev\\AppData\\Roaming\\nltk_data...\n",
      "[nltk_data]    |   Package gazetteers is already up-to-date!\n",
      "[nltk_data]    | Downloading package genesis to\n",
      "[nltk_data]    |     C:\\Users\\aakomlev\\AppData\\Roaming\\nltk_data...\n",
      "[nltk_data]    |   Package genesis is already up-to-date!\n",
      "[nltk_data]    | Downloading package gutenberg to\n",
      "[nltk_data]    |     C:\\Users\\aakomlev\\AppData\\Roaming\\nltk_data...\n",
      "[nltk_data]    |   Package gutenberg is already up-to-date!\n",
      "[nltk_data]    | Downloading package inaugural to\n",
      "[nltk_data]    |     C:\\Users\\aakomlev\\AppData\\Roaming\\nltk_data...\n",
      "[nltk_data]    |   Package inaugural is already up-to-date!\n",
      "[nltk_data]    | Downloading package movie_reviews to\n",
      "[nltk_data]    |     C:\\Users\\aakomlev\\AppData\\Roaming\\nltk_data...\n",
      "[nltk_data]    |   Package movie_reviews is already up-to-date!\n",
      "[nltk_data]    | Downloading package names to\n",
      "[nltk_data]    |     C:\\Users\\aakomlev\\AppData\\Roaming\\nltk_data...\n",
      "[nltk_data]    |   Package names is already up-to-date!\n",
      "[nltk_data]    | Downloading package shakespeare to\n",
      "[nltk_data]    |     C:\\Users\\aakomlev\\AppData\\Roaming\\nltk_data...\n",
      "[nltk_data]    |   Package shakespeare is already up-to-date!\n",
      "[nltk_data]    | Downloading package stopwords to\n",
      "[nltk_data]    |     C:\\Users\\aakomlev\\AppData\\Roaming\\nltk_data...\n",
      "[nltk_data]    |   Package stopwords is already up-to-date!\n",
      "[nltk_data]    | Downloading package treebank to\n",
      "[nltk_data]    |     C:\\Users\\aakomlev\\AppData\\Roaming\\nltk_data...\n",
      "[nltk_data]    |   Package treebank is already up-to-date!\n",
      "[nltk_data]    | Downloading package twitter_samples to\n",
      "[nltk_data]    |     C:\\Users\\aakomlev\\AppData\\Roaming\\nltk_data...\n",
      "[nltk_data]    |   Package twitter_samples is already up-to-date!\n",
      "[nltk_data]    | Downloading package omw to\n",
      "[nltk_data]    |     C:\\Users\\aakomlev\\AppData\\Roaming\\nltk_data...\n",
      "[nltk_data]    |   Package omw is already up-to-date!\n",
      "[nltk_data]    | Downloading package omw-1.4 to\n",
      "[nltk_data]    |     C:\\Users\\aakomlev\\AppData\\Roaming\\nltk_data...\n",
      "[nltk_data]    |   Package omw-1.4 is already up-to-date!\n",
      "[nltk_data]    | Downloading package wordnet to\n",
      "[nltk_data]    |     C:\\Users\\aakomlev\\AppData\\Roaming\\nltk_data...\n",
      "[nltk_data]    |   Package wordnet is already up-to-date!\n",
      "[nltk_data]    | Downloading package wordnet2021 to\n",
      "[nltk_data]    |     C:\\Users\\aakomlev\\AppData\\Roaming\\nltk_data...\n",
      "[nltk_data]    |   Package wordnet2021 is already up-to-date!\n",
      "[nltk_data]    | Downloading package wordnet31 to\n",
      "[nltk_data]    |     C:\\Users\\aakomlev\\AppData\\Roaming\\nltk_data...\n",
      "[nltk_data]    |   Package wordnet31 is already up-to-date!\n",
      "[nltk_data]    | Downloading package wordnet_ic to\n",
      "[nltk_data]    |     C:\\Users\\aakomlev\\AppData\\Roaming\\nltk_data...\n",
      "[nltk_data]    |   Package wordnet_ic is already up-to-date!\n",
      "[nltk_data]    | Downloading package words to\n",
      "[nltk_data]    |     C:\\Users\\aakomlev\\AppData\\Roaming\\nltk_data...\n",
      "[nltk_data]    |   Package words is already up-to-date!\n",
      "[nltk_data]    | Downloading package maxent_ne_chunker to\n",
      "[nltk_data]    |     C:\\Users\\aakomlev\\AppData\\Roaming\\nltk_data...\n",
      "[nltk_data]    |   Package maxent_ne_chunker is already up-to-date!\n",
      "[nltk_data]    | Downloading package punkt to\n",
      "[nltk_data]    |     C:\\Users\\aakomlev\\AppData\\Roaming\\nltk_data...\n",
      "[nltk_data]    |   Package punkt is already up-to-date!\n",
      "[nltk_data]    | Downloading package snowball_data to\n",
      "[nltk_data]    |     C:\\Users\\aakomlev\\AppData\\Roaming\\nltk_data...\n",
      "[nltk_data]    |   Package snowball_data is already up-to-date!\n",
      "[nltk_data]    | Downloading package averaged_perceptron_tagger to\n",
      "[nltk_data]    |     C:\\Users\\aakomlev\\AppData\\Roaming\\nltk_data...\n",
      "[nltk_data]    |   Package averaged_perceptron_tagger is already up-\n",
      "[nltk_data]    |       to-date!\n",
      "[nltk_data]    | \n",
      "[nltk_data]  Done downloading collection popular\n",
      "[nltk_data] Downloading package punkt to\n",
      "[nltk_data]     C:\\Users\\aakomlev\\AppData\\Roaming\\nltk_data...\n",
      "[nltk_data]   Package punkt is already up-to-date!\n",
      "[nltk_data] Downloading package averaged_perceptron_tagger_ru to\n",
      "[nltk_data]     C:\\Users\\aakomlev\\AppData\\Roaming\\nltk_data...\n",
      "[nltk_data]   Package averaged_perceptron_tagger_ru is already up-to-\n",
      "[nltk_data]       date!\n",
      "[nltk_data] Downloading package tagsets to\n",
      "[nltk_data]     C:\\Users\\aakomlev\\AppData\\Roaming\\nltk_data...\n",
      "[nltk_data]   Package tagsets is already up-to-date!\n",
      "[nltk_data] Downloading package stopwords to\n",
      "[nltk_data]     C:\\Users\\aakomlev\\AppData\\Roaming\\nltk_data...\n",
      "[nltk_data]   Package stopwords is already up-to-date!\n"
     ]
    },
    {
     "data": {
      "text/plain": [
       "True"
      ]
     },
     "execution_count": 2,
     "metadata": {},
     "output_type": "execute_result"
    }
   ],
   "source": [
    "nltk.download('popular')\n",
    "nltk.download('punkt')\n",
    "nltk.download('averaged_perceptron_tagger_ru')\n",
    "nltk.download('tagsets')\n",
    "nltk.download('stopwords')"
   ]
  },
  {
   "cell_type": "code",
   "execution_count": 3,
   "id": "1f57b13f-0e68-4238-89be-f329432f34dc",
   "metadata": {},
   "outputs": [],
   "source": [
    "lmap = compose(list, map)\n",
    "ltake = compose(list, take)"
   ]
  },
  {
   "cell_type": "code",
   "execution_count": 4,
   "id": "f0c653bd-a45d-4b2e-ae48-9d8974097a18",
   "metadata": {},
   "outputs": [],
   "source": [
    "def map_df_ingredients_element(func, df):\n",
    "    df = df.copy()\n",
    "    df['ingredients'] = df['ingredients'].map(lambda v: lmap(func, v))\n",
    "    return df"
   ]
  },
  {
   "cell_type": "code",
   "execution_count": 5,
   "id": "38a34a4c-caa8-439e-9c5d-6cd5931754dc",
   "metadata": {},
   "outputs": [],
   "source": [
    "data_path = pathlib.Path('data')"
   ]
  },
  {
   "cell_type": "markdown",
   "id": "6ddb79ff-902b-4147-8ece-4e403228b15a",
   "metadata": {},
   "source": [
    "## Загружаем датафрейм с данными"
   ]
  },
  {
   "cell_type": "code",
   "execution_count": 6,
   "id": "07d413a1-165f-4c00-828c-135c0227fbec",
   "metadata": {},
   "outputs": [
    {
     "data": {
      "text/html": [
       "<div>\n",
       "<style scoped>\n",
       "    .dataframe tbody tr th:only-of-type {\n",
       "        vertical-align: middle;\n",
       "    }\n",
       "\n",
       "    .dataframe tbody tr th {\n",
       "        vertical-align: top;\n",
       "    }\n",
       "\n",
       "    .dataframe thead th {\n",
       "        text-align: right;\n",
       "    }\n",
       "</style>\n",
       "<table border=\"1\" class=\"dataframe\">\n",
       "  <thead>\n",
       "    <tr style=\"text-align: right;\">\n",
       "      <th></th>\n",
       "      <th>id</th>\n",
       "      <th>title</th>\n",
       "      <th>course</th>\n",
       "      <th>cuisine</th>\n",
       "      <th>ingredients</th>\n",
       "    </tr>\n",
       "  </thead>\n",
       "  <tbody>\n",
       "    <tr>\n",
       "      <th>0</th>\n",
       "      <td>28195</td>\n",
       "      <td>Банановое мороженое с корицей</td>\n",
       "      <td>Выпечка и десерты</td>\n",
       "      <td>Карибская кухня</td>\n",
       "      <td>[бананы, лимонный сок, молотая корица, ванильн...</td>\n",
       "    </tr>\n",
       "    <tr>\n",
       "      <th>1</th>\n",
       "      <td>28141</td>\n",
       "      <td>Ананасово-кокосовый шербет</td>\n",
       "      <td>Выпечка и десерты</td>\n",
       "      <td>Карибская кухня</td>\n",
       "      <td>[сахар, кокосовое молоко, корень имбиря, анана...</td>\n",
       "    </tr>\n",
       "    <tr>\n",
       "      <th>2</th>\n",
       "      <td>27929</td>\n",
       "      <td>Десерт из манго, клубники и текилы</td>\n",
       "      <td>Выпечка и десерты</td>\n",
       "      <td>Карибская кухня</td>\n",
       "      <td>[клубника, манго, сахар, тертая цедра лайма, т...</td>\n",
       "    </tr>\n",
       "    <tr>\n",
       "      <th>3</th>\n",
       "      <td>28192</td>\n",
       "      <td>Ананас с соусом из манго и рома</td>\n",
       "      <td>Выпечка и десерты</td>\n",
       "      <td>Карибская кухня</td>\n",
       "      <td>[манго, темный ром, сок лайма, сахар, тертая ц...</td>\n",
       "    </tr>\n",
       "    <tr>\n",
       "      <th>4</th>\n",
       "      <td>28463</td>\n",
       "      <td>Клубничный соус с текилой</td>\n",
       "      <td>Выпечка и десерты</td>\n",
       "      <td>Карибская кухня</td>\n",
       "      <td>[клубника, сахарная пудра, сок лайма, текила, ...</td>\n",
       "    </tr>\n",
       "    <tr>\n",
       "      <th>...</th>\n",
       "      <td>...</td>\n",
       "      <td>...</td>\n",
       "      <td>...</td>\n",
       "      <td>...</td>\n",
       "      <td>...</td>\n",
       "    </tr>\n",
       "    <tr>\n",
       "      <th>41433</th>\n",
       "      <td>43380</td>\n",
       "      <td>Постный борщ с фасолью</td>\n",
       "      <td>Супы</td>\n",
       "      <td>Украинская кухня</td>\n",
       "      <td>[белая фасоль, овощной бульон, свекла, картофе...</td>\n",
       "    </tr>\n",
       "    <tr>\n",
       "      <th>41434</th>\n",
       "      <td>80446</td>\n",
       "      <td>Суп энгамат</td>\n",
       "      <td>Супы</td>\n",
       "      <td>Шведская кухня</td>\n",
       "      <td>[цветная капуста, морковь, картофель, лук-поре...</td>\n",
       "    </tr>\n",
       "    <tr>\n",
       "      <th>41435</th>\n",
       "      <td>136820</td>\n",
       "      <td>Гороховый суп с блинчиками</td>\n",
       "      <td>Супы</td>\n",
       "      <td>Шведская кухня</td>\n",
       "      <td>[горох, репчатый лук, гвоздика, свиная рулька,...</td>\n",
       "    </tr>\n",
       "    <tr>\n",
       "      <th>41436</th>\n",
       "      <td>18014</td>\n",
       "      <td>Суп из брокколи и кростини с сыром бри</td>\n",
       "      <td>Супы</td>\n",
       "      <td>Шведская кухня</td>\n",
       "      <td>[оливковое масло, репчатый лук, овощной бульон...</td>\n",
       "    </tr>\n",
       "    <tr>\n",
       "      <th>41437</th>\n",
       "      <td>49530</td>\n",
       "      <td>Сливочный суп с фрикадельками</td>\n",
       "      <td>Супы</td>\n",
       "      <td>Шведская кухня</td>\n",
       "      <td>[картофель, репчатый лук, мясной фарш, морковь...</td>\n",
       "    </tr>\n",
       "  </tbody>\n",
       "</table>\n",
       "<p>41438 rows × 5 columns</p>\n",
       "</div>"
      ],
      "text/plain": [
       "           id                                   title             course  \\\n",
       "0       28195           Банановое мороженое с корицей  Выпечка и десерты   \n",
       "1       28141              Ананасово-кокосовый шербет  Выпечка и десерты   \n",
       "2       27929      Десерт из манго, клубники и текилы  Выпечка и десерты   \n",
       "3       28192         Ананас с соусом из манго и рома  Выпечка и десерты   \n",
       "4       28463               Клубничный соус с текилой  Выпечка и десерты   \n",
       "...       ...                                     ...                ...   \n",
       "41433   43380                  Постный борщ с фасолью               Супы   \n",
       "41434   80446                             Суп энгамат               Супы   \n",
       "41435  136820              Гороховый суп с блинчиками               Супы   \n",
       "41436   18014  Суп из брокколи и кростини с сыром бри               Супы   \n",
       "41437   49530           Сливочный суп с фрикадельками               Супы   \n",
       "\n",
       "                cuisine                                        ingredients  \n",
       "0       Карибская кухня  [бананы, лимонный сок, молотая корица, ванильн...  \n",
       "1       Карибская кухня  [сахар, кокосовое молоко, корень имбиря, анана...  \n",
       "2       Карибская кухня  [клубника, манго, сахар, тертая цедра лайма, т...  \n",
       "3       Карибская кухня  [манго, темный ром, сок лайма, сахар, тертая ц...  \n",
       "4       Карибская кухня  [клубника, сахарная пудра, сок лайма, текила, ...  \n",
       "...                 ...                                                ...  \n",
       "41433  Украинская кухня  [белая фасоль, овощной бульон, свекла, картофе...  \n",
       "41434    Шведская кухня  [цветная капуста, морковь, картофель, лук-поре...  \n",
       "41435    Шведская кухня  [горох, репчатый лук, гвоздика, свиная рулька,...  \n",
       "41436    Шведская кухня  [оливковое масло, репчатый лук, овощной бульон...  \n",
       "41437    Шведская кухня  [картофель, репчатый лук, мясной фарш, морковь...  \n",
       "\n",
       "[41438 rows x 5 columns]"
      ]
     },
     "execution_count": 6,
     "metadata": {},
     "output_type": "execute_result"
    }
   ],
   "source": [
    "df = pd.read_json(data_path.joinpath('ready_dataframe.json'))\n",
    "df = map_df_ingredients_element(compose(str.lower, str.strip), df)\n",
    "df"
   ]
  },
  {
   "cell_type": "markdown",
   "id": "acd92478-e00c-4507-9cd9-bccc0e6e4a1c",
   "metadata": {},
   "source": [
    "## Работа с ингридиентами"
   ]
  },
  {
   "cell_type": "markdown",
   "id": "4803caf6-ff99-4f27-8b85-d2e570daee43",
   "metadata": {},
   "source": [
    "Удобнее работать с листом листов:"
   ]
  },
  {
   "cell_type": "code",
   "execution_count": 7,
   "id": "d83a2ede-2ce3-494e-884a-8e6ba5a8be34",
   "metadata": {},
   "outputs": [
    {
     "data": {
      "text/plain": [
       "[['бананы', 'лимонный сок', 'молотая корица', 'ванильное мороженое'],\n",
       " ['сахар', 'кокосовое молоко', 'корень имбиря', 'ананас', 'сок лайма'],\n",
       " ['клубника',\n",
       "  'манго',\n",
       "  'сахар',\n",
       "  'тертая цедра лайма',\n",
       "  'текила',\n",
       "  'сок лайма',\n",
       "  'апельсиновый ликер']]"
      ]
     },
     "execution_count": 7,
     "metadata": {},
     "output_type": "execute_result"
    }
   ],
   "source": [
    "ingredients = list(df['ingredients'])\n",
    "# TODO !!!!!!!!! Временно берем только первые несколько записей \n",
    "ingredients = ingredients[:20]\n",
    "ingredients[:3]"
   ]
  },
  {
   "cell_type": "markdown",
   "id": "b6d59646-3337-4a30-b94c-d6314fb73d00",
   "metadata": {},
   "source": [
    "### Самые часто встречающиеся слова в ингридиентах"
   ]
  },
  {
   "cell_type": "code",
   "execution_count": 8,
   "id": "c403e384-8ec0-416c-8bf7-b382b6db1094",
   "metadata": {},
   "outputs": [
    {
     "data": {
      "text/plain": [
       "[('сахар', 15),\n",
       " ('пшеничная мука', 14),\n",
       " ('куриное яйцо', 11),\n",
       " ('сливочное масло', 9),\n",
       " ('соль', 7),\n",
       " ('сахарная пудра', 5),\n",
       " ('сок лайма', 4),\n",
       " ('сметана', 3),\n",
       " ('сода', 3),\n",
       " ('корица', 3)]"
      ]
     },
     "execution_count": 8,
     "metadata": {},
     "output_type": "execute_result"
    }
   ],
   "source": [
    "ingredients_counter = Counter()\n",
    "for lst in ingredients:\n",
    "    ingredients_counter.update(lst)\n",
    "# first_ingresients, _ = zip(*ingredients_counter.most_common(10))\n",
    "# first_ingresients = list(first_ingresients)\n",
    "# first_ingresients\n",
    "ingredients_counter.most_common(10)"
   ]
  },
  {
   "cell_type": "code",
   "execution_count": 9,
   "id": "af98db77-67ff-47ce-996b-26f573a929fc",
   "metadata": {},
   "outputs": [
    {
     "data": {
      "text/plain": [
       "[('банан',),\n",
       " ('лимонный', 'сок'),\n",
       " ('молотый', 'корица'),\n",
       " ('ванильный', 'мороженое'),\n",
       " ('сахар',),\n",
       " ('кокосовый', 'молоко'),\n",
       " ('корень', 'имбирь'),\n",
       " ('ананас',),\n",
       " ('сок', 'лайм'),\n",
       " ('клубника',)]"
      ]
     },
     "execution_count": 9,
     "metadata": {},
     "output_type": "execute_result"
    }
   ],
   "source": [
    "morph = pymorphy2.MorphAnalyzer()\n",
    "def lemmatize(word):\n",
    "    return morph.parse(word)[0].normal_form\n",
    "\n",
    "it = lmap(compose(tuple, nltk.word_tokenize), ingredients_counter)\n",
    "it = lens.Each().Each().modify(lemmatize)(it)\n",
    "it[:10]"
   ]
  },
  {
   "cell_type": "markdown",
   "id": "f152605a-e739-435e-86e1-add757188c03",
   "metadata": {},
   "source": [
    "### Токенизация"
   ]
  },
  {
   "cell_type": "code",
   "execution_count": 10,
   "id": "fd1c36b6-5ce0-4f4e-b00a-6ccde843f86a",
   "metadata": {},
   "outputs": [
    {
     "data": {
      "text/plain": [
       "[[['бананы'],\n",
       "  ['лимонный', 'сок'],\n",
       "  ['молотая', 'корица'],\n",
       "  ['ванильное', 'мороженое']],\n",
       " [['сахар'],\n",
       "  ['кокосовое', 'молоко'],\n",
       "  ['корень', 'имбиря'],\n",
       "  ['ананас'],\n",
       "  ['сок', 'лайма']],\n",
       " [['клубника'],\n",
       "  ['манго'],\n",
       "  ['сахар'],\n",
       "  ['тертая', 'цедра', 'лайма'],\n",
       "  ['текила'],\n",
       "  ['сок', 'лайма'],\n",
       "  ['апельсиновый', 'ликер']],\n",
       " [['манго'],\n",
       "  ['темный', 'ром'],\n",
       "  ['сок', 'лайма'],\n",
       "  ['сахар'],\n",
       "  ['тертая', 'цедра', 'лайма'],\n",
       "  ['ананас']]]"
      ]
     },
     "execution_count": 10,
     "metadata": {},
     "output_type": "execute_result"
    }
   ],
   "source": [
    "ingredients_tokenized = lens.Each().Each().modify(nltk.word_tokenize)(ingredients)\n",
    "ingredients_tokenized[:4]"
   ]
  },
  {
   "cell_type": "markdown",
   "id": "b927e726-f87f-4378-81ea-79b0f77c05af",
   "metadata": {},
   "source": [
    "### Стоп-слова и фильтрация"
   ]
  },
  {
   "cell_type": "code",
   "execution_count": 11,
   "id": "7ba5bab3-648d-4869-aa48-f3cde9247424",
   "metadata": {},
   "outputs": [],
   "source": [
    "stopwords = nltk.corpus.stopwords.words('russian')"
   ]
  },
  {
   "cell_type": "code",
   "execution_count": 12,
   "id": "65d5a043-e3a6-42fb-91c1-1b4eda58640a",
   "metadata": {},
   "outputs": [],
   "source": [
    "rx = re.compile(r'[a-zA-Zа-яА-Я][a-zA-Zа-яА-Я\\d\\-]*')"
   ]
  },
  {
   "cell_type": "code",
   "execution_count": 13,
   "id": "04908c5d-33c3-464d-9112-c0afeb873dcd",
   "metadata": {},
   "outputs": [
    {
     "data": {
      "text/plain": [
       "[[('бананы',),\n",
       "  ('лимонный', 'сок'),\n",
       "  ('молотая', 'корица'),\n",
       "  ('ванильное', 'мороженое')],\n",
       " [('сахар',),\n",
       "  ('кокосовое', 'молоко'),\n",
       "  ('корень', 'имбиря'),\n",
       "  ('ананас',),\n",
       "  ('сок', 'лайма')],\n",
       " [('клубника',),\n",
       "  ('манго',),\n",
       "  ('сахар',),\n",
       "  ('тертая', 'цедра', 'лайма'),\n",
       "  ('текила',),\n",
       "  ('сок', 'лайма'),\n",
       "  ('апельсиновый', 'ликер')],\n",
       " [('манго',),\n",
       "  ('темный', 'ром'),\n",
       "  ('сок', 'лайма'),\n",
       "  ('сахар',),\n",
       "  ('тертая', 'цедра', 'лайма'),\n",
       "  ('ананас',)]]"
      ]
     },
     "execution_count": 13,
     "metadata": {},
     "output_type": "execute_result"
    }
   ],
   "source": [
    "ingredients_filtered = (lens\n",
    "    .Each().Each().modify(\n",
    "        lambda tokenized: tuple(filter(\n",
    "            lambda word: word not in stopwords and rx.match(word),\n",
    "            tokenized))\n",
    "    )(ingredients_tokenized)\n",
    ")\n",
    "ingredients_filtered[:4]"
   ]
  },
  {
   "cell_type": "markdown",
   "id": "51d931a6-a5ef-4c65-8199-4e3078fd7bfb",
   "metadata": {},
   "source": [
    "### Лемматизация"
   ]
  },
  {
   "cell_type": "code",
   "execution_count": 14,
   "id": "82a9cb15-8b4d-43aa-b6eb-f58043fd8be9",
   "metadata": {},
   "outputs": [
    {
     "data": {
      "text/plain": [
       "[[('банан',),\n",
       "  ('лимонный', 'сок'),\n",
       "  ('молотый', 'корица'),\n",
       "  ('ванильный', 'мороженое')],\n",
       " [('сахар',),\n",
       "  ('кокосовый', 'молоко'),\n",
       "  ('корень', 'имбирь'),\n",
       "  ('ананас',),\n",
       "  ('сок', 'лайм')],\n",
       " [('клубника',),\n",
       "  ('манго',),\n",
       "  ('сахар',),\n",
       "  ('тёртый', 'цедра', 'лайм'),\n",
       "  ('текила',),\n",
       "  ('сок', 'лайм'),\n",
       "  ('апельсиновый', 'ликёр')],\n",
       " [('манго',),\n",
       "  ('тёмный', 'ром'),\n",
       "  ('сок', 'лайм'),\n",
       "  ('сахар',),\n",
       "  ('тёртый', 'цедра', 'лайм'),\n",
       "  ('ананас',)]]"
      ]
     },
     "execution_count": 14,
     "metadata": {},
     "output_type": "execute_result"
    }
   ],
   "source": [
    "ingredients_lemmatized = lens.Each().Each().Each().modify(lemmatize)(ingredients_filtered)\n",
    "ingredients_lemmatized[:4]"
   ]
  },
  {
   "cell_type": "code",
   "execution_count": 15,
   "id": "2526af97",
   "metadata": {},
   "outputs": [
    {
     "data": {
      "text/plain": [
       "['абрикосовый',\n",
       " 'ананас',\n",
       " 'апельсиновый',\n",
       " 'банан',\n",
       " 'белок',\n",
       " 'брынза',\n",
       " 'ванилин',\n",
       " 'ваниль',\n",
       " 'ванильный',\n",
       " 'вишня']"
      ]
     },
     "execution_count": 15,
     "metadata": {},
     "output_type": "execute_result"
    }
   ],
   "source": [
    "all_words_lemmatized = Counter(lens.Each().Each().Each().collect()(ingredients_lemmatized))\n",
    "\n",
    "all_words_lemmatized_list = list(all_words_lemmatized)\n",
    "all_words_lemmatized_list.sort()\n",
    "all_words_lemmatized_list[:10]\n",
    "# dict(all_words.items())"
   ]
  },
  {
   "cell_type": "code",
   "execution_count": 16,
   "id": "fe4e3e2e",
   "metadata": {},
   "outputs": [
    {
     "data": {
      "text/plain": [
       "'cc.ru.300.bin'"
      ]
     },
     "execution_count": 16,
     "metadata": {},
     "output_type": "execute_result"
    }
   ],
   "source": [
    "#ОЧЕНЬ ДОЛГО\n",
    "fasttext.util.download_model('ru', if_exists='ignore')"
   ]
  },
  {
   "cell_type": "code",
   "execution_count": 17,
   "id": "a8d4327f",
   "metadata": {},
   "outputs": [
    {
     "data": {
      "text/plain": [
       "300"
      ]
     },
     "execution_count": 17,
     "metadata": {},
     "output_type": "execute_result"
    }
   ],
   "source": [
    "ft = fasttext.load_model('cc.ru.300.bin')\n",
    "dim = ft.get_dimension()\n",
    "dim"
   ]
  },
  {
   "cell_type": "markdown",
   "id": "6bc90973",
   "metadata": {},
   "source": [
    "### Получаем векторы для слов "
   ]
  },
  {
   "cell_type": "code",
   "execution_count": 18,
   "id": "1f490b04",
   "metadata": {},
   "outputs": [],
   "source": [
    "word_embeddings_dict = {}\n",
    "for word in all_words_lemmatized:\n",
    "    word_embeddings_dict[word] = ft.get_word_vector(word)"
   ]
  },
  {
   "cell_type": "code",
   "execution_count": 19,
   "id": "67199b34-d757-4216-b887-18d9a1da0fef",
   "metadata": {
    "scrolled": true
   },
   "outputs": [
    {
     "data": {
      "text/plain": [
       "('банан',\n",
       " array([ 1.94887385e-01, -6.60526380e-02,  7.88492113e-02,  9.03176740e-02,\n",
       "         8.94880146e-02, -1.48379147e-01,  2.24311762e-02, -4.75879619e-03,\n",
       "         1.16267549e-02,  2.68354528e-02, -3.72944064e-02,  1.64822105e-03,\n",
       "         5.10738790e-02,  1.01585977e-01,  6.48163483e-02, -1.15610115e-01,\n",
       "        -3.05616856e-03,  3.19645479e-02, -6.46575615e-02, -6.13481402e-02,\n",
       "        -3.28286402e-02,  7.68222064e-02,  2.55825445e-02,  7.40136206e-03,\n",
       "         7.12529644e-02,  2.17049755e-02,  4.97756004e-02, -8.80596880e-03,\n",
       "        -4.95500583e-03,  5.70715070e-02, -9.71776620e-02,  7.35110492e-02,\n",
       "         2.72706505e-02,  3.32054943e-02, -4.71901185e-05, -1.14237860e-01,\n",
       "        -2.79167667e-04, -9.27831605e-02, -6.35195374e-02, -5.84830642e-02,\n",
       "         1.06558718e-01, -4.90855798e-03,  7.06979185e-02, -1.20925326e-02,\n",
       "         6.83131441e-02,  5.63351624e-02, -1.07557401e-02,  7.19010383e-02,\n",
       "         9.81174409e-02,  8.48399326e-02,  3.53266597e-02,  5.46764955e-02,\n",
       "        -8.05987641e-02,  6.47882000e-03, -5.90900518e-02,  8.69588107e-02,\n",
       "         6.97326586e-02, -9.01075900e-02, -2.13131979e-02, -3.42012942e-02,\n",
       "        -1.60827376e-02, -3.15402225e-02,  4.70691100e-02, -1.40543412e-02,\n",
       "         9.46760848e-02,  6.67571602e-03, -2.42960081e-02,  1.28133059e-01,\n",
       "        -4.28922698e-02, -1.55349309e-02, -7.92914852e-02, -2.67527252e-02,\n",
       "         1.12961605e-02, -4.11566384e-02, -1.88459679e-02,  1.58790872e-01,\n",
       "        -1.06955834e-01, -4.75773923e-02, -7.98961446e-02,  1.51026808e-02,\n",
       "        -3.50350887e-02,  4.25367914e-02, -3.56615335e-03, -5.33599444e-02,\n",
       "        -6.02363199e-02,  7.62802884e-02, -6.41511977e-02, -6.70213019e-03,\n",
       "        -5.72584756e-03, -4.10913080e-02,  2.03733873e-02, -1.15417168e-01,\n",
       "         4.33197338e-03,  3.37197557e-02, -6.77811503e-02,  5.37031367e-02,\n",
       "         5.70520349e-02, -6.44367263e-02, -1.88969262e-02,  2.55674347e-02,\n",
       "        -1.12809226e-01,  8.24382529e-02,  9.66500938e-02, -2.19827872e-02,\n",
       "         7.76296668e-03,  5.65948598e-02, -4.47309501e-02, -2.66321339e-02,\n",
       "        -9.35779810e-02,  3.91556695e-03, -5.89806214e-03,  2.33171154e-02,\n",
       "        -7.08511844e-03,  7.62888342e-02,  3.55559960e-02,  4.77253720e-02,\n",
       "         1.34874374e-01, -1.08927950e-01, -1.22243986e-01,  6.46124035e-02,\n",
       "         6.87061297e-03, -1.22763678e-01,  4.53395769e-02, -1.28313690e-01,\n",
       "        -6.09587394e-02,  1.75522827e-02, -1.05560690e-01, -6.23227730e-02,\n",
       "         6.78576976e-02,  5.59215695e-02,  6.45525008e-02, -2.17552856e-02,\n",
       "        -1.16645105e-01, -2.43000910e-02, -5.17416298e-02,  6.70885593e-02,\n",
       "         9.44201276e-02,  4.71730717e-04,  7.91822374e-02,  1.14815153e-01,\n",
       "         1.07147083e-01,  6.80262521e-02,  7.84112513e-02,  1.38911009e-02,\n",
       "        -3.81978974e-02,  3.45805734e-02,  8.24577212e-02,  6.37568682e-02,\n",
       "        -2.73942016e-03,  8.90125930e-02,  2.66155880e-02,  1.07332133e-03,\n",
       "        -1.40022829e-01, -1.01861358e-01, -5.92539981e-02,  1.62975684e-01,\n",
       "         2.93122064e-02,  2.35287510e-02,  1.28477916e-01,  3.33920196e-02,\n",
       "         7.66370445e-02,  2.26269141e-02, -1.55494362e-01,  1.13481283e-03,\n",
       "        -1.42416656e-02,  1.65515784e-02, -4.45721671e-04,  4.28089797e-02,\n",
       "        -3.32801342e-02, -4.12124842e-02,  6.14615716e-03, -9.39436629e-03,\n",
       "         8.19559267e-04, -3.74066606e-02, -4.97808754e-02, -1.03249140e-01,\n",
       "        -8.86319205e-02, -2.90556625e-02,  5.36130406e-02, -5.57892881e-02,\n",
       "        -6.75235614e-02,  5.91254607e-03, -5.14603928e-02, -7.89601356e-02,\n",
       "         3.19411382e-02, -9.17018056e-02, -5.22156954e-02, -3.23716328e-02,\n",
       "        -9.87342373e-03,  3.62650566e-02,  3.55476439e-02, -1.24743432e-01,\n",
       "        -1.17012538e-01, -1.14418492e-02, -2.67573893e-02,  1.74278542e-02,\n",
       "         2.70491615e-02, -3.06422217e-03,  4.78167459e-02, -1.82095766e-02,\n",
       "        -4.37152497e-02,  1.14484198e-01, -2.49190852e-02, -3.39401364e-02,\n",
       "         7.24771470e-02, -2.88245454e-02, -7.21293688e-02,  5.88414147e-02,\n",
       "        -4.42490801e-02, -8.41934979e-02,  6.99497387e-02,  8.00091028e-02,\n",
       "        -2.34607104e-02, -3.83637324e-02,  3.44832577e-02,  1.17123080e-02,\n",
       "         6.63608313e-03, -6.88075088e-03, -1.39976829e-01, -3.46727073e-02,\n",
       "         1.91699062e-02,  9.85700414e-02, -7.79010355e-02,  3.79938111e-02,\n",
       "         1.46389455e-01,  9.90546718e-02, -2.69508678e-02,  4.89535816e-02,\n",
       "         5.13961799e-02, -1.26880765e-01,  2.75415760e-02, -5.29612899e-02,\n",
       "         3.11851539e-02,  3.97773907e-02,  1.50792748e-02, -5.69614507e-02,\n",
       "        -9.17663351e-02,  6.34314641e-02, -1.84998706e-01,  3.11520547e-02,\n",
       "        -3.43257487e-02, -3.43395397e-02, -3.38003300e-02,  7.30993897e-02,\n",
       "         2.32257461e-03, -2.25434266e-02,  5.49139827e-03,  6.53365999e-02,\n",
       "        -3.57924029e-02, -7.02967420e-02,  1.65589936e-02, -3.80514339e-02,\n",
       "        -9.55606848e-02,  3.41360904e-02, -9.21655074e-02,  4.91495207e-02,\n",
       "        -8.75469893e-02,  1.13167182e-01, -8.13458934e-02, -1.06249917e-02,\n",
       "        -8.08204338e-02, -3.07364855e-04, -7.78310671e-02,  4.10130844e-02,\n",
       "        -7.13473558e-02, -7.73615018e-03, -7.15524424e-03, -5.35878614e-02,\n",
       "         2.23687142e-02, -6.48641214e-02,  8.91795456e-02,  2.82905642e-02,\n",
       "         1.47343397e-01, -2.41410770e-02,  1.21197902e-01,  8.04609433e-02,\n",
       "        -5.42704575e-03, -1.93661042e-02, -1.46199502e-02,  8.84274170e-02,\n",
       "        -7.19376877e-02, -4.40864712e-02, -1.55748120e-02,  5.11171948e-03,\n",
       "        -6.67978153e-02, -4.64670956e-02, -6.54735714e-02,  9.61186066e-02,\n",
       "        -3.62226591e-02,  6.72648251e-02,  8.12147409e-02,  1.06662668e-01,\n",
       "        -9.56509821e-03, -3.22419703e-02, -2.40251124e-02,  3.34417038e-02,\n",
       "         6.31893054e-03,  7.70338345e-03, -6.12779781e-02, -3.33771631e-02],\n",
       "       dtype=float32))"
      ]
     },
     "execution_count": 19,
     "metadata": {},
     "output_type": "execute_result"
    }
   ],
   "source": [
    "first(word_embeddings_dict.items())"
   ]
  },
  {
   "cell_type": "code",
   "execution_count": 20,
   "id": "2d7ac829",
   "metadata": {},
   "outputs": [],
   "source": [
    "# word_embeddings_dict"
   ]
  },
  {
   "cell_type": "code",
   "execution_count": 21,
   "id": "066c458e",
   "metadata": {},
   "outputs": [],
   "source": [
    "# word_num = [(word, i) for i, word in enumerate(words)]\n",
    "# word_num[:10]"
   ]
  },
  {
   "cell_type": "markdown",
   "id": "ec42c86c",
   "metadata": {},
   "source": [
    "### Векторы для ингредиентов"
   ]
  },
  {
   "cell_type": "code",
   "execution_count": 22,
   "id": "636af530",
   "metadata": {},
   "outputs": [
    {
     "data": {
      "text/plain": [
       "[(('разрыхлитель',), 0),\n",
       " (('клубника',), 1),\n",
       " (('сухой', 'дрожжи'), 2),\n",
       " (('круглый', 'рис'), 3),\n",
       " (('ванильный', 'мороженое'), 4),\n",
       " (('морской', 'соль'), 5)]"
      ]
     },
     "execution_count": 22,
     "metadata": {},
     "output_type": "execute_result"
    }
   ],
   "source": [
    "all_ingredients_list =  list(set(lens.Each().Each().collect()(ingredients_lemmatized)))\n",
    "ingredients_numbering_dict = {ingredient: i for i, ingredient in enumerate(all_ingredients_list)}\n",
    "ltake(6, ingredients_numbering_dict.items())"
   ]
  },
  {
   "cell_type": "code",
   "execution_count": null,
   "id": "eb985431-5c4e-4b19-b762-cbb6c7a6e768",
   "metadata": {},
   "outputs": [],
   "source": []
  },
  {
   "cell_type": "markdown",
   "id": "bbe1fa5f-77ce-4ab9-9a51-73795258450f",
   "metadata": {},
   "source": [
    "Для получения вектора для ингридиента просто суммируем векторы для каждого слова в этом ингридиенте:"
   ]
  },
  {
   "cell_type": "code",
   "execution_count": 23,
   "id": "3600593c",
   "metadata": {
    "scrolled": true
   },
   "outputs": [
    {
     "data": {
      "text/plain": [
       "(('разрыхлитель',),\n",
       " array([-0.03466174, -0.0089098 , -0.06071892,  0.00904911,  0.10302372,\n",
       "        -0.02708178,  0.03218355,  0.03888156, -0.04080047,  0.0279565 ,\n",
       "        -0.00203549, -0.00266548,  0.00807031,  0.06238224,  0.0780822 ,\n",
       "         0.02355307,  0.01331574,  0.00667974, -0.06974036,  0.00707646,\n",
       "        -0.04315721, -0.00110056,  0.03931941,  0.00255399,  0.00336492,\n",
       "         0.03490471,  0.01952976,  0.07592171, -0.03400692, -0.00388362,\n",
       "         0.01173994, -0.06270731,  0.03965949,  0.05368637, -0.03722581,\n",
       "        -0.03638344,  0.01716772, -0.02391487, -0.02601599,  0.03046599,\n",
       "         0.05755309, -0.02223909,  0.0424936 ,  0.01688632, -0.01107754,\n",
       "         0.0106704 , -0.02260745,  0.01995357,  0.02188062,  0.02394902,\n",
       "         0.0133824 ,  0.00284056,  0.01624051,  0.03735111,  0.01371144,\n",
       "         0.05171811,  0.00368517,  0.00456413, -0.01013218, -0.01691333,\n",
       "        -0.015934  ,  0.00314871,  0.00263943,  0.01844671, -0.04295452,\n",
       "         0.0557931 ,  0.01254001,  0.02771549,  0.04442261, -0.00708655,\n",
       "        -0.01567083, -0.0297944 , -0.06778445,  0.01654559, -0.00946122,\n",
       "         0.04332023,  0.01093094, -0.02730657,  0.04910166, -0.01942863,\n",
       "         0.05003798,  0.02731702, -0.00014052, -0.00781473,  0.02163099,\n",
       "         0.02423506, -0.00339576,  0.01125617, -0.0307307 , -0.03259959,\n",
       "         0.00690682,  0.00406526, -0.00444942,  0.01550654,  0.01429904,\n",
       "        -0.00865893, -0.03501018,  0.00268841,  0.01336244,  0.02017657,\n",
       "        -0.0245388 ,  0.03143061,  0.00343402,  0.00341219,  0.03574588,\n",
       "        -0.00771505, -0.00712186,  0.0309055 , -0.0304605 ,  0.0384485 ,\n",
       "        -0.01663794,  0.00267707,  0.00364611,  0.06953774, -0.00421441,\n",
       "         0.00295231, -0.07341386,  0.00511067, -0.00563932,  0.01125985,\n",
       "         0.02142685, -0.01671474, -0.01081927,  0.03888635,  0.06020061,\n",
       "        -0.03269579, -0.03375034, -0.00657932,  0.03988494,  0.01529017,\n",
       "        -0.01085755, -0.01340155, -0.02846665,  0.03660522, -0.03672525,\n",
       "        -0.03821258,  0.0337504 , -0.0252888 ,  0.04751384,  0.01139604,\n",
       "         0.07139003,  0.0152158 , -0.00974003, -0.00178247, -0.02829856,\n",
       "         0.00281114,  0.00893189,  0.03459005,  0.00284749,  0.04303981,\n",
       "         0.02373693, -0.06959162, -0.04091706,  0.01365288,  0.02397412,\n",
       "         0.05524551, -0.01757745, -0.05037354,  0.02528465, -0.08047295,\n",
       "         0.00738034,  0.00358442, -0.08431078, -0.01904358, -0.0053773 ,\n",
       "         0.02697558,  0.02654614,  0.02505296, -0.00232761, -0.01881659,\n",
       "        -0.03137304, -0.01429653, -0.01920886, -0.0419861 ,  0.01780724,\n",
       "         0.04848966, -0.00270674, -0.00093958,  0.00548389,  0.01214499,\n",
       "        -0.03599648, -0.01067979, -0.05905702,  0.0029632 ,  0.00440065,\n",
       "        -0.01224735,  0.0018005 , -0.00140916,  0.0480289 , -0.04620217,\n",
       "         0.04088674, -0.00695985, -0.08019585, -0.00327849,  0.01520466,\n",
       "        -0.03825709,  0.02927326,  0.00808693, -0.01005212, -0.00326377,\n",
       "         0.01583093, -0.02216467,  0.01768405, -0.01529415,  0.01867346,\n",
       "         0.0138757 , -0.00713645,  0.01255183,  0.00692101, -0.03157786,\n",
       "        -0.00947273, -0.01393741,  0.01551667,  0.01121342,  0.00396696,\n",
       "        -0.02297799, -0.00904751, -0.00613546, -0.04818277, -0.00871423,\n",
       "        -0.00650484,  0.08464011, -0.0122254 , -0.00288455,  0.04666708,\n",
       "        -0.02734247, -0.00146611,  0.03730917,  0.01869645, -0.04957531,\n",
       "         0.02366007, -0.0056332 ,  0.02412242, -0.06238767,  0.00819361,\n",
       "        -0.05347669, -0.04288371,  0.01872667, -0.04331978,  0.00179073,\n",
       "        -0.02616967, -0.0150183 , -0.01181269, -0.04661444,  0.00085224,\n",
       "        -0.01774299, -0.01675941, -0.00583724, -0.04589131, -0.05965593,\n",
       "         0.01656145,  0.01780985, -0.05650008,  0.03745303, -0.04211403,\n",
       "         0.01839204, -0.03606375,  0.00753205,  0.05510258,  0.0109034 ,\n",
       "         0.0160093 , -0.01958938, -0.02132733,  0.02813067,  0.01227316,\n",
       "        -0.01121068, -0.01420427,  0.00123798,  0.00724253, -0.00574553,\n",
       "         0.02155058, -0.0662604 ,  0.11715137, -0.02006925,  0.04147556,\n",
       "         0.0281095 , -0.04193752, -0.0321886 ,  0.04180417,  0.00980042,\n",
       "        -0.01958778, -0.03274659,  0.01452835, -0.01994739, -0.00782152,\n",
       "        -0.06483253,  0.0033807 ,  0.01332278,  0.02273624,  0.02863676,\n",
       "         0.03118781,  0.06411761,  0.02282692,  0.00397792, -0.01954088,\n",
       "        -0.02091898,  0.02991308, -0.03035568, -0.01317695, -0.02396342]))"
      ]
     },
     "execution_count": 23,
     "metadata": {},
     "output_type": "execute_result"
    }
   ],
   "source": [
    "ingredients_embeddings_dict = {}\n",
    "for ingr in all_ingredients_list:\n",
    "    ingredients_embeddings_dict[ingr] = np.zeros(dim)\n",
    "    for word in ingr:\n",
    "#         ingredients_embeddings_dict[ingr] += ft.get_word_vector(word) \n",
    "        ingredients_embeddings_dict[ingr] += word_embeddings_dict[word] # Должно заработать, когда \n",
    "                                                                         # ингредиенты будут лемматизированны\n",
    "ltake(1, ingredients_embeddings_dict.items())[0]\n"
   ]
  },
  {
   "cell_type": "markdown",
   "id": "93987e23-8a9f-4cbb-b9d1-ffa406859267",
   "metadata": {},
   "source": [
    "Наконец, для каждого рецепта возьмем его векторизацию как сумму векторов его ингридиентов"
   ]
  },
  {
   "cell_type": "code",
   "execution_count": 24,
   "id": "41bc1ab4-75eb-4a2b-bb6c-49065f27580d",
   "metadata": {},
   "outputs": [
    {
     "data": {
      "text/plain": [
       "20"
      ]
     },
     "execution_count": 24,
     "metadata": {},
     "output_type": "execute_result"
    }
   ],
   "source": [
    "ingredients_by_recipe_embedding = [\n",
    "    sum(ingredients_embeddings_dict[ingredient]\n",
    "        for ingredient in ingredient_list) \n",
    "    for ingredient_list in ingredients_lemmatized\n",
    "]\n",
    "len(ingredients_by_recipe_embedding)"
   ]
  },
  {
   "cell_type": "markdown",
   "id": "b4818b87-28b4-4b6f-8036-81be5233bb88",
   "metadata": {},
   "source": [
    "## Данные для нейросети"
   ]
  },
  {
   "cell_type": "markdown",
   "id": "56e15c2e-fa53-4166-881e-8be468bd437d",
   "metadata": {},
   "source": [
    "Всевозможные метки (course):"
   ]
  },
  {
   "cell_type": "code",
   "execution_count": 25,
   "id": "f23112eb-fec9-4205-b25c-d7d57f2afa18",
   "metadata": {},
   "outputs": [
    {
     "data": {
      "text/plain": [
       "{'Выпечка и десерты': 0,\n",
       " 'Завтраки': 1,\n",
       " 'Закуски': 2,\n",
       " 'Напитки': 3,\n",
       " 'Основные блюда': 4,\n",
       " 'Паста и пицца': 5,\n",
       " 'Салаты': 6,\n",
       " 'Соусы и маринады': 7,\n",
       " 'Супы': 8}"
      ]
     },
     "execution_count": 25,
     "metadata": {},
     "output_type": "execute_result"
    }
   ],
   "source": [
    "all_courses = {name: num for num, name in enumerate(df['course'][~df['course'].duplicated()])}\n",
    "all_courses"
   ]
  },
  {
   "cell_type": "code",
   "execution_count": 26,
   "id": "f53ad845-6e9e-41bf-aad6-9ad11c3f22ed",
   "metadata": {
    "scrolled": true
   },
   "outputs": [
    {
     "data": {
      "text/html": [
       "<div>\n",
       "<style scoped>\n",
       "    .dataframe tbody tr th:only-of-type {\n",
       "        vertical-align: middle;\n",
       "    }\n",
       "\n",
       "    .dataframe tbody tr th {\n",
       "        vertical-align: top;\n",
       "    }\n",
       "\n",
       "    .dataframe thead th {\n",
       "        text-align: right;\n",
       "    }\n",
       "</style>\n",
       "<table border=\"1\" class=\"dataframe\">\n",
       "  <thead>\n",
       "    <tr style=\"text-align: right;\">\n",
       "      <th></th>\n",
       "      <th>id</th>\n",
       "      <th>ingredient_embedding</th>\n",
       "      <th>course_mark</th>\n",
       "    </tr>\n",
       "  </thead>\n",
       "  <tbody>\n",
       "    <tr>\n",
       "      <th>0</th>\n",
       "      <td>28195</td>\n",
       "      <td>[0.611611146479845, -0.0743011748418212, -0.09...</td>\n",
       "      <td>0</td>\n",
       "    </tr>\n",
       "    <tr>\n",
       "      <th>1</th>\n",
       "      <td>28141</td>\n",
       "      <td>[0.8909059994039126, -0.11706455610692501, -0....</td>\n",
       "      <td>0</td>\n",
       "    </tr>\n",
       "    <tr>\n",
       "      <th>2</th>\n",
       "      <td>27929</td>\n",
       "      <td>[1.08976399153471, -0.4261779775843024, -0.389...</td>\n",
       "      <td>0</td>\n",
       "    </tr>\n",
       "    <tr>\n",
       "      <th>3</th>\n",
       "      <td>28192</td>\n",
       "      <td>[1.1749160811305046, -0.5175759345293045, -0.3...</td>\n",
       "      <td>0</td>\n",
       "    </tr>\n",
       "    <tr>\n",
       "      <th>4</th>\n",
       "      <td>28463</td>\n",
       "      <td>[0.6190221486613154, -0.14342674519866705, -0....</td>\n",
       "      <td>0</td>\n",
       "    </tr>\n",
       "    <tr>\n",
       "      <th>5</th>\n",
       "      <td>37902</td>\n",
       "      <td>[0.5526944873854518, 0.37551341066136956, -0.2...</td>\n",
       "      <td>0</td>\n",
       "    </tr>\n",
       "    <tr>\n",
       "      <th>6</th>\n",
       "      <td>18536</td>\n",
       "      <td>[0.554089829325676, 0.639475641772151, -0.5342...</td>\n",
       "      <td>0</td>\n",
       "    </tr>\n",
       "    <tr>\n",
       "      <th>7</th>\n",
       "      <td>35253</td>\n",
       "      <td>[0.7957627102732658, 0.561975886579603, -0.673...</td>\n",
       "      <td>0</td>\n",
       "    </tr>\n",
       "    <tr>\n",
       "      <th>8</th>\n",
       "      <td>47082</td>\n",
       "      <td>[0.4236516177188605, 0.25815030839294195, -0.1...</td>\n",
       "      <td>0</td>\n",
       "    </tr>\n",
       "    <tr>\n",
       "      <th>9</th>\n",
       "      <td>35173</td>\n",
       "      <td>[0.5946541959419847, 0.9411030139308423, -0.54...</td>\n",
       "      <td>0</td>\n",
       "    </tr>\n",
       "    <tr>\n",
       "      <th>10</th>\n",
       "      <td>36216</td>\n",
       "      <td>[0.4034659219905734, 0.552670138888061, -0.443...</td>\n",
       "      <td>0</td>\n",
       "    </tr>\n",
       "    <tr>\n",
       "      <th>11</th>\n",
       "      <td>48272</td>\n",
       "      <td>[0.7988654682412744, 0.14578376803547144, -0.3...</td>\n",
       "      <td>0</td>\n",
       "    </tr>\n",
       "    <tr>\n",
       "      <th>12</th>\n",
       "      <td>44927</td>\n",
       "      <td>[0.7816735915839672, 0.24952444806694984, -0.5...</td>\n",
       "      <td>0</td>\n",
       "    </tr>\n",
       "    <tr>\n",
       "      <th>13</th>\n",
       "      <td>32724</td>\n",
       "      <td>[0.46589385997503996, 0.40861988440155983, -0....</td>\n",
       "      <td>0</td>\n",
       "    </tr>\n",
       "    <tr>\n",
       "      <th>14</th>\n",
       "      <td>15574</td>\n",
       "      <td>[0.4902564361691475, 0.3724856358021498, -0.53...</td>\n",
       "      <td>0</td>\n",
       "    </tr>\n",
       "    <tr>\n",
       "      <th>15</th>\n",
       "      <td>32016</td>\n",
       "      <td>[0.6245275801047683, 0.5851470436900854, -0.27...</td>\n",
       "      <td>0</td>\n",
       "    </tr>\n",
       "    <tr>\n",
       "      <th>16</th>\n",
       "      <td>19306</td>\n",
       "      <td>[0.8068208655458875, 0.6904065646231174, -0.33...</td>\n",
       "      <td>0</td>\n",
       "    </tr>\n",
       "    <tr>\n",
       "      <th>17</th>\n",
       "      <td>32276</td>\n",
       "      <td>[0.439612009562552, 0.3825846202671528, -0.428...</td>\n",
       "      <td>0</td>\n",
       "    </tr>\n",
       "    <tr>\n",
       "      <th>18</th>\n",
       "      <td>26282</td>\n",
       "      <td>[0.8141290862113237, 0.32815429754555225, -0.7...</td>\n",
       "      <td>0</td>\n",
       "    </tr>\n",
       "    <tr>\n",
       "      <th>19</th>\n",
       "      <td>40373</td>\n",
       "      <td>[0.8419216312468052, 0.9702880140393972, -0.84...</td>\n",
       "      <td>0</td>\n",
       "    </tr>\n",
       "  </tbody>\n",
       "</table>\n",
       "</div>"
      ],
      "text/plain": [
       "       id                               ingredient_embedding  course_mark\n",
       "0   28195  [0.611611146479845, -0.0743011748418212, -0.09...            0\n",
       "1   28141  [0.8909059994039126, -0.11706455610692501, -0....            0\n",
       "2   27929  [1.08976399153471, -0.4261779775843024, -0.389...            0\n",
       "3   28192  [1.1749160811305046, -0.5175759345293045, -0.3...            0\n",
       "4   28463  [0.6190221486613154, -0.14342674519866705, -0....            0\n",
       "5   37902  [0.5526944873854518, 0.37551341066136956, -0.2...            0\n",
       "6   18536  [0.554089829325676, 0.639475641772151, -0.5342...            0\n",
       "7   35253  [0.7957627102732658, 0.561975886579603, -0.673...            0\n",
       "8   47082  [0.4236516177188605, 0.25815030839294195, -0.1...            0\n",
       "9   35173  [0.5946541959419847, 0.9411030139308423, -0.54...            0\n",
       "10  36216  [0.4034659219905734, 0.552670138888061, -0.443...            0\n",
       "11  48272  [0.7988654682412744, 0.14578376803547144, -0.3...            0\n",
       "12  44927  [0.7816735915839672, 0.24952444806694984, -0.5...            0\n",
       "13  32724  [0.46589385997503996, 0.40861988440155983, -0....            0\n",
       "14  15574  [0.4902564361691475, 0.3724856358021498, -0.53...            0\n",
       "15  32016  [0.6245275801047683, 0.5851470436900854, -0.27...            0\n",
       "16  19306  [0.8068208655458875, 0.6904065646231174, -0.33...            0\n",
       "17  32276  [0.439612009562552, 0.3825846202671528, -0.428...            0\n",
       "18  26282  [0.8141290862113237, 0.32815429754555225, -0.7...            0\n",
       "19  40373  [0.8419216312468052, 0.9702880140393972, -0.84...            0"
      ]
     },
     "execution_count": 26,
     "metadata": {},
     "output_type": "execute_result"
    }
   ],
   "source": [
    "df_for_learning = pd.DataFrame(data={\n",
    "    'id': df['id'][:20],\n",
    "    'ingredient_embedding': ingredients_by_recipe_embedding,\n",
    "    'course_mark': [all_courses[course] for course in df['course']][:20]\n",
    "})\n",
    "df_for_learning"
   ]
  },
  {
   "cell_type": "code",
   "execution_count": 27,
   "id": "c1935ce5-3410-4152-ab7f-a2aa989f9ae0",
   "metadata": {
    "scrolled": true
   },
   "outputs": [],
   "source": [
    "# tf.keras.preprocessing.text.one_hot(all_courses, len(all_courses))"
   ]
  },
  {
   "cell_type": "markdown",
   "id": "a029a738",
   "metadata": {},
   "source": [
    "## Подготовка BoE"
   ]
  },
  {
   "cell_type": "code",
   "execution_count": 28,
   "id": "fc1d3791",
   "metadata": {},
   "outputs": [],
   "source": [
    "data = np.array(ingredients_by_recipe_embedding)\n",
    "labels = to_categorical(np.array(df_for_learning['course_mark']), num_classes=len(all_courses))\n",
    "\n",
    "indices = np.arange(data.shape[0])\n",
    "np.random.shuffle(indices)\n",
    "data = data[indices]\n",
    "labels = labels[indices]\n",
    "\n",
    "VALIDATION_SPLIT = 0.2\n",
    "nb_validation_samples = int(VALIDATION_SPLIT * data.shape[0])\n",
    "\n",
    "x_train = data[:-nb_validation_samples]\n",
    "y_train = labels[:-nb_validation_samples]\n",
    "x_val = data[-nb_validation_samples:]\n",
    "y_val = labels[-nb_validation_samples:]"
   ]
  },
  {
   "cell_type": "markdown",
   "id": "f354bb8e",
   "metadata": {},
   "source": [
    "## Обучение BoE"
   ]
  },
  {
   "cell_type": "code",
   "execution_count": 29,
   "id": "0b0c7945",
   "metadata": {},
   "outputs": [
    {
     "name": "stdout",
     "output_type": "stream",
     "text": [
      "Epoch 1/2\n",
      "1/1 [==============================] - 3s 3s/step - loss: 2.4124 - acc: 0.0000e+00 - val_loss: 2.0551 - val_acc: 0.2500\n",
      "Epoch 2/2\n",
      "1/1 [==============================] - 0s 42ms/step - loss: 1.8922 - acc: 0.6250 - val_loss: 1.8866 - val_acc: 0.7500\n"
     ]
    },
    {
     "data": {
      "text/plain": [
       "<keras.callbacks.History at 0x20288531190>"
      ]
     },
     "execution_count": 29,
     "metadata": {},
     "output_type": "execute_result"
    }
   ],
   "source": [
    "sequence_input = layers.Input(shape=(dim,), dtype='int32')\n",
    "x = layers.Dense(128, activation='relu')(sequence_input)\n",
    "x = layers.Dense(32, activation='relu')(x)\n",
    "preds = layers.Dense(len(all_courses), activation='softmax')(x)\n",
    "\n",
    "model = keras.Model(sequence_input, preds)\n",
    "model.compile(loss='categorical_crossentropy',\n",
    "              optimizer='rmsprop',\n",
    "              metrics=['acc'])\n",
    "\n",
    "# happy learning!\n",
    "model.fit(x_train, y_train, validation_data=(x_val, y_val),\n",
    "          epochs=2, batch_size=128)"
   ]
  },
  {
   "cell_type": "markdown",
   "id": "9f79865f",
   "metadata": {},
   "source": [
    "## Подготовка к CNN"
   ]
  },
  {
   "cell_type": "code",
   "execution_count": 35,
   "id": "90d8d4d2",
   "metadata": {},
   "outputs": [],
   "source": [
    "data = lens.Each().Each().modify(lambda x: ingredients_numbering_dict[x])(ingredients_lemmatized)"
   ]
  },
  {
   "cell_type": "code",
   "execution_count": 31,
   "id": "b0b8717d",
   "metadata": {},
   "outputs": [],
   "source": [
    "\n",
    "data = pad_sequences(padding='post', value=len())\n",
    "labels = to_categorical(np.array(df_for_learning['course_mark']), num_classes=len(all_courses))\n"
   ]
  },
  {
   "cell_type": "code",
   "execution_count": 32,
   "id": "9949a929",
   "metadata": {},
   "outputs": [],
   "source": [
    "#Эта матрица будет использоваться для слоя Embedding в keras\n",
    "ingredients_embeddings_matrix = np.zeros((len(all_ingredients_list), dim))\n",
    "ingredients_embeddings_matrix.shape\n",
    "for ingr in all_ingredients_list:\n",
    "    ingredients_embeddings_matrix[ingredients_numbering_dict[ingr]] = ingredients_embeddings_dict[ingr]\n",
    "# ingredients_embeddings_matrix[0]"
   ]
  },
  {
   "cell_type": "markdown",
   "id": "c35e2f04-8ee4-4aec-a28e-cb12b4f6ccfe",
   "metadata": {},
   "source": [
    "## Прочее:"
   ]
  },
  {
   "cell_type": "code",
   "execution_count": 33,
   "id": "87ef55b7-a142-4fe0-884d-00f672da020e",
   "metadata": {},
   "outputs": [
    {
     "data": {
      "text/html": [
       "<div>\n",
       "<style scoped>\n",
       "    .dataframe tbody tr th:only-of-type {\n",
       "        vertical-align: middle;\n",
       "    }\n",
       "\n",
       "    .dataframe tbody tr th {\n",
       "        vertical-align: top;\n",
       "    }\n",
       "\n",
       "    .dataframe thead th {\n",
       "        text-align: right;\n",
       "    }\n",
       "</style>\n",
       "<table border=\"1\" class=\"dataframe\">\n",
       "  <thead>\n",
       "    <tr style=\"text-align: right;\">\n",
       "      <th></th>\n",
       "      <th>id</th>\n",
       "      <th>title</th>\n",
       "      <th>course</th>\n",
       "      <th>ingredients</th>\n",
       "    </tr>\n",
       "    <tr>\n",
       "      <th>cuisine</th>\n",
       "      <th></th>\n",
       "      <th></th>\n",
       "      <th></th>\n",
       "      <th></th>\n",
       "    </tr>\n",
       "  </thead>\n",
       "  <tbody>\n",
       "    <tr>\n",
       "      <th>Европейская кухня</th>\n",
       "      <td>11699</td>\n",
       "      <td>11699</td>\n",
       "      <td>11699</td>\n",
       "      <td>11699</td>\n",
       "    </tr>\n",
       "    <tr>\n",
       "      <th>Русская кухня</th>\n",
       "      <td>7111</td>\n",
       "      <td>7111</td>\n",
       "      <td>7111</td>\n",
       "      <td>7111</td>\n",
       "    </tr>\n",
       "    <tr>\n",
       "      <th>Итальянская кухня</th>\n",
       "      <td>4943</td>\n",
       "      <td>4943</td>\n",
       "      <td>4943</td>\n",
       "      <td>4943</td>\n",
       "    </tr>\n",
       "    <tr>\n",
       "      <th>Французская кухня</th>\n",
       "      <td>3055</td>\n",
       "      <td>3055</td>\n",
       "      <td>3055</td>\n",
       "      <td>3055</td>\n",
       "    </tr>\n",
       "    <tr>\n",
       "      <th>Американская кухня</th>\n",
       "      <td>2192</td>\n",
       "      <td>2192</td>\n",
       "      <td>2192</td>\n",
       "      <td>2192</td>\n",
       "    </tr>\n",
       "    <tr>\n",
       "      <th>Авторская кухня</th>\n",
       "      <td>1822</td>\n",
       "      <td>1822</td>\n",
       "      <td>1822</td>\n",
       "      <td>1822</td>\n",
       "    </tr>\n",
       "    <tr>\n",
       "      <th>Китайская кухня</th>\n",
       "      <td>840</td>\n",
       "      <td>840</td>\n",
       "      <td>840</td>\n",
       "      <td>840</td>\n",
       "    </tr>\n",
       "    <tr>\n",
       "      <th>Греческая кухня</th>\n",
       "      <td>640</td>\n",
       "      <td>640</td>\n",
       "      <td>640</td>\n",
       "      <td>640</td>\n",
       "    </tr>\n",
       "    <tr>\n",
       "      <th>Мексиканская кухня</th>\n",
       "      <td>583</td>\n",
       "      <td>583</td>\n",
       "      <td>583</td>\n",
       "      <td>583</td>\n",
       "    </tr>\n",
       "    <tr>\n",
       "      <th>Японская кухня</th>\n",
       "      <td>569</td>\n",
       "      <td>569</td>\n",
       "      <td>569</td>\n",
       "      <td>569</td>\n",
       "    </tr>\n",
       "    <tr>\n",
       "      <th>Испанская кухня</th>\n",
       "      <td>560</td>\n",
       "      <td>560</td>\n",
       "      <td>560</td>\n",
       "      <td>560</td>\n",
       "    </tr>\n",
       "    <tr>\n",
       "      <th>Грузинская кухня</th>\n",
       "      <td>532</td>\n",
       "      <td>532</td>\n",
       "      <td>532</td>\n",
       "      <td>532</td>\n",
       "    </tr>\n",
       "    <tr>\n",
       "      <th>Паназиатская кухня</th>\n",
       "      <td>517</td>\n",
       "      <td>517</td>\n",
       "      <td>517</td>\n",
       "      <td>517</td>\n",
       "    </tr>\n",
       "    <tr>\n",
       "      <th>Британская кухня</th>\n",
       "      <td>503</td>\n",
       "      <td>503</td>\n",
       "      <td>503</td>\n",
       "      <td>503</td>\n",
       "    </tr>\n",
       "    <tr>\n",
       "      <th>Средиземноморская кухня</th>\n",
       "      <td>484</td>\n",
       "      <td>484</td>\n",
       "      <td>484</td>\n",
       "      <td>484</td>\n",
       "    </tr>\n",
       "    <tr>\n",
       "      <th>Индийская кухня</th>\n",
       "      <td>416</td>\n",
       "      <td>416</td>\n",
       "      <td>416</td>\n",
       "      <td>416</td>\n",
       "    </tr>\n",
       "    <tr>\n",
       "      <th>Немецкая кухня</th>\n",
       "      <td>320</td>\n",
       "      <td>320</td>\n",
       "      <td>320</td>\n",
       "      <td>320</td>\n",
       "    </tr>\n",
       "    <tr>\n",
       "      <th>Тайская кухня</th>\n",
       "      <td>307</td>\n",
       "      <td>307</td>\n",
       "      <td>307</td>\n",
       "      <td>307</td>\n",
       "    </tr>\n",
       "    <tr>\n",
       "      <th>Украинская кухня</th>\n",
       "      <td>305</td>\n",
       "      <td>305</td>\n",
       "      <td>305</td>\n",
       "      <td>305</td>\n",
       "    </tr>\n",
       "    <tr>\n",
       "      <th>Арабская кухня</th>\n",
       "      <td>260</td>\n",
       "      <td>260</td>\n",
       "      <td>260</td>\n",
       "      <td>260</td>\n",
       "    </tr>\n",
       "    <tr>\n",
       "      <th>Еврейская кухня</th>\n",
       "      <td>255</td>\n",
       "      <td>255</td>\n",
       "      <td>255</td>\n",
       "      <td>255</td>\n",
       "    </tr>\n",
       "    <tr>\n",
       "      <th>Турецкая кухня</th>\n",
       "      <td>239</td>\n",
       "      <td>239</td>\n",
       "      <td>239</td>\n",
       "      <td>239</td>\n",
       "    </tr>\n",
       "    <tr>\n",
       "      <th>Армянская кухня</th>\n",
       "      <td>210</td>\n",
       "      <td>210</td>\n",
       "      <td>210</td>\n",
       "      <td>210</td>\n",
       "    </tr>\n",
       "    <tr>\n",
       "      <th>Югославская кухня</th>\n",
       "      <td>173</td>\n",
       "      <td>173</td>\n",
       "      <td>173</td>\n",
       "      <td>173</td>\n",
       "    </tr>\n",
       "    <tr>\n",
       "      <th>Австрийская кухня</th>\n",
       "      <td>170</td>\n",
       "      <td>170</td>\n",
       "      <td>170</td>\n",
       "      <td>170</td>\n",
       "    </tr>\n",
       "    <tr>\n",
       "      <th>Узбекская кухня</th>\n",
       "      <td>153</td>\n",
       "      <td>153</td>\n",
       "      <td>153</td>\n",
       "      <td>153</td>\n",
       "    </tr>\n",
       "    <tr>\n",
       "      <th>Болгарская кухня</th>\n",
       "      <td>151</td>\n",
       "      <td>151</td>\n",
       "      <td>151</td>\n",
       "      <td>151</td>\n",
       "    </tr>\n",
       "    <tr>\n",
       "      <th>Корейская кухня</th>\n",
       "      <td>136</td>\n",
       "      <td>136</td>\n",
       "      <td>136</td>\n",
       "      <td>136</td>\n",
       "    </tr>\n",
       "    <tr>\n",
       "      <th>Азербайджанская кухня</th>\n",
       "      <td>128</td>\n",
       "      <td>128</td>\n",
       "      <td>128</td>\n",
       "      <td>128</td>\n",
       "    </tr>\n",
       "    <tr>\n",
       "      <th>Марокканская кухня</th>\n",
       "      <td>118</td>\n",
       "      <td>118</td>\n",
       "      <td>118</td>\n",
       "      <td>118</td>\n",
       "    </tr>\n",
       "  </tbody>\n",
       "</table>\n",
       "</div>"
      ],
      "text/plain": [
       "                            id  title  course  ingredients\n",
       "cuisine                                                   \n",
       "Европейская кухня        11699  11699   11699        11699\n",
       "Русская кухня             7111   7111    7111         7111\n",
       "Итальянская кухня         4943   4943    4943         4943\n",
       "Французская кухня         3055   3055    3055         3055\n",
       "Американская кухня        2192   2192    2192         2192\n",
       "Авторская кухня           1822   1822    1822         1822\n",
       "Китайская кухня            840    840     840          840\n",
       "Греческая кухня            640    640     640          640\n",
       "Мексиканская кухня         583    583     583          583\n",
       "Японская кухня             569    569     569          569\n",
       "Испанская кухня            560    560     560          560\n",
       "Грузинская кухня           532    532     532          532\n",
       "Паназиатская кухня         517    517     517          517\n",
       "Британская кухня           503    503     503          503\n",
       "Средиземноморская кухня    484    484     484          484\n",
       "Индийская кухня            416    416     416          416\n",
       "Немецкая кухня             320    320     320          320\n",
       "Тайская кухня              307    307     307          307\n",
       "Украинская кухня           305    305     305          305\n",
       "Арабская кухня             260    260     260          260\n",
       "Еврейская кухня            255    255     255          255\n",
       "Турецкая кухня             239    239     239          239\n",
       "Армянская кухня            210    210     210          210\n",
       "Югославская кухня          173    173     173          173\n",
       "Австрийская кухня          170    170     170          170\n",
       "Узбекская кухня            153    153     153          153\n",
       "Болгарская кухня           151    151     151          151\n",
       "Корейская кухня            136    136     136          136\n",
       "Азербайджанская кухня      128    128     128          128\n",
       "Марокканская кухня         118    118     118          118"
      ]
     },
     "execution_count": 33,
     "metadata": {},
     "output_type": "execute_result"
    }
   ],
   "source": [
    "it = df.groupby('cuisine').count()\n",
    "it.sort_values('title', ascending=False).head(30)"
   ]
  },
  {
   "cell_type": "code",
   "execution_count": 34,
   "id": "8891bcd1-671e-4efa-99d9-fc983bb3c670",
   "metadata": {},
   "outputs": [
    {
     "data": {
      "text/plain": [
       "0.5043752"
      ]
     },
     "execution_count": 34,
     "metadata": {},
     "output_type": "execute_result"
    }
   ],
   "source": [
    "a = ft.get_word_vector('кокосовый')-ft.get_word_vector('кокосовое')+ft.get_word_vector('кремовое')-ft.get_word_vector('кремовый')\n",
    "a@a"
   ]
  },
  {
   "cell_type": "code",
   "execution_count": null,
   "id": "69997cf5",
   "metadata": {},
   "outputs": [],
   "source": []
  }
 ],
 "metadata": {
  "kernelspec": {
   "display_name": "Python 3 (ipykernel)",
   "language": "python",
   "name": "python3"
  },
  "language_info": {
   "codemirror_mode": {
    "name": "ipython",
    "version": 3
   },
   "file_extension": ".py",
   "mimetype": "text/x-python",
   "name": "python",
   "nbconvert_exporter": "python",
   "pygments_lexer": "ipython3",
   "version": "3.9.13"
  }
 },
 "nbformat": 4,
 "nbformat_minor": 5
}
