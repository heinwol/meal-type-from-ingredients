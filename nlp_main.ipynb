{
 "cells": [
  {
   "cell_type": "code",
   "execution_count": 56,
   "id": "efee2b7a-0175-491d-9783-5612e42506b0",
   "metadata": {},
   "outputs": [],
   "source": [
    "from toolz import *\n",
    "import numpy as np\n",
    "import matplotlib.pyplot as plt\n",
    "import pandas as pd\n",
    "import plotly.graph_objects as go\n",
    "# %matplotlib widget\n",
    "\n",
    "\n",
    "import pathlib\n",
    "from lenses import lens\n",
    "\n",
    "from collections import Counter\n",
    "\n",
    "import re\n",
    "import nltk\n",
    "import pymorphy2\n",
    "import fasttext.util\n",
    "\n",
    "import tensorflow as tf\n",
    "from tensorflow import keras\n",
    "from tensorflow.keras import layers\n",
    "from tensorflow.keras.utils import to_categorical\n",
    "from tensorflow.keras.preprocessing.sequence import pad_sequences\n",
    "import matplotlib.pyplot as plt\n",
    "\n",
    "import pickle"
   ]
  },
  {
   "cell_type": "markdown",
   "id": "203f93d3-d225-4eab-9ddc-3c5dda5fb525",
   "metadata": {},
   "source": [
    "### Все нужные данные переводим в pickle"
   ]
  },
  {
   "cell_type": "code",
   "execution_count": null,
   "id": "782e5b71-8183-43de-b3db-6dfe4f414055",
   "metadata": {},
   "outputs": [],
   "source": [
    "dict_to_pickle = {\n",
    "    'df_for_learning': df_for_learning,\n",
    "    'all_courses': all_courses,\n",
    "    'inverse_cuisines_groups': inverse_cuisines_groups\n",
    "}"
   ]
  },
  {
   "cell_type": "markdown",
   "id": "a029a738",
   "metadata": {},
   "source": [
    "## Подготовка BoE"
   ]
  },
  {
   "cell_type": "code",
   "execution_count": 159,
   "id": "fc1d3791",
   "metadata": {},
   "outputs": [],
   "source": [
    "data = np.array(df_for_learning['ingredient_embedding'])\n",
    "labels = to_categorical(np.array(df_for_learning['course_mark']), num_classes=len(all_courses))\n",
    "\n",
    "indices = np.arange(data.shape[0])\n",
    "np.random.shuffle(indices)\n",
    "data = data[indices]\n",
    "labels = labels[indices]\n",
    "\n",
    "VALIDATION_SPLIT = 0.2\n",
    "nb_validation_samples = int(VALIDATION_SPLIT * data.shape[0])\n",
    "\n",
    "x_train = data[:-nb_validation_samples]\n",
    "y_train = labels[:-nb_validation_samples]\n",
    "x_val = data[-nb_validation_samples:]\n",
    "y_val = labels[-nb_validation_samples:]"
   ]
  },
  {
   "cell_type": "markdown",
   "id": "f354bb8e",
   "metadata": {},
   "source": [
    "## Обучение BoE"
   ]
  },
  {
   "cell_type": "code",
   "execution_count": 160,
   "id": "0b0c7945",
   "metadata": {},
   "outputs": [],
   "source": [
    "sequence_input = layers.Input(shape=(dim,), dtype='int32')\n",
    "x = layers.Dense(64, activation='relu')(sequence_input)\n",
    "x = layers.Dense(16, activation='relu')(x)\n",
    "preds = layers.Dense(len(all_courses), activation='softmax')(x)\n",
    "\n",
    "model = keras.Model(sequence_input, preds)\n",
    "model.compile(loss='categorical_crossentropy',\n",
    "              optimizer='rmsprop',\n",
    "              metrics=['accuracy'])\n"
   ]
  },
  {
   "cell_type": "code",
   "execution_count": 161,
   "id": "e1468c0e",
   "metadata": {},
   "outputs": [
    {
     "name": "stdout",
     "output_type": "stream",
     "text": [
      "Model: \"model_11\"\n",
      "_________________________________________________________________\n",
      " Layer (type)                Output Shape              Param #   \n",
      "=================================================================\n",
      " input_17 (InputLayer)       [(None, 102)]             0         \n",
      "                                                                 \n",
      " dense_27 (Dense)            (None, 64)                6592      \n",
      "                                                                 \n",
      " dense_28 (Dense)            (None, 16)                1040      \n",
      "                                                                 \n",
      " dense_29 (Dense)            (None, 9)                 153       \n",
      "                                                                 \n",
      "=================================================================\n",
      "Total params: 7,785\n",
      "Trainable params: 7,785\n",
      "Non-trainable params: 0\n",
      "_________________________________________________________________\n"
     ]
    }
   ],
   "source": [
    "model.summary()"
   ]
  },
  {
   "cell_type": "code",
   "execution_count": 162,
   "id": "00bc0be7",
   "metadata": {},
   "outputs": [
    {
     "name": "stdout",
     "output_type": "stream",
     "text": [
      "Epoch 1/20\n",
      "259/259 [==============================] - 1s 3ms/step - loss: 1.7390 - accuracy: 0.4187 - val_loss: 1.5825 - val_accuracy: 0.4542\n",
      "Epoch 2/20\n",
      "259/259 [==============================] - 1s 2ms/step - loss: 1.5385 - accuracy: 0.4678 - val_loss: 1.5233 - val_accuracy: 0.4698\n",
      "Epoch 3/20\n",
      "259/259 [==============================] - 1s 2ms/step - loss: 1.5038 - accuracy: 0.4750 - val_loss: 1.5056 - val_accuracy: 0.4763\n",
      "Epoch 4/20\n",
      "259/259 [==============================] - 1s 2ms/step - loss: 1.4879 - accuracy: 0.4809 - val_loss: 1.5026 - val_accuracy: 0.4795\n",
      "Epoch 5/20\n",
      "259/259 [==============================] - 1s 2ms/step - loss: 1.4775 - accuracy: 0.4841 - val_loss: 1.5009 - val_accuracy: 0.4773\n",
      "Epoch 6/20\n",
      "259/259 [==============================] - 1s 2ms/step - loss: 1.4698 - accuracy: 0.4838 - val_loss: 1.4903 - val_accuracy: 0.4816\n",
      "Epoch 7/20\n",
      "259/259 [==============================] - 1s 2ms/step - loss: 1.4640 - accuracy: 0.4849 - val_loss: 1.4857 - val_accuracy: 0.4824\n",
      "Epoch 8/20\n",
      "259/259 [==============================] - 1s 2ms/step - loss: 1.4578 - accuracy: 0.4876 - val_loss: 1.4838 - val_accuracy: 0.4818\n",
      "Epoch 9/20\n",
      "259/259 [==============================] - 1s 2ms/step - loss: 1.4535 - accuracy: 0.4892 - val_loss: 1.4893 - val_accuracy: 0.4809\n",
      "Epoch 10/20\n",
      "259/259 [==============================] - 0s 2ms/step - loss: 1.4500 - accuracy: 0.4905 - val_loss: 1.4828 - val_accuracy: 0.4760\n",
      "Epoch 11/20\n",
      "259/259 [==============================] - 1s 2ms/step - loss: 1.4452 - accuracy: 0.4935 - val_loss: 1.4745 - val_accuracy: 0.4849\n",
      "Epoch 12/20\n",
      "259/259 [==============================] - 0s 2ms/step - loss: 1.4418 - accuracy: 0.4924 - val_loss: 1.4715 - val_accuracy: 0.4841\n",
      "Epoch 13/20\n",
      "259/259 [==============================] - 1s 2ms/step - loss: 1.4379 - accuracy: 0.4940 - val_loss: 1.4765 - val_accuracy: 0.4767\n",
      "Epoch 14/20\n",
      "259/259 [==============================] - 0s 2ms/step - loss: 1.4345 - accuracy: 0.4951 - val_loss: 1.4714 - val_accuracy: 0.4856\n",
      "Epoch 15/20\n",
      "259/259 [==============================] - 1s 2ms/step - loss: 1.4309 - accuracy: 0.4979 - val_loss: 1.4656 - val_accuracy: 0.4891\n",
      "Epoch 16/20\n",
      "259/259 [==============================] - 1s 2ms/step - loss: 1.4281 - accuracy: 0.4980 - val_loss: 1.4750 - val_accuracy: 0.4847\n",
      "Epoch 17/20\n",
      "259/259 [==============================] - 1s 2ms/step - loss: 1.4247 - accuracy: 0.4997 - val_loss: 1.4648 - val_accuracy: 0.4871\n",
      "Epoch 18/20\n",
      "259/259 [==============================] - 1s 2ms/step - loss: 1.4225 - accuracy: 0.4999 - val_loss: 1.4604 - val_accuracy: 0.4885\n",
      "Epoch 19/20\n",
      "259/259 [==============================] - 1s 3ms/step - loss: 1.4196 - accuracy: 0.4994 - val_loss: 1.4613 - val_accuracy: 0.4863\n",
      "Epoch 20/20\n",
      "259/259 [==============================] - 1s 3ms/step - loss: 1.4171 - accuracy: 0.5006 - val_loss: 1.4643 - val_accuracy: 0.4859\n"
     ]
    }
   ],
   "source": [
    "EPOCHS = 20\n",
    "H = model.fit(x_train, y_train, validation_data=(x_val, y_val),\n",
    "          epochs=EPOCHS, batch_size=128)"
   ]
  },
  {
   "cell_type": "code",
   "execution_count": 163,
   "id": "e54e71be",
   "metadata": {},
   "outputs": [
    {
     "data": {
      "image/png": "[encoded data removed]",
      "text/plain": [
       "<Figure size 640x480 with 1 Axes>"
      ]
     },
     "metadata": {},
     "output_type": "display_data"
    }
   ],
   "source": [
    "loss = H.history['loss'] \n",
    "val_loss = H.history['val_loss']\n",
    "epochs = range(1, len(loss) + 1)\n",
    "plt.plot(epochs, loss, 'bo', label='Training loss')\n",
    "plt.plot(epochs, val_loss, 'b', label='Validation loss')\n",
    "plt.title('Training loss')\n",
    "plt.xlabel('Epochs')\n",
    "plt.ylabel('Loss')\n",
    "plt.legend()\n",
    "plt.show()"
   ]
  },
  {
   "cell_type": "code",
   "execution_count": 164,
   "id": "95a42db6",
   "metadata": {},
   "outputs": [
    {
     "data": {
      "image/png": "[encoded data removed]",
      "text/plain": [
       "<Figure size 640x480 with 1 Axes>"
      ]
     },
     "metadata": {},
     "output_type": "display_data"
    }
   ],
   "source": [
    "acc = H.history['accuracy']\n",
    "val_acc = H.history['val_accuracy']\n",
    "plt.plot(epochs, acc, 'bo', label='Training accuracy')\n",
    "plt.plot(epochs, val_acc, 'b', label='Validation accuracy')\n",
    "plt.title('Training binary accuracy')\n",
    "plt.xlabel('Epochs')\n",
    "plt.ylabel('Accuracy')\n",
    "plt.legend()\n",
    "plt.show()"
   ]
  },
  {
   "cell_type": "markdown",
   "id": "9f79865f",
   "metadata": {},
   "source": [
    "## Подготовка к CNN"
   ]
  },
  {
   "cell_type": "code",
   "execution_count": 165,
   "id": "90d8d4d2",
   "metadata": {},
   "outputs": [],
   "source": [
    "data = lens.Each().Each().modify(lambda x: ingredients_numbering_dict[x])(ingredients_lemmatized)"
   ]
  },
  {
   "cell_type": "code",
   "execution_count": 166,
   "id": "b80cae6b",
   "metadata": {},
   "outputs": [
    {
     "data": {
      "text/plain": [
       "[[1421, 1297, 204, 2187], [1124, 1323, 2338, 3615, 3469]]"
      ]
     },
     "execution_count": 166,
     "metadata": {},
     "output_type": "execute_result"
    }
   ],
   "source": [
    "data[:2]"
   ]
  },
  {
   "cell_type": "code",
   "execution_count": 167,
   "id": "b0b8717d",
   "metadata": {},
   "outputs": [],
   "source": [
    "data = pad_sequences(data, padding='post', value=0)\n",
    "labels = to_categorical(np.array(df_for_learning['course_mark']), num_classes=len(all_courses))\n",
    "\n",
    "indices = np.arange(data.shape[0])\n",
    "np.random.shuffle(indices)\n",
    "data = data[indices]\n",
    "labels = labels[indices]\n",
    "\n",
    "VALIDATION_SPLIT = 0.2\n",
    "nb_validation_samples = int(VALIDATION_SPLIT * data.shape[0])\n",
    "\n",
    "x_train = data[:-nb_validation_samples]\n",
    "y_train = labels[:-nb_validation_samples]\n",
    "x_val = data[-nb_validation_samples:]\n",
    "y_val = labels[-nb_validation_samples:]"
   ]
  },
  {
   "cell_type": "code",
   "execution_count": 168,
   "id": "f90c9af1",
   "metadata": {},
   "outputs": [
    {
     "data": {
      "text/plain": [
       "40"
      ]
     },
     "execution_count": 168,
     "metadata": {},
     "output_type": "execute_result"
    }
   ],
   "source": [
    "max_length = len(data[0])\n",
    "max_length"
   ]
  },
  {
   "cell_type": "code",
   "execution_count": 169,
   "id": "9949a929",
   "metadata": {},
   "outputs": [
    {
     "data": {
      "text/plain": [
       "(4406, 102)"
      ]
     },
     "execution_count": 169,
     "metadata": {},
     "output_type": "execute_result"
    }
   ],
   "source": [
    "#Эта матрица будет использоваться для слоя Embedding в keras\n",
    "ingredients_embeddings_matrix = np.zeros((len(all_ingredients_list), dim))\n",
    "ingredients_embeddings_matrix.shape\n",
    "for ingr in all_ingredients_list:\n",
    "    ingredients_embeddings_matrix[ingredients_numbering_dict[ingr]] = ingredients_embeddings_dict[ingr]\n",
    "ingredients_embeddings_matrix.shape"
   ]
  },
  {
   "cell_type": "markdown",
   "id": "57afeacf",
   "metadata": {},
   "source": [
    "## Обучение CNN"
   ]
  },
  {
   "cell_type": "code",
   "execution_count": 171,
   "id": "b7230a09",
   "metadata": {},
   "outputs": [],
   "source": [
    "embedding_layer = layers.Embedding(len(ingredients_embeddings_dict),\n",
    "                            dim,\n",
    "                            weights=[ingredients_embeddings_matrix],\n",
    "                            input_length=max_length,\n",
    "                            trainable=False)\n",
    "# trainable=True позволит до обучаться эмбеддингам на нашем датасете"
   ]
  },
  {
   "cell_type": "code",
   "execution_count": 172,
   "id": "d19b9906",
   "metadata": {},
   "outputs": [],
   "source": [
    "#первая архитектура CNN\n",
    "# sequence_input = layers.Input(shape=(max_length,), dtype='int32')\n",
    "# embedded_sequences = embedding_layer(sequence_input)\n",
    "# x = layers.Conv1D(64, 2, activation='relu')(embedded_sequences)\n",
    "# x = layers.GlobalMaxPool1D()(x)\n",
    "# x = layers.Flatten()(x)\n",
    "# x = layers.Dense(32, activation='relu')(x)\n",
    "# preds = layers.Dense(len(all_courses), activation='softmax')(x)\n",
    "\n",
    "#вторая архитектура CNN\n",
    "sequence_input = layers.Input(shape=(max_length,), dtype='int32')\n",
    "embedded_sequences = embedding_layer(sequence_input)\n",
    "arr = []\n",
    "for i in [2,3,4]:\n",
    "    x = layers.Conv1D(64, i, activation='relu')(embedded_sequences)\n",
    "    arr.append(layers.GlobalMaxPool1D()(x))\n",
    "\n",
    "x = layers.Concatenate()(arr)\n",
    "x = layers.Flatten()(x)\n",
    "x = layers.Dense(32, activation='relu')(x)\n",
    "preds = layers.Dense(len(all_courses), activation='softmax')(x)\n",
    "\n",
    "\n",
    "\n",
    "model = keras.Model(sequence_input, preds)\n",
    "model.compile(loss='categorical_crossentropy',\n",
    "              optimizer='rmsprop',\n",
    "              metrics=['accuracy'])\n",
    "\n"
   ]
  },
  {
   "cell_type": "code",
   "execution_count": 173,
   "id": "32b7d14e",
   "metadata": {},
   "outputs": [
    {
     "name": "stdout",
     "output_type": "stream",
     "text": [
      "Model: \"model_12\"\n",
      "__________________________________________________________________________________________________\n",
      " Layer (type)                   Output Shape         Param #     Connected to                     \n",
      "==================================================================================================\n",
      " input_18 (InputLayer)          [(None, 40)]         0           []                               \n",
      "                                                                                                  \n",
      " embedding_5 (Embedding)        (None, 40, 102)      449412      ['input_18[0][0]']               \n",
      "                                                                                                  \n",
      " conv1d_27 (Conv1D)             (None, 39, 64)       13120       ['embedding_5[0][0]']            \n",
      "                                                                                                  \n",
      " conv1d_28 (Conv1D)             (None, 38, 64)       19648       ['embedding_5[0][0]']            \n",
      "                                                                                                  \n",
      " conv1d_29 (Conv1D)             (None, 37, 64)       26176       ['embedding_5[0][0]']            \n",
      "                                                                                                  \n",
      " global_max_pooling1d_22 (Globa  (None, 64)          0           ['conv1d_27[0][0]']              \n",
      " lMaxPooling1D)                                                                                   \n",
      "                                                                                                  \n",
      " global_max_pooling1d_23 (Globa  (None, 64)          0           ['conv1d_28[0][0]']              \n",
      " lMaxPooling1D)                                                                                   \n",
      "                                                                                                  \n",
      " global_max_pooling1d_24 (Globa  (None, 64)          0           ['conv1d_29[0][0]']              \n",
      " lMaxPooling1D)                                                                                   \n",
      "                                                                                                  \n",
      " concatenate_1 (Concatenate)    (None, 192)          0           ['global_max_pooling1d_22[0][0]',\n",
      "                                                                  'global_max_pooling1d_23[0][0]',\n",
      "                                                                  'global_max_pooling1d_24[0][0]']\n",
      "                                                                                                  \n",
      " flatten_18 (Flatten)           (None, 192)          0           ['concatenate_1[0][0]']          \n",
      "                                                                                                  \n",
      " dense_30 (Dense)               (None, 32)           6176        ['flatten_18[0][0]']             \n",
      "                                                                                                  \n",
      " dense_31 (Dense)               (None, 9)            297         ['dense_30[0][0]']               \n",
      "                                                                                                  \n",
      "==================================================================================================\n",
      "Total params: 514,829\n",
      "Trainable params: 65,417\n",
      "Non-trainable params: 449,412\n",
      "__________________________________________________________________________________________________\n"
     ]
    }
   ],
   "source": [
    "model.summary()"
   ]
  },
  {
   "cell_type": "code",
   "execution_count": null,
   "id": "28ee62ef",
   "metadata": {
    "scrolled": true
   },
   "outputs": [
    {
     "name": "stdout",
     "output_type": "stream",
     "text": [
      "Epoch 1/20\n",
      "259/259 [==============================] - 5s 19ms/step - loss: 0.5812 - accuracy: 0.7942 - val_loss: 0.8791 - val_accuracy: 0.6955\n",
      "Epoch 2/20\n",
      "259/259 [==============================] - 5s 18ms/step - loss: 0.5678 - accuracy: 0.7990 - val_loss: 0.8699 - val_accuracy: 0.7035\n",
      "Epoch 3/20\n",
      "259/259 [==============================] - 5s 19ms/step - loss: 0.5530 - accuracy: 0.8050 - val_loss: 0.8954 - val_accuracy: 0.6960\n",
      "Epoch 4/20\n",
      "259/259 [==============================] - 5s 19ms/step - loss: 0.5428 - accuracy: 0.8092 - val_loss: 0.9602 - val_accuracy: 0.6922\n",
      "Epoch 5/20\n",
      "259/259 [==============================] - 5s 20ms/step - loss: 0.5330 - accuracy: 0.8130 - val_loss: 0.8851 - val_accuracy: 0.7021\n",
      "Epoch 6/20\n",
      "259/259 [==============================] - 5s 20ms/step - loss: 0.5216 - accuracy: 0.8154 - val_loss: 0.9179 - val_accuracy: 0.7017\n",
      "Epoch 7/20\n",
      "259/259 [==============================] - 5s 20ms/step - loss: 0.5113 - accuracy: 0.8212 - val_loss: 0.9083 - val_accuracy: 0.6969\n",
      "Epoch 8/20\n",
      "259/259 [==============================] - 5s 20ms/step - loss: 0.5040 - accuracy: 0.8233 - val_loss: 0.9057 - val_accuracy: 0.6976\n",
      "Epoch 9/20\n",
      "259/259 [==============================] - 5s 20ms/step - loss: 0.4943 - accuracy: 0.8246 - val_loss: 1.0210 - val_accuracy: 0.6765\n",
      "Epoch 10/20\n",
      "259/259 [==============================] - 5s 20ms/step - loss: 0.4851 - accuracy: 0.8280 - val_loss: 1.0060 - val_accuracy: 0.6639\n",
      "Epoch 11/20\n",
      "161/259 [=================>............] - ETA: 1s - loss: 0.4682 - accuracy: 0.8346"
     ]
    }
   ],
   "source": [
    "H = model.fit(x_train, y_train, validation_data=(x_val, y_val),\n",
    "          epochs=20, batch_size=128)"
   ]
  },
  {
   "cell_type": "code",
   "execution_count": 175,
   "id": "e78c01a1",
   "metadata": {},
   "outputs": [
    {
     "data": {
      "image/png": "[encoded data removed]",
      "text/plain": [
       "<Figure size 640x480 with 1 Axes>"
      ]
     },
     "metadata": {},
     "output_type": "display_data"
    }
   ],
   "source": [
    "loss = H.history['loss'] \n",
    "val_loss = H.history['val_loss']\n",
    "epochs = range(1, len(loss) + 1)\n",
    "plt.plot(epochs, loss, 'bo', label='Training loss')\n",
    "plt.plot(epochs, val_loss, 'b', label='Validation loss')\n",
    "plt.title('Training loss')\n",
    "plt.xlabel('Epochs')\n",
    "plt.ylabel('Loss')\n",
    "plt.legend()\n",
    "plt.show()"
   ]
  },
  {
   "cell_type": "code",
   "execution_count": 176,
   "id": "1d646978",
   "metadata": {},
   "outputs": [
    {
     "data": {
      "image/png": "[encoded data removed]",
      "text/plain": [
       "<Figure size 640x480 with 1 Axes>"
      ]
     },
     "metadata": {},
     "output_type": "display_data"
    }
   ],
   "source": [
    "acc = H.history['accuracy']\n",
    "val_acc = H.history['val_accuracy']\n",
    "plt.plot(epochs, acc, 'bo', label='Training accuracy')\n",
    "plt.plot(epochs, val_acc, 'b', label='Validation accuracy')\n",
    "plt.title('Training binary accuracy')\n",
    "plt.xlabel('Epochs')\n",
    "plt.ylabel('Accuracy')\n",
    "plt.legend()\n",
    "plt.show()"
   ]
  },
  {
   "cell_type": "markdown",
   "id": "c35e2f04-8ee4-4aec-a28e-cb12b4f6ccfe",
   "metadata": {},
   "source": [
    "## Прочее:"
   ]
  },
  {
   "cell_type": "code",
   "execution_count": 45,
   "id": "87ef55b7-a142-4fe0-884d-00f672da020e",
   "metadata": {},
   "outputs": [
    {
     "data": {
      "text/html": [
       "<div>\n",
       "<style scoped>\n",
       "    .dataframe tbody tr th:only-of-type {\n",
       "        vertical-align: middle;\n",
       "    }\n",
       "\n",
       "    .dataframe tbody tr th {\n",
       "        vertical-align: top;\n",
       "    }\n",
       "\n",
       "    .dataframe thead th {\n",
       "        text-align: right;\n",
       "    }\n",
       "</style>\n",
       "<table border=\"1\" class=\"dataframe\">\n",
       "  <thead>\n",
       "    <tr style=\"text-align: right;\">\n",
       "      <th></th>\n",
       "      <th>id</th>\n",
       "      <th>title</th>\n",
       "      <th>course</th>\n",
       "      <th>ingredients</th>\n",
       "    </tr>\n",
       "    <tr>\n",
       "      <th>cuisine</th>\n",
       "      <th></th>\n",
       "      <th></th>\n",
       "      <th></th>\n",
       "      <th></th>\n",
       "    </tr>\n",
       "  </thead>\n",
       "  <tbody>\n",
       "    <tr>\n",
       "      <th>Европейская кухня</th>\n",
       "      <td>11699</td>\n",
       "      <td>11699</td>\n",
       "      <td>11699</td>\n",
       "      <td>11699</td>\n",
       "    </tr>\n",
       "    <tr>\n",
       "      <th>Русская кухня</th>\n",
       "      <td>7111</td>\n",
       "      <td>7111</td>\n",
       "      <td>7111</td>\n",
       "      <td>7111</td>\n",
       "    </tr>\n",
       "    <tr>\n",
       "      <th>Итальянская кухня</th>\n",
       "      <td>4943</td>\n",
       "      <td>4943</td>\n",
       "      <td>4943</td>\n",
       "      <td>4943</td>\n",
       "    </tr>\n",
       "    <tr>\n",
       "      <th>Французская кухня</th>\n",
       "      <td>3055</td>\n",
       "      <td>3055</td>\n",
       "      <td>3055</td>\n",
       "      <td>3055</td>\n",
       "    </tr>\n",
       "    <tr>\n",
       "      <th>Американская кухня</th>\n",
       "      <td>2192</td>\n",
       "      <td>2192</td>\n",
       "      <td>2192</td>\n",
       "      <td>2192</td>\n",
       "    </tr>\n",
       "    <tr>\n",
       "      <th>Авторская кухня</th>\n",
       "      <td>1822</td>\n",
       "      <td>1822</td>\n",
       "      <td>1822</td>\n",
       "      <td>1822</td>\n",
       "    </tr>\n",
       "    <tr>\n",
       "      <th>Китайская кухня</th>\n",
       "      <td>840</td>\n",
       "      <td>840</td>\n",
       "      <td>840</td>\n",
       "      <td>840</td>\n",
       "    </tr>\n",
       "    <tr>\n",
       "      <th>Греческая кухня</th>\n",
       "      <td>640</td>\n",
       "      <td>640</td>\n",
       "      <td>640</td>\n",
       "      <td>640</td>\n",
       "    </tr>\n",
       "    <tr>\n",
       "      <th>Мексиканская кухня</th>\n",
       "      <td>583</td>\n",
       "      <td>583</td>\n",
       "      <td>583</td>\n",
       "      <td>583</td>\n",
       "    </tr>\n",
       "    <tr>\n",
       "      <th>Японская кухня</th>\n",
       "      <td>569</td>\n",
       "      <td>569</td>\n",
       "      <td>569</td>\n",
       "      <td>569</td>\n",
       "    </tr>\n",
       "    <tr>\n",
       "      <th>Испанская кухня</th>\n",
       "      <td>560</td>\n",
       "      <td>560</td>\n",
       "      <td>560</td>\n",
       "      <td>560</td>\n",
       "    </tr>\n",
       "    <tr>\n",
       "      <th>Грузинская кухня</th>\n",
       "      <td>532</td>\n",
       "      <td>532</td>\n",
       "      <td>532</td>\n",
       "      <td>532</td>\n",
       "    </tr>\n",
       "    <tr>\n",
       "      <th>Паназиатская кухня</th>\n",
       "      <td>517</td>\n",
       "      <td>517</td>\n",
       "      <td>517</td>\n",
       "      <td>517</td>\n",
       "    </tr>\n",
       "    <tr>\n",
       "      <th>Британская кухня</th>\n",
       "      <td>503</td>\n",
       "      <td>503</td>\n",
       "      <td>503</td>\n",
       "      <td>503</td>\n",
       "    </tr>\n",
       "    <tr>\n",
       "      <th>Средиземноморская кухня</th>\n",
       "      <td>484</td>\n",
       "      <td>484</td>\n",
       "      <td>484</td>\n",
       "      <td>484</td>\n",
       "    </tr>\n",
       "    <tr>\n",
       "      <th>Индийская кухня</th>\n",
       "      <td>416</td>\n",
       "      <td>416</td>\n",
       "      <td>416</td>\n",
       "      <td>416</td>\n",
       "    </tr>\n",
       "    <tr>\n",
       "      <th>Немецкая кухня</th>\n",
       "      <td>320</td>\n",
       "      <td>320</td>\n",
       "      <td>320</td>\n",
       "      <td>320</td>\n",
       "    </tr>\n",
       "    <tr>\n",
       "      <th>Тайская кухня</th>\n",
       "      <td>307</td>\n",
       "      <td>307</td>\n",
       "      <td>307</td>\n",
       "      <td>307</td>\n",
       "    </tr>\n",
       "    <tr>\n",
       "      <th>Украинская кухня</th>\n",
       "      <td>305</td>\n",
       "      <td>305</td>\n",
       "      <td>305</td>\n",
       "      <td>305</td>\n",
       "    </tr>\n",
       "    <tr>\n",
       "      <th>Арабская кухня</th>\n",
       "      <td>260</td>\n",
       "      <td>260</td>\n",
       "      <td>260</td>\n",
       "      <td>260</td>\n",
       "    </tr>\n",
       "    <tr>\n",
       "      <th>Еврейская кухня</th>\n",
       "      <td>255</td>\n",
       "      <td>255</td>\n",
       "      <td>255</td>\n",
       "      <td>255</td>\n",
       "    </tr>\n",
       "    <tr>\n",
       "      <th>Турецкая кухня</th>\n",
       "      <td>239</td>\n",
       "      <td>239</td>\n",
       "      <td>239</td>\n",
       "      <td>239</td>\n",
       "    </tr>\n",
       "    <tr>\n",
       "      <th>Армянская кухня</th>\n",
       "      <td>210</td>\n",
       "      <td>210</td>\n",
       "      <td>210</td>\n",
       "      <td>210</td>\n",
       "    </tr>\n",
       "    <tr>\n",
       "      <th>Югославская кухня</th>\n",
       "      <td>173</td>\n",
       "      <td>173</td>\n",
       "      <td>173</td>\n",
       "      <td>173</td>\n",
       "    </tr>\n",
       "    <tr>\n",
       "      <th>Австрийская кухня</th>\n",
       "      <td>170</td>\n",
       "      <td>170</td>\n",
       "      <td>170</td>\n",
       "      <td>170</td>\n",
       "    </tr>\n",
       "    <tr>\n",
       "      <th>Узбекская кухня</th>\n",
       "      <td>153</td>\n",
       "      <td>153</td>\n",
       "      <td>153</td>\n",
       "      <td>153</td>\n",
       "    </tr>\n",
       "    <tr>\n",
       "      <th>Болгарская кухня</th>\n",
       "      <td>151</td>\n",
       "      <td>151</td>\n",
       "      <td>151</td>\n",
       "      <td>151</td>\n",
       "    </tr>\n",
       "    <tr>\n",
       "      <th>Корейская кухня</th>\n",
       "      <td>136</td>\n",
       "      <td>136</td>\n",
       "      <td>136</td>\n",
       "      <td>136</td>\n",
       "    </tr>\n",
       "    <tr>\n",
       "      <th>Азербайджанская кухня</th>\n",
       "      <td>128</td>\n",
       "      <td>128</td>\n",
       "      <td>128</td>\n",
       "      <td>128</td>\n",
       "    </tr>\n",
       "    <tr>\n",
       "      <th>Марокканская кухня</th>\n",
       "      <td>118</td>\n",
       "      <td>118</td>\n",
       "      <td>118</td>\n",
       "      <td>118</td>\n",
       "    </tr>\n",
       "  </tbody>\n",
       "</table>\n",
       "</div>"
      ],
      "text/plain": [
       "                            id  title  course  ingredients\n",
       "cuisine                                                   \n",
       "Европейская кухня        11699  11699   11699        11699\n",
       "Русская кухня             7111   7111    7111         7111\n",
       "Итальянская кухня         4943   4943    4943         4943\n",
       "Французская кухня         3055   3055    3055         3055\n",
       "Американская кухня        2192   2192    2192         2192\n",
       "Авторская кухня           1822   1822    1822         1822\n",
       "Китайская кухня            840    840     840          840\n",
       "Греческая кухня            640    640     640          640\n",
       "Мексиканская кухня         583    583     583          583\n",
       "Японская кухня             569    569     569          569\n",
       "Испанская кухня            560    560     560          560\n",
       "Грузинская кухня           532    532     532          532\n",
       "Паназиатская кухня         517    517     517          517\n",
       "Британская кухня           503    503     503          503\n",
       "Средиземноморская кухня    484    484     484          484\n",
       "Индийская кухня            416    416     416          416\n",
       "Немецкая кухня             320    320     320          320\n",
       "Тайская кухня              307    307     307          307\n",
       "Украинская кухня           305    305     305          305\n",
       "Арабская кухня             260    260     260          260\n",
       "Еврейская кухня            255    255     255          255\n",
       "Турецкая кухня             239    239     239          239\n",
       "Армянская кухня            210    210     210          210\n",
       "Югославская кухня          173    173     173          173\n",
       "Австрийская кухня          170    170     170          170\n",
       "Узбекская кухня            153    153     153          153\n",
       "Болгарская кухня           151    151     151          151\n",
       "Корейская кухня            136    136     136          136\n",
       "Азербайджанская кухня      128    128     128          128\n",
       "Марокканская кухня         118    118     118          118"
      ]
     },
     "execution_count": 45,
     "metadata": {},
     "output_type": "execute_result"
    }
   ],
   "source": [
    "it = df.groupby('cuisine').count()\n",
    "it.sort_values('title', ascending=False).head(30)"
   ]
  },
  {
   "cell_type": "code",
   "execution_count": 46,
   "id": "8891bcd1-671e-4efa-99d9-fc983bb3c670",
   "metadata": {},
   "outputs": [
    {
     "ename": "NameError",
     "evalue": "name 'ft' is not defined",
     "output_type": "error",
     "traceback": [
      "\u001b[1;31m---------------------------------------------------------------------------\u001b[0m",
      "\u001b[1;31mNameError\u001b[0m                                 Traceback (most recent call last)",
      "Cell \u001b[1;32mIn [46], line 1\u001b[0m\n\u001b[1;32m----> 1\u001b[0m a \u001b[38;5;241m=\u001b[39m ft\u001b[38;5;241m.\u001b[39mget_word_vector(\u001b[38;5;124m'\u001b[39m\u001b[38;5;124mкокосовый\u001b[39m\u001b[38;5;124m'\u001b[39m)\u001b[38;5;241m-\u001b[39mft\u001b[38;5;241m.\u001b[39mget_word_vector(\u001b[38;5;124m'\u001b[39m\u001b[38;5;124mкокосовое\u001b[39m\u001b[38;5;124m'\u001b[39m)\u001b[38;5;241m+\u001b[39mft\u001b[38;5;241m.\u001b[39mget_word_vector(\u001b[38;5;124m'\u001b[39m\u001b[38;5;124mкремовое\u001b[39m\u001b[38;5;124m'\u001b[39m)\u001b[38;5;241m-\u001b[39mft\u001b[38;5;241m.\u001b[39mget_word_vector(\u001b[38;5;124m'\u001b[39m\u001b[38;5;124mкремовый\u001b[39m\u001b[38;5;124m'\u001b[39m)\n\u001b[0;32m      2\u001b[0m a\u001b[38;5;129m@a\u001b[39m\n",
      "\u001b[1;31mNameError\u001b[0m: name 'ft' is not defined"
     ]
    }
   ],
   "source": [
    "a = ft.get_word_vector('кокосовый')-ft.get_word_vector('кокосовое')+ft.get_word_vector('кремовое')-ft.get_word_vector('кремовый')\n",
    "a@a"
   ]
  }
 ],
 "metadata": {
  "kernelspec": {
   "display_name": "Python 3 (ipykernel)",
   "language": "python",
   "name": "python3"
  },
  "language_info": {
   "codemirror_mode": {
    "name": "ipython",
    "version": 3
   },
   "file_extension": ".py",
   "mimetype": "text/x-python",
   "name": "python",
   "nbconvert_exporter": "python",
   "pygments_lexer": "ipython3",
   "version": "3.10.8"
  }
 },
 "nbformat": 4,
 "nbformat_minor": 5
}
