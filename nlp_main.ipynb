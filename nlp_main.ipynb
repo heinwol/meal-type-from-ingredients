{
 "cells": [
  {
   "cell_type": "code",
   "execution_count": 41,
   "id": "efee2b7a-0175-491d-9783-5612e42506b0",
   "metadata": {},
   "outputs": [],
   "source": [
    "from toolz import *\n",
    "import numpy as np\n",
    "import matplotlib.pyplot as plt\n",
    "import pandas as pd\n",
    "import plotly.graph_objects as go\n",
    "%matplotlib widget\n",
    "\n",
    "\n",
    "import pathlib\n",
    "from lenses import lens\n",
    "\n",
    "from collections import Counter\n",
    "\n",
    "import nltk\n",
    "import pymorphy2"
   ]
  },
  {
   "cell_type": "code",
   "execution_count": 2,
   "id": "3a7365e6-8a0f-4d9d-9630-c2d47dd5072c",
   "metadata": {
    "tags": []
   },
   "outputs": [
    {
     "name": "stderr",
     "output_type": "stream",
     "text": [
      "[nltk_data] Downloading collection 'popular'\n",
      "[nltk_data]    | \n",
      "[nltk_data]    | Downloading package cmudict to\n",
      "[nltk_data]    |     /home/jovyan/nltk_data...\n",
      "[nltk_data]    |   Package cmudict is already up-to-date!\n",
      "[nltk_data]    | Downloading package gazetteers to\n",
      "[nltk_data]    |     /home/jovyan/nltk_data...\n",
      "[nltk_data]    |   Package gazetteers is already up-to-date!\n",
      "[nltk_data]    | Downloading package genesis to\n",
      "[nltk_data]    |     /home/jovyan/nltk_data...\n",
      "[nltk_data]    |   Package genesis is already up-to-date!\n",
      "[nltk_data]    | Downloading package gutenberg to\n",
      "[nltk_data]    |     /home/jovyan/nltk_data...\n",
      "[nltk_data]    |   Package gutenberg is already up-to-date!\n",
      "[nltk_data]    | Downloading package inaugural to\n",
      "[nltk_data]    |     /home/jovyan/nltk_data...\n",
      "[nltk_data]    |   Package inaugural is already up-to-date!\n",
      "[nltk_data]    | Downloading package movie_reviews to\n",
      "[nltk_data]    |     /home/jovyan/nltk_data...\n",
      "[nltk_data]    |   Package movie_reviews is already up-to-date!\n",
      "[nltk_data]    | Downloading package names to\n",
      "[nltk_data]    |     /home/jovyan/nltk_data...\n",
      "[nltk_data]    |   Package names is already up-to-date!\n",
      "[nltk_data]    | Downloading package shakespeare to\n",
      "[nltk_data]    |     /home/jovyan/nltk_data...\n",
      "[nltk_data]    |   Package shakespeare is already up-to-date!\n",
      "[nltk_data]    | Downloading package stopwords to\n",
      "[nltk_data]    |     /home/jovyan/nltk_data...\n",
      "[nltk_data]    |   Package stopwords is already up-to-date!\n",
      "[nltk_data]    | Downloading package treebank to\n",
      "[nltk_data]    |     /home/jovyan/nltk_data...\n",
      "[nltk_data]    |   Package treebank is already up-to-date!\n",
      "[nltk_data]    | Downloading package twitter_samples to\n",
      "[nltk_data]    |     /home/jovyan/nltk_data...\n",
      "[nltk_data]    |   Package twitter_samples is already up-to-date!\n",
      "[nltk_data]    | Downloading package omw to /home/jovyan/nltk_data...\n",
      "[nltk_data]    |   Package omw is already up-to-date!\n",
      "[nltk_data]    | Downloading package omw-1.4 to\n",
      "[nltk_data]    |     /home/jovyan/nltk_data...\n",
      "[nltk_data]    |   Package omw-1.4 is already up-to-date!\n",
      "[nltk_data]    | Downloading package wordnet to\n",
      "[nltk_data]    |     /home/jovyan/nltk_data...\n",
      "[nltk_data]    |   Package wordnet is already up-to-date!\n",
      "[nltk_data]    | Downloading package wordnet2021 to\n",
      "[nltk_data]    |     /home/jovyan/nltk_data...\n",
      "[nltk_data]    |   Package wordnet2021 is already up-to-date!\n",
      "[nltk_data]    | Downloading package wordnet31 to\n",
      "[nltk_data]    |     /home/jovyan/nltk_data...\n",
      "[nltk_data]    |   Package wordnet31 is already up-to-date!\n",
      "[nltk_data]    | Downloading package wordnet_ic to\n",
      "[nltk_data]    |     /home/jovyan/nltk_data...\n",
      "[nltk_data]    |   Package wordnet_ic is already up-to-date!\n",
      "[nltk_data]    | Downloading package words to\n",
      "[nltk_data]    |     /home/jovyan/nltk_data...\n",
      "[nltk_data]    |   Package words is already up-to-date!\n",
      "[nltk_data]    | Downloading package maxent_ne_chunker to\n",
      "[nltk_data]    |     /home/jovyan/nltk_data...\n",
      "[nltk_data]    |   Package maxent_ne_chunker is already up-to-date!\n",
      "[nltk_data]    | Downloading package punkt to\n",
      "[nltk_data]    |     /home/jovyan/nltk_data...\n",
      "[nltk_data]    |   Package punkt is already up-to-date!\n",
      "[nltk_data]    | Downloading package snowball_data to\n",
      "[nltk_data]    |     /home/jovyan/nltk_data...\n",
      "[nltk_data]    |   Package snowball_data is already up-to-date!\n",
      "[nltk_data]    | Downloading package averaged_perceptron_tagger to\n",
      "[nltk_data]    |     /home/jovyan/nltk_data...\n",
      "[nltk_data]    |   Package averaged_perceptron_tagger is already up-\n",
      "[nltk_data]    |       to-date!\n",
      "[nltk_data]    | \n",
      "[nltk_data]  Done downloading collection popular\n",
      "[nltk_data] Downloading package punkt to /home/jovyan/nltk_data...\n",
      "[nltk_data]   Package punkt is already up-to-date!\n",
      "[nltk_data] Downloading package averaged_perceptron_tagger_ru to\n",
      "[nltk_data]     /home/jovyan/nltk_data...\n",
      "[nltk_data]   Package averaged_perceptron_tagger_ru is already up-to-\n",
      "[nltk_data]       date!\n",
      "[nltk_data] Downloading package tagsets to /home/jovyan/nltk_data...\n",
      "[nltk_data]   Package tagsets is already up-to-date!\n",
      "[nltk_data] Downloading package stopwords to /home/jovyan/nltk_data...\n",
      "[nltk_data]   Package stopwords is already up-to-date!\n"
     ]
    },
    {
     "data": {
      "text/plain": [
       "True"
      ]
     },
     "execution_count": 2,
     "metadata": {},
     "output_type": "execute_result"
    }
   ],
   "source": [
    "nltk.download('popular')\n",
    "nltk.download('punkt')\n",
    "nltk.download('averaged_perceptron_tagger_ru')\n",
    "nltk.download('tagsets')\n",
    "nltk.download('stopwords')"
   ]
  },
  {
   "cell_type": "code",
   "execution_count": 3,
   "id": "1f57b13f-0e68-4238-89be-f329432f34dc",
   "metadata": {},
   "outputs": [],
   "source": [
    "lmap = compose(list, map)\n",
    "ltake = compose(list, take)"
   ]
  },
  {
   "cell_type": "code",
   "execution_count": 4,
   "id": "f0c653bd-a45d-4b2e-ae48-9d8974097a18",
   "metadata": {},
   "outputs": [],
   "source": [
    "def map_df_ingredients_element(func, df):\n",
    "    df = df.copy()\n",
    "    df['ingredients'] = df['ingredients'].map(lambda v: lmap(func, v))\n",
    "    return df"
   ]
  },
  {
   "cell_type": "code",
   "execution_count": 5,
   "id": "38a34a4c-caa8-439e-9c5d-6cd5931754dc",
   "metadata": {},
   "outputs": [],
   "source": [
    "data_path = pathlib.Path('data')"
   ]
  },
  {
   "cell_type": "markdown",
   "id": "6ddb79ff-902b-4147-8ece-4e403228b15a",
   "metadata": {},
   "source": [
    "## Загружаем датафрейм с данными"
   ]
  },
  {
   "cell_type": "code",
   "execution_count": 6,
   "id": "07d413a1-165f-4c00-828c-135c0227fbec",
   "metadata": {},
   "outputs": [
    {
     "data": {
      "text/html": [
       "<div>\n",
       "<style scoped>\n",
       "    .dataframe tbody tr th:only-of-type {\n",
       "        vertical-align: middle;\n",
       "    }\n",
       "\n",
       "    .dataframe tbody tr th {\n",
       "        vertical-align: top;\n",
       "    }\n",
       "\n",
       "    .dataframe thead th {\n",
       "        text-align: right;\n",
       "    }\n",
       "</style>\n",
       "<table border=\"1\" class=\"dataframe\">\n",
       "  <thead>\n",
       "    <tr style=\"text-align: right;\">\n",
       "      <th></th>\n",
       "      <th>id</th>\n",
       "      <th>title</th>\n",
       "      <th>course</th>\n",
       "      <th>cuisine</th>\n",
       "      <th>ingredients</th>\n",
       "    </tr>\n",
       "  </thead>\n",
       "  <tbody>\n",
       "    <tr>\n",
       "      <th>0</th>\n",
       "      <td>28195</td>\n",
       "      <td>Банановое мороженое с корицей</td>\n",
       "      <td>Выпечка и десерты</td>\n",
       "      <td>Карибская кухня</td>\n",
       "      <td>[бананы, лимонный сок, молотая корица, ванильн...</td>\n",
       "    </tr>\n",
       "    <tr>\n",
       "      <th>1</th>\n",
       "      <td>28141</td>\n",
       "      <td>Ананасово-кокосовый шербет</td>\n",
       "      <td>Выпечка и десерты</td>\n",
       "      <td>Карибская кухня</td>\n",
       "      <td>[сахар, кокосовое молоко, корень имбиря, анана...</td>\n",
       "    </tr>\n",
       "    <tr>\n",
       "      <th>2</th>\n",
       "      <td>27929</td>\n",
       "      <td>Десерт из манго, клубники и текилы</td>\n",
       "      <td>Выпечка и десерты</td>\n",
       "      <td>Карибская кухня</td>\n",
       "      <td>[клубника, манго, сахар, тертая цедра лайма, т...</td>\n",
       "    </tr>\n",
       "    <tr>\n",
       "      <th>3</th>\n",
       "      <td>28192</td>\n",
       "      <td>Ананас с соусом из манго и рома</td>\n",
       "      <td>Выпечка и десерты</td>\n",
       "      <td>Карибская кухня</td>\n",
       "      <td>[манго, темный ром, сок лайма, сахар, тертая ц...</td>\n",
       "    </tr>\n",
       "    <tr>\n",
       "      <th>4</th>\n",
       "      <td>28463</td>\n",
       "      <td>Клубничный соус с текилой</td>\n",
       "      <td>Выпечка и десерты</td>\n",
       "      <td>Карибская кухня</td>\n",
       "      <td>[клубника, сахарная пудра, сок лайма, текила, ...</td>\n",
       "    </tr>\n",
       "    <tr>\n",
       "      <th>...</th>\n",
       "      <td>...</td>\n",
       "      <td>...</td>\n",
       "      <td>...</td>\n",
       "      <td>...</td>\n",
       "      <td>...</td>\n",
       "    </tr>\n",
       "    <tr>\n",
       "      <th>41433</th>\n",
       "      <td>43380</td>\n",
       "      <td>Постный борщ с фасолью</td>\n",
       "      <td>Супы</td>\n",
       "      <td>Украинская кухня</td>\n",
       "      <td>[белая фасоль, овощной бульон, свекла, картофе...</td>\n",
       "    </tr>\n",
       "    <tr>\n",
       "      <th>41434</th>\n",
       "      <td>80446</td>\n",
       "      <td>Суп энгамат</td>\n",
       "      <td>Супы</td>\n",
       "      <td>Шведская кухня</td>\n",
       "      <td>[цветная капуста, морковь, картофель, лук-поре...</td>\n",
       "    </tr>\n",
       "    <tr>\n",
       "      <th>41435</th>\n",
       "      <td>136820</td>\n",
       "      <td>Гороховый суп с блинчиками</td>\n",
       "      <td>Супы</td>\n",
       "      <td>Шведская кухня</td>\n",
       "      <td>[горох, репчатый лук, гвоздика, свиная рулька,...</td>\n",
       "    </tr>\n",
       "    <tr>\n",
       "      <th>41436</th>\n",
       "      <td>18014</td>\n",
       "      <td>Суп из брокколи и кростини с сыром бри</td>\n",
       "      <td>Супы</td>\n",
       "      <td>Шведская кухня</td>\n",
       "      <td>[оливковое масло, репчатый лук, овощной бульон...</td>\n",
       "    </tr>\n",
       "    <tr>\n",
       "      <th>41437</th>\n",
       "      <td>49530</td>\n",
       "      <td>Сливочный суп с фрикадельками</td>\n",
       "      <td>Супы</td>\n",
       "      <td>Шведская кухня</td>\n",
       "      <td>[картофель, репчатый лук, мясной фарш, морковь...</td>\n",
       "    </tr>\n",
       "  </tbody>\n",
       "</table>\n",
       "<p>41438 rows × 5 columns</p>\n",
       "</div>"
      ],
      "text/plain": [
       "           id                                   title             course  \\\n",
       "0       28195           Банановое мороженое с корицей  Выпечка и десерты   \n",
       "1       28141              Ананасово-кокосовый шербет  Выпечка и десерты   \n",
       "2       27929      Десерт из манго, клубники и текилы  Выпечка и десерты   \n",
       "3       28192         Ананас с соусом из манго и рома  Выпечка и десерты   \n",
       "4       28463               Клубничный соус с текилой  Выпечка и десерты   \n",
       "...       ...                                     ...                ...   \n",
       "41433   43380                  Постный борщ с фасолью               Супы   \n",
       "41434   80446                             Суп энгамат               Супы   \n",
       "41435  136820              Гороховый суп с блинчиками               Супы   \n",
       "41436   18014  Суп из брокколи и кростини с сыром бри               Супы   \n",
       "41437   49530           Сливочный суп с фрикадельками               Супы   \n",
       "\n",
       "                cuisine                                        ingredients  \n",
       "0       Карибская кухня  [бананы, лимонный сок, молотая корица, ванильн...  \n",
       "1       Карибская кухня  [сахар, кокосовое молоко, корень имбиря, анана...  \n",
       "2       Карибская кухня  [клубника, манго, сахар, тертая цедра лайма, т...  \n",
       "3       Карибская кухня  [манго, темный ром, сок лайма, сахар, тертая ц...  \n",
       "4       Карибская кухня  [клубника, сахарная пудра, сок лайма, текила, ...  \n",
       "...                 ...                                                ...  \n",
       "41433  Украинская кухня  [белая фасоль, овощной бульон, свекла, картофе...  \n",
       "41434    Шведская кухня  [цветная капуста, морковь, картофель, лук-поре...  \n",
       "41435    Шведская кухня  [горох, репчатый лук, гвоздика, свиная рулька,...  \n",
       "41436    Шведская кухня  [оливковое масло, репчатый лук, овощной бульон...  \n",
       "41437    Шведская кухня  [картофель, репчатый лук, мясной фарш, морковь...  \n",
       "\n",
       "[41438 rows x 5 columns]"
      ]
     },
     "execution_count": 6,
     "metadata": {},
     "output_type": "execute_result"
    }
   ],
   "source": [
    "df = pd.read_json(data_path.joinpath('ready_dataframe.json'))\n",
    "df = map_df_ingredients_element(compose(str.lower, str.strip), df)\n",
    "df"
   ]
  },
  {
   "cell_type": "markdown",
   "id": "acd92478-e00c-4507-9cd9-bccc0e6e4a1c",
   "metadata": {},
   "source": [
    "## Работа с ингридиентами"
   ]
  },
  {
   "cell_type": "markdown",
   "id": "4803caf6-ff99-4f27-8b85-d2e570daee43",
   "metadata": {},
   "source": [
    "Удобнее работать с листом листов:"
   ]
  },
  {
   "cell_type": "code",
   "execution_count": 22,
   "id": "d83a2ede-2ce3-494e-884a-8e6ba5a8be34",
   "metadata": {},
   "outputs": [
    {
     "data": {
      "text/plain": [
       "[['бананы', 'лимонный сок', 'молотая корица', 'ванильное мороженое'],\n",
       " ['сахар', 'кокосовое молоко', 'корень имбиря', 'ананас', 'сок лайма'],\n",
       " ['клубника',\n",
       "  'манго',\n",
       "  'сахар',\n",
       "  'тертая цедра лайма',\n",
       "  'текила',\n",
       "  'сок лайма',\n",
       "  'апельсиновый ликер']]"
      ]
     },
     "execution_count": 22,
     "metadata": {},
     "output_type": "execute_result"
    }
   ],
   "source": [
    "ingredients = list(df['ingredients'])\n",
    "# TODO !!!!!!!!! Временно берем только первые несколько записей \n",
    "ingredients = ingredients[:20]\n",
    "ingredients[:3]"
   ]
  },
  {
   "cell_type": "markdown",
   "id": "b6d59646-3337-4a30-b94c-d6314fb73d00",
   "metadata": {},
   "source": [
    "### Самые часто встречающиеся слова в ингридиентах"
   ]
  },
  {
   "cell_type": "code",
   "execution_count": 23,
   "id": "c403e384-8ec0-416c-8bf7-b382b6db1094",
   "metadata": {},
   "outputs": [
    {
     "data": {
      "text/plain": [
       "[('сахар', 15),\n",
       " ('пшеничная мука', 14),\n",
       " ('куриное яйцо', 11),\n",
       " ('сливочное масло', 9),\n",
       " ('соль', 7),\n",
       " ('сахарная пудра', 5),\n",
       " ('сок лайма', 4),\n",
       " ('сметана', 3),\n",
       " ('сода', 3),\n",
       " ('корица', 3)]"
      ]
     },
     "execution_count": 23,
     "metadata": {},
     "output_type": "execute_result"
    }
   ],
   "source": [
    "ingredients_counter = Counter()\n",
    "for lst in ingredients:\n",
    "    ingredients_counter.update(lst)\n",
    "# first_ingresients, _ = zip(*ingredients_counter.most_common(10))\n",
    "# first_ingresients = list(first_ingresients)\n",
    "# first_ingresients\n",
    "ingredients_counter.most_common(10)"
   ]
  },
  {
   "cell_type": "code",
   "execution_count": 24,
   "id": "8a8624b5-3031-4135-8e96-e2629c32b64b",
   "metadata": {},
   "outputs": [],
   "source": [
    "it = lmap(compose(tuple, nltk.word_tokenize), ingredients_counter)\n",
    "# it"
   ]
  },
  {
   "cell_type": "markdown",
   "id": "f152605a-e739-435e-86e1-add757188c03",
   "metadata": {},
   "source": [
    "### Токенизация"
   ]
  },
  {
   "cell_type": "code",
   "execution_count": 52,
   "id": "fd1c36b6-5ce0-4f4e-b00a-6ccde843f86a",
   "metadata": {},
   "outputs": [
    {
     "data": {
      "text/plain": [
       "[[['бананы'],\n",
       "  ['лимонный', 'сок'],\n",
       "  ['молотая', 'корица'],\n",
       "  ['ванильное', 'мороженое']],\n",
       " [['сахар'],\n",
       "  ['кокосовое', 'молоко'],\n",
       "  ['корень', 'имбиря'],\n",
       "  ['ананас'],\n",
       "  ['сок', 'лайма']],\n",
       " [['клубника'],\n",
       "  ['манго'],\n",
       "  ['сахар'],\n",
       "  ['тертая', 'цедра', 'лайма'],\n",
       "  ['текила'],\n",
       "  ['сок', 'лайма'],\n",
       "  ['апельсиновый', 'ликер']],\n",
       " [['манго'],\n",
       "  ['темный', 'ром'],\n",
       "  ['сок', 'лайма'],\n",
       "  ['сахар'],\n",
       "  ['тертая', 'цедра', 'лайма'],\n",
       "  ['ананас']]]"
      ]
     },
     "execution_count": 52,
     "metadata": {},
     "output_type": "execute_result"
    }
   ],
   "source": [
    "ingredients_tokenized = lens.Each().Each().modify(nltk.word_tokenize)(ingredients)\n",
    "ingredients_tokenized[:4]"
   ]
  },
  {
   "cell_type": "markdown",
   "id": "b927e726-f87f-4378-81ea-79b0f77c05af",
   "metadata": {},
   "source": [
    "### Стоп-слова"
   ]
  },
  {
   "cell_type": "code",
   "execution_count": 55,
   "id": "7ba5bab3-648d-4869-aa48-f3cde9247424",
   "metadata": {},
   "outputs": [],
   "source": [
    "stopwords = nltk.corpus.stopwords.words('russian')"
   ]
  },
  {
   "cell_type": "code",
   "execution_count": 56,
   "id": "04908c5d-33c3-464d-9112-c0afeb873dcd",
   "metadata": {},
   "outputs": [
    {
     "data": {
      "text/plain": [
       "[[['бананы'],\n",
       "  ['лимонный', 'сок'],\n",
       "  ['молотая', 'корица'],\n",
       "  ['ванильное', 'мороженое']],\n",
       " [['сахар'],\n",
       "  ['кокосовое', 'молоко'],\n",
       "  ['корень', 'имбиря'],\n",
       "  ['ананас'],\n",
       "  ['сок', 'лайма']],\n",
       " [['клубника'],\n",
       "  ['манго'],\n",
       "  ['сахар'],\n",
       "  ['тертая', 'цедра', 'лайма'],\n",
       "  ['текила'],\n",
       "  ['сок', 'лайма'],\n",
       "  ['апельсиновый', 'ликер']],\n",
       " [['манго'],\n",
       "  ['темный', 'ром'],\n",
       "  ['сок', 'лайма'],\n",
       "  ['сахар'],\n",
       "  ['тертая', 'цедра', 'лайма'],\n",
       "  ['ананас']]]"
      ]
     },
     "execution_count": 56,
     "metadata": {},
     "output_type": "execute_result"
    }
   ],
   "source": [
    "ingredients_with_stopwords = (lens\n",
    "    .Each().Each().modify(\n",
    "        lambda tokenized: list(filter(lambda word: word not in stopwords, tokenized))\n",
    "    )(ingredients_tokenized)\n",
    ")\n",
    "ingredients_with_stopwords[:4]"
   ]
  },
  {
   "cell_type": "markdown",
   "id": "51d931a6-a5ef-4c65-8199-4e3078fd7bfb",
   "metadata": {},
   "source": [
    "### Лемматизация"
   ]
  },
  {
   "cell_type": "code",
   "execution_count": 57,
   "id": "82a9cb15-8b4d-43aa-b6eb-f58043fd8be9",
   "metadata": {},
   "outputs": [
    {
     "data": {
      "text/plain": [
       "[[['банан'],\n",
       "  ['лимонный', 'сок'],\n",
       "  ['молотый', 'корица'],\n",
       "  ['ванильный', 'мороженое']],\n",
       " [['сахар'],\n",
       "  ['кокосовый', 'молоко'],\n",
       "  ['корень', 'имбирь'],\n",
       "  ['ананас'],\n",
       "  ['сок', 'лайм']],\n",
       " [['клубника'],\n",
       "  ['манго'],\n",
       "  ['сахар'],\n",
       "  ['тёртый', 'цедра', 'лайм'],\n",
       "  ['текила'],\n",
       "  ['сок', 'лайм'],\n",
       "  ['апельсиновый', 'ликёр']],\n",
       " [['манго'],\n",
       "  ['тёмный', 'ром'],\n",
       "  ['сок', 'лайм'],\n",
       "  ['сахар'],\n",
       "  ['тёртый', 'цедра', 'лайм'],\n",
       "  ['ананас']]]"
      ]
     },
     "execution_count": 57,
     "metadata": {},
     "output_type": "execute_result"
    }
   ],
   "source": [
    "morph = pymorphy2.MorphAnalyzer()\n",
    "\n",
    "ingredients_lemmatized = lens.Each().Each().Each().modify(\n",
    "    lambda word: morph.parse(word)[0].normal_form\n",
    ")(ingredients_with_stopwords)\n",
    "ingredients_lemmatized[:4]"
   ]
  },
  {
   "cell_type": "markdown",
   "id": "c35e2f04-8ee4-4aec-a28e-cb12b4f6ccfe",
   "metadata": {},
   "source": [
    "## Прочее:"
   ]
  },
  {
   "cell_type": "code",
   "execution_count": null,
   "id": "87ef55b7-a142-4fe0-884d-00f672da020e",
   "metadata": {},
   "outputs": [],
   "source": [
    "it = df.groupby('cuisine').count()\n",
    "it.sort_values('title', ascending=False).head(30)"
   ]
  },
  {
   "cell_type": "code",
   "execution_count": null,
   "id": "8891bcd1-671e-4efa-99d9-fc983bb3c670",
   "metadata": {},
   "outputs": [],
   "source": []
  }
 ],
 "metadata": {
  "kernelspec": {
   "display_name": "Python 3 (ipykernel)",
   "language": "python",
   "name": "python3"
  },
  "language_info": {
   "codemirror_mode": {
    "name": "ipython",
    "version": 3
   },
   "file_extension": ".py",
   "mimetype": "text/x-python",
   "name": "python",
   "nbconvert_exporter": "python",
   "pygments_lexer": "ipython3",
   "version": "3.10.8"
  }
 },
 "nbformat": 4,
 "nbformat_minor": 5
}
