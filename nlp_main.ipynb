{
 "cells": [
  {
   "cell_type": "code",
   "execution_count": 89,
   "id": "efee2b7a-0175-491d-9783-5612e42506b0",
   "metadata": {},
   "outputs": [],
   "source": [
    "from toolz import *\n",
    "import numpy as np\n",
    "import matplotlib.pyplot as plt\n",
    "import pandas as pd\n",
    "import plotly.graph_objects as go\n",
    "%matplotlib widget\n",
    "\n",
    "\n",
    "import pathlib\n",
    "from lenses import lens\n",
    "\n",
    "from collections import Counter\n",
    "\n",
    "import re\n",
    "import nltk\n",
    "import pymorphy2\n",
    "import fasttext.util\n",
    "\n",
    "import tensorflow as tf\n",
    "from tensorflow import keras\n",
    "from tensorflow.keras import layers"
   ]
  },
  {
   "cell_type": "code",
   "execution_count": 35,
   "id": "3a7365e6-8a0f-4d9d-9630-c2d47dd5072c",
   "metadata": {
    "tags": []
   },
   "outputs": [
    {
     "name": "stderr",
     "output_type": "stream",
     "text": [
      "[nltk_data] Downloading collection 'popular'\n",
      "[nltk_data]    | \n",
      "[nltk_data]    | Downloading package cmudict to\n",
      "[nltk_data]    |     C:\\Users\\aakomlev\\AppData\\Roaming\\nltk_data...\n",
      "[nltk_data]    |   Package cmudict is already up-to-date!\n",
      "[nltk_data]    | Downloading package gazetteers to\n",
      "[nltk_data]    |     C:\\Users\\aakomlev\\AppData\\Roaming\\nltk_data...\n",
      "[nltk_data]    |   Package gazetteers is already up-to-date!\n",
      "[nltk_data]    | Downloading package genesis to\n",
      "[nltk_data]    |     C:\\Users\\aakomlev\\AppData\\Roaming\\nltk_data...\n",
      "[nltk_data]    |   Package genesis is already up-to-date!\n",
      "[nltk_data]    | Downloading package gutenberg to\n",
      "[nltk_data]    |     C:\\Users\\aakomlev\\AppData\\Roaming\\nltk_data...\n",
      "[nltk_data]    |   Package gutenberg is already up-to-date!\n",
      "[nltk_data]    | Downloading package inaugural to\n",
      "[nltk_data]    |     C:\\Users\\aakomlev\\AppData\\Roaming\\nltk_data...\n",
      "[nltk_data]    |   Package inaugural is already up-to-date!\n",
      "[nltk_data]    | Downloading package movie_reviews to\n",
      "[nltk_data]    |     C:\\Users\\aakomlev\\AppData\\Roaming\\nltk_data...\n",
      "[nltk_data]    |   Package movie_reviews is already up-to-date!\n",
      "[nltk_data]    | Downloading package names to\n",
      "[nltk_data]    |     C:\\Users\\aakomlev\\AppData\\Roaming\\nltk_data...\n",
      "[nltk_data]    |   Package names is already up-to-date!\n",
      "[nltk_data]    | Downloading package shakespeare to\n",
      "[nltk_data]    |     C:\\Users\\aakomlev\\AppData\\Roaming\\nltk_data...\n",
      "[nltk_data]    |   Package shakespeare is already up-to-date!\n",
      "[nltk_data]    | Downloading package stopwords to\n",
      "[nltk_data]    |     C:\\Users\\aakomlev\\AppData\\Roaming\\nltk_data...\n",
      "[nltk_data]    |   Package stopwords is already up-to-date!\n",
      "[nltk_data]    | Downloading package treebank to\n",
      "[nltk_data]    |     C:\\Users\\aakomlev\\AppData\\Roaming\\nltk_data...\n",
      "[nltk_data]    |   Package treebank is already up-to-date!\n",
      "[nltk_data]    | Downloading package twitter_samples to\n",
      "[nltk_data]    |     C:\\Users\\aakomlev\\AppData\\Roaming\\nltk_data...\n",
      "[nltk_data]    |   Package twitter_samples is already up-to-date!\n",
      "[nltk_data]    | Downloading package omw to\n",
      "[nltk_data]    |     C:\\Users\\aakomlev\\AppData\\Roaming\\nltk_data...\n",
      "[nltk_data]    |   Package omw is already up-to-date!\n",
      "[nltk_data]    | Downloading package omw-1.4 to\n",
      "[nltk_data]    |     C:\\Users\\aakomlev\\AppData\\Roaming\\nltk_data...\n",
      "[nltk_data]    |   Package omw-1.4 is already up-to-date!\n",
      "[nltk_data]    | Downloading package wordnet to\n",
      "[nltk_data]    |     C:\\Users\\aakomlev\\AppData\\Roaming\\nltk_data...\n",
      "[nltk_data]    |   Package wordnet is already up-to-date!\n",
      "[nltk_data]    | Downloading package wordnet2021 to\n",
      "[nltk_data]    |     C:\\Users\\aakomlev\\AppData\\Roaming\\nltk_data...\n",
      "[nltk_data]    |   Package wordnet2021 is already up-to-date!\n",
      "[nltk_data]    | Downloading package wordnet31 to\n",
      "[nltk_data]    |     C:\\Users\\aakomlev\\AppData\\Roaming\\nltk_data...\n",
      "[nltk_data]    |   Package wordnet31 is already up-to-date!\n",
      "[nltk_data]    | Downloading package wordnet_ic to\n",
      "[nltk_data]    |     C:\\Users\\aakomlev\\AppData\\Roaming\\nltk_data...\n",
      "[nltk_data]    |   Package wordnet_ic is already up-to-date!\n",
      "[nltk_data]    | Downloading package words to\n",
      "[nltk_data]    |     C:\\Users\\aakomlev\\AppData\\Roaming\\nltk_data...\n",
      "[nltk_data]    |   Package words is already up-to-date!\n",
      "[nltk_data]    | Downloading package maxent_ne_chunker to\n",
      "[nltk_data]    |     C:\\Users\\aakomlev\\AppData\\Roaming\\nltk_data...\n",
      "[nltk_data]    |   Package maxent_ne_chunker is already up-to-date!\n",
      "[nltk_data]    | Downloading package punkt to\n",
      "[nltk_data]    |     C:\\Users\\aakomlev\\AppData\\Roaming\\nltk_data...\n",
      "[nltk_data]    |   Package punkt is already up-to-date!\n",
      "[nltk_data]    | Downloading package snowball_data to\n",
      "[nltk_data]    |     C:\\Users\\aakomlev\\AppData\\Roaming\\nltk_data...\n",
      "[nltk_data]    |   Package snowball_data is already up-to-date!\n",
      "[nltk_data]    | Downloading package averaged_perceptron_tagger to\n",
      "[nltk_data]    |     C:\\Users\\aakomlev\\AppData\\Roaming\\nltk_data...\n",
      "[nltk_data]    |   Package averaged_perceptron_tagger is already up-\n",
      "[nltk_data]    |       to-date!\n",
      "[nltk_data]    | \n",
      "[nltk_data]  Done downloading collection popular\n",
      "[nltk_data] Downloading package punkt to\n",
      "[nltk_data]     C:\\Users\\aakomlev\\AppData\\Roaming\\nltk_data...\n",
      "[nltk_data]   Package punkt is already up-to-date!\n",
      "[nltk_data] Downloading package averaged_perceptron_tagger_ru to\n",
      "[nltk_data]     C:\\Users\\aakomlev\\AppData\\Roaming\\nltk_data...\n",
      "[nltk_data]   Package averaged_perceptron_tagger_ru is already up-to-\n",
      "[nltk_data]       date!\n",
      "[nltk_data] Downloading package tagsets to\n",
      "[nltk_data]     C:\\Users\\aakomlev\\AppData\\Roaming\\nltk_data...\n",
      "[nltk_data]   Package tagsets is already up-to-date!\n",
      "[nltk_data] Downloading package stopwords to\n",
      "[nltk_data]     C:\\Users\\aakomlev\\AppData\\Roaming\\nltk_data...\n",
      "[nltk_data]   Package stopwords is already up-to-date!\n"
     ]
    },
    {
     "data": {
      "text/plain": [
       "True"
      ]
     },
     "execution_count": 35,
     "metadata": {},
     "output_type": "execute_result"
    }
   ],
   "source": [
    "nltk.download('popular')\n",
    "nltk.download('punkt')\n",
    "nltk.download('averaged_perceptron_tagger_ru')\n",
    "nltk.download('tagsets')\n",
    "nltk.download('stopwords')"
   ]
  },
  {
   "cell_type": "code",
   "execution_count": 36,
   "id": "1f57b13f-0e68-4238-89be-f329432f34dc",
   "metadata": {},
   "outputs": [],
   "source": [
    "lmap = compose(list, map)\n",
    "ltake = compose(list, take)"
   ]
  },
  {
   "cell_type": "code",
   "execution_count": 37,
   "id": "f0c653bd-a45d-4b2e-ae48-9d8974097a18",
   "metadata": {},
   "outputs": [],
   "source": [
    "def map_df_ingredients_element(func, df):\n",
    "    df = df.copy()\n",
    "    df['ingredients'] = df['ingredients'].map(lambda v: lmap(func, v))\n",
    "    return df"
   ]
  },
  {
   "cell_type": "code",
   "execution_count": 38,
   "id": "38a34a4c-caa8-439e-9c5d-6cd5931754dc",
   "metadata": {},
   "outputs": [],
   "source": [
    "data_path = pathlib.Path('data')"
   ]
  },
  {
   "cell_type": "markdown",
   "id": "6ddb79ff-902b-4147-8ece-4e403228b15a",
   "metadata": {},
   "source": [
    "## Загружаем датафрейм с данными"
   ]
  },
  {
   "cell_type": "code",
   "execution_count": 39,
   "id": "07d413a1-165f-4c00-828c-135c0227fbec",
   "metadata": {},
   "outputs": [
    {
     "data": {
      "text/html": [
       "<div>\n",
       "<style scoped>\n",
       "    .dataframe tbody tr th:only-of-type {\n",
       "        vertical-align: middle;\n",
       "    }\n",
       "\n",
       "    .dataframe tbody tr th {\n",
       "        vertical-align: top;\n",
       "    }\n",
       "\n",
       "    .dataframe thead th {\n",
       "        text-align: right;\n",
       "    }\n",
       "</style>\n",
       "<table border=\"1\" class=\"dataframe\">\n",
       "  <thead>\n",
       "    <tr style=\"text-align: right;\">\n",
       "      <th></th>\n",
       "      <th>id</th>\n",
       "      <th>title</th>\n",
       "      <th>course</th>\n",
       "      <th>cuisine</th>\n",
       "      <th>ingredients</th>\n",
       "    </tr>\n",
       "  </thead>\n",
       "  <tbody>\n",
       "    <tr>\n",
       "      <th>0</th>\n",
       "      <td>28195</td>\n",
       "      <td>Банановое мороженое с корицей</td>\n",
       "      <td>Выпечка и десерты</td>\n",
       "      <td>Карибская кухня</td>\n",
       "      <td>[бананы, лимонный сок, молотая корица, ванильн...</td>\n",
       "    </tr>\n",
       "    <tr>\n",
       "      <th>1</th>\n",
       "      <td>28141</td>\n",
       "      <td>Ананасово-кокосовый шербет</td>\n",
       "      <td>Выпечка и десерты</td>\n",
       "      <td>Карибская кухня</td>\n",
       "      <td>[сахар, кокосовое молоко, корень имбиря, анана...</td>\n",
       "    </tr>\n",
       "    <tr>\n",
       "      <th>2</th>\n",
       "      <td>27929</td>\n",
       "      <td>Десерт из манго, клубники и текилы</td>\n",
       "      <td>Выпечка и десерты</td>\n",
       "      <td>Карибская кухня</td>\n",
       "      <td>[клубника, манго, сахар, тертая цедра лайма, т...</td>\n",
       "    </tr>\n",
       "    <tr>\n",
       "      <th>3</th>\n",
       "      <td>28192</td>\n",
       "      <td>Ананас с соусом из манго и рома</td>\n",
       "      <td>Выпечка и десерты</td>\n",
       "      <td>Карибская кухня</td>\n",
       "      <td>[манго, темный ром, сок лайма, сахар, тертая ц...</td>\n",
       "    </tr>\n",
       "    <tr>\n",
       "      <th>4</th>\n",
       "      <td>28463</td>\n",
       "      <td>Клубничный соус с текилой</td>\n",
       "      <td>Выпечка и десерты</td>\n",
       "      <td>Карибская кухня</td>\n",
       "      <td>[клубника, сахарная пудра, сок лайма, текила, ...</td>\n",
       "    </tr>\n",
       "    <tr>\n",
       "      <th>...</th>\n",
       "      <td>...</td>\n",
       "      <td>...</td>\n",
       "      <td>...</td>\n",
       "      <td>...</td>\n",
       "      <td>...</td>\n",
       "    </tr>\n",
       "    <tr>\n",
       "      <th>41433</th>\n",
       "      <td>43380</td>\n",
       "      <td>Постный борщ с фасолью</td>\n",
       "      <td>Супы</td>\n",
       "      <td>Украинская кухня</td>\n",
       "      <td>[белая фасоль, овощной бульон, свекла, картофе...</td>\n",
       "    </tr>\n",
       "    <tr>\n",
       "      <th>41434</th>\n",
       "      <td>80446</td>\n",
       "      <td>Суп энгамат</td>\n",
       "      <td>Супы</td>\n",
       "      <td>Шведская кухня</td>\n",
       "      <td>[цветная капуста, морковь, картофель, лук-поре...</td>\n",
       "    </tr>\n",
       "    <tr>\n",
       "      <th>41435</th>\n",
       "      <td>136820</td>\n",
       "      <td>Гороховый суп с блинчиками</td>\n",
       "      <td>Супы</td>\n",
       "      <td>Шведская кухня</td>\n",
       "      <td>[горох, репчатый лук, гвоздика, свиная рулька,...</td>\n",
       "    </tr>\n",
       "    <tr>\n",
       "      <th>41436</th>\n",
       "      <td>18014</td>\n",
       "      <td>Суп из брокколи и кростини с сыром бри</td>\n",
       "      <td>Супы</td>\n",
       "      <td>Шведская кухня</td>\n",
       "      <td>[оливковое масло, репчатый лук, овощной бульон...</td>\n",
       "    </tr>\n",
       "    <tr>\n",
       "      <th>41437</th>\n",
       "      <td>49530</td>\n",
       "      <td>Сливочный суп с фрикадельками</td>\n",
       "      <td>Супы</td>\n",
       "      <td>Шведская кухня</td>\n",
       "      <td>[картофель, репчатый лук, мясной фарш, морковь...</td>\n",
       "    </tr>\n",
       "  </tbody>\n",
       "</table>\n",
       "<p>41438 rows × 5 columns</p>\n",
       "</div>"
      ],
      "text/plain": [
       "           id                                   title             course  \\\n",
       "0       28195           Банановое мороженое с корицей  Выпечка и десерты   \n",
       "1       28141              Ананасово-кокосовый шербет  Выпечка и десерты   \n",
       "2       27929      Десерт из манго, клубники и текилы  Выпечка и десерты   \n",
       "3       28192         Ананас с соусом из манго и рома  Выпечка и десерты   \n",
       "4       28463               Клубничный соус с текилой  Выпечка и десерты   \n",
       "...       ...                                     ...                ...   \n",
       "41433   43380                  Постный борщ с фасолью               Супы   \n",
       "41434   80446                             Суп энгамат               Супы   \n",
       "41435  136820              Гороховый суп с блинчиками               Супы   \n",
       "41436   18014  Суп из брокколи и кростини с сыром бри               Супы   \n",
       "41437   49530           Сливочный суп с фрикадельками               Супы   \n",
       "\n",
       "                cuisine                                        ingredients  \n",
       "0       Карибская кухня  [бананы, лимонный сок, молотая корица, ванильн...  \n",
       "1       Карибская кухня  [сахар, кокосовое молоко, корень имбиря, анана...  \n",
       "2       Карибская кухня  [клубника, манго, сахар, тертая цедра лайма, т...  \n",
       "3       Карибская кухня  [манго, темный ром, сок лайма, сахар, тертая ц...  \n",
       "4       Карибская кухня  [клубника, сахарная пудра, сок лайма, текила, ...  \n",
       "...                 ...                                                ...  \n",
       "41433  Украинская кухня  [белая фасоль, овощной бульон, свекла, картофе...  \n",
       "41434    Шведская кухня  [цветная капуста, морковь, картофель, лук-поре...  \n",
       "41435    Шведская кухня  [горох, репчатый лук, гвоздика, свиная рулька,...  \n",
       "41436    Шведская кухня  [оливковое масло, репчатый лук, овощной бульон...  \n",
       "41437    Шведская кухня  [картофель, репчатый лук, мясной фарш, морковь...  \n",
       "\n",
       "[41438 rows x 5 columns]"
      ]
     },
     "execution_count": 39,
     "metadata": {},
     "output_type": "execute_result"
    }
   ],
   "source": [
    "df = pd.read_json(data_path.joinpath('ready_dataframe.json'))\n",
    "df = map_df_ingredients_element(compose(str.lower, str.strip), df)\n",
    "df"
   ]
  },
  {
   "cell_type": "markdown",
   "id": "acd92478-e00c-4507-9cd9-bccc0e6e4a1c",
   "metadata": {},
   "source": [
    "## Работа с ингридиентами"
   ]
  },
  {
   "cell_type": "markdown",
   "id": "4803caf6-ff99-4f27-8b85-d2e570daee43",
   "metadata": {},
   "source": [
    "Удобнее работать с листом листов:"
   ]
  },
  {
   "cell_type": "code",
   "execution_count": 40,
   "id": "d83a2ede-2ce3-494e-884a-8e6ba5a8be34",
   "metadata": {},
   "outputs": [
    {
     "data": {
      "text/plain": [
       "[['бананы', 'лимонный сок', 'молотая корица', 'ванильное мороженое'],\n",
       " ['сахар', 'кокосовое молоко', 'корень имбиря', 'ананас', 'сок лайма'],\n",
       " ['клубника',\n",
       "  'манго',\n",
       "  'сахар',\n",
       "  'тертая цедра лайма',\n",
       "  'текила',\n",
       "  'сок лайма',\n",
       "  'апельсиновый ликер']]"
      ]
     },
     "execution_count": 40,
     "metadata": {},
     "output_type": "execute_result"
    }
   ],
   "source": [
    "ingredients = list(df['ingredients'])\n",
    "# TODO !!!!!!!!! Временно берем только первые несколько записей \n",
    "ingredients = ingredients[:20]\n",
    "ingredients[:3]"
   ]
  },
  {
   "cell_type": "markdown",
   "id": "b6d59646-3337-4a30-b94c-d6314fb73d00",
   "metadata": {},
   "source": [
    "### Самые часто встречающиеся слова в ингридиентах"
   ]
  },
  {
   "cell_type": "code",
   "execution_count": 41,
   "id": "c403e384-8ec0-416c-8bf7-b382b6db1094",
   "metadata": {},
   "outputs": [
    {
     "data": {
      "text/plain": [
       "[('сахар', 15),\n",
       " ('пшеничная мука', 14),\n",
       " ('куриное яйцо', 11),\n",
       " ('сливочное масло', 9),\n",
       " ('соль', 7),\n",
       " ('сахарная пудра', 5),\n",
       " ('сок лайма', 4),\n",
       " ('сметана', 3),\n",
       " ('сода', 3),\n",
       " ('корица', 3)]"
      ]
     },
     "execution_count": 41,
     "metadata": {},
     "output_type": "execute_result"
    }
   ],
   "source": [
    "ingredients_counter = Counter()\n",
    "for lst in ingredients:\n",
    "    ingredients_counter.update(lst)\n",
    "# first_ingresients, _ = zip(*ingredients_counter.most_common(10))\n",
    "# first_ingresients = list(first_ingresients)\n",
    "# first_ingresients\n",
    "ingredients_counter.most_common(10)"
   ]
  },
  {
   "cell_type": "code",
   "execution_count": 42,
   "id": "af98db77-67ff-47ce-996b-26f573a929fc",
   "metadata": {},
   "outputs": [
    {
     "data": {
      "text/plain": [
       "[('банан',),\n",
       " ('лимонный', 'сок'),\n",
       " ('молотый', 'корица'),\n",
       " ('ванильный', 'мороженое'),\n",
       " ('сахар',),\n",
       " ('кокосовый', 'молоко'),\n",
       " ('корень', 'имбирь'),\n",
       " ('ананас',),\n",
       " ('сок', 'лайм'),\n",
       " ('клубника',)]"
      ]
     },
     "execution_count": 42,
     "metadata": {},
     "output_type": "execute_result"
    }
   ],
   "source": [
    "morph = pymorphy2.MorphAnalyzer()\n",
    "def lemmatize(word):\n",
    "    return morph.parse(word)[0].normal_form\n",
    "\n",
    "it = lmap(compose(tuple, nltk.word_tokenize), ingredients_counter)\n",
    "it = lens.Each().Each().modify(lemmatize)(it)\n",
    "it[:10]"
   ]
  },
  {
   "cell_type": "markdown",
   "id": "f152605a-e739-435e-86e1-add757188c03",
   "metadata": {},
   "source": [
    "### Токенизация"
   ]
  },
  {
   "cell_type": "code",
   "execution_count": 43,
   "id": "fd1c36b6-5ce0-4f4e-b00a-6ccde843f86a",
   "metadata": {},
   "outputs": [
    {
     "data": {
      "text/plain": [
       "[[['бананы'],\n",
       "  ['лимонный', 'сок'],\n",
       "  ['молотая', 'корица'],\n",
       "  ['ванильное', 'мороженое']],\n",
       " [['сахар'],\n",
       "  ['кокосовое', 'молоко'],\n",
       "  ['корень', 'имбиря'],\n",
       "  ['ананас'],\n",
       "  ['сок', 'лайма']],\n",
       " [['клубника'],\n",
       "  ['манго'],\n",
       "  ['сахар'],\n",
       "  ['тертая', 'цедра', 'лайма'],\n",
       "  ['текила'],\n",
       "  ['сок', 'лайма'],\n",
       "  ['апельсиновый', 'ликер']],\n",
       " [['манго'],\n",
       "  ['темный', 'ром'],\n",
       "  ['сок', 'лайма'],\n",
       "  ['сахар'],\n",
       "  ['тертая', 'цедра', 'лайма'],\n",
       "  ['ананас']]]"
      ]
     },
     "execution_count": 43,
     "metadata": {},
     "output_type": "execute_result"
    }
   ],
   "source": [
    "ingredients_tokenized = lens.Each().Each().modify(nltk.word_tokenize)(ingredients)\n",
    "ingredients_tokenized[:4]"
   ]
  },
  {
   "cell_type": "markdown",
   "id": "b927e726-f87f-4378-81ea-79b0f77c05af",
   "metadata": {},
   "source": [
    "### Стоп-слова и фильтрация"
   ]
  },
  {
   "cell_type": "code",
   "execution_count": 44,
   "id": "7ba5bab3-648d-4869-aa48-f3cde9247424",
   "metadata": {},
   "outputs": [],
   "source": [
    "stopwords = nltk.corpus.stopwords.words('russian')"
   ]
  },
  {
   "cell_type": "code",
   "execution_count": 45,
   "id": "65d5a043-e3a6-42fb-91c1-1b4eda58640a",
   "metadata": {},
   "outputs": [],
   "source": [
    "rx = re.compile(r'[a-zA-Zа-яА-Я][a-zA-Zа-яА-Я\\d\\-]*')"
   ]
  },
  {
   "cell_type": "code",
   "execution_count": 46,
   "id": "04908c5d-33c3-464d-9112-c0afeb873dcd",
   "metadata": {},
   "outputs": [
    {
     "data": {
      "text/plain": [
       "[[('бананы',),\n",
       "  ('лимонный', 'сок'),\n",
       "  ('молотая', 'корица'),\n",
       "  ('ванильное', 'мороженое')],\n",
       " [('сахар',),\n",
       "  ('кокосовое', 'молоко'),\n",
       "  ('корень', 'имбиря'),\n",
       "  ('ананас',),\n",
       "  ('сок', 'лайма')],\n",
       " [('клубника',),\n",
       "  ('манго',),\n",
       "  ('сахар',),\n",
       "  ('тертая', 'цедра', 'лайма'),\n",
       "  ('текила',),\n",
       "  ('сок', 'лайма'),\n",
       "  ('апельсиновый', 'ликер')],\n",
       " [('манго',),\n",
       "  ('темный', 'ром'),\n",
       "  ('сок', 'лайма'),\n",
       "  ('сахар',),\n",
       "  ('тертая', 'цедра', 'лайма'),\n",
       "  ('ананас',)]]"
      ]
     },
     "execution_count": 46,
     "metadata": {},
     "output_type": "execute_result"
    }
   ],
   "source": [
    "ingredients_filtered = (lens\n",
    "    .Each().Each().modify(\n",
    "        lambda tokenized: tuple(filter(\n",
    "            lambda word: word not in stopwords and rx.match(word),\n",
    "            tokenized))\n",
    "    )(ingredients_tokenized)\n",
    ")\n",
    "ingredients_filtered[:4]"
   ]
  },
  {
   "cell_type": "markdown",
   "id": "51d931a6-a5ef-4c65-8199-4e3078fd7bfb",
   "metadata": {},
   "source": [
    "### Лемматизация"
   ]
  },
  {
   "cell_type": "code",
   "execution_count": 47,
   "id": "82a9cb15-8b4d-43aa-b6eb-f58043fd8be9",
   "metadata": {},
   "outputs": [
    {
     "data": {
      "text/plain": [
       "[[('банан',),\n",
       "  ('лимонный', 'сок'),\n",
       "  ('молотый', 'корица'),\n",
       "  ('ванильный', 'мороженое')],\n",
       " [('сахар',),\n",
       "  ('кокосовый', 'молоко'),\n",
       "  ('корень', 'имбирь'),\n",
       "  ('ананас',),\n",
       "  ('сок', 'лайм')],\n",
       " [('клубника',),\n",
       "  ('манго',),\n",
       "  ('сахар',),\n",
       "  ('тёртый', 'цедра', 'лайм'),\n",
       "  ('текила',),\n",
       "  ('сок', 'лайм'),\n",
       "  ('апельсиновый', 'ликёр')],\n",
       " [('манго',),\n",
       "  ('тёмный', 'ром'),\n",
       "  ('сок', 'лайм'),\n",
       "  ('сахар',),\n",
       "  ('тёртый', 'цедра', 'лайм'),\n",
       "  ('ананас',)]]"
      ]
     },
     "execution_count": 47,
     "metadata": {},
     "output_type": "execute_result"
    }
   ],
   "source": [
    "ingredients_lemmatized = lens.Each().Each().Each().modify(lemmatize)(ingredients_filtered)\n",
    "ingredients_lemmatized[:4]"
   ]
  },
  {
   "cell_type": "code",
   "execution_count": 48,
   "id": "2526af97",
   "metadata": {},
   "outputs": [
    {
     "data": {
      "text/plain": [
       "['абрикосовый',\n",
       " 'ананас',\n",
       " 'апельсиновый',\n",
       " 'банан',\n",
       " 'белок',\n",
       " 'брынза',\n",
       " 'ванилин',\n",
       " 'ваниль',\n",
       " 'ванильный',\n",
       " 'вишня']"
      ]
     },
     "execution_count": 48,
     "metadata": {},
     "output_type": "execute_result"
    }
   ],
   "source": [
    "all_words_lemmatized = Counter(lens.Each().Each().Each().collect()(ingredients_lemmatized))\n",
    "\n",
    "all_words_lemmatized_list = list(all_words_lemmatized)\n",
    "all_words_lemmatized_list.sort()\n",
    "all_words_lemmatized_list[:10]\n",
    "# dict(all_words.items())"
   ]
  },
  {
   "cell_type": "code",
   "execution_count": 49,
   "id": "fe4e3e2e",
   "metadata": {},
   "outputs": [
    {
     "data": {
      "text/plain": [
       "'cc.ru.300.bin'"
      ]
     },
     "execution_count": 49,
     "metadata": {},
     "output_type": "execute_result"
    }
   ],
   "source": [
    "#ОЧЕНЬ ДОЛГО\n",
    "fasttext.util.download_model('ru', if_exists='ignore')"
   ]
  },
  {
   "cell_type": "code",
   "execution_count": 50,
   "id": "a8d4327f",
   "metadata": {},
   "outputs": [
    {
     "data": {
      "text/plain": [
       "300"
      ]
     },
     "execution_count": 50,
     "metadata": {},
     "output_type": "execute_result"
    }
   ],
   "source": [
    "ft = fasttext.load_model('cc.ru.300.bin')\n",
    "dim = ft.get_dimension()\n",
    "dim"
   ]
  },
  {
   "cell_type": "markdown",
   "id": "6bc90973",
   "metadata": {},
   "source": [
    "### Получаем векторы для слов "
   ]
  },
  {
   "cell_type": "code",
   "execution_count": 51,
   "id": "1f490b04",
   "metadata": {},
   "outputs": [],
   "source": [
    "word_embeddings_dict = {}\n",
    "for word in all_words_lemmatized:\n",
    "    word_embeddings_dict[word] = ft.get_word_vector(word)"
   ]
  },
  {
   "cell_type": "code",
   "execution_count": 52,
   "id": "67199b34-d757-4216-b887-18d9a1da0fef",
   "metadata": {},
   "outputs": [
    {
     "data": {
      "text/plain": [
       "('банан',\n",
       " array([ 1.94887385e-01, -6.60526380e-02,  7.88492113e-02,  9.03176740e-02,\n",
       "         8.94880146e-02, -1.48379147e-01,  2.24311762e-02, -4.75879619e-03,\n",
       "         1.16267549e-02,  2.68354528e-02, -3.72944064e-02,  1.64822105e-03,\n",
       "         5.10738790e-02,  1.01585977e-01,  6.48163483e-02, -1.15610115e-01,\n",
       "        -3.05616856e-03,  3.19645479e-02, -6.46575615e-02, -6.13481402e-02,\n",
       "        -3.28286402e-02,  7.68222064e-02,  2.55825445e-02,  7.40136206e-03,\n",
       "         7.12529644e-02,  2.17049755e-02,  4.97756004e-02, -8.80596880e-03,\n",
       "        -4.95500583e-03,  5.70715070e-02, -9.71776620e-02,  7.35110492e-02,\n",
       "         2.72706505e-02,  3.32054943e-02, -4.71901185e-05, -1.14237860e-01,\n",
       "        -2.79167667e-04, -9.27831605e-02, -6.35195374e-02, -5.84830642e-02,\n",
       "         1.06558718e-01, -4.90855798e-03,  7.06979185e-02, -1.20925326e-02,\n",
       "         6.83131441e-02,  5.63351624e-02, -1.07557401e-02,  7.19010383e-02,\n",
       "         9.81174409e-02,  8.48399326e-02,  3.53266597e-02,  5.46764955e-02,\n",
       "        -8.05987641e-02,  6.47882000e-03, -5.90900518e-02,  8.69588107e-02,\n",
       "         6.97326586e-02, -9.01075900e-02, -2.13131979e-02, -3.42012942e-02,\n",
       "        -1.60827376e-02, -3.15402225e-02,  4.70691100e-02, -1.40543412e-02,\n",
       "         9.46760848e-02,  6.67571602e-03, -2.42960081e-02,  1.28133059e-01,\n",
       "        -4.28922698e-02, -1.55349309e-02, -7.92914852e-02, -2.67527252e-02,\n",
       "         1.12961605e-02, -4.11566384e-02, -1.88459679e-02,  1.58790872e-01,\n",
       "        -1.06955834e-01, -4.75773923e-02, -7.98961446e-02,  1.51026808e-02,\n",
       "        -3.50350887e-02,  4.25367914e-02, -3.56615335e-03, -5.33599444e-02,\n",
       "        -6.02363199e-02,  7.62802884e-02, -6.41511977e-02, -6.70213019e-03,\n",
       "        -5.72584756e-03, -4.10913080e-02,  2.03733873e-02, -1.15417168e-01,\n",
       "         4.33197338e-03,  3.37197557e-02, -6.77811503e-02,  5.37031367e-02,\n",
       "         5.70520349e-02, -6.44367263e-02, -1.88969262e-02,  2.55674347e-02,\n",
       "        -1.12809226e-01,  8.24382529e-02,  9.66500938e-02, -2.19827872e-02,\n",
       "         7.76296668e-03,  5.65948598e-02, -4.47309501e-02, -2.66321339e-02,\n",
       "        -9.35779810e-02,  3.91556695e-03, -5.89806214e-03,  2.33171154e-02,\n",
       "        -7.08511844e-03,  7.62888342e-02,  3.55559960e-02,  4.77253720e-02,\n",
       "         1.34874374e-01, -1.08927950e-01, -1.22243986e-01,  6.46124035e-02,\n",
       "         6.87061297e-03, -1.22763678e-01,  4.53395769e-02, -1.28313690e-01,\n",
       "        -6.09587394e-02,  1.75522827e-02, -1.05560690e-01, -6.23227730e-02,\n",
       "         6.78576976e-02,  5.59215695e-02,  6.45525008e-02, -2.17552856e-02,\n",
       "        -1.16645105e-01, -2.43000910e-02, -5.17416298e-02,  6.70885593e-02,\n",
       "         9.44201276e-02,  4.71730717e-04,  7.91822374e-02,  1.14815153e-01,\n",
       "         1.07147083e-01,  6.80262521e-02,  7.84112513e-02,  1.38911009e-02,\n",
       "        -3.81978974e-02,  3.45805734e-02,  8.24577212e-02,  6.37568682e-02,\n",
       "        -2.73942016e-03,  8.90125930e-02,  2.66155880e-02,  1.07332133e-03,\n",
       "        -1.40022829e-01, -1.01861358e-01, -5.92539981e-02,  1.62975684e-01,\n",
       "         2.93122064e-02,  2.35287510e-02,  1.28477916e-01,  3.33920196e-02,\n",
       "         7.66370445e-02,  2.26269141e-02, -1.55494362e-01,  1.13481283e-03,\n",
       "        -1.42416656e-02,  1.65515784e-02, -4.45721671e-04,  4.28089797e-02,\n",
       "        -3.32801342e-02, -4.12124842e-02,  6.14615716e-03, -9.39436629e-03,\n",
       "         8.19559267e-04, -3.74066606e-02, -4.97808754e-02, -1.03249140e-01,\n",
       "        -8.86319205e-02, -2.90556625e-02,  5.36130406e-02, -5.57892881e-02,\n",
       "        -6.75235614e-02,  5.91254607e-03, -5.14603928e-02, -7.89601356e-02,\n",
       "         3.19411382e-02, -9.17018056e-02, -5.22156954e-02, -3.23716328e-02,\n",
       "        -9.87342373e-03,  3.62650566e-02,  3.55476439e-02, -1.24743432e-01,\n",
       "        -1.17012538e-01, -1.14418492e-02, -2.67573893e-02,  1.74278542e-02,\n",
       "         2.70491615e-02, -3.06422217e-03,  4.78167459e-02, -1.82095766e-02,\n",
       "        -4.37152497e-02,  1.14484198e-01, -2.49190852e-02, -3.39401364e-02,\n",
       "         7.24771470e-02, -2.88245454e-02, -7.21293688e-02,  5.88414147e-02,\n",
       "        -4.42490801e-02, -8.41934979e-02,  6.99497387e-02,  8.00091028e-02,\n",
       "        -2.34607104e-02, -3.83637324e-02,  3.44832577e-02,  1.17123080e-02,\n",
       "         6.63608313e-03, -6.88075088e-03, -1.39976829e-01, -3.46727073e-02,\n",
       "         1.91699062e-02,  9.85700414e-02, -7.79010355e-02,  3.79938111e-02,\n",
       "         1.46389455e-01,  9.90546718e-02, -2.69508678e-02,  4.89535816e-02,\n",
       "         5.13961799e-02, -1.26880765e-01,  2.75415760e-02, -5.29612899e-02,\n",
       "         3.11851539e-02,  3.97773907e-02,  1.50792748e-02, -5.69614507e-02,\n",
       "        -9.17663351e-02,  6.34314641e-02, -1.84998706e-01,  3.11520547e-02,\n",
       "        -3.43257487e-02, -3.43395397e-02, -3.38003300e-02,  7.30993897e-02,\n",
       "         2.32257461e-03, -2.25434266e-02,  5.49139827e-03,  6.53365999e-02,\n",
       "        -3.57924029e-02, -7.02967420e-02,  1.65589936e-02, -3.80514339e-02,\n",
       "        -9.55606848e-02,  3.41360904e-02, -9.21655074e-02,  4.91495207e-02,\n",
       "        -8.75469893e-02,  1.13167182e-01, -8.13458934e-02, -1.06249917e-02,\n",
       "        -8.08204338e-02, -3.07364855e-04, -7.78310671e-02,  4.10130844e-02,\n",
       "        -7.13473558e-02, -7.73615018e-03, -7.15524424e-03, -5.35878614e-02,\n",
       "         2.23687142e-02, -6.48641214e-02,  8.91795456e-02,  2.82905642e-02,\n",
       "         1.47343397e-01, -2.41410770e-02,  1.21197902e-01,  8.04609433e-02,\n",
       "        -5.42704575e-03, -1.93661042e-02, -1.46199502e-02,  8.84274170e-02,\n",
       "        -7.19376877e-02, -4.40864712e-02, -1.55748120e-02,  5.11171948e-03,\n",
       "        -6.67978153e-02, -4.64670956e-02, -6.54735714e-02,  9.61186066e-02,\n",
       "        -3.62226591e-02,  6.72648251e-02,  8.12147409e-02,  1.06662668e-01,\n",
       "        -9.56509821e-03, -3.22419703e-02, -2.40251124e-02,  3.34417038e-02,\n",
       "         6.31893054e-03,  7.70338345e-03, -6.12779781e-02, -3.33771631e-02],\n",
       "       dtype=float32))"
      ]
     },
     "execution_count": 52,
     "metadata": {},
     "output_type": "execute_result"
    }
   ],
   "source": [
    "first(word_embeddings_dict.items())"
   ]
  },
  {
   "cell_type": "code",
   "execution_count": 53,
   "id": "2d7ac829",
   "metadata": {},
   "outputs": [],
   "source": [
    "# word_embeddings_dict"
   ]
  },
  {
   "cell_type": "code",
   "execution_count": 54,
   "id": "066c458e",
   "metadata": {},
   "outputs": [],
   "source": [
    "# word_num = [(word, i) for i, word in enumerate(words)]\n",
    "# word_num[:10]"
   ]
  },
  {
   "cell_type": "markdown",
   "id": "ec42c86c",
   "metadata": {},
   "source": [
    "### Векторы для ингредиентов"
   ]
  },
  {
   "cell_type": "code",
   "execution_count": 56,
   "id": "636af530",
   "metadata": {},
   "outputs": [
    {
     "data": {
      "text/plain": [
       "[(('сахар',), 0),\n",
       " (('круглый', 'рис'), 1),\n",
       " (('ванилин',), 2),\n",
       " (('яблоко',), 3),\n",
       " (('сок', 'лайм'), 4),\n",
       " (('пшеничный', 'мука'), 5)]"
      ]
     },
     "execution_count": 56,
     "metadata": {},
     "output_type": "execute_result"
    }
   ],
   "source": [
    "all_ingredients_list =  list(set(lens.Each().Each().collect()(ingredients_lemmatized)))\n",
    "ingrediendts_numbering_dict = {ingredient: i for i, ingredient in enumerate(all_ingredients_list)}\n",
    "ltake(6, ingrediendts_numbering_dict.items())"
   ]
  },
  {
   "cell_type": "code",
   "execution_count": null,
   "id": "eb985431-5c4e-4b19-b762-cbb6c7a6e768",
   "metadata": {},
   "outputs": [],
   "source": []
  },
  {
   "cell_type": "markdown",
   "id": "bbe1fa5f-77ce-4ab9-9a51-73795258450f",
   "metadata": {},
   "source": [
    "Для получения вектора для ингридиента просто суммируем векторы для каждого слова в этом ингридиенте:"
   ]
  },
  {
   "cell_type": "code",
   "execution_count": 57,
   "id": "3600593c",
   "metadata": {},
   "outputs": [
    {
     "data": {
      "text/plain": [
       "(('сахар',),\n",
       " array([ 1.24340042e-01,  3.59124690e-02, -7.38940015e-02,  9.88699123e-03,\n",
       "         1.72709465e-01, -4.79051322e-02,  1.03424087e-01,  4.76791933e-02,\n",
       "        -4.22827750e-02, -1.54863410e-02, -5.53189702e-02,  1.72781460e-02,\n",
       "        -6.17738925e-02,  1.01834489e-02,  9.77085438e-03, -3.08230519e-04,\n",
       "        -2.22569741e-02, -6.93432316e-02, -1.42760873e-01, -9.81678367e-02,\n",
       "        -8.66206735e-03,  8.64073932e-02, -4.00718451e-02, -1.65883396e-02,\n",
       "         5.02421558e-02, -2.49747001e-03, -1.25526767e-02, -1.14722522e-02,\n",
       "         5.36136068e-02,  4.65937369e-02,  9.07786191e-04, -6.85020760e-02,\n",
       "         8.52591731e-03,  8.42294246e-02,  1.85608882e-02, -1.21564075e-01,\n",
       "        -1.55991605e-02, -9.64115486e-02, -3.48125175e-02, -9.32337344e-02,\n",
       "         1.77478164e-01,  2.10252292e-02,  5.76703846e-02, -4.81014047e-03,\n",
       "         9.61419716e-02,  7.97744170e-02, -3.92269343e-02,  4.95163500e-02,\n",
       "         1.44876957e-01,  1.19171273e-02,  6.95892274e-02,  4.64982819e-03,\n",
       "        -1.26786783e-01,  7.78255388e-02,  1.22466031e-03,  9.38113034e-02,\n",
       "        -1.07573383e-01, -6.66698143e-02,  3.04519087e-02,  2.14342568e-02,\n",
       "        -3.39028239e-03, -2.38559302e-03,  9.74787995e-02,  5.10673374e-02,\n",
       "        -2.34374367e-02,  7.84569159e-02,  6.19306825e-02,  4.10466604e-02,\n",
       "        -1.24761239e-01, -2.08476111e-02, -2.79042646e-02, -5.24354540e-03,\n",
       "         5.30856848e-03, -1.91288069e-02, -1.74302272e-02,  1.04422182e-01,\n",
       "        -7.86394328e-02,  3.72720584e-02,  8.87368023e-02,  4.39927205e-02,\n",
       "         1.21899568e-01,  2.26456150e-02, -6.74056783e-02, -8.61879587e-02,\n",
       "         6.29154891e-02,  9.24991518e-02, -1.14617124e-01,  4.67102639e-02,\n",
       "        -4.57286052e-02,  6.13905266e-02,  4.49078195e-02,  3.35844532e-02,\n",
       "         2.72053964e-02,  4.49317209e-02,  9.68827680e-03, -1.21710844e-01,\n",
       "        -6.66004866e-02,  5.50281852e-02, -1.26663521e-02,  9.36805904e-02,\n",
       "        -7.95204416e-02,  8.63333419e-02,  2.34119818e-02, -2.76349504e-02,\n",
       "        -4.11425084e-02,  3.62638086e-02, -1.91730056e-02, -3.98398936e-02,\n",
       "        -9.60097462e-02, -2.83090472e-02,  1.71821751e-02,  4.57593007e-03,\n",
       "        -6.06955308e-03, -8.08215737e-02,  5.81178665e-02, -3.26322317e-02,\n",
       "        -5.88844344e-02, -2.16613822e-02, -4.14948538e-03,  9.76113416e-03,\n",
       "        -1.83151551e-02, -8.42757523e-02, -5.28489873e-02,  4.34385762e-02,\n",
       "         5.23994444e-04, -5.76263368e-02, -3.27106677e-02, -1.78807884e-01,\n",
       "        -1.15965046e-02, -1.08261788e-02, -6.78962618e-02, -1.36414990e-02,\n",
       "        -8.57563317e-02,  1.10489130e-01, -1.67934760e-01, -6.13426380e-02,\n",
       "         1.00207984e-01, -6.69146106e-02,  1.09232388e-01, -1.39456056e-03,\n",
       "         2.40204722e-01,  6.10995665e-02,  6.62141740e-02,  2.04555616e-02,\n",
       "        -8.62768292e-02,  3.94382849e-02,  8.04116055e-02,  4.11850028e-02,\n",
       "         3.27431783e-03, -4.58402447e-02,  3.09502892e-02,  3.03630307e-02,\n",
       "        -9.58464295e-02,  7.69222453e-02,  3.32174823e-02,  1.06182978e-01,\n",
       "        -1.01913977e-02, -1.36158109e-01,  9.95778739e-02, -1.09978318e-01,\n",
       "         7.36254733e-05,  5.14483452e-03, -1.37141824e-01, -4.17943075e-02,\n",
       "        -5.56263030e-02,  1.49840489e-03, -3.75834629e-02,  6.21934980e-02,\n",
       "         3.14221382e-02, -5.17502485e-04, -2.47374875e-03,  5.85931167e-02,\n",
       "        -5.61792292e-02, -1.21535629e-01, -3.26140039e-02,  5.59895635e-02,\n",
       "         7.02168047e-03, -5.46679832e-03,  1.42953787e-02,  4.70438674e-02,\n",
       "        -7.19833598e-02, -3.34116966e-02,  3.57441530e-02,  5.80355674e-02,\n",
       "         6.49286807e-03,  3.20246294e-02, -8.60488117e-02, -5.67210987e-02,\n",
       "         1.79493800e-02, -8.98750052e-02, -4.98934239e-02, -3.97100896e-02,\n",
       "        -9.07670930e-02,  1.41072460e-03,  3.94691899e-03,  1.01228043e-01,\n",
       "         6.77909330e-02,  8.66950974e-02,  1.09630816e-01,  1.56265590e-02,\n",
       "         5.70608377e-02,  4.88924794e-02,  5.60695678e-02,  1.08549803e-01,\n",
       "         3.40699740e-02, -6.29564598e-02,  2.13897061e-02,  1.57890052e-01,\n",
       "        -3.64129581e-02,  8.37529730e-03,  7.88489282e-02, -4.21470851e-02,\n",
       "        -1.00380443e-01, -1.08569860e-04,  7.37221446e-04,  6.96052890e-03,\n",
       "        -5.68596385e-02, -3.76907289e-02, -5.31504489e-02, -4.09973972e-02,\n",
       "        -1.20299859e-02,  3.47415693e-02, -8.31191540e-02, -2.19483152e-02,\n",
       "         3.22646685e-02, -2.44276058e-02, -1.27325982e-01,  7.45436400e-02,\n",
       "        -3.62008736e-02, -5.91010228e-02, -9.36752036e-02, -2.04049945e-02,\n",
       "         7.39792064e-02,  4.86260206e-02,  8.99826437e-02, -9.99194384e-02,\n",
       "         7.65892258e-03, -6.37804531e-03,  2.87858360e-02,  4.55944315e-02,\n",
       "         1.82476211e-02, -2.19203141e-02, -5.63261211e-02, -5.89335710e-02,\n",
       "         3.28880697e-02,  1.45679694e-02, -5.92412315e-02, -4.48508896e-02,\n",
       "        -9.60032940e-02, -4.85389493e-02,  6.83091581e-04, -4.70296778e-02,\n",
       "        -1.56004533e-01,  1.60724163e-01, -8.58308375e-02,  1.14037931e-01,\n",
       "        -8.12758878e-02,  6.28052801e-02,  1.02857210e-01, -3.36485580e-02,\n",
       "        -3.95589732e-02, -2.07713470e-02, -4.10617441e-02,  4.91066836e-03,\n",
       "        -1.81300566e-02,  2.48025693e-02,  7.51447082e-02,  1.66158862e-02,\n",
       "         5.50907627e-02, -3.62965539e-02, -4.15189788e-02, -1.38220921e-01,\n",
       "         1.72349378e-01, -8.18191990e-02, -3.84389311e-02,  1.67620927e-02,\n",
       "        -9.02144909e-02, -2.05063801e-02,  1.25328265e-02, -1.46749774e-02,\n",
       "        -4.86657247e-02, -7.42578208e-02, -2.10264921e-02, -4.11460921e-02,\n",
       "        -4.60025184e-02, -1.19709954e-01,  3.85965407e-02,  6.99384362e-02,\n",
       "        -8.03119875e-03,  9.51089412e-02,  3.34716439e-02,  1.42023593e-01,\n",
       "        -2.52291132e-02,  1.78974587e-03, -3.56887467e-02, -6.01234250e-02,\n",
       "        -9.68458131e-04, -5.79440035e-03, -6.99706897e-02, -3.78340483e-02]))"
      ]
     },
     "execution_count": 57,
     "metadata": {},
     "output_type": "execute_result"
    }
   ],
   "source": [
    "ingrediendts_embeddings_dict = {}\n",
    "for ingr in all_ingredients_list:\n",
    "    ingrediendts_embeddings_dict[ingr] = np.zeros(dim)\n",
    "    for word in ingr:\n",
    "#         ingrediendts_embeddings_dict[ingr] += ft.get_word_vector(word) \n",
    "        ingrediendts_embeddings_dict[ingr] += word_embeddings_dict[word] # Должно заработать, когда \n",
    "                                                                         # ингредиенты будут лемматизированны\n",
    "ltake(1, ingrediendts_embeddings_dict.items())[0]\n"
   ]
  },
  {
   "cell_type": "markdown",
   "id": "93987e23-8a9f-4cbb-b9d1-ffa406859267",
   "metadata": {},
   "source": [
    "Наконец, для каждого рецепта возьмем его векторизацию как сумму векторов его ингридиентов"
   ]
  },
  {
   "cell_type": "code",
   "execution_count": 58,
   "id": "41bc1ab4-75eb-4a2b-bb6c-49065f27580d",
   "metadata": {},
   "outputs": [
    {
     "data": {
      "text/plain": [
       "20"
      ]
     },
     "execution_count": 58,
     "metadata": {},
     "output_type": "execute_result"
    }
   ],
   "source": [
    "ingredients_by_recipe_embedding = [\n",
    "    sum(ingrediendts_embeddings_dict[ingredient]\n",
    "        for ingredient in ingredient_list) \n",
    "    for ingredient_list in ingredients_lemmatized\n",
    "]\n",
    "len(ingredients_by_recipe_embedding)"
   ]
  },
  {
   "cell_type": "markdown",
   "id": "b4818b87-28b4-4b6f-8036-81be5233bb88",
   "metadata": {},
   "source": [
    "## Данные для нейросети"
   ]
  },
  {
   "cell_type": "markdown",
   "id": "56e15c2e-fa53-4166-881e-8be468bd437d",
   "metadata": {},
   "source": [
    "Всевозможные метки (course):"
   ]
  },
  {
   "cell_type": "code",
   "execution_count": 59,
   "id": "f23112eb-fec9-4205-b25c-d7d57f2afa18",
   "metadata": {},
   "outputs": [
    {
     "data": {
      "text/plain": [
       "{'Выпечка и десерты': 0,\n",
       " 'Завтраки': 1,\n",
       " 'Закуски': 2,\n",
       " 'Напитки': 3,\n",
       " 'Основные блюда': 4,\n",
       " 'Паста и пицца': 5,\n",
       " 'Салаты': 6,\n",
       " 'Соусы и маринады': 7,\n",
       " 'Супы': 8}"
      ]
     },
     "execution_count": 59,
     "metadata": {},
     "output_type": "execute_result"
    }
   ],
   "source": [
    "all_courses = {name: num for num, name in enumerate(df['course'][~df['course'].duplicated()])}\n",
    "all_courses"
   ]
  },
  {
   "cell_type": "code",
   "execution_count": 60,
   "id": "f53ad845-6e9e-41bf-aad6-9ad11c3f22ed",
   "metadata": {
    "scrolled": true
   },
   "outputs": [
    {
     "data": {
      "text/html": [
       "<div>\n",
       "<style scoped>\n",
       "    .dataframe tbody tr th:only-of-type {\n",
       "        vertical-align: middle;\n",
       "    }\n",
       "\n",
       "    .dataframe tbody tr th {\n",
       "        vertical-align: top;\n",
       "    }\n",
       "\n",
       "    .dataframe thead th {\n",
       "        text-align: right;\n",
       "    }\n",
       "</style>\n",
       "<table border=\"1\" class=\"dataframe\">\n",
       "  <thead>\n",
       "    <tr style=\"text-align: right;\">\n",
       "      <th></th>\n",
       "      <th>id</th>\n",
       "      <th>ingredient_embedding</th>\n",
       "      <th>course_mark</th>\n",
       "    </tr>\n",
       "  </thead>\n",
       "  <tbody>\n",
       "    <tr>\n",
       "      <th>0</th>\n",
       "      <td>28195</td>\n",
       "      <td>[0.611611146479845, -0.0743011748418212, -0.09...</td>\n",
       "      <td>0</td>\n",
       "    </tr>\n",
       "    <tr>\n",
       "      <th>1</th>\n",
       "      <td>28141</td>\n",
       "      <td>[0.8909059994039126, -0.11706455610692501, -0....</td>\n",
       "      <td>0</td>\n",
       "    </tr>\n",
       "    <tr>\n",
       "      <th>2</th>\n",
       "      <td>27929</td>\n",
       "      <td>[1.08976399153471, -0.4261779775843024, -0.389...</td>\n",
       "      <td>0</td>\n",
       "    </tr>\n",
       "    <tr>\n",
       "      <th>3</th>\n",
       "      <td>28192</td>\n",
       "      <td>[1.1749160811305046, -0.5175759345293045, -0.3...</td>\n",
       "      <td>0</td>\n",
       "    </tr>\n",
       "    <tr>\n",
       "      <th>4</th>\n",
       "      <td>28463</td>\n",
       "      <td>[0.6190221486613154, -0.14342674519866705, -0....</td>\n",
       "      <td>0</td>\n",
       "    </tr>\n",
       "    <tr>\n",
       "      <th>5</th>\n",
       "      <td>37902</td>\n",
       "      <td>[0.5526944873854518, 0.37551341066136956, -0.2...</td>\n",
       "      <td>0</td>\n",
       "    </tr>\n",
       "    <tr>\n",
       "      <th>6</th>\n",
       "      <td>18536</td>\n",
       "      <td>[0.554089829325676, 0.639475641772151, -0.5342...</td>\n",
       "      <td>0</td>\n",
       "    </tr>\n",
       "    <tr>\n",
       "      <th>7</th>\n",
       "      <td>35253</td>\n",
       "      <td>[0.7957627102732658, 0.561975886579603, -0.673...</td>\n",
       "      <td>0</td>\n",
       "    </tr>\n",
       "    <tr>\n",
       "      <th>8</th>\n",
       "      <td>47082</td>\n",
       "      <td>[0.4236516177188605, 0.25815030839294195, -0.1...</td>\n",
       "      <td>0</td>\n",
       "    </tr>\n",
       "    <tr>\n",
       "      <th>9</th>\n",
       "      <td>35173</td>\n",
       "      <td>[0.5946541959419847, 0.9411030139308423, -0.54...</td>\n",
       "      <td>0</td>\n",
       "    </tr>\n",
       "    <tr>\n",
       "      <th>10</th>\n",
       "      <td>36216</td>\n",
       "      <td>[0.4034659219905734, 0.552670138888061, -0.443...</td>\n",
       "      <td>0</td>\n",
       "    </tr>\n",
       "    <tr>\n",
       "      <th>11</th>\n",
       "      <td>48272</td>\n",
       "      <td>[0.7988654682412744, 0.14578376803547144, -0.3...</td>\n",
       "      <td>0</td>\n",
       "    </tr>\n",
       "    <tr>\n",
       "      <th>12</th>\n",
       "      <td>44927</td>\n",
       "      <td>[0.7816735915839672, 0.24952444806694984, -0.5...</td>\n",
       "      <td>0</td>\n",
       "    </tr>\n",
       "    <tr>\n",
       "      <th>13</th>\n",
       "      <td>32724</td>\n",
       "      <td>[0.46589385997503996, 0.40861988440155983, -0....</td>\n",
       "      <td>0</td>\n",
       "    </tr>\n",
       "    <tr>\n",
       "      <th>14</th>\n",
       "      <td>15574</td>\n",
       "      <td>[0.4902564361691475, 0.3724856358021498, -0.53...</td>\n",
       "      <td>0</td>\n",
       "    </tr>\n",
       "    <tr>\n",
       "      <th>15</th>\n",
       "      <td>32016</td>\n",
       "      <td>[0.6245275801047683, 0.5851470436900854, -0.27...</td>\n",
       "      <td>0</td>\n",
       "    </tr>\n",
       "    <tr>\n",
       "      <th>16</th>\n",
       "      <td>19306</td>\n",
       "      <td>[0.8068208655458875, 0.6904065646231174, -0.33...</td>\n",
       "      <td>0</td>\n",
       "    </tr>\n",
       "    <tr>\n",
       "      <th>17</th>\n",
       "      <td>32276</td>\n",
       "      <td>[0.439612009562552, 0.3825846202671528, -0.428...</td>\n",
       "      <td>0</td>\n",
       "    </tr>\n",
       "    <tr>\n",
       "      <th>18</th>\n",
       "      <td>26282</td>\n",
       "      <td>[0.8141290862113237, 0.32815429754555225, -0.7...</td>\n",
       "      <td>0</td>\n",
       "    </tr>\n",
       "    <tr>\n",
       "      <th>19</th>\n",
       "      <td>40373</td>\n",
       "      <td>[0.8419216312468052, 0.9702880140393972, -0.84...</td>\n",
       "      <td>0</td>\n",
       "    </tr>\n",
       "  </tbody>\n",
       "</table>\n",
       "</div>"
      ],
      "text/plain": [
       "       id                               ingredient_embedding  course_mark\n",
       "0   28195  [0.611611146479845, -0.0743011748418212, -0.09...            0\n",
       "1   28141  [0.8909059994039126, -0.11706455610692501, -0....            0\n",
       "2   27929  [1.08976399153471, -0.4261779775843024, -0.389...            0\n",
       "3   28192  [1.1749160811305046, -0.5175759345293045, -0.3...            0\n",
       "4   28463  [0.6190221486613154, -0.14342674519866705, -0....            0\n",
       "5   37902  [0.5526944873854518, 0.37551341066136956, -0.2...            0\n",
       "6   18536  [0.554089829325676, 0.639475641772151, -0.5342...            0\n",
       "7   35253  [0.7957627102732658, 0.561975886579603, -0.673...            0\n",
       "8   47082  [0.4236516177188605, 0.25815030839294195, -0.1...            0\n",
       "9   35173  [0.5946541959419847, 0.9411030139308423, -0.54...            0\n",
       "10  36216  [0.4034659219905734, 0.552670138888061, -0.443...            0\n",
       "11  48272  [0.7988654682412744, 0.14578376803547144, -0.3...            0\n",
       "12  44927  [0.7816735915839672, 0.24952444806694984, -0.5...            0\n",
       "13  32724  [0.46589385997503996, 0.40861988440155983, -0....            0\n",
       "14  15574  [0.4902564361691475, 0.3724856358021498, -0.53...            0\n",
       "15  32016  [0.6245275801047683, 0.5851470436900854, -0.27...            0\n",
       "16  19306  [0.8068208655458875, 0.6904065646231174, -0.33...            0\n",
       "17  32276  [0.439612009562552, 0.3825846202671528, -0.428...            0\n",
       "18  26282  [0.8141290862113237, 0.32815429754555225, -0.7...            0\n",
       "19  40373  [0.8419216312468052, 0.9702880140393972, -0.84...            0"
      ]
     },
     "execution_count": 60,
     "metadata": {},
     "output_type": "execute_result"
    }
   ],
   "source": [
    "df_for_learning = pd.DataFrame(data={\n",
    "    'id': df['id'][:20],\n",
    "    'ingredient_embedding': ingredients_by_recipe_embedding,\n",
    "    'course_mark': [all_courses[course] for course in df['course']][:20]\n",
    "})\n",
    "df_for_learning"
   ]
  },
  {
   "cell_type": "code",
   "execution_count": 76,
   "id": "4159218e",
   "metadata": {},
   "outputs": [
    {
     "data": {
      "text/plain": [
       "array([0, 0, 0, 0, 0, 0, 0, 0, 0, 0, 0, 0, 0, 0, 0, 0, 0, 0, 0, 0],\n",
       "      dtype=int64)"
      ]
     },
     "execution_count": 76,
     "metadata": {},
     "output_type": "execute_result"
    }
   ],
   "source": []
  },
  {
   "cell_type": "code",
   "execution_count": 80,
   "id": "c1935ce5-3410-4152-ab7f-a2aa989f9ae0",
   "metadata": {
    "scrolled": true
   },
   "outputs": [],
   "source": [
    "from tensorflow.keras.utils import to_categorical\n",
    "labels = to_categorical(np.array(df_for_learning['course_mark']), num_classes=len(all_courses))\n",
    "\n",
    "# tf.keras.preprocessing.text.one_hot(all_courses, len(all_courses))"
   ]
  },
  {
   "cell_type": "markdown",
   "id": "dfb3cee3",
   "metadata": {},
   "source": [
    "## Подготовка BoE"
   ]
  },
  {
   "cell_type": "code",
   "execution_count": 87,
   "id": "7d7bfec7",
   "metadata": {},
   "outputs": [],
   "source": [
    "data = np.array(df_for_learning['ingredient_embedding'])\n",
    "indices = np.arange(data.shape[0])\n",
    "np.random.shuffle(indices)\n",
    "data = data[indices]\n",
    "labels = labels[indices]\n",
    "\n",
    "VALIDATION_SPLIT = 0.2\n",
    "nb_validation_samples = int(VALIDATION_SPLIT * data.shape[0])\n",
    "\n",
    "x_train = data[:-nb_validation_samples]\n",
    "y_train = labels[:-nb_validation_samples]\n",
    "x_val = data[-nb_validation_samples:]\n",
    "y_val = labels[-nb_validation_samples:]"
   ]
  },
  {
   "cell_type": "code",
   "execution_count": 104,
   "id": "55d77be8",
   "metadata": {},
   "outputs": [
    {
     "data": {
      "text/plain": [
       "0     [0.611611146479845, -0.0743011748418212, -0.09...\n",
       "1     [0.8909059994039126, -0.11706455610692501, -0....\n",
       "2     [1.08976399153471, -0.4261779775843024, -0.389...\n",
       "3     [1.1749160811305046, -0.5175759345293045, -0.3...\n",
       "4     [0.6190221486613154, -0.14342674519866705, -0....\n",
       "5     [0.5526944873854518, 0.37551341066136956, -0.2...\n",
       "6     [0.554089829325676, 0.639475641772151, -0.5342...\n",
       "7     [0.7957627102732658, 0.561975886579603, -0.673...\n",
       "8     [0.4236516177188605, 0.25815030839294195, -0.1...\n",
       "9     [0.5946541959419847, 0.9411030139308423, -0.54...\n",
       "10    [0.4034659219905734, 0.552670138888061, -0.443...\n",
       "11    [0.7988654682412744, 0.14578376803547144, -0.3...\n",
       "12    [0.7816735915839672, 0.24952444806694984, -0.5...\n",
       "13    [0.46589385997503996, 0.40861988440155983, -0....\n",
       "14    [0.4902564361691475, 0.3724856358021498, -0.53...\n",
       "15    [0.6245275801047683, 0.5851470436900854, -0.27...\n",
       "16    [0.8068208655458875, 0.6904065646231174, -0.33...\n",
       "17    [0.439612009562552, 0.3825846202671528, -0.428...\n",
       "18    [0.8141290862113237, 0.32815429754555225, -0.7...\n",
       "19    [0.8419216312468052, 0.9702880140393972, -0.84...\n",
       "Name: ingredient_embedding, dtype: object"
      ]
     },
     "execution_count": 104,
     "metadata": {},
     "output_type": "execute_result"
    }
   ],
   "source": [
    "df_for_learning['ingredient_embedding']"
   ]
  },
  {
   "cell_type": "markdown",
   "id": "4e9a5e42",
   "metadata": {},
   "source": [
    "## Обучение BoE"
   ]
  },
  {
   "cell_type": "code",
   "execution_count": 96,
   "id": "d10c3595",
   "metadata": {},
   "outputs": [
    {
     "ename": "ValueError",
     "evalue": "Failed to convert a NumPy array to a Tensor (Unsupported object type numpy.ndarray).",
     "output_type": "error",
     "traceback": [
      "\u001b[1;31m---------------------------------------------------------------------------\u001b[0m",
      "\u001b[1;31mValueError\u001b[0m                                Traceback (most recent call last)",
      "Cell \u001b[1;32mIn [96], line 12\u001b[0m\n\u001b[0;32m      7\u001b[0m model\u001b[38;5;241m.\u001b[39mcompile(loss\u001b[38;5;241m=\u001b[39m\u001b[38;5;124m'\u001b[39m\u001b[38;5;124mcategorical_crossentropy\u001b[39m\u001b[38;5;124m'\u001b[39m,\n\u001b[0;32m      8\u001b[0m               optimizer\u001b[38;5;241m=\u001b[39m\u001b[38;5;124m'\u001b[39m\u001b[38;5;124mrmsprop\u001b[39m\u001b[38;5;124m'\u001b[39m,\n\u001b[0;32m      9\u001b[0m               metrics\u001b[38;5;241m=\u001b[39m[\u001b[38;5;124m'\u001b[39m\u001b[38;5;124macc\u001b[39m\u001b[38;5;124m'\u001b[39m])\n\u001b[0;32m     11\u001b[0m \u001b[38;5;66m# happy learning!\u001b[39m\n\u001b[1;32m---> 12\u001b[0m model\u001b[38;5;241m.\u001b[39mfit(x_train, y_train, validation_data\u001b[38;5;241m=\u001b[39m(x_val, y_val),\n\u001b[0;32m     13\u001b[0m           epochs\u001b[38;5;241m=\u001b[39m\u001b[38;5;241m2\u001b[39m, batch_size\u001b[38;5;241m=\u001b[39m\u001b[38;5;241m2\u001b[39m)\n",
      "File \u001b[1;32mC:\\Program Files\\Python39\\lib\\site-packages\\keras\\utils\\traceback_utils.py:70\u001b[0m, in \u001b[0;36mfilter_traceback.<locals>.error_handler\u001b[1;34m(*args, **kwargs)\u001b[0m\n\u001b[0;32m     67\u001b[0m     filtered_tb \u001b[38;5;241m=\u001b[39m _process_traceback_frames(e\u001b[38;5;241m.\u001b[39m__traceback__)\n\u001b[0;32m     68\u001b[0m     \u001b[38;5;66m# To get the full stack trace, call:\u001b[39m\n\u001b[0;32m     69\u001b[0m     \u001b[38;5;66m# `tf.debugging.disable_traceback_filtering()`\u001b[39m\n\u001b[1;32m---> 70\u001b[0m     \u001b[38;5;28;01mraise\u001b[39;00m e\u001b[38;5;241m.\u001b[39mwith_traceback(filtered_tb) \u001b[38;5;28;01mfrom\u001b[39;00m \u001b[38;5;28mNone\u001b[39m\n\u001b[0;32m     71\u001b[0m \u001b[38;5;28;01mfinally\u001b[39;00m:\n\u001b[0;32m     72\u001b[0m     \u001b[38;5;28;01mdel\u001b[39;00m filtered_tb\n",
      "File \u001b[1;32mC:\\Program Files\\Python39\\lib\\site-packages\\tensorflow\\python\\framework\\constant_op.py:102\u001b[0m, in \u001b[0;36mconvert_to_eager_tensor\u001b[1;34m(value, ctx, dtype)\u001b[0m\n\u001b[0;32m    100\u001b[0m     dtype \u001b[38;5;241m=\u001b[39m dtypes\u001b[38;5;241m.\u001b[39mas_dtype(dtype)\u001b[38;5;241m.\u001b[39mas_datatype_enum\n\u001b[0;32m    101\u001b[0m ctx\u001b[38;5;241m.\u001b[39mensure_initialized()\n\u001b[1;32m--> 102\u001b[0m \u001b[38;5;28;01mreturn\u001b[39;00m \u001b[43mops\u001b[49m\u001b[38;5;241;43m.\u001b[39;49m\u001b[43mEagerTensor\u001b[49m\u001b[43m(\u001b[49m\u001b[43mvalue\u001b[49m\u001b[43m,\u001b[49m\u001b[43m \u001b[49m\u001b[43mctx\u001b[49m\u001b[38;5;241;43m.\u001b[39;49m\u001b[43mdevice_name\u001b[49m\u001b[43m,\u001b[49m\u001b[43m \u001b[49m\u001b[43mdtype\u001b[49m\u001b[43m)\u001b[49m\n",
      "\u001b[1;31mValueError\u001b[0m: Failed to convert a NumPy array to a Tensor (Unsupported object type numpy.ndarray)."
     ]
    }
   ],
   "source": [
    "sequence_input = layers.Input(shape=(dim,), dtype='int32')\n",
    "x = layers.Dense(128, activation='relu')(sequence_input)\n",
    "x = layers.Dense(32, activation='relu')(x)\n",
    "preds = layers.Dense(len(all_courses), activation='softmax')(x)\n",
    "\n",
    "model = keras.Model(sequence_input, preds)\n",
    "model.compile(loss='categorical_crossentropy',\n",
    "              optimizer='rmsprop',\n",
    "              metrics=['acc'])\n",
    "\n",
    "# happy learning!\n",
    "model.fit(x_train, y_train, validation_data=(x_val, y_val),\n",
    "          epochs=2, batch_size=2)"
   ]
  },
  {
   "cell_type": "markdown",
   "id": "28c1339e",
   "metadata": {},
   "source": [
    "## Подготовка к CNN"
   ]
  },
  {
   "cell_type": "code",
   "execution_count": 74,
   "id": "9949a929",
   "metadata": {},
   "outputs": [],
   "source": [
    "#Эта матрица будет использоваться для слоя Embedding в keras\n",
    "ingrediendts_embeddings_matrix = np.zeros((len(all_ingredients_list), dim))\n",
    "ingrediendts_embeddings_matrix.shape\n",
    "for ingr in all_ingredients_list:\n",
    "    ingrediendts_embeddings_matrix[ingrediendts_numbering_dict[ingr]] = ingrediendts_embeddings_dict[ingr]\n",
    "# ingrediendts_embeddings_matrix[0]"
   ]
  },
  {
   "cell_type": "markdown",
   "id": "c35e2f04-8ee4-4aec-a28e-cb12b4f6ccfe",
   "metadata": {},
   "source": [
    "## Прочее:"
   ]
  },
  {
   "cell_type": "code",
   "execution_count": 20,
   "id": "87ef55b7-a142-4fe0-884d-00f672da020e",
   "metadata": {},
   "outputs": [
    {
     "data": {
      "text/html": [
       "<div>\n",
       "<style scoped>\n",
       "    .dataframe tbody tr th:only-of-type {\n",
       "        vertical-align: middle;\n",
       "    }\n",
       "\n",
       "    .dataframe tbody tr th {\n",
       "        vertical-align: top;\n",
       "    }\n",
       "\n",
       "    .dataframe thead th {\n",
       "        text-align: right;\n",
       "    }\n",
       "</style>\n",
       "<table border=\"1\" class=\"dataframe\">\n",
       "  <thead>\n",
       "    <tr style=\"text-align: right;\">\n",
       "      <th></th>\n",
       "      <th>id</th>\n",
       "      <th>title</th>\n",
       "      <th>course</th>\n",
       "      <th>ingredients</th>\n",
       "    </tr>\n",
       "    <tr>\n",
       "      <th>cuisine</th>\n",
       "      <th></th>\n",
       "      <th></th>\n",
       "      <th></th>\n",
       "      <th></th>\n",
       "    </tr>\n",
       "  </thead>\n",
       "  <tbody>\n",
       "    <tr>\n",
       "      <th>Европейская кухня</th>\n",
       "      <td>11699</td>\n",
       "      <td>11699</td>\n",
       "      <td>11699</td>\n",
       "      <td>11699</td>\n",
       "    </tr>\n",
       "    <tr>\n",
       "      <th>Русская кухня</th>\n",
       "      <td>7111</td>\n",
       "      <td>7111</td>\n",
       "      <td>7111</td>\n",
       "      <td>7111</td>\n",
       "    </tr>\n",
       "    <tr>\n",
       "      <th>Итальянская кухня</th>\n",
       "      <td>4943</td>\n",
       "      <td>4943</td>\n",
       "      <td>4943</td>\n",
       "      <td>4943</td>\n",
       "    </tr>\n",
       "    <tr>\n",
       "      <th>Французская кухня</th>\n",
       "      <td>3055</td>\n",
       "      <td>3055</td>\n",
       "      <td>3055</td>\n",
       "      <td>3055</td>\n",
       "    </tr>\n",
       "    <tr>\n",
       "      <th>Американская кухня</th>\n",
       "      <td>2192</td>\n",
       "      <td>2192</td>\n",
       "      <td>2192</td>\n",
       "      <td>2192</td>\n",
       "    </tr>\n",
       "    <tr>\n",
       "      <th>Авторская кухня</th>\n",
       "      <td>1822</td>\n",
       "      <td>1822</td>\n",
       "      <td>1822</td>\n",
       "      <td>1822</td>\n",
       "    </tr>\n",
       "    <tr>\n",
       "      <th>Китайская кухня</th>\n",
       "      <td>840</td>\n",
       "      <td>840</td>\n",
       "      <td>840</td>\n",
       "      <td>840</td>\n",
       "    </tr>\n",
       "    <tr>\n",
       "      <th>Греческая кухня</th>\n",
       "      <td>640</td>\n",
       "      <td>640</td>\n",
       "      <td>640</td>\n",
       "      <td>640</td>\n",
       "    </tr>\n",
       "    <tr>\n",
       "      <th>Мексиканская кухня</th>\n",
       "      <td>583</td>\n",
       "      <td>583</td>\n",
       "      <td>583</td>\n",
       "      <td>583</td>\n",
       "    </tr>\n",
       "    <tr>\n",
       "      <th>Японская кухня</th>\n",
       "      <td>569</td>\n",
       "      <td>569</td>\n",
       "      <td>569</td>\n",
       "      <td>569</td>\n",
       "    </tr>\n",
       "    <tr>\n",
       "      <th>Испанская кухня</th>\n",
       "      <td>560</td>\n",
       "      <td>560</td>\n",
       "      <td>560</td>\n",
       "      <td>560</td>\n",
       "    </tr>\n",
       "    <tr>\n",
       "      <th>Грузинская кухня</th>\n",
       "      <td>532</td>\n",
       "      <td>532</td>\n",
       "      <td>532</td>\n",
       "      <td>532</td>\n",
       "    </tr>\n",
       "    <tr>\n",
       "      <th>Паназиатская кухня</th>\n",
       "      <td>517</td>\n",
       "      <td>517</td>\n",
       "      <td>517</td>\n",
       "      <td>517</td>\n",
       "    </tr>\n",
       "    <tr>\n",
       "      <th>Британская кухня</th>\n",
       "      <td>503</td>\n",
       "      <td>503</td>\n",
       "      <td>503</td>\n",
       "      <td>503</td>\n",
       "    </tr>\n",
       "    <tr>\n",
       "      <th>Средиземноморская кухня</th>\n",
       "      <td>484</td>\n",
       "      <td>484</td>\n",
       "      <td>484</td>\n",
       "      <td>484</td>\n",
       "    </tr>\n",
       "    <tr>\n",
       "      <th>Индийская кухня</th>\n",
       "      <td>416</td>\n",
       "      <td>416</td>\n",
       "      <td>416</td>\n",
       "      <td>416</td>\n",
       "    </tr>\n",
       "    <tr>\n",
       "      <th>Немецкая кухня</th>\n",
       "      <td>320</td>\n",
       "      <td>320</td>\n",
       "      <td>320</td>\n",
       "      <td>320</td>\n",
       "    </tr>\n",
       "    <tr>\n",
       "      <th>Тайская кухня</th>\n",
       "      <td>307</td>\n",
       "      <td>307</td>\n",
       "      <td>307</td>\n",
       "      <td>307</td>\n",
       "    </tr>\n",
       "    <tr>\n",
       "      <th>Украинская кухня</th>\n",
       "      <td>305</td>\n",
       "      <td>305</td>\n",
       "      <td>305</td>\n",
       "      <td>305</td>\n",
       "    </tr>\n",
       "    <tr>\n",
       "      <th>Арабская кухня</th>\n",
       "      <td>260</td>\n",
       "      <td>260</td>\n",
       "      <td>260</td>\n",
       "      <td>260</td>\n",
       "    </tr>\n",
       "    <tr>\n",
       "      <th>Еврейская кухня</th>\n",
       "      <td>255</td>\n",
       "      <td>255</td>\n",
       "      <td>255</td>\n",
       "      <td>255</td>\n",
       "    </tr>\n",
       "    <tr>\n",
       "      <th>Турецкая кухня</th>\n",
       "      <td>239</td>\n",
       "      <td>239</td>\n",
       "      <td>239</td>\n",
       "      <td>239</td>\n",
       "    </tr>\n",
       "    <tr>\n",
       "      <th>Армянская кухня</th>\n",
       "      <td>210</td>\n",
       "      <td>210</td>\n",
       "      <td>210</td>\n",
       "      <td>210</td>\n",
       "    </tr>\n",
       "    <tr>\n",
       "      <th>Югославская кухня</th>\n",
       "      <td>173</td>\n",
       "      <td>173</td>\n",
       "      <td>173</td>\n",
       "      <td>173</td>\n",
       "    </tr>\n",
       "    <tr>\n",
       "      <th>Австрийская кухня</th>\n",
       "      <td>170</td>\n",
       "      <td>170</td>\n",
       "      <td>170</td>\n",
       "      <td>170</td>\n",
       "    </tr>\n",
       "    <tr>\n",
       "      <th>Узбекская кухня</th>\n",
       "      <td>153</td>\n",
       "      <td>153</td>\n",
       "      <td>153</td>\n",
       "      <td>153</td>\n",
       "    </tr>\n",
       "    <tr>\n",
       "      <th>Болгарская кухня</th>\n",
       "      <td>151</td>\n",
       "      <td>151</td>\n",
       "      <td>151</td>\n",
       "      <td>151</td>\n",
       "    </tr>\n",
       "    <tr>\n",
       "      <th>Корейская кухня</th>\n",
       "      <td>136</td>\n",
       "      <td>136</td>\n",
       "      <td>136</td>\n",
       "      <td>136</td>\n",
       "    </tr>\n",
       "    <tr>\n",
       "      <th>Азербайджанская кухня</th>\n",
       "      <td>128</td>\n",
       "      <td>128</td>\n",
       "      <td>128</td>\n",
       "      <td>128</td>\n",
       "    </tr>\n",
       "    <tr>\n",
       "      <th>Марокканская кухня</th>\n",
       "      <td>118</td>\n",
       "      <td>118</td>\n",
       "      <td>118</td>\n",
       "      <td>118</td>\n",
       "    </tr>\n",
       "  </tbody>\n",
       "</table>\n",
       "</div>"
      ],
      "text/plain": [
       "                            id  title  course  ingredients\n",
       "cuisine                                                   \n",
       "Европейская кухня        11699  11699   11699        11699\n",
       "Русская кухня             7111   7111    7111         7111\n",
       "Итальянская кухня         4943   4943    4943         4943\n",
       "Французская кухня         3055   3055    3055         3055\n",
       "Американская кухня        2192   2192    2192         2192\n",
       "Авторская кухня           1822   1822    1822         1822\n",
       "Китайская кухня            840    840     840          840\n",
       "Греческая кухня            640    640     640          640\n",
       "Мексиканская кухня         583    583     583          583\n",
       "Японская кухня             569    569     569          569\n",
       "Испанская кухня            560    560     560          560\n",
       "Грузинская кухня           532    532     532          532\n",
       "Паназиатская кухня         517    517     517          517\n",
       "Британская кухня           503    503     503          503\n",
       "Средиземноморская кухня    484    484     484          484\n",
       "Индийская кухня            416    416     416          416\n",
       "Немецкая кухня             320    320     320          320\n",
       "Тайская кухня              307    307     307          307\n",
       "Украинская кухня           305    305     305          305\n",
       "Арабская кухня             260    260     260          260\n",
       "Еврейская кухня            255    255     255          255\n",
       "Турецкая кухня             239    239     239          239\n",
       "Армянская кухня            210    210     210          210\n",
       "Югославская кухня          173    173     173          173\n",
       "Австрийская кухня          170    170     170          170\n",
       "Узбекская кухня            153    153     153          153\n",
       "Болгарская кухня           151    151     151          151\n",
       "Корейская кухня            136    136     136          136\n",
       "Азербайджанская кухня      128    128     128          128\n",
       "Марокканская кухня         118    118     118          118"
      ]
     },
     "execution_count": 20,
     "metadata": {},
     "output_type": "execute_result"
    }
   ],
   "source": [
    "it = df.groupby('cuisine').count()\n",
    "it.sort_values('title', ascending=False).head(30)"
   ]
  },
  {
   "cell_type": "code",
   "execution_count": 44,
   "id": "8891bcd1-671e-4efa-99d9-fc983bb3c670",
   "metadata": {},
   "outputs": [
    {
     "data": {
      "text/plain": [
       "0.5043752"
      ]
     },
     "execution_count": 44,
     "metadata": {},
     "output_type": "execute_result"
    }
   ],
   "source": [
    "a = ft.get_word_vector('кокосовый')-ft.get_word_vector('кокосовое')+ft.get_word_vector('кремовое')-ft.get_word_vector('кремовый')\n",
    "a@a"
   ]
  },
  {
   "cell_type": "code",
   "execution_count": null,
   "id": "69997cf5",
   "metadata": {},
   "outputs": [],
   "source": []
  }
 ],
 "metadata": {
  "kernelspec": {
   "display_name": "Python 3 (ipykernel)",
   "language": "python",
   "name": "python3"
  },
  "language_info": {
   "codemirror_mode": {
    "name": "ipython",
    "version": 3
   },
   "file_extension": ".py",
   "mimetype": "text/x-python",
   "name": "python",
   "nbconvert_exporter": "python",
   "pygments_lexer": "ipython3",
   "version": "3.9.13"
  }
 },
 "nbformat": 4,
 "nbformat_minor": 5
}
