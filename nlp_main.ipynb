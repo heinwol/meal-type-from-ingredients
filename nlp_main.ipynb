{
 "cells": [
  {
   "cell_type": "code",
   "execution_count": 1,
   "id": "efee2b7a-0175-491d-9783-5612e42506b0",
   "metadata": {},
   "outputs": [],
   "source": [
    "from toolz import *\n",
    "import numpy as np\n",
    "import matplotlib.pyplot as plt\n",
    "import pandas as pd\n",
    "import plotly.graph_objects as go\n",
    "%matplotlib widget\n",
    "\n",
    "\n",
    "import pathlib\n",
    "from lenses import lens\n",
    "\n",
    "from collections import Counter\n",
    "\n",
    "import re\n",
    "import nltk\n",
    "import pymorphy2\n",
    "import fasttext.util\n",
    "\n",
    "import tensorflow as tf\n",
    "from tensorflow import keras\n",
    "from tensorflow.keras import layers\n",
    "from tensorflow.keras.utils import to_categorical\n",
    "from tensorflow.keras.preprocessing.sequence import pad_sequences"
   ]
  },
  {
   "cell_type": "code",
   "execution_count": 2,
   "id": "3a7365e6-8a0f-4d9d-9630-c2d47dd5072c",
   "metadata": {
    "tags": []
   },
   "outputs": [
    {
     "name": "stderr",
     "output_type": "stream",
     "text": [
      "[nltk_data] Downloading collection 'popular'\n",
      "[nltk_data]    | \n",
      "[nltk_data]    | Downloading package cmudict to\n",
      "[nltk_data]    |     C:\\Users\\aakomlev\\AppData\\Roaming\\nltk_data...\n",
      "[nltk_data]    |   Package cmudict is already up-to-date!\n",
      "[nltk_data]    | Downloading package gazetteers to\n",
      "[nltk_data]    |     C:\\Users\\aakomlev\\AppData\\Roaming\\nltk_data...\n",
      "[nltk_data]    |   Package gazetteers is already up-to-date!\n",
      "[nltk_data]    | Downloading package genesis to\n",
      "[nltk_data]    |     C:\\Users\\aakomlev\\AppData\\Roaming\\nltk_data...\n",
      "[nltk_data]    |   Package genesis is already up-to-date!\n",
      "[nltk_data]    | Downloading package gutenberg to\n",
      "[nltk_data]    |     C:\\Users\\aakomlev\\AppData\\Roaming\\nltk_data...\n",
      "[nltk_data]    |   Package gutenberg is already up-to-date!\n",
      "[nltk_data]    | Downloading package inaugural to\n",
      "[nltk_data]    |     C:\\Users\\aakomlev\\AppData\\Roaming\\nltk_data...\n",
      "[nltk_data]    |   Package inaugural is already up-to-date!\n",
      "[nltk_data]    | Downloading package movie_reviews to\n",
      "[nltk_data]    |     C:\\Users\\aakomlev\\AppData\\Roaming\\nltk_data...\n",
      "[nltk_data]    |   Package movie_reviews is already up-to-date!\n",
      "[nltk_data]    | Downloading package names to\n",
      "[nltk_data]    |     C:\\Users\\aakomlev\\AppData\\Roaming\\nltk_data...\n",
      "[nltk_data]    |   Package names is already up-to-date!\n",
      "[nltk_data]    | Downloading package shakespeare to\n",
      "[nltk_data]    |     C:\\Users\\aakomlev\\AppData\\Roaming\\nltk_data...\n",
      "[nltk_data]    |   Package shakespeare is already up-to-date!\n",
      "[nltk_data]    | Downloading package stopwords to\n",
      "[nltk_data]    |     C:\\Users\\aakomlev\\AppData\\Roaming\\nltk_data...\n",
      "[nltk_data]    |   Package stopwords is already up-to-date!\n",
      "[nltk_data]    | Downloading package treebank to\n",
      "[nltk_data]    |     C:\\Users\\aakomlev\\AppData\\Roaming\\nltk_data...\n",
      "[nltk_data]    |   Package treebank is already up-to-date!\n",
      "[nltk_data]    | Downloading package twitter_samples to\n",
      "[nltk_data]    |     C:\\Users\\aakomlev\\AppData\\Roaming\\nltk_data...\n",
      "[nltk_data]    |   Package twitter_samples is already up-to-date!\n",
      "[nltk_data]    | Downloading package omw to\n",
      "[nltk_data]    |     C:\\Users\\aakomlev\\AppData\\Roaming\\nltk_data...\n",
      "[nltk_data]    |   Package omw is already up-to-date!\n",
      "[nltk_data]    | Downloading package omw-1.4 to\n",
      "[nltk_data]    |     C:\\Users\\aakomlev\\AppData\\Roaming\\nltk_data...\n",
      "[nltk_data]    |   Package omw-1.4 is already up-to-date!\n",
      "[nltk_data]    | Downloading package wordnet to\n",
      "[nltk_data]    |     C:\\Users\\aakomlev\\AppData\\Roaming\\nltk_data...\n",
      "[nltk_data]    |   Package wordnet is already up-to-date!\n",
      "[nltk_data]    | Downloading package wordnet2021 to\n",
      "[nltk_data]    |     C:\\Users\\aakomlev\\AppData\\Roaming\\nltk_data...\n",
      "[nltk_data]    |   Package wordnet2021 is already up-to-date!\n",
      "[nltk_data]    | Downloading package wordnet31 to\n",
      "[nltk_data]    |     C:\\Users\\aakomlev\\AppData\\Roaming\\nltk_data...\n",
      "[nltk_data]    |   Package wordnet31 is already up-to-date!\n",
      "[nltk_data]    | Downloading package wordnet_ic to\n",
      "[nltk_data]    |     C:\\Users\\aakomlev\\AppData\\Roaming\\nltk_data...\n",
      "[nltk_data]    |   Package wordnet_ic is already up-to-date!\n",
      "[nltk_data]    | Downloading package words to\n",
      "[nltk_data]    |     C:\\Users\\aakomlev\\AppData\\Roaming\\nltk_data...\n",
      "[nltk_data]    |   Package words is already up-to-date!\n",
      "[nltk_data]    | Downloading package maxent_ne_chunker to\n",
      "[nltk_data]    |     C:\\Users\\aakomlev\\AppData\\Roaming\\nltk_data...\n",
      "[nltk_data]    |   Package maxent_ne_chunker is already up-to-date!\n",
      "[nltk_data]    | Downloading package punkt to\n",
      "[nltk_data]    |     C:\\Users\\aakomlev\\AppData\\Roaming\\nltk_data...\n",
      "[nltk_data]    |   Package punkt is already up-to-date!\n",
      "[nltk_data]    | Downloading package snowball_data to\n",
      "[nltk_data]    |     C:\\Users\\aakomlev\\AppData\\Roaming\\nltk_data...\n",
      "[nltk_data]    |   Package snowball_data is already up-to-date!\n",
      "[nltk_data]    | Downloading package averaged_perceptron_tagger to\n",
      "[nltk_data]    |     C:\\Users\\aakomlev\\AppData\\Roaming\\nltk_data...\n",
      "[nltk_data]    |   Package averaged_perceptron_tagger is already up-\n",
      "[nltk_data]    |       to-date!\n",
      "[nltk_data]    | \n",
      "[nltk_data]  Done downloading collection popular\n",
      "[nltk_data] Downloading package punkt to\n",
      "[nltk_data]     C:\\Users\\aakomlev\\AppData\\Roaming\\nltk_data...\n",
      "[nltk_data]   Package punkt is already up-to-date!\n",
      "[nltk_data] Downloading package averaged_perceptron_tagger_ru to\n",
      "[nltk_data]     C:\\Users\\aakomlev\\AppData\\Roaming\\nltk_data...\n",
      "[nltk_data]   Package averaged_perceptron_tagger_ru is already up-to-\n",
      "[nltk_data]       date!\n",
      "[nltk_data] Downloading package tagsets to\n",
      "[nltk_data]     C:\\Users\\aakomlev\\AppData\\Roaming\\nltk_data...\n",
      "[nltk_data]   Package tagsets is already up-to-date!\n",
      "[nltk_data] Downloading package stopwords to\n",
      "[nltk_data]     C:\\Users\\aakomlev\\AppData\\Roaming\\nltk_data...\n",
      "[nltk_data]   Package stopwords is already up-to-date!\n"
     ]
    },
    {
     "data": {
      "text/plain": [
       "True"
      ]
     },
     "execution_count": 2,
     "metadata": {},
     "output_type": "execute_result"
    }
   ],
   "source": [
    "nltk.download('popular')\n",
    "nltk.download('punkt')\n",
    "nltk.download('averaged_perceptron_tagger_ru')\n",
    "nltk.download('tagsets')\n",
    "nltk.download('stopwords')"
   ]
  },
  {
   "cell_type": "code",
   "execution_count": 3,
   "id": "1f57b13f-0e68-4238-89be-f329432f34dc",
   "metadata": {},
   "outputs": [],
   "source": [
    "lmap = compose(list, map)\n",
    "ltake = compose(list, take)"
   ]
  },
  {
   "cell_type": "code",
   "execution_count": 4,
   "id": "f0c653bd-a45d-4b2e-ae48-9d8974097a18",
   "metadata": {},
   "outputs": [],
   "source": [
    "def map_df_ingredients_element(func, df):\n",
    "    df = df.copy()\n",
    "    df['ingredients'] = df['ingredients'].map(lambda v: lmap(func, v))\n",
    "    return df"
   ]
  },
  {
   "cell_type": "code",
   "execution_count": 5,
   "id": "38a34a4c-caa8-439e-9c5d-6cd5931754dc",
   "metadata": {},
   "outputs": [],
   "source": [
    "data_path = pathlib.Path('data')"
   ]
  },
  {
   "cell_type": "markdown",
   "id": "6ddb79ff-902b-4147-8ece-4e403228b15a",
   "metadata": {},
   "source": [
    "## Загружаем датафрейм с данными"
   ]
  },
  {
   "cell_type": "code",
   "execution_count": 6,
   "id": "07d413a1-165f-4c00-828c-135c0227fbec",
   "metadata": {},
   "outputs": [
    {
     "data": {
      "text/html": [
       "<div>\n",
       "<style scoped>\n",
       "    .dataframe tbody tr th:only-of-type {\n",
       "        vertical-align: middle;\n",
       "    }\n",
       "\n",
       "    .dataframe tbody tr th {\n",
       "        vertical-align: top;\n",
       "    }\n",
       "\n",
       "    .dataframe thead th {\n",
       "        text-align: right;\n",
       "    }\n",
       "</style>\n",
       "<table border=\"1\" class=\"dataframe\">\n",
       "  <thead>\n",
       "    <tr style=\"text-align: right;\">\n",
       "      <th></th>\n",
       "      <th>id</th>\n",
       "      <th>title</th>\n",
       "      <th>course</th>\n",
       "      <th>cuisine</th>\n",
       "      <th>ingredients</th>\n",
       "    </tr>\n",
       "  </thead>\n",
       "  <tbody>\n",
       "    <tr>\n",
       "      <th>0</th>\n",
       "      <td>28195</td>\n",
       "      <td>Банановое мороженое с корицей</td>\n",
       "      <td>Выпечка и десерты</td>\n",
       "      <td>Карибская кухня</td>\n",
       "      <td>[бананы, лимонный сок, молотая корица, ванильн...</td>\n",
       "    </tr>\n",
       "    <tr>\n",
       "      <th>1</th>\n",
       "      <td>28141</td>\n",
       "      <td>Ананасово-кокосовый шербет</td>\n",
       "      <td>Выпечка и десерты</td>\n",
       "      <td>Карибская кухня</td>\n",
       "      <td>[сахар, кокосовое молоко, корень имбиря, анана...</td>\n",
       "    </tr>\n",
       "    <tr>\n",
       "      <th>2</th>\n",
       "      <td>27929</td>\n",
       "      <td>Десерт из манго, клубники и текилы</td>\n",
       "      <td>Выпечка и десерты</td>\n",
       "      <td>Карибская кухня</td>\n",
       "      <td>[клубника, манго, сахар, тертая цедра лайма, т...</td>\n",
       "    </tr>\n",
       "    <tr>\n",
       "      <th>3</th>\n",
       "      <td>28192</td>\n",
       "      <td>Ананас с соусом из манго и рома</td>\n",
       "      <td>Выпечка и десерты</td>\n",
       "      <td>Карибская кухня</td>\n",
       "      <td>[манго, темный ром, сок лайма, сахар, тертая ц...</td>\n",
       "    </tr>\n",
       "    <tr>\n",
       "      <th>4</th>\n",
       "      <td>28463</td>\n",
       "      <td>Клубничный соус с текилой</td>\n",
       "      <td>Выпечка и десерты</td>\n",
       "      <td>Карибская кухня</td>\n",
       "      <td>[клубника, сахарная пудра, сок лайма, текила, ...</td>\n",
       "    </tr>\n",
       "    <tr>\n",
       "      <th>...</th>\n",
       "      <td>...</td>\n",
       "      <td>...</td>\n",
       "      <td>...</td>\n",
       "      <td>...</td>\n",
       "      <td>...</td>\n",
       "    </tr>\n",
       "    <tr>\n",
       "      <th>41433</th>\n",
       "      <td>43380</td>\n",
       "      <td>Постный борщ с фасолью</td>\n",
       "      <td>Супы</td>\n",
       "      <td>Украинская кухня</td>\n",
       "      <td>[белая фасоль, овощной бульон, свекла, картофе...</td>\n",
       "    </tr>\n",
       "    <tr>\n",
       "      <th>41434</th>\n",
       "      <td>80446</td>\n",
       "      <td>Суп энгамат</td>\n",
       "      <td>Супы</td>\n",
       "      <td>Шведская кухня</td>\n",
       "      <td>[цветная капуста, морковь, картофель, лук-поре...</td>\n",
       "    </tr>\n",
       "    <tr>\n",
       "      <th>41435</th>\n",
       "      <td>136820</td>\n",
       "      <td>Гороховый суп с блинчиками</td>\n",
       "      <td>Супы</td>\n",
       "      <td>Шведская кухня</td>\n",
       "      <td>[горох, репчатый лук, гвоздика, свиная рулька,...</td>\n",
       "    </tr>\n",
       "    <tr>\n",
       "      <th>41436</th>\n",
       "      <td>18014</td>\n",
       "      <td>Суп из брокколи и кростини с сыром бри</td>\n",
       "      <td>Супы</td>\n",
       "      <td>Шведская кухня</td>\n",
       "      <td>[оливковое масло, репчатый лук, овощной бульон...</td>\n",
       "    </tr>\n",
       "    <tr>\n",
       "      <th>41437</th>\n",
       "      <td>49530</td>\n",
       "      <td>Сливочный суп с фрикадельками</td>\n",
       "      <td>Супы</td>\n",
       "      <td>Шведская кухня</td>\n",
       "      <td>[картофель, репчатый лук, мясной фарш, морковь...</td>\n",
       "    </tr>\n",
       "  </tbody>\n",
       "</table>\n",
       "<p>41438 rows × 5 columns</p>\n",
       "</div>"
      ],
      "text/plain": [
       "           id                                   title             course  \\\n",
       "0       28195           Банановое мороженое с корицей  Выпечка и десерты   \n",
       "1       28141              Ананасово-кокосовый шербет  Выпечка и десерты   \n",
       "2       27929      Десерт из манго, клубники и текилы  Выпечка и десерты   \n",
       "3       28192         Ананас с соусом из манго и рома  Выпечка и десерты   \n",
       "4       28463               Клубничный соус с текилой  Выпечка и десерты   \n",
       "...       ...                                     ...                ...   \n",
       "41433   43380                  Постный борщ с фасолью               Супы   \n",
       "41434   80446                             Суп энгамат               Супы   \n",
       "41435  136820              Гороховый суп с блинчиками               Супы   \n",
       "41436   18014  Суп из брокколи и кростини с сыром бри               Супы   \n",
       "41437   49530           Сливочный суп с фрикадельками               Супы   \n",
       "\n",
       "                cuisine                                        ingredients  \n",
       "0       Карибская кухня  [бананы, лимонный сок, молотая корица, ванильн...  \n",
       "1       Карибская кухня  [сахар, кокосовое молоко, корень имбиря, анана...  \n",
       "2       Карибская кухня  [клубника, манго, сахар, тертая цедра лайма, т...  \n",
       "3       Карибская кухня  [манго, темный ром, сок лайма, сахар, тертая ц...  \n",
       "4       Карибская кухня  [клубника, сахарная пудра, сок лайма, текила, ...  \n",
       "...                 ...                                                ...  \n",
       "41433  Украинская кухня  [белая фасоль, овощной бульон, свекла, картофе...  \n",
       "41434    Шведская кухня  [цветная капуста, морковь, картофель, лук-поре...  \n",
       "41435    Шведская кухня  [горох, репчатый лук, гвоздика, свиная рулька,...  \n",
       "41436    Шведская кухня  [оливковое масло, репчатый лук, овощной бульон...  \n",
       "41437    Шведская кухня  [картофель, репчатый лук, мясной фарш, морковь...  \n",
       "\n",
       "[41438 rows x 5 columns]"
      ]
     },
     "execution_count": 6,
     "metadata": {},
     "output_type": "execute_result"
    }
   ],
   "source": [
    "df = pd.read_json(data_path.joinpath('ready_dataframe.json'))\n",
    "df = map_df_ingredients_element(compose(str.lower, str.strip), df)\n",
    "df"
   ]
  },
  {
   "cell_type": "markdown",
   "id": "acd92478-e00c-4507-9cd9-bccc0e6e4a1c",
   "metadata": {},
   "source": [
    "## Работа с ингридиентами"
   ]
  },
  {
   "cell_type": "markdown",
   "id": "4803caf6-ff99-4f27-8b85-d2e570daee43",
   "metadata": {},
   "source": [
    "Удобнее работать с листом листов:"
   ]
  },
  {
   "cell_type": "code",
   "execution_count": 7,
   "id": "d83a2ede-2ce3-494e-884a-8e6ba5a8be34",
   "metadata": {},
   "outputs": [
    {
     "data": {
      "text/plain": [
       "[['бананы', 'лимонный сок', 'молотая корица', 'ванильное мороженое'],\n",
       " ['сахар', 'кокосовое молоко', 'корень имбиря', 'ананас', 'сок лайма'],\n",
       " ['клубника',\n",
       "  'манго',\n",
       "  'сахар',\n",
       "  'тертая цедра лайма',\n",
       "  'текила',\n",
       "  'сок лайма',\n",
       "  'апельсиновый ликер']]"
      ]
     },
     "execution_count": 7,
     "metadata": {},
     "output_type": "execute_result"
    }
   ],
   "source": [
    "ingredients = list(df['ingredients'])\n",
    "# TODO !!!!!!!!! Временно берем только первые несколько записей \n",
    "ingredients = ingredients \n",
    "ingredients[:3]"
   ]
  },
  {
   "cell_type": "markdown",
   "id": "b6d59646-3337-4a30-b94c-d6314fb73d00",
   "metadata": {},
   "source": [
    "### Самые часто встречающиеся слова в ингридиентах"
   ]
  },
  {
   "cell_type": "code",
   "execution_count": 8,
   "id": "c403e384-8ec0-416c-8bf7-b382b6db1094",
   "metadata": {},
   "outputs": [
    {
     "data": {
      "text/plain": [
       "[('соль', 20427),\n",
       " ('куриное яйцо', 11621),\n",
       " ('сахар', 10953),\n",
       " ('молотый черный перец', 10877),\n",
       " ('сливочное масло', 10323),\n",
       " ('пшеничная мука', 9950),\n",
       " ('чеснок', 9558),\n",
       " ('оливковое масло', 7932),\n",
       " ('репчатый лук', 7272),\n",
       " ('растительное масло', 6456)]"
      ]
     },
     "execution_count": 8,
     "metadata": {},
     "output_type": "execute_result"
    }
   ],
   "source": [
    "ingredients_counter = Counter()\n",
    "for lst in ingredients:\n",
    "    ingredients_counter.update(lst)\n",
    "# first_ingresients, _ = zip(*ingredients_counter.most_common(10))\n",
    "# first_ingresients = list(first_ingresients)\n",
    "# first_ingresients\n",
    "ingredients_counter.most_common(10)"
   ]
  },
  {
   "cell_type": "code",
   "execution_count": 9,
   "id": "af98db77-67ff-47ce-996b-26f573a929fc",
   "metadata": {},
   "outputs": [
    {
     "data": {
      "text/plain": [
       "[('банан',),\n",
       " ('лимонный', 'сок'),\n",
       " ('молотый', 'корица'),\n",
       " ('ванильный', 'мороженое'),\n",
       " ('сахар',),\n",
       " ('кокосовый', 'молоко'),\n",
       " ('корень', 'имбирь'),\n",
       " ('ананас',),\n",
       " ('сок', 'лайм'),\n",
       " ('клубника',)]"
      ]
     },
     "execution_count": 9,
     "metadata": {},
     "output_type": "execute_result"
    }
   ],
   "source": [
    "morph = pymorphy2.MorphAnalyzer()\n",
    "def lemmatize(word):\n",
    "    return morph.parse(word)[0].normal_form\n",
    "\n",
    "it = lmap(compose(tuple, nltk.word_tokenize), ingredients_counter)\n",
    "it = lens.Each().Each().modify(lemmatize)(it)\n",
    "it[:10]"
   ]
  },
  {
   "cell_type": "markdown",
   "id": "f152605a-e739-435e-86e1-add757188c03",
   "metadata": {},
   "source": [
    "### Токенизация"
   ]
  },
  {
   "cell_type": "code",
   "execution_count": 10,
   "id": "fd1c36b6-5ce0-4f4e-b00a-6ccde843f86a",
   "metadata": {},
   "outputs": [
    {
     "data": {
      "text/plain": [
       "[[['бананы'],\n",
       "  ['лимонный', 'сок'],\n",
       "  ['молотая', 'корица'],\n",
       "  ['ванильное', 'мороженое']],\n",
       " [['сахар'],\n",
       "  ['кокосовое', 'молоко'],\n",
       "  ['корень', 'имбиря'],\n",
       "  ['ананас'],\n",
       "  ['сок', 'лайма']],\n",
       " [['клубника'],\n",
       "  ['манго'],\n",
       "  ['сахар'],\n",
       "  ['тертая', 'цедра', 'лайма'],\n",
       "  ['текила'],\n",
       "  ['сок', 'лайма'],\n",
       "  ['апельсиновый', 'ликер']],\n",
       " [['манго'],\n",
       "  ['темный', 'ром'],\n",
       "  ['сок', 'лайма'],\n",
       "  ['сахар'],\n",
       "  ['тертая', 'цедра', 'лайма'],\n",
       "  ['ананас']]]"
      ]
     },
     "execution_count": 10,
     "metadata": {},
     "output_type": "execute_result"
    }
   ],
   "source": [
    "ingredients_tokenized = lens.Each().Each().modify(nltk.word_tokenize)(ingredients)\n",
    "ingredients_tokenized[:4]"
   ]
  },
  {
   "cell_type": "markdown",
   "id": "b927e726-f87f-4378-81ea-79b0f77c05af",
   "metadata": {},
   "source": [
    "### Стоп-слова и фильтрация"
   ]
  },
  {
   "cell_type": "code",
   "execution_count": 11,
   "id": "7ba5bab3-648d-4869-aa48-f3cde9247424",
   "metadata": {},
   "outputs": [],
   "source": [
    "stopwords = nltk.corpus.stopwords.words('russian')"
   ]
  },
  {
   "cell_type": "code",
   "execution_count": 12,
   "id": "65d5a043-e3a6-42fb-91c1-1b4eda58640a",
   "metadata": {},
   "outputs": [],
   "source": [
    "rx = re.compile(r'[a-zA-Zа-яА-Я][a-zA-Zа-яА-Я\\d\\-]*')"
   ]
  },
  {
   "cell_type": "code",
   "execution_count": 13,
   "id": "04908c5d-33c3-464d-9112-c0afeb873dcd",
   "metadata": {},
   "outputs": [
    {
     "data": {
      "text/plain": [
       "[[('бананы',),\n",
       "  ('лимонный', 'сок'),\n",
       "  ('молотая', 'корица'),\n",
       "  ('ванильное', 'мороженое')],\n",
       " [('сахар',),\n",
       "  ('кокосовое', 'молоко'),\n",
       "  ('корень', 'имбиря'),\n",
       "  ('ананас',),\n",
       "  ('сок', 'лайма')],\n",
       " [('клубника',),\n",
       "  ('манго',),\n",
       "  ('сахар',),\n",
       "  ('тертая', 'цедра', 'лайма'),\n",
       "  ('текила',),\n",
       "  ('сок', 'лайма'),\n",
       "  ('апельсиновый', 'ликер')],\n",
       " [('манго',),\n",
       "  ('темный', 'ром'),\n",
       "  ('сок', 'лайма'),\n",
       "  ('сахар',),\n",
       "  ('тертая', 'цедра', 'лайма'),\n",
       "  ('ананас',)]]"
      ]
     },
     "execution_count": 13,
     "metadata": {},
     "output_type": "execute_result"
    }
   ],
   "source": [
    "ingredients_filtered = (lens\n",
    "    .Each().Each().modify(\n",
    "        lambda tokenized: tuple(filter(\n",
    "            lambda word: word not in stopwords and rx.match(word),\n",
    "            tokenized))\n",
    "    )(ingredients_tokenized)\n",
    ")\n",
    "ingredients_filtered[:4]"
   ]
  },
  {
   "cell_type": "markdown",
   "id": "51d931a6-a5ef-4c65-8199-4e3078fd7bfb",
   "metadata": {},
   "source": [
    "### Лемматизация"
   ]
  },
  {
   "cell_type": "code",
   "execution_count": 14,
   "id": "82a9cb15-8b4d-43aa-b6eb-f58043fd8be9",
   "metadata": {},
   "outputs": [
    {
     "data": {
      "text/plain": [
       "[[('банан',),\n",
       "  ('лимонный', 'сок'),\n",
       "  ('молотый', 'корица'),\n",
       "  ('ванильный', 'мороженое')],\n",
       " [('сахар',),\n",
       "  ('кокосовый', 'молоко'),\n",
       "  ('корень', 'имбирь'),\n",
       "  ('ананас',),\n",
       "  ('сок', 'лайм')],\n",
       " [('клубника',),\n",
       "  ('манго',),\n",
       "  ('сахар',),\n",
       "  ('тёртый', 'цедра', 'лайм'),\n",
       "  ('текила',),\n",
       "  ('сок', 'лайм'),\n",
       "  ('апельсиновый', 'ликёр')],\n",
       " [('манго',),\n",
       "  ('тёмный', 'ром'),\n",
       "  ('сок', 'лайм'),\n",
       "  ('сахар',),\n",
       "  ('тёртый', 'цедра', 'лайм'),\n",
       "  ('ананас',)]]"
      ]
     },
     "execution_count": 14,
     "metadata": {},
     "output_type": "execute_result"
    }
   ],
   "source": [
    "ingredients_lemmatized = lens.Each().Each().Each().modify(lemmatize)(ingredients_filtered)\n",
    "ingredients_lemmatized[:4]"
   ]
  },
  {
   "cell_type": "code",
   "execution_count": 15,
   "id": "2526af97",
   "metadata": {},
   "outputs": [
    {
     "data": {
      "text/plain": [
       "['PAD',\n",
       " 'UNK',\n",
       " 'añejo',\n",
       " 'baby',\n",
       " 'baileys',\n",
       " 'bambino',\n",
       " 'bean',\n",
       " 'biogourmet',\n",
       " 'biscoff',\n",
       " 'blue']"
      ]
     },
     "execution_count": 15,
     "metadata": {},
     "output_type": "execute_result"
    }
   ],
   "source": [
    "all_words_lemmatized = Counter(lens.Each().Each().Each().collect()(ingredients_lemmatized))\n",
    "\n",
    "all_words_lemmatized_list = list(all_words_lemmatized)\n",
    "\n",
    "#Добавил UNK и PAD\n",
    "all_words_lemmatized_list = ['PAD', 'UNK']+all_words_lemmatized_list\n",
    "all_words_lemmatized_list.sort()\n",
    "all_words_lemmatized_list[:10]\n",
    "# dict(all_words.items())"
   ]
  },
  {
   "cell_type": "code",
   "execution_count": 16,
   "id": "fe4e3e2e",
   "metadata": {},
   "outputs": [
    {
     "data": {
      "text/plain": [
       "'cc.ru.300.bin'"
      ]
     },
     "execution_count": 16,
     "metadata": {},
     "output_type": "execute_result"
    }
   ],
   "source": [
    "#ОЧЕНЬ ДОЛГО\n",
    "fasttext.util.download_model('ru', if_exists='ignore')"
   ]
  },
  {
   "cell_type": "code",
   "execution_count": 17,
   "id": "a8d4327f",
   "metadata": {},
   "outputs": [
    {
     "data": {
      "text/plain": [
       "300"
      ]
     },
     "execution_count": 17,
     "metadata": {},
     "output_type": "execute_result"
    }
   ],
   "source": [
    "ft = fasttext.load_model('cc.ru.300.bin')\n",
    "dim = ft.get_dimension()\n",
    "dim"
   ]
  },
  {
   "cell_type": "markdown",
   "id": "6bc90973",
   "metadata": {},
   "source": [
    "### Получаем векторы для слов "
   ]
  },
  {
   "cell_type": "code",
   "execution_count": 18,
   "id": "1f490b04",
   "metadata": {},
   "outputs": [],
   "source": [
    "word_embeddings_dict = {}\n",
    "for word in all_words_lemmatized_list:\n",
    "    if word  == 'PAD':\n",
    "        word_embeddings_dict[word] = np.concatenate((np.zeros(dim),[1, 0]))\n",
    "    elif word  == 'UNK':\n",
    "        word_embeddings_dict[word] = np.concatenate((np.zeros(dim),[0, 1]))\n",
    "    else:\n",
    "        word_embeddings_dict[word] = np.concatenate((ft.get_word_vector(word), [0, 0]))"
   ]
  },
  {
   "cell_type": "code",
   "execution_count": 19,
   "id": "67199b34-d757-4216-b887-18d9a1da0fef",
   "metadata": {
    "scrolled": true
   },
   "outputs": [
    {
     "data": {
      "text/plain": [
       "('PAD',\n",
       " array([0., 0., 0., 0., 0., 0., 0., 0., 0., 0., 0., 0., 0., 0., 0., 0., 0.,\n",
       "        0., 0., 0., 0., 0., 0., 0., 0., 0., 0., 0., 0., 0., 0., 0., 0., 0.,\n",
       "        0., 0., 0., 0., 0., 0., 0., 0., 0., 0., 0., 0., 0., 0., 0., 0., 0.,\n",
       "        0., 0., 0., 0., 0., 0., 0., 0., 0., 0., 0., 0., 0., 0., 0., 0., 0.,\n",
       "        0., 0., 0., 0., 0., 0., 0., 0., 0., 0., 0., 0., 0., 0., 0., 0., 0.,\n",
       "        0., 0., 0., 0., 0., 0., 0., 0., 0., 0., 0., 0., 0., 0., 0., 0., 0.,\n",
       "        0., 0., 0., 0., 0., 0., 0., 0., 0., 0., 0., 0., 0., 0., 0., 0., 0.,\n",
       "        0., 0., 0., 0., 0., 0., 0., 0., 0., 0., 0., 0., 0., 0., 0., 0., 0.,\n",
       "        0., 0., 0., 0., 0., 0., 0., 0., 0., 0., 0., 0., 0., 0., 0., 0., 0.,\n",
       "        0., 0., 0., 0., 0., 0., 0., 0., 0., 0., 0., 0., 0., 0., 0., 0., 0.,\n",
       "        0., 0., 0., 0., 0., 0., 0., 0., 0., 0., 0., 0., 0., 0., 0., 0., 0.,\n",
       "        0., 0., 0., 0., 0., 0., 0., 0., 0., 0., 0., 0., 0., 0., 0., 0., 0.,\n",
       "        0., 0., 0., 0., 0., 0., 0., 0., 0., 0., 0., 0., 0., 0., 0., 0., 0.,\n",
       "        0., 0., 0., 0., 0., 0., 0., 0., 0., 0., 0., 0., 0., 0., 0., 0., 0.,\n",
       "        0., 0., 0., 0., 0., 0., 0., 0., 0., 0., 0., 0., 0., 0., 0., 0., 0.,\n",
       "        0., 0., 0., 0., 0., 0., 0., 0., 0., 0., 0., 0., 0., 0., 0., 0., 0.,\n",
       "        0., 0., 0., 0., 0., 0., 0., 0., 0., 0., 0., 0., 0., 0., 0., 0., 0.,\n",
       "        0., 0., 0., 0., 0., 0., 0., 0., 0., 0., 0., 1., 0.]))"
      ]
     },
     "execution_count": 19,
     "metadata": {},
     "output_type": "execute_result"
    }
   ],
   "source": [
    "first(word_embeddings_dict.items())\n",
    "# np.concatenate((ft.get_word_vector(word), [0, 0])).shape"
   ]
  },
  {
   "cell_type": "markdown",
   "id": "4a6af31d",
   "metadata": {},
   "source": [
    "Расширяем разметрости для PAD и UNK"
   ]
  },
  {
   "cell_type": "code",
   "execution_count": 20,
   "id": "efb18f90",
   "metadata": {},
   "outputs": [],
   "source": [
    "dim += 2"
   ]
  },
  {
   "cell_type": "code",
   "execution_count": 21,
   "id": "2d7ac829",
   "metadata": {},
   "outputs": [],
   "source": [
    "del ft"
   ]
  },
  {
   "cell_type": "code",
   "execution_count": 22,
   "id": "066c458e",
   "metadata": {},
   "outputs": [],
   "source": [
    "# word_num = [(word, i) for i, word in enumerate(words)]\n",
    "# word_num[:10]"
   ]
  },
  {
   "cell_type": "markdown",
   "id": "ec42c86c",
   "metadata": {},
   "source": [
    "### Векторы для ингредиентов"
   ]
  },
  {
   "cell_type": "code",
   "execution_count": 23,
   "id": "636af530",
   "metadata": {},
   "outputs": [
    {
     "data": {
      "text/plain": [
       "[(('PAD',), 0),\n",
       " (('UNK',), 1),\n",
       " (('кукурузный', 'масло', 'слобода'), 2),\n",
       " (('петух',), 3),\n",
       " (('жир', 'растительный'), 4),\n",
       " (('варёный', 'окорка'), 5)]"
      ]
     },
     "execution_count": 23,
     "metadata": {},
     "output_type": "execute_result"
    }
   ],
   "source": [
    "all_ingredients_list =  list(set(lens.Each().Each().collect()(ingredients_lemmatized)))\n",
    "#Добавил UNK и PAD\n",
    "all_ingredients_list = [('PAD',), ('UNK',)]+all_ingredients_list\n",
    "all_ingredients_list \n",
    "ingredients_numbering_dict = {ingredient: i for i, ingredient in enumerate(all_ingredients_list)}\n",
    "ltake(6, ingredients_numbering_dict.items())"
   ]
  },
  {
   "cell_type": "markdown",
   "id": "bbe1fa5f-77ce-4ab9-9a51-73795258450f",
   "metadata": {},
   "source": [
    "Для получения вектора для ингридиента просто суммируем векторы для каждого слова в этом ингридиенте:"
   ]
  },
  {
   "cell_type": "code",
   "execution_count": 24,
   "id": "3600593c",
   "metadata": {
    "scrolled": true
   },
   "outputs": [
    {
     "data": {
      "text/plain": [
       "(('PAD',),\n",
       " array([0., 0., 0., 0., 0., 0., 0., 0., 0., 0., 0., 0., 0., 0., 0., 0., 0.,\n",
       "        0., 0., 0., 0., 0., 0., 0., 0., 0., 0., 0., 0., 0., 0., 0., 0., 0.,\n",
       "        0., 0., 0., 0., 0., 0., 0., 0., 0., 0., 0., 0., 0., 0., 0., 0., 0.,\n",
       "        0., 0., 0., 0., 0., 0., 0., 0., 0., 0., 0., 0., 0., 0., 0., 0., 0.,\n",
       "        0., 0., 0., 0., 0., 0., 0., 0., 0., 0., 0., 0., 0., 0., 0., 0., 0.,\n",
       "        0., 0., 0., 0., 0., 0., 0., 0., 0., 0., 0., 0., 0., 0., 0., 0., 0.,\n",
       "        0., 0., 0., 0., 0., 0., 0., 0., 0., 0., 0., 0., 0., 0., 0., 0., 0.,\n",
       "        0., 0., 0., 0., 0., 0., 0., 0., 0., 0., 0., 0., 0., 0., 0., 0., 0.,\n",
       "        0., 0., 0., 0., 0., 0., 0., 0., 0., 0., 0., 0., 0., 0., 0., 0., 0.,\n",
       "        0., 0., 0., 0., 0., 0., 0., 0., 0., 0., 0., 0., 0., 0., 0., 0., 0.,\n",
       "        0., 0., 0., 0., 0., 0., 0., 0., 0., 0., 0., 0., 0., 0., 0., 0., 0.,\n",
       "        0., 0., 0., 0., 0., 0., 0., 0., 0., 0., 0., 0., 0., 0., 0., 0., 0.,\n",
       "        0., 0., 0., 0., 0., 0., 0., 0., 0., 0., 0., 0., 0., 0., 0., 0., 0.,\n",
       "        0., 0., 0., 0., 0., 0., 0., 0., 0., 0., 0., 0., 0., 0., 0., 0., 0.,\n",
       "        0., 0., 0., 0., 0., 0., 0., 0., 0., 0., 0., 0., 0., 0., 0., 0., 0.,\n",
       "        0., 0., 0., 0., 0., 0., 0., 0., 0., 0., 0., 0., 0., 0., 0., 0., 0.,\n",
       "        0., 0., 0., 0., 0., 0., 0., 0., 0., 0., 0., 0., 0., 0., 0., 0., 0.,\n",
       "        0., 0., 0., 0., 0., 0., 0., 0., 0., 0., 0., 1., 0.]))"
      ]
     },
     "execution_count": 24,
     "metadata": {},
     "output_type": "execute_result"
    }
   ],
   "source": [
    "ingredients_embeddings_dict = {}\n",
    "for ingr in all_ingredients_list:\n",
    "    ingredients_embeddings_dict[ingr] = np.zeros(dim)\n",
    "    for word in ingr:\n",
    "#         ingredients_embeddings_dict[ingr] += ft.get_word_vector(word) \n",
    "        ingredients_embeddings_dict[ingr] += word_embeddings_dict[word] # Должно заработать, когда \n",
    "                                                                         # ингредиенты будут лемматизированны\n",
    "ltake(1, ingredients_embeddings_dict.items())[0]\n"
   ]
  },
  {
   "cell_type": "markdown",
   "id": "93987e23-8a9f-4cbb-b9d1-ffa406859267",
   "metadata": {},
   "source": [
    "Наконец, для каждого рецепта возьмем его векторизацию как сумму векторов его ингридиентов"
   ]
  },
  {
   "cell_type": "code",
   "execution_count": 25,
   "id": "41bc1ab4-75eb-4a2b-bb6c-49065f27580d",
   "metadata": {},
   "outputs": [
    {
     "data": {
      "text/plain": [
       "41438"
      ]
     },
     "execution_count": 25,
     "metadata": {},
     "output_type": "execute_result"
    }
   ],
   "source": [
    "ingredients_by_recipe_embedding = [\n",
    "    sum(ingredients_embeddings_dict[ingredient]\n",
    "        for ingredient in ingredient_list) \n",
    "    for ingredient_list in ingredients_lemmatized\n",
    "]\n",
    "len(ingredients_by_recipe_embedding)"
   ]
  },
  {
   "cell_type": "markdown",
   "id": "b4818b87-28b4-4b6f-8036-81be5233bb88",
   "metadata": {},
   "source": [
    "## Данные для нейросети"
   ]
  },
  {
   "cell_type": "markdown",
   "id": "56e15c2e-fa53-4166-881e-8be468bd437d",
   "metadata": {},
   "source": [
    "Всевозможные метки (course):"
   ]
  },
  {
   "cell_type": "code",
   "execution_count": 26,
   "id": "f23112eb-fec9-4205-b25c-d7d57f2afa18",
   "metadata": {},
   "outputs": [
    {
     "data": {
      "text/plain": [
       "{'Выпечка и десерты': 0,\n",
       " 'Завтраки': 1,\n",
       " 'Закуски': 2,\n",
       " 'Напитки': 3,\n",
       " 'Основные блюда': 4,\n",
       " 'Паста и пицца': 5,\n",
       " 'Салаты': 6,\n",
       " 'Соусы и маринады': 7,\n",
       " 'Супы': 8}"
      ]
     },
     "execution_count": 26,
     "metadata": {},
     "output_type": "execute_result"
    }
   ],
   "source": [
    "all_courses = {name: num for num, name in enumerate(df['course'][~df['course'].duplicated()])}\n",
    "all_courses"
   ]
  },
  {
   "cell_type": "code",
   "execution_count": 27,
   "id": "f53ad845-6e9e-41bf-aad6-9ad11c3f22ed",
   "metadata": {
    "scrolled": true
   },
   "outputs": [
    {
     "data": {
      "text/html": [
       "<div>\n",
       "<style scoped>\n",
       "    .dataframe tbody tr th:only-of-type {\n",
       "        vertical-align: middle;\n",
       "    }\n",
       "\n",
       "    .dataframe tbody tr th {\n",
       "        vertical-align: top;\n",
       "    }\n",
       "\n",
       "    .dataframe thead th {\n",
       "        text-align: right;\n",
       "    }\n",
       "</style>\n",
       "<table border=\"1\" class=\"dataframe\">\n",
       "  <thead>\n",
       "    <tr style=\"text-align: right;\">\n",
       "      <th></th>\n",
       "      <th>id</th>\n",
       "      <th>ingredient_embedding</th>\n",
       "      <th>course_mark</th>\n",
       "    </tr>\n",
       "  </thead>\n",
       "  <tbody>\n",
       "    <tr>\n",
       "      <th>0</th>\n",
       "      <td>28195</td>\n",
       "      <td>[0.611611146479845, -0.0743011748418212, -0.09...</td>\n",
       "      <td>0</td>\n",
       "    </tr>\n",
       "    <tr>\n",
       "      <th>1</th>\n",
       "      <td>28141</td>\n",
       "      <td>[0.8909059994039126, -0.11706455610692501, -0....</td>\n",
       "      <td>0</td>\n",
       "    </tr>\n",
       "    <tr>\n",
       "      <th>2</th>\n",
       "      <td>27929</td>\n",
       "      <td>[1.08976399153471, -0.4261779775843024, -0.389...</td>\n",
       "      <td>0</td>\n",
       "    </tr>\n",
       "    <tr>\n",
       "      <th>3</th>\n",
       "      <td>28192</td>\n",
       "      <td>[1.1749160811305046, -0.5175759345293045, -0.3...</td>\n",
       "      <td>0</td>\n",
       "    </tr>\n",
       "    <tr>\n",
       "      <th>4</th>\n",
       "      <td>28463</td>\n",
       "      <td>[0.6190221486613154, -0.14342674519866705, -0....</td>\n",
       "      <td>0</td>\n",
       "    </tr>\n",
       "    <tr>\n",
       "      <th>...</th>\n",
       "      <td>...</td>\n",
       "      <td>...</td>\n",
       "      <td>...</td>\n",
       "    </tr>\n",
       "    <tr>\n",
       "      <th>41433</th>\n",
       "      <td>43380</td>\n",
       "      <td>[1.3148583127185702, -0.05140630202367902, -0....</td>\n",
       "      <td>8</td>\n",
       "    </tr>\n",
       "    <tr>\n",
       "      <th>41434</th>\n",
       "      <td>80446</td>\n",
       "      <td>[1.0693077351897955, 0.24955729965586215, -0.1...</td>\n",
       "      <td>8</td>\n",
       "    </tr>\n",
       "    <tr>\n",
       "      <th>41435</th>\n",
       "      <td>136820</td>\n",
       "      <td>[0.7934096870012581, 0.5892392117530107, -0.44...</td>\n",
       "      <td>8</td>\n",
       "    </tr>\n",
       "    <tr>\n",
       "      <th>41436</th>\n",
       "      <td>18014</td>\n",
       "      <td>[0.834478304721415, 0.4054728071205318, 0.2355...</td>\n",
       "      <td>8</td>\n",
       "    </tr>\n",
       "    <tr>\n",
       "      <th>41437</th>\n",
       "      <td>49530</td>\n",
       "      <td>[0.564823753782548, -0.15655456483364105, 0.00...</td>\n",
       "      <td>8</td>\n",
       "    </tr>\n",
       "  </tbody>\n",
       "</table>\n",
       "<p>41438 rows × 3 columns</p>\n",
       "</div>"
      ],
      "text/plain": [
       "           id                               ingredient_embedding  course_mark\n",
       "0       28195  [0.611611146479845, -0.0743011748418212, -0.09...            0\n",
       "1       28141  [0.8909059994039126, -0.11706455610692501, -0....            0\n",
       "2       27929  [1.08976399153471, -0.4261779775843024, -0.389...            0\n",
       "3       28192  [1.1749160811305046, -0.5175759345293045, -0.3...            0\n",
       "4       28463  [0.6190221486613154, -0.14342674519866705, -0....            0\n",
       "...       ...                                                ...          ...\n",
       "41433   43380  [1.3148583127185702, -0.05140630202367902, -0....            8\n",
       "41434   80446  [1.0693077351897955, 0.24955729965586215, -0.1...            8\n",
       "41435  136820  [0.7934096870012581, 0.5892392117530107, -0.44...            8\n",
       "41436   18014  [0.834478304721415, 0.4054728071205318, 0.2355...            8\n",
       "41437   49530  [0.564823753782548, -0.15655456483364105, 0.00...            8\n",
       "\n",
       "[41438 rows x 3 columns]"
      ]
     },
     "execution_count": 27,
     "metadata": {},
     "output_type": "execute_result"
    }
   ],
   "source": [
    "df_for_learning = pd.DataFrame(data={\n",
    "    'id': df['id'],\n",
    "    'ingredient_embedding': ingredients_by_recipe_embedding,\n",
    "    'course_mark': [all_courses[course] for course in df['course']]\n",
    "})\n",
    "df_for_learning"
   ]
  },
  {
   "cell_type": "code",
   "execution_count": 28,
   "id": "c1935ce5-3410-4152-ab7f-a2aa989f9ae0",
   "metadata": {
    "scrolled": true
   },
   "outputs": [],
   "source": [
    "# tf.keras.preprocessing.text.one_hot(all_courses, len(all_courses))"
   ]
  },
  {
   "cell_type": "markdown",
   "id": "a029a738",
   "metadata": {},
   "source": [
    "## Подготовка BoE"
   ]
  },
  {
   "cell_type": "code",
   "execution_count": 29,
   "id": "fc1d3791",
   "metadata": {},
   "outputs": [],
   "source": [
    "data = np.array(ingredients_by_recipe_embedding)\n",
    "labels = to_categorical(np.array(df_for_learning['course_mark']), num_classes=len(all_courses))\n",
    "\n",
    "indices = np.arange(data.shape[0])\n",
    "np.random.shuffle(indices)\n",
    "data = data[indices]\n",
    "labels = labels[indices]\n",
    "\n",
    "VALIDATION_SPLIT = 0.2\n",
    "nb_validation_samples = int(VALIDATION_SPLIT * data.shape[0])\n",
    "\n",
    "x_train = data[:-nb_validation_samples]\n",
    "y_train = labels[:-nb_validation_samples]\n",
    "x_val = data[-nb_validation_samples:]\n",
    "y_val = labels[-nb_validation_samples:]"
   ]
  },
  {
   "cell_type": "markdown",
   "id": "f354bb8e",
   "metadata": {},
   "source": [
    "## Обучение BoE"
   ]
  },
  {
   "cell_type": "code",
   "execution_count": 30,
   "id": "0b0c7945",
   "metadata": {},
   "outputs": [],
   "source": [
    "sequence_input = layers.Input(shape=(dim,), dtype='int32')\n",
    "x = layers.Dense(64, activation='relu')(sequence_input)\n",
    "x = layers.Dense(16, activation='relu')(x)\n",
    "preds = layers.Dense(len(all_courses), activation='softmax')(x)\n",
    "\n",
    "model = keras.Model(sequence_input, preds)\n",
    "model.compile(loss='categorical_crossentropy',\n",
    "              optimizer='rmsprop',\n",
    "              metrics=['acc'])\n"
   ]
  },
  {
   "cell_type": "code",
   "execution_count": 31,
   "id": "50b62bae",
   "metadata": {},
   "outputs": [
    {
     "name": "stdout",
     "output_type": "stream",
     "text": [
      "Model: \"model\"\n",
      "_________________________________________________________________\n",
      " Layer (type)                Output Shape              Param #   \n",
      "=================================================================\n",
      " input_1 (InputLayer)        [(None, 302)]             0         \n",
      "                                                                 \n",
      " dense (Dense)               (None, 64)                19392     \n",
      "                                                                 \n",
      " dense_1 (Dense)             (None, 16)                1040      \n",
      "                                                                 \n",
      " dense_2 (Dense)             (None, 9)                 153       \n",
      "                                                                 \n",
      "=================================================================\n",
      "Total params: 20,585\n",
      "Trainable params: 20,585\n",
      "Non-trainable params: 0\n",
      "_________________________________________________________________\n"
     ]
    }
   ],
   "source": [
    "model.summary()"
   ]
  },
  {
   "cell_type": "code",
   "execution_count": 32,
   "id": "c1a2277a",
   "metadata": {},
   "outputs": [
    {
     "name": "stdout",
     "output_type": "stream",
     "text": [
      "Epoch 1/200\n",
      "259/259 [==============================] - 2s 3ms/step - loss: 1.6185 - acc: 0.4564 - val_loss: 1.4407 - val_acc: 0.5005\n",
      "Epoch 2/200\n",
      "259/259 [==============================] - 1s 2ms/step - loss: 1.4047 - acc: 0.5063 - val_loss: 1.3752 - val_acc: 0.5172\n",
      "Epoch 3/200\n",
      "259/259 [==============================] - 1s 2ms/step - loss: 1.3538 - acc: 0.5210 - val_loss: 1.3589 - val_acc: 0.5189\n",
      "Epoch 4/200\n",
      "259/259 [==============================] - 1s 2ms/step - loss: 1.3285 - acc: 0.5260 - val_loss: 1.3360 - val_acc: 0.5272\n",
      "Epoch 5/200\n",
      "259/259 [==============================] - 1s 2ms/step - loss: 1.3119 - acc: 0.5309 - val_loss: 1.3292 - val_acc: 0.5258\n",
      "Epoch 6/200\n",
      "259/259 [==============================] - 1s 2ms/step - loss: 1.2984 - acc: 0.5361 - val_loss: 1.3183 - val_acc: 0.5291\n",
      "Epoch 7/200\n",
      "259/259 [==============================] - 1s 2ms/step - loss: 1.2874 - acc: 0.5370 - val_loss: 1.3217 - val_acc: 0.5282\n",
      "Epoch 8/200\n",
      "259/259 [==============================] - 1s 2ms/step - loss: 1.2788 - acc: 0.5398 - val_loss: 1.3176 - val_acc: 0.5313\n",
      "Epoch 9/200\n",
      "259/259 [==============================] - 1s 2ms/step - loss: 1.2710 - acc: 0.5434 - val_loss: 1.3182 - val_acc: 0.5225\n",
      "Epoch 10/200\n",
      "259/259 [==============================] - 1s 2ms/step - loss: 1.2624 - acc: 0.5450 - val_loss: 1.3104 - val_acc: 0.5275\n",
      "Epoch 11/200\n",
      "259/259 [==============================] - 1s 2ms/step - loss: 1.2549 - acc: 0.5471 - val_loss: 1.3123 - val_acc: 0.5279\n",
      "Epoch 12/200\n",
      "259/259 [==============================] - 1s 2ms/step - loss: 1.2481 - acc: 0.5492 - val_loss: 1.3099 - val_acc: 0.5290\n",
      "Epoch 13/200\n",
      "259/259 [==============================] - 1s 3ms/step - loss: 1.2414 - acc: 0.5522 - val_loss: 1.3083 - val_acc: 0.5316\n",
      "Epoch 14/200\n",
      "259/259 [==============================] - 1s 3ms/step - loss: 1.2358 - acc: 0.5540 - val_loss: 1.3173 - val_acc: 0.5310\n",
      "Epoch 15/200\n",
      "259/259 [==============================] - 1s 3ms/step - loss: 1.2288 - acc: 0.5577 - val_loss: 1.3068 - val_acc: 0.5308\n",
      "Epoch 16/200\n",
      "259/259 [==============================] - 1s 3ms/step - loss: 1.2225 - acc: 0.5595 - val_loss: 1.3154 - val_acc: 0.5288\n",
      "Epoch 17/200\n",
      "259/259 [==============================] - 1s 3ms/step - loss: 1.2170 - acc: 0.5613 - val_loss: 1.3100 - val_acc: 0.5278\n",
      "Epoch 18/200\n",
      "259/259 [==============================] - 1s 3ms/step - loss: 1.2115 - acc: 0.5626 - val_loss: 1.3154 - val_acc: 0.5277\n",
      "Epoch 19/200\n",
      "259/259 [==============================] - 1s 3ms/step - loss: 1.2050 - acc: 0.5661 - val_loss: 1.3102 - val_acc: 0.5318\n",
      "Epoch 20/200\n",
      "259/259 [==============================] - 1s 3ms/step - loss: 1.1996 - acc: 0.5671 - val_loss: 1.3149 - val_acc: 0.5289\n",
      "Epoch 21/200\n",
      "259/259 [==============================] - 1s 3ms/step - loss: 1.1947 - acc: 0.5698 - val_loss: 1.3202 - val_acc: 0.5311\n",
      "Epoch 22/200\n",
      "259/259 [==============================] - 1s 3ms/step - loss: 1.1898 - acc: 0.5724 - val_loss: 1.3216 - val_acc: 0.5305\n",
      "Epoch 23/200\n",
      "259/259 [==============================] - 1s 3ms/step - loss: 1.1838 - acc: 0.5720 - val_loss: 1.3286 - val_acc: 0.5307\n",
      "Epoch 24/200\n",
      "259/259 [==============================] - 1s 2ms/step - loss: 1.1798 - acc: 0.5757 - val_loss: 1.3282 - val_acc: 0.5317\n",
      "Epoch 25/200\n",
      "259/259 [==============================] - 1s 3ms/step - loss: 1.1736 - acc: 0.5773 - val_loss: 1.3274 - val_acc: 0.5291\n",
      "Epoch 26/200\n",
      "259/259 [==============================] - 1s 2ms/step - loss: 1.1697 - acc: 0.5799 - val_loss: 1.3265 - val_acc: 0.5266\n",
      "Epoch 27/200\n",
      "259/259 [==============================] - 1s 2ms/step - loss: 1.1645 - acc: 0.5812 - val_loss: 1.3298 - val_acc: 0.5288\n",
      "Epoch 28/200\n",
      "259/259 [==============================] - 1s 2ms/step - loss: 1.1600 - acc: 0.5835 - val_loss: 1.3387 - val_acc: 0.5262\n",
      "Epoch 29/200\n",
      "259/259 [==============================] - 1s 2ms/step - loss: 1.1551 - acc: 0.5846 - val_loss: 1.3431 - val_acc: 0.5247\n",
      "Epoch 30/200\n",
      "259/259 [==============================] - 1s 2ms/step - loss: 1.1511 - acc: 0.5848 - val_loss: 1.3398 - val_acc: 0.5288\n",
      "Epoch 31/200\n",
      "259/259 [==============================] - 1s 2ms/step - loss: 1.1469 - acc: 0.5869 - val_loss: 1.3427 - val_acc: 0.5300\n",
      "Epoch 32/200\n",
      "259/259 [==============================] - 1s 2ms/step - loss: 1.1433 - acc: 0.5891 - val_loss: 1.3521 - val_acc: 0.5294\n",
      "Epoch 33/200\n",
      "259/259 [==============================] - 1s 2ms/step - loss: 1.1379 - acc: 0.5903 - val_loss: 1.3578 - val_acc: 0.5283\n",
      "Epoch 34/200\n",
      "259/259 [==============================] - 1s 2ms/step - loss: 1.1349 - acc: 0.5925 - val_loss: 1.3668 - val_acc: 0.5220\n",
      "Epoch 35/200\n",
      "259/259 [==============================] - 1s 2ms/step - loss: 1.1306 - acc: 0.5946 - val_loss: 1.3676 - val_acc: 0.5254\n",
      "Epoch 36/200\n",
      "259/259 [==============================] - 1s 2ms/step - loss: 1.1271 - acc: 0.5959 - val_loss: 1.3669 - val_acc: 0.5238\n",
      "Epoch 37/200\n",
      "259/259 [==============================] - 1s 2ms/step - loss: 1.1218 - acc: 0.5965 - val_loss: 1.3767 - val_acc: 0.5242\n",
      "Epoch 38/200\n",
      "259/259 [==============================] - 1s 2ms/step - loss: 1.1186 - acc: 0.5987 - val_loss: 1.3719 - val_acc: 0.5232\n",
      "Epoch 39/200\n",
      "259/259 [==============================] - 1s 2ms/step - loss: 1.1158 - acc: 0.5993 - val_loss: 1.3797 - val_acc: 0.5205\n",
      "Epoch 40/200\n",
      "259/259 [==============================] - 1s 2ms/step - loss: 1.1121 - acc: 0.6024 - val_loss: 1.3833 - val_acc: 0.5225\n",
      "Epoch 41/200\n",
      "259/259 [==============================] - 1s 2ms/step - loss: 1.1080 - acc: 0.6038 - val_loss: 1.3910 - val_acc: 0.5209\n",
      "Epoch 42/200\n",
      "259/259 [==============================] - 1s 3ms/step - loss: 1.1044 - acc: 0.6059 - val_loss: 1.3962 - val_acc: 0.5214\n",
      "Epoch 43/200\n",
      "259/259 [==============================] - 1s 2ms/step - loss: 1.1017 - acc: 0.6054 - val_loss: 1.3910 - val_acc: 0.5231\n",
      "Epoch 44/200\n",
      "259/259 [==============================] - 1s 2ms/step - loss: 1.0979 - acc: 0.6077 - val_loss: 1.4024 - val_acc: 0.5212\n",
      "Epoch 45/200\n",
      "259/259 [==============================] - 1s 2ms/step - loss: 1.0939 - acc: 0.6098 - val_loss: 1.4124 - val_acc: 0.5151\n",
      "Epoch 46/200\n",
      "259/259 [==============================] - 1s 2ms/step - loss: 1.0916 - acc: 0.6102 - val_loss: 1.4079 - val_acc: 0.5165\n",
      "Epoch 47/200\n",
      "259/259 [==============================] - 1s 2ms/step - loss: 1.0872 - acc: 0.6135 - val_loss: 1.4254 - val_acc: 0.5250\n",
      "Epoch 48/200\n",
      "259/259 [==============================] - 1s 2ms/step - loss: 1.0844 - acc: 0.6123 - val_loss: 1.4134 - val_acc: 0.5202\n",
      "Epoch 49/200\n",
      "259/259 [==============================] - 1s 2ms/step - loss: 1.0813 - acc: 0.6138 - val_loss: 1.4248 - val_acc: 0.5221\n",
      "Epoch 50/200\n",
      "259/259 [==============================] - 1s 2ms/step - loss: 1.0784 - acc: 0.6137 - val_loss: 1.4290 - val_acc: 0.5166\n",
      "Epoch 51/200\n",
      "259/259 [==============================] - 1s 2ms/step - loss: 1.0760 - acc: 0.6165 - val_loss: 1.4345 - val_acc: 0.5168\n",
      "Epoch 52/200\n",
      "259/259 [==============================] - 1s 2ms/step - loss: 1.0736 - acc: 0.6183 - val_loss: 1.4536 - val_acc: 0.5236\n",
      "Epoch 53/200\n",
      "259/259 [==============================] - 1s 2ms/step - loss: 1.0700 - acc: 0.6191 - val_loss: 1.4721 - val_acc: 0.5202\n",
      "Epoch 54/200\n",
      "259/259 [==============================] - 1s 2ms/step - loss: 1.0665 - acc: 0.6184 - val_loss: 1.4540 - val_acc: 0.5142\n",
      "Epoch 55/200\n",
      "259/259 [==============================] - 1s 3ms/step - loss: 1.0640 - acc: 0.6206 - val_loss: 1.4581 - val_acc: 0.5092\n",
      "Epoch 56/200\n",
      "259/259 [==============================] - 1s 3ms/step - loss: 1.0608 - acc: 0.6223 - val_loss: 1.4593 - val_acc: 0.5178\n",
      "Epoch 57/200\n",
      "259/259 [==============================] - 1s 2ms/step - loss: 1.0583 - acc: 0.6237 - val_loss: 1.4700 - val_acc: 0.5133\n",
      "Epoch 58/200\n",
      "259/259 [==============================] - 1s 2ms/step - loss: 1.0550 - acc: 0.6247 - val_loss: 1.4824 - val_acc: 0.5179\n",
      "Epoch 59/200\n",
      "259/259 [==============================] - 1s 2ms/step - loss: 1.0530 - acc: 0.6268 - val_loss: 1.4813 - val_acc: 0.5191\n",
      "Epoch 60/200\n",
      "259/259 [==============================] - 1s 2ms/step - loss: 1.0512 - acc: 0.6264 - val_loss: 1.4913 - val_acc: 0.5172\n",
      "Epoch 61/200\n",
      "259/259 [==============================] - 1s 2ms/step - loss: 1.0481 - acc: 0.6268 - val_loss: 1.4914 - val_acc: 0.5136\n",
      "Epoch 62/200\n"
     ]
    },
    {
     "name": "stdout",
     "output_type": "stream",
     "text": [
      "259/259 [==============================] - 1s 2ms/step - loss: 1.0458 - acc: 0.6284 - val_loss: 1.4930 - val_acc: 0.5126\n",
      "Epoch 63/200\n",
      "259/259 [==============================] - 1s 2ms/step - loss: 1.0422 - acc: 0.6293 - val_loss: 1.5121 - val_acc: 0.5202\n",
      "Epoch 64/200\n",
      "259/259 [==============================] - 1s 2ms/step - loss: 1.0408 - acc: 0.6280 - val_loss: 1.5371 - val_acc: 0.5005\n",
      "Epoch 65/200\n",
      "259/259 [==============================] - 1s 2ms/step - loss: 1.0391 - acc: 0.6300 - val_loss: 1.5009 - val_acc: 0.5154\n",
      "Epoch 66/200\n",
      "259/259 [==============================] - 1s 3ms/step - loss: 1.0360 - acc: 0.6309 - val_loss: 1.5393 - val_acc: 0.5164\n",
      "Epoch 67/200\n",
      "259/259 [==============================] - 1s 2ms/step - loss: 1.0335 - acc: 0.6329 - val_loss: 1.5224 - val_acc: 0.5096\n",
      "Epoch 68/200\n",
      "259/259 [==============================] - 1s 2ms/step - loss: 1.0311 - acc: 0.6323 - val_loss: 1.5312 - val_acc: 0.5179\n",
      "Epoch 69/200\n",
      "259/259 [==============================] - 1s 2ms/step - loss: 1.0287 - acc: 0.6339 - val_loss: 1.5508 - val_acc: 0.5059\n",
      "Epoch 70/200\n",
      "259/259 [==============================] - 1s 2ms/step - loss: 1.0274 - acc: 0.6334 - val_loss: 1.5470 - val_acc: 0.5052\n",
      "Epoch 71/200\n",
      "259/259 [==============================] - 1s 2ms/step - loss: 1.0243 - acc: 0.6338 - val_loss: 1.5588 - val_acc: 0.5075\n",
      "Epoch 72/200\n",
      "259/259 [==============================] - 1s 2ms/step - loss: 1.0223 - acc: 0.6355 - val_loss: 1.5654 - val_acc: 0.5151\n",
      "Epoch 73/200\n",
      "259/259 [==============================] - 1s 2ms/step - loss: 1.0215 - acc: 0.6372 - val_loss: 1.5440 - val_acc: 0.5081\n",
      "Epoch 74/200\n",
      "259/259 [==============================] - 1s 2ms/step - loss: 1.0188 - acc: 0.6383 - val_loss: 1.5721 - val_acc: 0.5109\n",
      "Epoch 75/200\n",
      "259/259 [==============================] - 1s 2ms/step - loss: 1.0168 - acc: 0.6382 - val_loss: 1.5748 - val_acc: 0.5087\n",
      "Epoch 76/200\n",
      "259/259 [==============================] - 1s 2ms/step - loss: 1.0146 - acc: 0.6398 - val_loss: 1.5720 - val_acc: 0.5130\n",
      "Epoch 77/200\n",
      "259/259 [==============================] - 1s 2ms/step - loss: 1.0136 - acc: 0.6390 - val_loss: 1.5972 - val_acc: 0.5136\n",
      "Epoch 78/200\n",
      "259/259 [==============================] - 1s 3ms/step - loss: 1.0108 - acc: 0.6394 - val_loss: 1.5859 - val_acc: 0.5108\n",
      "Epoch 79/200\n",
      "259/259 [==============================] - 1s 2ms/step - loss: 1.0091 - acc: 0.6400 - val_loss: 1.5968 - val_acc: 0.5092\n",
      "Epoch 80/200\n",
      "259/259 [==============================] - 1s 2ms/step - loss: 1.0072 - acc: 0.6413 - val_loss: 1.6024 - val_acc: 0.5107\n",
      "Epoch 81/200\n",
      "259/259 [==============================] - 1s 3ms/step - loss: 1.0049 - acc: 0.6408 - val_loss: 1.5923 - val_acc: 0.5085\n",
      "Epoch 82/200\n",
      "259/259 [==============================] - 1s 2ms/step - loss: 1.0042 - acc: 0.6412 - val_loss: 1.6027 - val_acc: 0.5067\n",
      "Epoch 83/200\n",
      "259/259 [==============================] - 1s 2ms/step - loss: 1.0024 - acc: 0.6449 - val_loss: 1.6176 - val_acc: 0.5086\n",
      "Epoch 84/200\n",
      "259/259 [==============================] - 1s 2ms/step - loss: 0.9991 - acc: 0.6447 - val_loss: 1.6196 - val_acc: 0.5102\n",
      "Epoch 85/200\n",
      "259/259 [==============================] - 1s 2ms/step - loss: 0.9987 - acc: 0.6454 - val_loss: 1.6300 - val_acc: 0.5031\n",
      "Epoch 86/200\n",
      "259/259 [==============================] - 1s 2ms/step - loss: 0.9957 - acc: 0.6455 - val_loss: 1.6317 - val_acc: 0.4997\n",
      "Epoch 87/200\n",
      "259/259 [==============================] - 1s 2ms/step - loss: 0.9953 - acc: 0.6463 - val_loss: 1.6356 - val_acc: 0.5108\n",
      "Epoch 88/200\n",
      "259/259 [==============================] - 1s 2ms/step - loss: 0.9933 - acc: 0.6479 - val_loss: 1.6833 - val_acc: 0.5067\n",
      "Epoch 89/200\n",
      "259/259 [==============================] - 1s 3ms/step - loss: 0.9923 - acc: 0.6491 - val_loss: 1.6455 - val_acc: 0.5037\n",
      "Epoch 90/200\n",
      "259/259 [==============================] - 1s 2ms/step - loss: 0.9903 - acc: 0.6500 - val_loss: 1.6530 - val_acc: 0.5054\n",
      "Epoch 91/200\n",
      "259/259 [==============================] - 1s 2ms/step - loss: 0.9876 - acc: 0.6496 - val_loss: 1.6792 - val_acc: 0.5049\n",
      "Epoch 92/200\n",
      "259/259 [==============================] - 1s 2ms/step - loss: 0.9865 - acc: 0.6498 - val_loss: 1.6829 - val_acc: 0.5020\n",
      "Epoch 93/200\n",
      "259/259 [==============================] - 1s 2ms/step - loss: 0.9856 - acc: 0.6506 - val_loss: 1.6811 - val_acc: 0.5033\n",
      "Epoch 94/200\n",
      "259/259 [==============================] - 1s 2ms/step - loss: 0.9842 - acc: 0.6505 - val_loss: 1.6765 - val_acc: 0.5040\n",
      "Epoch 95/200\n",
      "259/259 [==============================] - 1s 2ms/step - loss: 0.9827 - acc: 0.6517 - val_loss: 1.6760 - val_acc: 0.5021\n",
      "Epoch 96/200\n",
      "259/259 [==============================] - 1s 2ms/step - loss: 0.9818 - acc: 0.6515 - val_loss: 1.6943 - val_acc: 0.5090\n",
      "Epoch 97/200\n",
      "259/259 [==============================] - 1s 2ms/step - loss: 0.9792 - acc: 0.6526 - val_loss: 1.7036 - val_acc: 0.5055\n",
      "Epoch 98/200\n",
      "259/259 [==============================] - 1s 2ms/step - loss: 0.9785 - acc: 0.6530 - val_loss: 1.7013 - val_acc: 0.5066\n",
      "Epoch 99/200\n",
      "259/259 [==============================] - 1s 2ms/step - loss: 0.9761 - acc: 0.6524 - val_loss: 1.7135 - val_acc: 0.4983\n",
      "Epoch 100/200\n",
      "259/259 [==============================] - 1s 2ms/step - loss: 0.9754 - acc: 0.6545 - val_loss: 1.7114 - val_acc: 0.5015\n",
      "Epoch 101/200\n",
      "259/259 [==============================] - 1s 2ms/step - loss: 0.9735 - acc: 0.6543 - val_loss: 1.7135 - val_acc: 0.5016\n",
      "Epoch 102/200\n",
      "259/259 [==============================] - 1s 2ms/step - loss: 0.9732 - acc: 0.6539 - val_loss: 1.7161 - val_acc: 0.5073\n",
      "Epoch 103/200\n",
      "259/259 [==============================] - 1s 3ms/step - loss: 0.9725 - acc: 0.6539 - val_loss: 1.7330 - val_acc: 0.5016\n",
      "Epoch 104/200\n",
      "259/259 [==============================] - 1s 2ms/step - loss: 0.9703 - acc: 0.6563 - val_loss: 1.7391 - val_acc: 0.5016\n",
      "Epoch 105/200\n",
      "259/259 [==============================] - 1s 2ms/step - loss: 0.9701 - acc: 0.6561 - val_loss: 1.7374 - val_acc: 0.4968\n",
      "Epoch 106/200\n",
      "259/259 [==============================] - 1s 2ms/step - loss: 0.9671 - acc: 0.6571 - val_loss: 1.7523 - val_acc: 0.5061\n",
      "Epoch 107/200\n",
      "259/259 [==============================] - 1s 2ms/step - loss: 0.9665 - acc: 0.6560 - val_loss: 1.7555 - val_acc: 0.4963\n",
      "Epoch 108/200\n",
      "259/259 [==============================] - 1s 2ms/step - loss: 0.9659 - acc: 0.6568 - val_loss: 1.7480 - val_acc: 0.4993\n",
      "Epoch 109/200\n",
      "259/259 [==============================] - 1s 2ms/step - loss: 0.9637 - acc: 0.6576 - val_loss: 1.7465 - val_acc: 0.4999\n",
      "Epoch 110/200\n",
      "259/259 [==============================] - 1s 2ms/step - loss: 0.9621 - acc: 0.6579 - val_loss: 1.7499 - val_acc: 0.5021\n",
      "Epoch 111/200\n",
      "259/259 [==============================] - 1s 3ms/step - loss: 0.9607 - acc: 0.6593 - val_loss: 1.7782 - val_acc: 0.5005\n",
      "Epoch 112/200\n",
      "259/259 [==============================] - 1s 3ms/step - loss: 0.9603 - acc: 0.6591 - val_loss: 1.7726 - val_acc: 0.4997\n",
      "Epoch 113/200\n",
      "259/259 [==============================] - 1s 3ms/step - loss: 0.9603 - acc: 0.6588 - val_loss: 1.7836 - val_acc: 0.4945\n",
      "Epoch 114/200\n",
      "259/259 [==============================] - 1s 3ms/step - loss: 0.9581 - acc: 0.6601 - val_loss: 1.7891 - val_acc: 0.4998\n",
      "Epoch 115/200\n",
      "259/259 [==============================] - 1s 2ms/step - loss: 0.9575 - acc: 0.6600 - val_loss: 1.7970 - val_acc: 0.5034\n",
      "Epoch 116/200\n",
      "259/259 [==============================] - 1s 2ms/step - loss: 0.9565 - acc: 0.6608 - val_loss: 1.7958 - val_acc: 0.5016\n",
      "Epoch 117/200\n",
      "259/259 [==============================] - 1s 2ms/step - loss: 0.9556 - acc: 0.6618 - val_loss: 1.7861 - val_acc: 0.5032\n",
      "Epoch 118/200\n",
      "259/259 [==============================] - 1s 2ms/step - loss: 0.9534 - acc: 0.6593 - val_loss: 1.8077 - val_acc: 0.5067\n",
      "Epoch 119/200\n",
      "259/259 [==============================] - 1s 2ms/step - loss: 0.9540 - acc: 0.6615 - val_loss: 1.8011 - val_acc: 0.5001\n",
      "Epoch 120/200\n",
      "259/259 [==============================] - 1s 2ms/step - loss: 0.9510 - acc: 0.6626 - val_loss: 1.8075 - val_acc: 0.5005\n",
      "Epoch 121/200\n",
      "259/259 [==============================] - 1s 2ms/step - loss: 0.9511 - acc: 0.6621 - val_loss: 1.8065 - val_acc: 0.5019\n",
      "Epoch 122/200\n",
      "259/259 [==============================] - 1s 2ms/step - loss: 0.9494 - acc: 0.6624 - val_loss: 1.8336 - val_acc: 0.4964\n",
      "Epoch 123/200\n"
     ]
    },
    {
     "name": "stdout",
     "output_type": "stream",
     "text": [
      "259/259 [==============================] - 1s 2ms/step - loss: 0.9493 - acc: 0.6632 - val_loss: 1.8086 - val_acc: 0.5077\n",
      "Epoch 124/200\n",
      "259/259 [==============================] - 1s 2ms/step - loss: 0.9485 - acc: 0.6619 - val_loss: 1.8246 - val_acc: 0.5010\n",
      "Epoch 125/200\n",
      "259/259 [==============================] - 1s 2ms/step - loss: 0.9460 - acc: 0.6633 - val_loss: 1.8326 - val_acc: 0.5051\n",
      "Epoch 126/200\n",
      "259/259 [==============================] - 1s 2ms/step - loss: 0.9452 - acc: 0.6634 - val_loss: 1.8417 - val_acc: 0.5010\n",
      "Epoch 127/200\n",
      "259/259 [==============================] - 1s 2ms/step - loss: 0.9440 - acc: 0.6658 - val_loss: 1.8420 - val_acc: 0.4995\n",
      "Epoch 128/200\n",
      "259/259 [==============================] - 1s 3ms/step - loss: 0.9431 - acc: 0.6657 - val_loss: 1.8556 - val_acc: 0.5072\n",
      "Epoch 129/200\n",
      "259/259 [==============================] - 1s 2ms/step - loss: 0.9440 - acc: 0.6662 - val_loss: 1.8522 - val_acc: 0.5034\n",
      "Epoch 130/200\n",
      "259/259 [==============================] - 1s 2ms/step - loss: 0.9416 - acc: 0.6636 - val_loss: 1.8442 - val_acc: 0.5071\n",
      "Epoch 131/200\n",
      "259/259 [==============================] - 1s 2ms/step - loss: 0.9413 - acc: 0.6660 - val_loss: 1.8894 - val_acc: 0.4997\n",
      "Epoch 132/200\n",
      "259/259 [==============================] - 1s 2ms/step - loss: 0.9396 - acc: 0.6654 - val_loss: 1.8932 - val_acc: 0.4944\n",
      "Epoch 133/200\n",
      "259/259 [==============================] - 1s 2ms/step - loss: 0.9392 - acc: 0.6653 - val_loss: 1.8766 - val_acc: 0.5007\n",
      "Epoch 134/200\n",
      "259/259 [==============================] - 1s 2ms/step - loss: 0.9390 - acc: 0.6667 - val_loss: 1.8876 - val_acc: 0.5051\n",
      "Epoch 135/200\n",
      "259/259 [==============================] - 1s 2ms/step - loss: 0.9373 - acc: 0.6686 - val_loss: 1.8902 - val_acc: 0.4972\n",
      "Epoch 136/200\n",
      "259/259 [==============================] - 1s 2ms/step - loss: 0.9371 - acc: 0.6666 - val_loss: 1.8854 - val_acc: 0.4979\n",
      "Epoch 137/200\n",
      "259/259 [==============================] - 1s 2ms/step - loss: 0.9353 - acc: 0.6673 - val_loss: 1.9067 - val_acc: 0.4968\n",
      "Epoch 138/200\n",
      "259/259 [==============================] - 1s 2ms/step - loss: 0.9342 - acc: 0.6701 - val_loss: 1.9070 - val_acc: 0.4955\n",
      "Epoch 139/200\n",
      "259/259 [==============================] - 1s 2ms/step - loss: 0.9341 - acc: 0.6685 - val_loss: 1.9387 - val_acc: 0.5040\n",
      "Epoch 140/200\n",
      "259/259 [==============================] - 1s 2ms/step - loss: 0.9337 - acc: 0.6678 - val_loss: 1.9479 - val_acc: 0.4928\n",
      "Epoch 141/200\n",
      "259/259 [==============================] - 1s 2ms/step - loss: 0.9318 - acc: 0.6689 - val_loss: 1.9145 - val_acc: 0.4967\n",
      "Epoch 142/200\n",
      "259/259 [==============================] - 1s 2ms/step - loss: 0.9328 - acc: 0.6677 - val_loss: 1.9243 - val_acc: 0.4998\n",
      "Epoch 143/200\n",
      "259/259 [==============================] - 1s 2ms/step - loss: 0.9305 - acc: 0.6688 - val_loss: 1.9094 - val_acc: 0.5007\n",
      "Epoch 144/200\n",
      "259/259 [==============================] - 1s 2ms/step - loss: 0.9300 - acc: 0.6711 - val_loss: 1.9383 - val_acc: 0.4925\n",
      "Epoch 145/200\n",
      "259/259 [==============================] - 1s 3ms/step - loss: 0.9297 - acc: 0.6700 - val_loss: 1.9696 - val_acc: 0.4951\n",
      "Epoch 146/200\n",
      "259/259 [==============================] - 1s 2ms/step - loss: 0.9294 - acc: 0.6705 - val_loss: 1.9583 - val_acc: 0.5022\n",
      "Epoch 147/200\n",
      "259/259 [==============================] - 1s 2ms/step - loss: 0.9273 - acc: 0.6713 - val_loss: 1.9586 - val_acc: 0.4966\n",
      "Epoch 148/200\n",
      "259/259 [==============================] - 1s 3ms/step - loss: 0.9261 - acc: 0.6707 - val_loss: 1.9370 - val_acc: 0.4945\n",
      "Epoch 149/200\n",
      "259/259 [==============================] - 1s 2ms/step - loss: 0.9263 - acc: 0.6721 - val_loss: 1.9483 - val_acc: 0.4983\n",
      "Epoch 150/200\n",
      "259/259 [==============================] - 1s 2ms/step - loss: 0.9264 - acc: 0.6716 - val_loss: 1.9355 - val_acc: 0.4972\n",
      "Epoch 151/200\n",
      "259/259 [==============================] - 1s 2ms/step - loss: 0.9236 - acc: 0.6716 - val_loss: 1.9638 - val_acc: 0.5003\n",
      "Epoch 152/200\n",
      "259/259 [==============================] - 1s 2ms/step - loss: 0.9235 - acc: 0.6734 - val_loss: 1.9808 - val_acc: 0.4914\n",
      "Epoch 153/200\n",
      "259/259 [==============================] - 1s 3ms/step - loss: 0.9236 - acc: 0.6735 - val_loss: 1.9578 - val_acc: 0.5010\n",
      "Epoch 154/200\n",
      "259/259 [==============================] - 1s 2ms/step - loss: 0.9224 - acc: 0.6728 - val_loss: 1.9596 - val_acc: 0.4978\n",
      "Epoch 155/200\n",
      "259/259 [==============================] - 1s 2ms/step - loss: 0.9208 - acc: 0.6737 - val_loss: 2.0039 - val_acc: 0.4938\n",
      "Epoch 156/200\n",
      "259/259 [==============================] - 1s 2ms/step - loss: 0.9212 - acc: 0.6744 - val_loss: 1.9529 - val_acc: 0.4983\n",
      "Epoch 157/200\n",
      "259/259 [==============================] - 1s 2ms/step - loss: 0.9213 - acc: 0.6724 - val_loss: 1.9883 - val_acc: 0.5019\n",
      "Epoch 158/200\n",
      "259/259 [==============================] - 1s 2ms/step - loss: 0.9205 - acc: 0.6733 - val_loss: 1.9831 - val_acc: 0.5045\n",
      "Epoch 159/200\n",
      "259/259 [==============================] - 1s 2ms/step - loss: 0.9179 - acc: 0.6742 - val_loss: 2.0189 - val_acc: 0.4932\n",
      "Epoch 160/200\n",
      "259/259 [==============================] - 1s 2ms/step - loss: 0.9186 - acc: 0.6748 - val_loss: 1.9938 - val_acc: 0.4920\n",
      "Epoch 161/200\n",
      "259/259 [==============================] - 1s 2ms/step - loss: 0.9182 - acc: 0.6732 - val_loss: 2.0064 - val_acc: 0.4995\n",
      "Epoch 162/200\n",
      "259/259 [==============================] - 1s 2ms/step - loss: 0.9165 - acc: 0.6766 - val_loss: 2.0007 - val_acc: 0.4970\n",
      "Epoch 163/200\n",
      "259/259 [==============================] - 1s 2ms/step - loss: 0.9168 - acc: 0.6762 - val_loss: 2.0084 - val_acc: 0.4890\n",
      "Epoch 164/200\n",
      "259/259 [==============================] - 1s 2ms/step - loss: 0.9147 - acc: 0.6763 - val_loss: 2.0106 - val_acc: 0.5007\n",
      "Epoch 165/200\n",
      "259/259 [==============================] - 1s 3ms/step - loss: 0.9140 - acc: 0.6752 - val_loss: 2.0314 - val_acc: 0.4935\n",
      "Epoch 166/200\n",
      "259/259 [==============================] - 1s 3ms/step - loss: 0.9141 - acc: 0.6752 - val_loss: 2.0524 - val_acc: 0.4993\n",
      "Epoch 167/200\n",
      "259/259 [==============================] - 1s 2ms/step - loss: 0.9136 - acc: 0.6748 - val_loss: 2.0372 - val_acc: 0.4954\n",
      "Epoch 168/200\n",
      "259/259 [==============================] - 1s 3ms/step - loss: 0.9133 - acc: 0.6785 - val_loss: 2.0212 - val_acc: 0.5014\n",
      "Epoch 169/200\n",
      "259/259 [==============================] - 1s 2ms/step - loss: 0.9122 - acc: 0.6769 - val_loss: 2.0349 - val_acc: 0.4975\n",
      "Epoch 170/200\n",
      "259/259 [==============================] - 1s 2ms/step - loss: 0.9125 - acc: 0.6761 - val_loss: 2.0539 - val_acc: 0.4920\n",
      "Epoch 171/200\n",
      "259/259 [==============================] - 1s 2ms/step - loss: 0.9112 - acc: 0.6782 - val_loss: 2.0507 - val_acc: 0.4925\n",
      "Epoch 172/200\n",
      "259/259 [==============================] - 1s 2ms/step - loss: 0.9108 - acc: 0.6779 - val_loss: 2.0558 - val_acc: 0.4935\n",
      "Epoch 173/200\n",
      "259/259 [==============================] - 1s 2ms/step - loss: 0.9099 - acc: 0.6780 - val_loss: 2.0504 - val_acc: 0.4949\n",
      "Epoch 174/200\n",
      "259/259 [==============================] - 1s 2ms/step - loss: 0.9104 - acc: 0.6773 - val_loss: 2.0617 - val_acc: 0.4997\n",
      "Epoch 175/200\n",
      "259/259 [==============================] - 1s 2ms/step - loss: 0.9084 - acc: 0.6790 - val_loss: 2.0828 - val_acc: 0.4952\n",
      "Epoch 176/200\n",
      "259/259 [==============================] - 1s 2ms/step - loss: 0.9073 - acc: 0.6776 - val_loss: 2.0854 - val_acc: 0.4933\n",
      "Epoch 177/200\n",
      "259/259 [==============================] - 1s 2ms/step - loss: 0.9074 - acc: 0.6773 - val_loss: 2.0960 - val_acc: 0.4892\n",
      "Epoch 178/200\n",
      "259/259 [==============================] - 1s 2ms/step - loss: 0.9074 - acc: 0.6779 - val_loss: 2.0716 - val_acc: 0.4944\n",
      "Epoch 179/200\n",
      "259/259 [==============================] - 1s 2ms/step - loss: 0.9052 - acc: 0.6787 - val_loss: 2.0955 - val_acc: 0.4973\n",
      "Epoch 180/200\n",
      "259/259 [==============================] - 1s 2ms/step - loss: 0.9061 - acc: 0.6790 - val_loss: 2.0680 - val_acc: 0.4894\n",
      "Epoch 181/200\n",
      "259/259 [==============================] - 1s 2ms/step - loss: 0.9036 - acc: 0.6810 - val_loss: 2.1195 - val_acc: 0.4997\n",
      "Epoch 182/200\n",
      "259/259 [==============================] - 1s 3ms/step - loss: 0.9039 - acc: 0.6806 - val_loss: 2.0706 - val_acc: 0.4933\n",
      "Epoch 183/200\n",
      "259/259 [==============================] - 1s 2ms/step - loss: 0.9034 - acc: 0.6798 - val_loss: 2.1473 - val_acc: 0.4835\n"
     ]
    },
    {
     "name": "stdout",
     "output_type": "stream",
     "text": [
      "Epoch 184/200\n",
      "259/259 [==============================] - 1s 2ms/step - loss: 0.9033 - acc: 0.6793 - val_loss: 2.1362 - val_acc: 0.4940\n",
      "Epoch 185/200\n",
      "259/259 [==============================] - 1s 2ms/step - loss: 0.9025 - acc: 0.6795 - val_loss: 2.1083 - val_acc: 0.4967\n",
      "Epoch 186/200\n",
      "259/259 [==============================] - 1s 2ms/step - loss: 0.9032 - acc: 0.6800 - val_loss: 2.1219 - val_acc: 0.4946\n",
      "Epoch 187/200\n",
      "259/259 [==============================] - 1s 2ms/step - loss: 0.9011 - acc: 0.6792 - val_loss: 2.1384 - val_acc: 0.4834\n",
      "Epoch 188/200\n",
      "259/259 [==============================] - 1s 2ms/step - loss: 0.9017 - acc: 0.6804 - val_loss: 2.1255 - val_acc: 0.4900\n",
      "Epoch 189/200\n",
      "259/259 [==============================] - 1s 2ms/step - loss: 0.8999 - acc: 0.6815 - val_loss: 2.1067 - val_acc: 0.4882\n",
      "Epoch 190/200\n",
      "259/259 [==============================] - 1s 2ms/step - loss: 0.9004 - acc: 0.6808 - val_loss: 2.1316 - val_acc: 0.4892\n",
      "Epoch 191/200\n",
      "259/259 [==============================] - 1s 2ms/step - loss: 0.8980 - acc: 0.6821 - val_loss: 2.1667 - val_acc: 0.4894\n",
      "Epoch 192/200\n",
      "259/259 [==============================] - 1s 2ms/step - loss: 0.8990 - acc: 0.6815 - val_loss: 2.1768 - val_acc: 0.4934\n",
      "Epoch 193/200\n",
      "259/259 [==============================] - 1s 2ms/step - loss: 0.8976 - acc: 0.6828 - val_loss: 2.1600 - val_acc: 0.4911\n",
      "Epoch 194/200\n",
      "259/259 [==============================] - 1s 2ms/step - loss: 0.8975 - acc: 0.6833 - val_loss: 2.1663 - val_acc: 0.4937\n",
      "Epoch 195/200\n",
      "259/259 [==============================] - 1s 2ms/step - loss: 0.8965 - acc: 0.6819 - val_loss: 2.1379 - val_acc: 0.4913\n",
      "Epoch 196/200\n",
      "259/259 [==============================] - 1s 2ms/step - loss: 0.8962 - acc: 0.6809 - val_loss: 2.1745 - val_acc: 0.4891\n",
      "Epoch 197/200\n",
      "259/259 [==============================] - 1s 2ms/step - loss: 0.8976 - acc: 0.6805 - val_loss: 2.1742 - val_acc: 0.4968\n",
      "Epoch 198/200\n",
      "259/259 [==============================] - 1s 2ms/step - loss: 0.8960 - acc: 0.6817 - val_loss: 2.1812 - val_acc: 0.4948\n",
      "Epoch 199/200\n",
      "259/259 [==============================] - 1s 2ms/step - loss: 0.8943 - acc: 0.6831 - val_loss: 2.1742 - val_acc: 0.4966\n",
      "Epoch 200/200\n",
      "259/259 [==============================] - 1s 2ms/step - loss: 0.8941 - acc: 0.6818 - val_loss: 2.1881 - val_acc: 0.4882\n"
     ]
    },
    {
     "data": {
      "text/plain": [
       "<keras.callbacks.History at 0x1ec8d786700>"
      ]
     },
     "execution_count": 32,
     "metadata": {},
     "output_type": "execute_result"
    }
   ],
   "source": [
    "model.fit(x_train, y_train, validation_data=(x_val, y_val),\n",
    "          epochs=20, batch_size=128)"
   ]
  },
  {
   "cell_type": "markdown",
   "id": "9f79865f",
   "metadata": {},
   "source": [
    "## Подготовка к CNN"
   ]
  },
  {
   "cell_type": "code",
   "execution_count": 33,
   "id": "90d8d4d2",
   "metadata": {},
   "outputs": [],
   "source": [
    "data = lens.Each().Each().modify(lambda x: ingredients_numbering_dict[x])(ingredients_lemmatized)"
   ]
  },
  {
   "cell_type": "code",
   "execution_count": 34,
   "id": "b0b8717d",
   "metadata": {},
   "outputs": [],
   "source": [
    "data = pad_sequences(data, padding='post', value=0)\n",
    "labels = to_categorical(np.array(df_for_learning['course_mark']), num_classes=len(all_courses))\n",
    "\n",
    "indices = np.arange(data.shape[0])\n",
    "np.random.shuffle(indices)\n",
    "data = data[indices]\n",
    "labels = labels[indices]\n",
    "\n",
    "VALIDATION_SPLIT = 0.2\n",
    "nb_validation_samples = int(VALIDATION_SPLIT * data.shape[0])\n",
    "\n",
    "x_train = data[:-nb_validation_samples]\n",
    "y_train = labels[:-nb_validation_samples]\n",
    "x_val = data[-nb_validation_samples:]\n",
    "y_val = labels[-nb_validation_samples:]"
   ]
  },
  {
   "cell_type": "code",
   "execution_count": 35,
   "id": "008648f8",
   "metadata": {},
   "outputs": [
    {
     "data": {
      "text/plain": [
       "40"
      ]
     },
     "execution_count": 35,
     "metadata": {},
     "output_type": "execute_result"
    }
   ],
   "source": [
    "max_length = len(data[0])\n",
    "max_length"
   ]
  },
  {
   "cell_type": "code",
   "execution_count": 36,
   "id": "9949a929",
   "metadata": {},
   "outputs": [
    {
     "data": {
      "text/plain": [
       "(4406, 302)"
      ]
     },
     "execution_count": 36,
     "metadata": {},
     "output_type": "execute_result"
    }
   ],
   "source": [
    "#Эта матрица будет использоваться для слоя Embedding в keras\n",
    "ingredients_embeddings_matrix = np.zeros((len(all_ingredients_list), dim))\n",
    "ingredients_embeddings_matrix.shape\n",
    "for ingr in all_ingredients_list:\n",
    "    ingredients_embeddings_matrix[ingredients_numbering_dict[ingr]] = ingredients_embeddings_dict[ingr]\n",
    "ingredients_embeddings_matrix.shape"
   ]
  },
  {
   "cell_type": "markdown",
   "id": "e6f69ed6",
   "metadata": {},
   "source": [
    "## Обучение CNN"
   ]
  },
  {
   "cell_type": "code",
   "execution_count": 37,
   "id": "310094ec",
   "metadata": {},
   "outputs": [],
   "source": [
    "embedding_layer = layers.Embedding(len(ingredients_embeddings_dict),\n",
    "                            dim,\n",
    "                            weights=[ingredients_embeddings_matrix],\n",
    "                            input_length=max_length,\n",
    "                            trainable=False)\n",
    "# trainable=True позволит до обучаться эмбеддингам на нашем датасете"
   ]
  },
  {
   "cell_type": "code",
   "execution_count": 38,
   "id": "8697de3c",
   "metadata": {},
   "outputs": [],
   "source": [
    "sequence_input = layers.Input(shape=(max_length,), dtype='int32')\n",
    "embedded_sequences = embedding_layer(sequence_input)\n",
    "x = layers.Conv1D(128, 5, activation='relu')(embedded_sequences)\n",
    "x = layers.MaxPooling1D(5)(x)\n",
    "x = layers.Flatten()(x)\n",
    "x = layers.Dense(128, activation='relu')(x)\n",
    "preds = layers.Dense(len(all_courses), activation='softmax')(x)\n",
    "\n",
    "model = keras.Model(sequence_input, preds)\n",
    "model.compile(loss='categorical_crossentropy',\n",
    "              optimizer='rmsprop',\n",
    "              metrics=['acc'])\n",
    "\n"
   ]
  },
  {
   "cell_type": "code",
   "execution_count": 39,
   "id": "44bc3a27",
   "metadata": {},
   "outputs": [
    {
     "name": "stdout",
     "output_type": "stream",
     "text": [
      "Model: \"model_1\"\n",
      "_________________________________________________________________\n",
      " Layer (type)                Output Shape              Param #   \n",
      "=================================================================\n",
      " input_2 (InputLayer)        [(None, 40)]              0         \n",
      "                                                                 \n",
      " embedding (Embedding)       (None, 40, 302)           1330612   \n",
      "                                                                 \n",
      " conv1d (Conv1D)             (None, 36, 128)           193408    \n",
      "                                                                 \n",
      " max_pooling1d (MaxPooling1D  (None, 7, 128)           0         \n",
      " )                                                               \n",
      "                                                                 \n",
      " flatten (Flatten)           (None, 896)               0         \n",
      "                                                                 \n",
      " dense_3 (Dense)             (None, 128)               114816    \n",
      "                                                                 \n",
      " dense_4 (Dense)             (None, 9)                 1161      \n",
      "                                                                 \n",
      "=================================================================\n",
      "Total params: 1,639,997\n",
      "Trainable params: 309,385\n",
      "Non-trainable params: 1,330,612\n",
      "_________________________________________________________________\n"
     ]
    }
   ],
   "source": [
    "model.summary()"
   ]
  },
  {
   "cell_type": "code",
   "execution_count": 40,
   "id": "bdd02f9c",
   "metadata": {},
   "outputs": [
    {
     "name": "stdout",
     "output_type": "stream",
     "text": [
      "Epoch 1/50\n",
      "259/259 [==============================] - 7s 25ms/step - loss: 1.2437 - acc: 0.5609 - val_loss: 1.0206 - val_acc: 0.6239\n",
      "Epoch 2/50\n",
      "259/259 [==============================] - 6s 23ms/step - loss: 0.9581 - acc: 0.6579 - val_loss: 0.9434 - val_acc: 0.6573\n",
      "Epoch 3/50\n",
      "259/259 [==============================] - 7s 27ms/step - loss: 0.8534 - acc: 0.6939 - val_loss: 0.8541 - val_acc: 0.6948\n",
      "Epoch 4/50\n",
      "259/259 [==============================] - 7s 26ms/step - loss: 0.7816 - acc: 0.7184 - val_loss: 0.8729 - val_acc: 0.6943\n",
      "Epoch 5/50\n",
      "259/259 [==============================] - 8s 30ms/step - loss: 0.7259 - acc: 0.7385 - val_loss: 0.8559 - val_acc: 0.6960\n",
      "Epoch 6/50\n",
      "259/259 [==============================] - 7s 26ms/step - loss: 0.6767 - acc: 0.7555 - val_loss: 0.8308 - val_acc: 0.7082\n",
      "Epoch 7/50\n",
      "259/259 [==============================] - 7s 28ms/step - loss: 0.6340 - acc: 0.7745 - val_loss: 0.8930 - val_acc: 0.6889\n",
      "Epoch 8/50\n",
      "259/259 [==============================] - 7s 27ms/step - loss: 0.5955 - acc: 0.7841 - val_loss: 0.8517 - val_acc: 0.7044\n",
      "Epoch 9/50\n",
      "259/259 [==============================] - 7s 27ms/step - loss: 0.5514 - acc: 0.8039 - val_loss: 0.8387 - val_acc: 0.7066\n",
      "Epoch 10/50\n",
      "259/259 [==============================] - 7s 27ms/step - loss: 0.5163 - acc: 0.8136 - val_loss: 0.9628 - val_acc: 0.6998\n",
      "Epoch 11/50\n",
      "259/259 [==============================] - 7s 27ms/step - loss: 0.4810 - acc: 0.8281 - val_loss: 0.9277 - val_acc: 0.7110\n",
      "Epoch 12/50\n",
      "259/259 [==============================] - 7s 29ms/step - loss: 0.4490 - acc: 0.8386 - val_loss: 0.9346 - val_acc: 0.7046\n",
      "Epoch 13/50\n",
      "259/259 [==============================] - 7s 29ms/step - loss: 0.4204 - acc: 0.8478 - val_loss: 0.9826 - val_acc: 0.7060\n",
      "Epoch 14/50\n",
      "259/259 [==============================] - 8s 32ms/step - loss: 0.3918 - acc: 0.8608 - val_loss: 1.0568 - val_acc: 0.6836\n",
      "Epoch 15/50\n",
      "259/259 [==============================] - 9s 37ms/step - loss: 0.3666 - acc: 0.8673 - val_loss: 1.0405 - val_acc: 0.6981\n",
      "Epoch 16/50\n",
      "259/259 [==============================] - 7s 28ms/step - loss: 0.3408 - acc: 0.8775 - val_loss: 1.0434 - val_acc: 0.6983\n",
      "Epoch 17/50\n",
      " 25/259 [=>............................] - ETA: 5s - loss: 0.2933 - acc: 0.8994"
     ]
    },
    {
     "ename": "KeyboardInterrupt",
     "evalue": "",
     "output_type": "error",
     "traceback": [
      "\u001b[1;31m---------------------------------------------------------------------------\u001b[0m",
      "\u001b[1;31mKeyboardInterrupt\u001b[0m                         Traceback (most recent call last)",
      "Cell \u001b[1;32mIn [40], line 1\u001b[0m\n\u001b[1;32m----> 1\u001b[0m model\u001b[38;5;241m.\u001b[39mfit(x_train, y_train, validation_data\u001b[38;5;241m=\u001b[39m(x_val, y_val),\n\u001b[0;32m      2\u001b[0m           epochs\u001b[38;5;241m=\u001b[39m\u001b[38;5;241m50\u001b[39m, batch_size\u001b[38;5;241m=\u001b[39m\u001b[38;5;241m128\u001b[39m)\n",
      "File \u001b[1;32mC:\\Program Files\\Python39\\lib\\site-packages\\keras\\utils\\traceback_utils.py:65\u001b[0m, in \u001b[0;36mfilter_traceback.<locals>.error_handler\u001b[1;34m(*args, **kwargs)\u001b[0m\n\u001b[0;32m     63\u001b[0m filtered_tb \u001b[38;5;241m=\u001b[39m \u001b[38;5;28;01mNone\u001b[39;00m\n\u001b[0;32m     64\u001b[0m \u001b[38;5;28;01mtry\u001b[39;00m:\n\u001b[1;32m---> 65\u001b[0m     \u001b[38;5;28;01mreturn\u001b[39;00m fn(\u001b[38;5;241m*\u001b[39margs, \u001b[38;5;241m*\u001b[39m\u001b[38;5;241m*\u001b[39mkwargs)\n\u001b[0;32m     66\u001b[0m \u001b[38;5;28;01mexcept\u001b[39;00m \u001b[38;5;167;01mException\u001b[39;00m \u001b[38;5;28;01mas\u001b[39;00m e:\n\u001b[0;32m     67\u001b[0m     filtered_tb \u001b[38;5;241m=\u001b[39m _process_traceback_frames(e\u001b[38;5;241m.\u001b[39m__traceback__)\n",
      "File \u001b[1;32mC:\\Program Files\\Python39\\lib\\site-packages\\keras\\engine\\training.py:1650\u001b[0m, in \u001b[0;36mModel.fit\u001b[1;34m(self, x, y, batch_size, epochs, verbose, callbacks, validation_split, validation_data, shuffle, class_weight, sample_weight, initial_epoch, steps_per_epoch, validation_steps, validation_batch_size, validation_freq, max_queue_size, workers, use_multiprocessing)\u001b[0m\n\u001b[0;32m   1642\u001b[0m \u001b[38;5;28;01mwith\u001b[39;00m tf\u001b[38;5;241m.\u001b[39mprofiler\u001b[38;5;241m.\u001b[39mexperimental\u001b[38;5;241m.\u001b[39mTrace(\n\u001b[0;32m   1643\u001b[0m     \u001b[38;5;124m\"\u001b[39m\u001b[38;5;124mtrain\u001b[39m\u001b[38;5;124m\"\u001b[39m,\n\u001b[0;32m   1644\u001b[0m     epoch_num\u001b[38;5;241m=\u001b[39mepoch,\n\u001b[1;32m   (...)\u001b[0m\n\u001b[0;32m   1647\u001b[0m     _r\u001b[38;5;241m=\u001b[39m\u001b[38;5;241m1\u001b[39m,\n\u001b[0;32m   1648\u001b[0m ):\n\u001b[0;32m   1649\u001b[0m     callbacks\u001b[38;5;241m.\u001b[39mon_train_batch_begin(step)\n\u001b[1;32m-> 1650\u001b[0m     tmp_logs \u001b[38;5;241m=\u001b[39m \u001b[38;5;28;43mself\u001b[39;49m\u001b[38;5;241;43m.\u001b[39;49m\u001b[43mtrain_function\u001b[49m\u001b[43m(\u001b[49m\u001b[43miterator\u001b[49m\u001b[43m)\u001b[49m\n\u001b[0;32m   1651\u001b[0m     \u001b[38;5;28;01mif\u001b[39;00m data_handler\u001b[38;5;241m.\u001b[39mshould_sync:\n\u001b[0;32m   1652\u001b[0m         context\u001b[38;5;241m.\u001b[39masync_wait()\n",
      "File \u001b[1;32mC:\\Program Files\\Python39\\lib\\site-packages\\tensorflow\\python\\util\\traceback_utils.py:150\u001b[0m, in \u001b[0;36mfilter_traceback.<locals>.error_handler\u001b[1;34m(*args, **kwargs)\u001b[0m\n\u001b[0;32m    148\u001b[0m filtered_tb \u001b[38;5;241m=\u001b[39m \u001b[38;5;28;01mNone\u001b[39;00m\n\u001b[0;32m    149\u001b[0m \u001b[38;5;28;01mtry\u001b[39;00m:\n\u001b[1;32m--> 150\u001b[0m   \u001b[38;5;28;01mreturn\u001b[39;00m fn(\u001b[38;5;241m*\u001b[39margs, \u001b[38;5;241m*\u001b[39m\u001b[38;5;241m*\u001b[39mkwargs)\n\u001b[0;32m    151\u001b[0m \u001b[38;5;28;01mexcept\u001b[39;00m \u001b[38;5;167;01mException\u001b[39;00m \u001b[38;5;28;01mas\u001b[39;00m e:\n\u001b[0;32m    152\u001b[0m   filtered_tb \u001b[38;5;241m=\u001b[39m _process_traceback_frames(e\u001b[38;5;241m.\u001b[39m__traceback__)\n",
      "File \u001b[1;32mC:\\Program Files\\Python39\\lib\\site-packages\\tensorflow\\python\\eager\\polymorphic_function\\polymorphic_function.py:880\u001b[0m, in \u001b[0;36mFunction.__call__\u001b[1;34m(self, *args, **kwds)\u001b[0m\n\u001b[0;32m    877\u001b[0m compiler \u001b[38;5;241m=\u001b[39m \u001b[38;5;124m\"\u001b[39m\u001b[38;5;124mxla\u001b[39m\u001b[38;5;124m\"\u001b[39m \u001b[38;5;28;01mif\u001b[39;00m \u001b[38;5;28mself\u001b[39m\u001b[38;5;241m.\u001b[39m_jit_compile \u001b[38;5;28;01melse\u001b[39;00m \u001b[38;5;124m\"\u001b[39m\u001b[38;5;124mnonXla\u001b[39m\u001b[38;5;124m\"\u001b[39m\n\u001b[0;32m    879\u001b[0m \u001b[38;5;28;01mwith\u001b[39;00m OptionalXlaContext(\u001b[38;5;28mself\u001b[39m\u001b[38;5;241m.\u001b[39m_jit_compile):\n\u001b[1;32m--> 880\u001b[0m   result \u001b[38;5;241m=\u001b[39m \u001b[38;5;28mself\u001b[39m\u001b[38;5;241m.\u001b[39m_call(\u001b[38;5;241m*\u001b[39margs, \u001b[38;5;241m*\u001b[39m\u001b[38;5;241m*\u001b[39mkwds)\n\u001b[0;32m    882\u001b[0m new_tracing_count \u001b[38;5;241m=\u001b[39m \u001b[38;5;28mself\u001b[39m\u001b[38;5;241m.\u001b[39mexperimental_get_tracing_count()\n\u001b[0;32m    883\u001b[0m without_tracing \u001b[38;5;241m=\u001b[39m (tracing_count \u001b[38;5;241m==\u001b[39m new_tracing_count)\n",
      "File \u001b[1;32mC:\\Program Files\\Python39\\lib\\site-packages\\tensorflow\\python\\eager\\polymorphic_function\\polymorphic_function.py:912\u001b[0m, in \u001b[0;36mFunction._call\u001b[1;34m(self, *args, **kwds)\u001b[0m\n\u001b[0;32m    909\u001b[0m   \u001b[38;5;28mself\u001b[39m\u001b[38;5;241m.\u001b[39m_lock\u001b[38;5;241m.\u001b[39mrelease()\n\u001b[0;32m    910\u001b[0m   \u001b[38;5;66m# In this case we have created variables on the first call, so we run the\u001b[39m\n\u001b[0;32m    911\u001b[0m   \u001b[38;5;66m# defunned version which is guaranteed to never create variables.\u001b[39m\n\u001b[1;32m--> 912\u001b[0m   \u001b[38;5;28;01mreturn\u001b[39;00m \u001b[38;5;28mself\u001b[39m\u001b[38;5;241m.\u001b[39m_no_variable_creation_fn(\u001b[38;5;241m*\u001b[39margs, \u001b[38;5;241m*\u001b[39m\u001b[38;5;241m*\u001b[39mkwds)  \u001b[38;5;66m# pylint: disable=not-callable\u001b[39m\n\u001b[0;32m    913\u001b[0m \u001b[38;5;28;01melif\u001b[39;00m \u001b[38;5;28mself\u001b[39m\u001b[38;5;241m.\u001b[39m_variable_creation_fn \u001b[38;5;129;01mis\u001b[39;00m \u001b[38;5;129;01mnot\u001b[39;00m \u001b[38;5;28;01mNone\u001b[39;00m:\n\u001b[0;32m    914\u001b[0m   \u001b[38;5;66m# Release the lock early so that multiple threads can perform the call\u001b[39m\n\u001b[0;32m    915\u001b[0m   \u001b[38;5;66m# in parallel.\u001b[39m\n\u001b[0;32m    916\u001b[0m   \u001b[38;5;28mself\u001b[39m\u001b[38;5;241m.\u001b[39m_lock\u001b[38;5;241m.\u001b[39mrelease()\n",
      "File \u001b[1;32mC:\\Program Files\\Python39\\lib\\site-packages\\tensorflow\\python\\eager\\polymorphic_function\\tracing_compiler.py:134\u001b[0m, in \u001b[0;36mTracingCompiler.__call__\u001b[1;34m(self, *args, **kwargs)\u001b[0m\n\u001b[0;32m    131\u001b[0m \u001b[38;5;28;01mwith\u001b[39;00m \u001b[38;5;28mself\u001b[39m\u001b[38;5;241m.\u001b[39m_lock:\n\u001b[0;32m    132\u001b[0m   (concrete_function,\n\u001b[0;32m    133\u001b[0m    filtered_flat_args) \u001b[38;5;241m=\u001b[39m \u001b[38;5;28mself\u001b[39m\u001b[38;5;241m.\u001b[39m_maybe_define_function(args, kwargs)\n\u001b[1;32m--> 134\u001b[0m \u001b[38;5;28;01mreturn\u001b[39;00m \u001b[43mconcrete_function\u001b[49m\u001b[38;5;241;43m.\u001b[39;49m\u001b[43m_call_flat\u001b[49m\u001b[43m(\u001b[49m\n\u001b[0;32m    135\u001b[0m \u001b[43m    \u001b[49m\u001b[43mfiltered_flat_args\u001b[49m\u001b[43m,\u001b[49m\u001b[43m \u001b[49m\u001b[43mcaptured_inputs\u001b[49m\u001b[38;5;241;43m=\u001b[39;49m\u001b[43mconcrete_function\u001b[49m\u001b[38;5;241;43m.\u001b[39;49m\u001b[43mcaptured_inputs\u001b[49m\u001b[43m)\u001b[49m\n",
      "File \u001b[1;32mC:\\Program Files\\Python39\\lib\\site-packages\\tensorflow\\python\\eager\\polymorphic_function\\monomorphic_function.py:1745\u001b[0m, in \u001b[0;36mConcreteFunction._call_flat\u001b[1;34m(self, args, captured_inputs, cancellation_manager)\u001b[0m\n\u001b[0;32m   1741\u001b[0m possible_gradient_type \u001b[38;5;241m=\u001b[39m gradients_util\u001b[38;5;241m.\u001b[39mPossibleTapeGradientTypes(args)\n\u001b[0;32m   1742\u001b[0m \u001b[38;5;28;01mif\u001b[39;00m (possible_gradient_type \u001b[38;5;241m==\u001b[39m gradients_util\u001b[38;5;241m.\u001b[39mPOSSIBLE_GRADIENT_TYPES_NONE\n\u001b[0;32m   1743\u001b[0m     \u001b[38;5;129;01mand\u001b[39;00m executing_eagerly):\n\u001b[0;32m   1744\u001b[0m   \u001b[38;5;66m# No tape is watching; skip to running the function.\u001b[39m\n\u001b[1;32m-> 1745\u001b[0m   \u001b[38;5;28;01mreturn\u001b[39;00m \u001b[38;5;28mself\u001b[39m\u001b[38;5;241m.\u001b[39m_build_call_outputs(\u001b[38;5;28;43mself\u001b[39;49m\u001b[38;5;241;43m.\u001b[39;49m\u001b[43m_inference_function\u001b[49m\u001b[38;5;241;43m.\u001b[39;49m\u001b[43mcall\u001b[49m\u001b[43m(\u001b[49m\n\u001b[0;32m   1746\u001b[0m \u001b[43m      \u001b[49m\u001b[43mctx\u001b[49m\u001b[43m,\u001b[49m\u001b[43m \u001b[49m\u001b[43margs\u001b[49m\u001b[43m,\u001b[49m\u001b[43m \u001b[49m\u001b[43mcancellation_manager\u001b[49m\u001b[38;5;241;43m=\u001b[39;49m\u001b[43mcancellation_manager\u001b[49m\u001b[43m)\u001b[49m)\n\u001b[0;32m   1747\u001b[0m forward_backward \u001b[38;5;241m=\u001b[39m \u001b[38;5;28mself\u001b[39m\u001b[38;5;241m.\u001b[39m_select_forward_and_backward_functions(\n\u001b[0;32m   1748\u001b[0m     args,\n\u001b[0;32m   1749\u001b[0m     possible_gradient_type,\n\u001b[0;32m   1750\u001b[0m     executing_eagerly)\n\u001b[0;32m   1751\u001b[0m forward_function, args_with_tangents \u001b[38;5;241m=\u001b[39m forward_backward\u001b[38;5;241m.\u001b[39mforward()\n",
      "File \u001b[1;32mC:\\Program Files\\Python39\\lib\\site-packages\\tensorflow\\python\\eager\\polymorphic_function\\monomorphic_function.py:378\u001b[0m, in \u001b[0;36m_EagerDefinedFunction.call\u001b[1;34m(self, ctx, args, cancellation_manager)\u001b[0m\n\u001b[0;32m    376\u001b[0m \u001b[38;5;28;01mwith\u001b[39;00m _InterpolateFunctionError(\u001b[38;5;28mself\u001b[39m):\n\u001b[0;32m    377\u001b[0m   \u001b[38;5;28;01mif\u001b[39;00m cancellation_manager \u001b[38;5;129;01mis\u001b[39;00m \u001b[38;5;28;01mNone\u001b[39;00m:\n\u001b[1;32m--> 378\u001b[0m     outputs \u001b[38;5;241m=\u001b[39m \u001b[43mexecute\u001b[49m\u001b[38;5;241;43m.\u001b[39;49m\u001b[43mexecute\u001b[49m\u001b[43m(\u001b[49m\n\u001b[0;32m    379\u001b[0m \u001b[43m        \u001b[49m\u001b[38;5;28;43mstr\u001b[39;49m\u001b[43m(\u001b[49m\u001b[38;5;28;43mself\u001b[39;49m\u001b[38;5;241;43m.\u001b[39;49m\u001b[43msignature\u001b[49m\u001b[38;5;241;43m.\u001b[39;49m\u001b[43mname\u001b[49m\u001b[43m)\u001b[49m\u001b[43m,\u001b[49m\n\u001b[0;32m    380\u001b[0m \u001b[43m        \u001b[49m\u001b[43mnum_outputs\u001b[49m\u001b[38;5;241;43m=\u001b[39;49m\u001b[38;5;28;43mself\u001b[39;49m\u001b[38;5;241;43m.\u001b[39;49m\u001b[43m_num_outputs\u001b[49m\u001b[43m,\u001b[49m\n\u001b[0;32m    381\u001b[0m \u001b[43m        \u001b[49m\u001b[43minputs\u001b[49m\u001b[38;5;241;43m=\u001b[39;49m\u001b[43margs\u001b[49m\u001b[43m,\u001b[49m\n\u001b[0;32m    382\u001b[0m \u001b[43m        \u001b[49m\u001b[43mattrs\u001b[49m\u001b[38;5;241;43m=\u001b[39;49m\u001b[43mattrs\u001b[49m\u001b[43m,\u001b[49m\n\u001b[0;32m    383\u001b[0m \u001b[43m        \u001b[49m\u001b[43mctx\u001b[49m\u001b[38;5;241;43m=\u001b[39;49m\u001b[43mctx\u001b[49m\u001b[43m)\u001b[49m\n\u001b[0;32m    384\u001b[0m   \u001b[38;5;28;01melse\u001b[39;00m:\n\u001b[0;32m    385\u001b[0m     outputs \u001b[38;5;241m=\u001b[39m execute\u001b[38;5;241m.\u001b[39mexecute_with_cancellation(\n\u001b[0;32m    386\u001b[0m         \u001b[38;5;28mstr\u001b[39m(\u001b[38;5;28mself\u001b[39m\u001b[38;5;241m.\u001b[39msignature\u001b[38;5;241m.\u001b[39mname),\n\u001b[0;32m    387\u001b[0m         num_outputs\u001b[38;5;241m=\u001b[39m\u001b[38;5;28mself\u001b[39m\u001b[38;5;241m.\u001b[39m_num_outputs,\n\u001b[1;32m   (...)\u001b[0m\n\u001b[0;32m    390\u001b[0m         ctx\u001b[38;5;241m=\u001b[39mctx,\n\u001b[0;32m    391\u001b[0m         cancellation_manager\u001b[38;5;241m=\u001b[39mcancellation_manager)\n",
      "File \u001b[1;32mC:\\Program Files\\Python39\\lib\\site-packages\\tensorflow\\python\\eager\\execute.py:52\u001b[0m, in \u001b[0;36mquick_execute\u001b[1;34m(op_name, num_outputs, inputs, attrs, ctx, name)\u001b[0m\n\u001b[0;32m     50\u001b[0m \u001b[38;5;28;01mtry\u001b[39;00m:\n\u001b[0;32m     51\u001b[0m   ctx\u001b[38;5;241m.\u001b[39mensure_initialized()\n\u001b[1;32m---> 52\u001b[0m   tensors \u001b[38;5;241m=\u001b[39m \u001b[43mpywrap_tfe\u001b[49m\u001b[38;5;241;43m.\u001b[39;49m\u001b[43mTFE_Py_Execute\u001b[49m\u001b[43m(\u001b[49m\u001b[43mctx\u001b[49m\u001b[38;5;241;43m.\u001b[39;49m\u001b[43m_handle\u001b[49m\u001b[43m,\u001b[49m\u001b[43m \u001b[49m\u001b[43mdevice_name\u001b[49m\u001b[43m,\u001b[49m\u001b[43m \u001b[49m\u001b[43mop_name\u001b[49m\u001b[43m,\u001b[49m\n\u001b[0;32m     53\u001b[0m \u001b[43m                                      \u001b[49m\u001b[43minputs\u001b[49m\u001b[43m,\u001b[49m\u001b[43m \u001b[49m\u001b[43mattrs\u001b[49m\u001b[43m,\u001b[49m\u001b[43m \u001b[49m\u001b[43mnum_outputs\u001b[49m\u001b[43m)\u001b[49m\n\u001b[0;32m     54\u001b[0m \u001b[38;5;28;01mexcept\u001b[39;00m core\u001b[38;5;241m.\u001b[39m_NotOkStatusException \u001b[38;5;28;01mas\u001b[39;00m e:\n\u001b[0;32m     55\u001b[0m   \u001b[38;5;28;01mif\u001b[39;00m name \u001b[38;5;129;01mis\u001b[39;00m \u001b[38;5;129;01mnot\u001b[39;00m \u001b[38;5;28;01mNone\u001b[39;00m:\n",
      "\u001b[1;31mKeyboardInterrupt\u001b[0m: "
     ]
    }
   ],
   "source": [
    "model.fit(x_train, y_train, validation_data=(x_val, y_val),\n",
    "          epochs=20, batch_size=128)"
   ]
  },
  {
   "cell_type": "markdown",
   "id": "c35e2f04-8ee4-4aec-a28e-cb12b4f6ccfe",
   "metadata": {},
   "source": [
    "## Прочее:"
   ]
  },
  {
   "cell_type": "code",
   "execution_count": null,
   "id": "87ef55b7-a142-4fe0-884d-00f672da020e",
   "metadata": {},
   "outputs": [],
   "source": [
    "it = df.groupby('cuisine').count()\n",
    "it.sort_values('title', ascending=False).head(30)"
   ]
  },
  {
   "cell_type": "code",
   "execution_count": null,
   "id": "8891bcd1-671e-4efa-99d9-fc983bb3c670",
   "metadata": {},
   "outputs": [],
   "source": [
    "a = ft.get_word_vector('кокосовый')-ft.get_word_vector('кокосовое')+ft.get_word_vector('кремовое')-ft.get_word_vector('кремовый')\n",
    "a@a"
   ]
  },
  {
   "cell_type": "code",
   "execution_count": null,
   "id": "69997cf5",
   "metadata": {},
   "outputs": [],
   "source": []
  }
 ],
 "metadata": {
  "kernelspec": {
   "display_name": "Python 3 (ipykernel)",
   "language": "python",
   "name": "python3"
  },
  "language_info": {
   "codemirror_mode": {
    "name": "ipython",
    "version": 3
   },
   "file_extension": ".py",
   "mimetype": "text/x-python",
   "name": "python",
   "nbconvert_exporter": "python",
   "pygments_lexer": "ipython3",
   "version": "3.9.13"
  }
 },
 "nbformat": 4,
 "nbformat_minor": 5
}
