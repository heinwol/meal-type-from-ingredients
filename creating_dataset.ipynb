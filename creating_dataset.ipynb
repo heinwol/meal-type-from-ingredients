{
 "cells": [
  {
   "cell_type": "code",
   "execution_count": 1,
   "id": "bdb09cb6-6cfc-436a-a92e-79e3a9a24ff0",
   "metadata": {},
   "outputs": [],
   "source": [
    "import pandas as pd\n",
    "\n",
    "from toolz import *\n",
    "\n",
    "import json\n",
    "import pathlib\n",
    "\n",
    "import glom\n",
    "from lenses import lens"
   ]
  },
  {
   "cell_type": "code",
   "execution_count": 2,
   "id": "a013d5a9-3482-4198-9276-edf7c5592419",
   "metadata": {},
   "outputs": [],
   "source": [
    "lmap = compose(list, map)"
   ]
  },
  {
   "cell_type": "code",
   "execution_count": 3,
   "id": "d1e5ad78-0b7b-465b-8656-64cd31ae0ee4",
   "metadata": {},
   "outputs": [],
   "source": [
    "def list_of_str_to_list_of_json(lst):\n",
    "    it = map(lambda x: x.replace('\\xa0', ' '), lst)\n",
    "    it = filter(lambda x: x != '', it)\n",
    "    it = lmap(json.loads, it)\n",
    "    return it"
   ]
  },
  {
   "cell_type": "code",
   "execution_count": 4,
   "id": "7b665ebb-a1b9-4c98-86de-b6ab073973be",
   "metadata": {},
   "outputs": [],
   "source": [
    "data_path = pathlib.Path('data')"
   ]
  },
  {
   "cell_type": "code",
   "execution_count": 5,
   "id": "b4465a3d-ff97-4e7c-aa51-303292e0b91e",
   "metadata": {},
   "outputs": [],
   "source": [
    "instance_entry_lens_get = lens['Завтраки'][3].get()"
   ]
  },
  {
   "cell_type": "markdown",
   "id": "4001a009-8cd0-49f5-9c9c-bd51dd448768",
   "metadata": {},
   "source": [
    "## Loading dataset from files (as nested structure):"
   ]
  },
  {
   "cell_type": "code",
   "execution_count": 6,
   "id": "0286f30a-b24c-4d41-9184-d746c19b8295",
   "metadata": {},
   "outputs": [],
   "source": [
    "dict_json_by_course = {}\n",
    "for path_course in data_path.joinpath('collected').iterdir():\n",
    "    list_of_course_jsons = []\n",
    "    for path_file in path_course.iterdir():\n",
    "        with open(path_file, 'r', encoding='utf-8') as f:\n",
    "            list_of_course_jsons += list_of_str_to_list_of_json(f.readlines())\n",
    "    dict_json_by_course[str(path_course.name)] = list_of_course_jsons"
   ]
  },
  {
   "cell_type": "code",
   "execution_count": 7,
   "id": "4bc66139-09f9-47f1-ba5a-abb7862cab48",
   "metadata": {},
   "outputs": [
    {
     "data": {
      "text/plain": [
       "dict_keys(['Выпечка и десерты', 'Завтраки', 'Закуски', 'Напитки', 'Основные блюда', 'Паста и пицца', 'Салаты', 'Соусы и маринады', 'Супы'])"
      ]
     },
     "execution_count": 7,
     "metadata": {},
     "output_type": "execute_result"
    }
   ],
   "source": [
    "dict_json_by_course.keys()"
   ]
  },
  {
   "cell_type": "code",
   "execution_count": 9,
   "id": "30ea994c-c8a7-41b7-883b-e1d47b2ce0fd",
   "metadata": {},
   "outputs": [
    {
     "data": {
      "text/plain": [
       "{'url': 'https://eda.ru/recepty/zavtraki/zapekanka-iz-lapshi-vetchini-schinkenfleckerln-22024',\n",
       " 'title': 'Запеканка из лапши и ветчины (Schinkenfleckerln)',\n",
       " 'category': 'Завтраки',\n",
       " 'cuisine': 'Австрийская кухня',\n",
       " 'menu': 'Еда без ограничений',\n",
       " 'description': 'Запеканка из макарон — вовсе не странность: ашкеназский кугель, русский лапшевик, итальянская лазанья, листы для которой тоже относятся к пасте, так что австрийский шинкенфлекерльн в хорошей компании. Приготовить это блюдо проще, чем выговорить его название: сочетание лапши, ветчины и сыра, конечно, сплошные калории, зато ученые все больше склоняются к тому, что жиры и углеводы действительно могут помочь нам справиться со стрессом. Или можете заменить жирные сорта ветчины, к примеру, вареной индейкой, сразу сбросив часть груза калорий. К тому же готовится такая запеканка не дольше, чем яичница, вполне укладывается даже в утренний тайминг и позволяет пустить в дело замыленный кусочек сыра или остатки вчерашних макарон. Если будете готовить шинкенфлекерльн, имейте в виду, все самое вкусное — на верхушке пирамиды, где макароны запекаются, становятся чуточку хрустящими и покрываются румяной сырной корочкой.',\n",
       " 'ingredients': [['Ветчина', '200 г'],\n",
       "  ['Широкая лапша', '200 г'],\n",
       "  ['Репчатый лук', '1 головка'],\n",
       "  ['Тертый сыр пармезан ', '100 г'],\n",
       "  ['Соль', 'по вкусу'],\n",
       "  ['Свежемолотый черный перец', 'по вкусу'],\n",
       "  ['Оливковое масло', 'по вкусу']],\n",
       " 'instructions': [['1',\n",
       "   'Отварите лапшу в кипящей подсоленной воде до готовности.'],\n",
       "  ['2',\n",
       "   'Тем временем, разогрейте небольшое количество оливкового масла в сковороде на среднем огне. Добавьте мелко нарезанный лук и жарьте до мягкости и золотистого цвета примерно 3 минуты. Затем добавьте нарезанную небольшими кусочками ветчину и обжарьте еще минуту. Добавьте готовую лапшу, посолите и поперчите по вкусу.'],\n",
       "  ['3', 'Посыпьте сыром, поставьте под гриль и дайте сыру подрумяниться.']],\n",
       " 'advice': ''}"
      ]
     },
     "execution_count": 9,
     "metadata": {},
     "output_type": "execute_result"
    }
   ],
   "source": [
    "instance_entry_lens_get(dict_json_by_course)"
   ]
  },
  {
   "cell_type": "markdown",
   "id": "604f2a97-27d2-46ff-89cf-c8bc31ab6f7c",
   "metadata": {},
   "source": [
    "## Processing:\n",
    "\n",
    "Now we're ready to process this data to create dataset for our needs"
   ]
  },
  {
   "cell_type": "code",
   "execution_count": 11,
   "id": "2a732fa8-f600-4680-aa3b-e0cea53e959d",
   "metadata": {},
   "outputs": [],
   "source": [
    "# lens that yields seperate dicts from the data\n",
    "# (like `instance_entry_lens_get(dict_json_by_course)` above)\n",
    "data_processing_lens = lens.Values().Each()"
   ]
  },
  {
   "cell_type": "markdown",
   "id": "6ca02f47-be2b-4a6f-a816-4eacb56f2c46",
   "metadata": {},
   "source": [
    "### First of all, renaming `category` to `course`:"
   ]
  },
  {
   "cell_type": "code",
   "execution_count": 13,
   "id": "eef09d4d-dde4-4879-88bd-176a192981e2",
   "metadata": {},
   "outputs": [
    {
     "data": {
      "text/plain": [
       "{'url': 'https://eda.ru/recepty/zavtraki/zapekanka-iz-lapshi-vetchini-schinkenfleckerln-22024',\n",
       " 'title': 'Запеканка из лапши и ветчины (Schinkenfleckerln)',\n",
       " 'course': 'Завтраки',\n",
       " 'cuisine': 'Австрийская кухня',\n",
       " 'menu': 'Еда без ограничений',\n",
       " 'description': 'Запеканка из макарон — вовсе не странность: ашкеназский кугель, русский лапшевик, итальянская лазанья, листы для которой тоже относятся к пасте, так что австрийский шинкенфлекерльн в хорошей компании. Приготовить это блюдо проще, чем выговорить его название: сочетание лапши, ветчины и сыра, конечно, сплошные калории, зато ученые все больше склоняются к тому, что жиры и углеводы действительно могут помочь нам справиться со стрессом. Или можете заменить жирные сорта ветчины, к примеру, вареной индейкой, сразу сбросив часть груза калорий. К тому же готовится такая запеканка не дольше, чем яичница, вполне укладывается даже в утренний тайминг и позволяет пустить в дело замыленный кусочек сыра или остатки вчерашних макарон. Если будете готовить шинкенфлекерльн, имейте в виду, все самое вкусное — на верхушке пирамиды, где макароны запекаются, становятся чуточку хрустящими и покрываются румяной сырной корочкой.',\n",
       " 'ingredients': [['Ветчина', '200 г'],\n",
       "  ['Широкая лапша', '200 г'],\n",
       "  ['Репчатый лук', '1 головка'],\n",
       "  ['Тертый сыр пармезан ', '100 г'],\n",
       "  ['Соль', 'по вкусу'],\n",
       "  ['Свежемолотый черный перец', 'по вкусу'],\n",
       "  ['Оливковое масло', 'по вкусу']],\n",
       " 'instructions': [['1',\n",
       "   'Отварите лапшу в кипящей подсоленной воде до готовности.'],\n",
       "  ['2',\n",
       "   'Тем временем, разогрейте небольшое количество оливкового масла в сковороде на среднем огне. Добавьте мелко нарезанный лук и жарьте до мягкости и золотистого цвета примерно 3 минуты. Затем добавьте нарезанную небольшими кусочками ветчину и обжарьте еще минуту. Добавьте готовую лапшу, посолите и поперчите по вкусу.'],\n",
       "  ['3', 'Посыпьте сыром, поставьте под гриль и дайте сыру подрумяниться.']],\n",
       " 'advice': ''}"
      ]
     },
     "execution_count": 13,
     "metadata": {},
     "output_type": "execute_result"
    }
   ],
   "source": [
    "dict_json_by_course_renamed = data_processing_lens.Keys().modify(\n",
    "    lambda field_name: 'course' if field_name == 'category' else field_name,\n",
    ")(dict_json_by_course)\n",
    "\n",
    "example_instance = instance_entry_lens_get(dict_json_by_course_renamed)\n",
    "example_instance"
   ]
  },
  {
   "cell_type": "markdown",
   "id": "8b2d0858-8205-417d-8f5b-8acf664cd9ed",
   "metadata": {},
   "source": [
    "### Get rid of redundant data and generate `id`s:"
   ]
  },
  {
   "cell_type": "code",
   "execution_count": 11,
   "id": "712ad3f8-add3-4b04-bde9-2abbd042efee",
   "metadata": {},
   "outputs": [
    {
     "data": {
      "text/plain": [
       "{'id': 22024,\n",
       " 'title': 'Запеканка из лапши и ветчины (Schinkenfleckerln)',\n",
       " 'course': 'Завтраки',\n",
       " 'cuisine': 'Австрийская кухня',\n",
       " 'ingredients': ['Ветчина',\n",
       "  'Широкая лапша',\n",
       "  'Репчатый лук',\n",
       "  'Тертый сыр пармезан',\n",
       "  'Соль',\n",
       "  'Свежемолотый черный перец',\n",
       "  'Оливковое масло']}"
      ]
     },
     "execution_count": 11,
     "metadata": {},
     "output_type": "execute_result"
    }
   ],
   "source": [
    "id_from_url = lambda url: int(url.split('-')[-1])\n",
    "def process_instance(instance):\n",
    "    return glom.glom(instance, {\n",
    "        'id': glom.Invoke(id_from_url).specs('url'),\n",
    "        'title': glom.Invoke(str.strip).specs('title'),\n",
    "        'course': 'course',\n",
    "        'cuisine': 'cuisine',\n",
    "        'ingredients': ('ingredients', glom.Iter().map(lambda x: x[0].strip()).all())\n",
    "    })\n",
    "process_instance(example_instance)"
   ]
  },
  {
   "cell_type": "code",
   "execution_count": 12,
   "id": "fa2aba88-de6e-4e5c-9ada-ea4353d944ac",
   "metadata": {},
   "outputs": [
    {
     "data": {
      "text/plain": [
       "{'id': 22024,\n",
       " 'title': 'Запеканка из лапши и ветчины (Schinkenfleckerln)',\n",
       " 'course': 'Завтраки',\n",
       " 'cuisine': 'Австрийская кухня',\n",
       " 'ingredients': ['Ветчина',\n",
       "  'Широкая лапша',\n",
       "  'Репчатый лук',\n",
       "  'Тертый сыр пармезан',\n",
       "  'Соль',\n",
       "  'Свежемолотый черный перец',\n",
       "  'Оливковое масло']}"
      ]
     },
     "execution_count": 12,
     "metadata": {},
     "output_type": "execute_result"
    }
   ],
   "source": [
    "dict_json_by_course_processed = data_processing_lens.modify(process_instance)(dict_json_by_course_renamed)\n",
    "instance_entry_lens_get(dict_json_by_course_processed)"
   ]
  },
  {
   "cell_type": "markdown",
   "id": "adb1c3b4-e8bc-42a8-98a5-a83520685302",
   "metadata": {},
   "source": [
    "### We're ready to flatten our data and turn it into dataframe:"
   ]
  },
  {
   "cell_type": "code",
   "execution_count": 13,
   "id": "1bbd3fbf-12fe-4055-b4fd-d2cf56424e23",
   "metadata": {},
   "outputs": [
    {
     "data": {
      "text/plain": [
       "{'id': 28195,\n",
       " 'title': 'Банановое мороженое с корицей',\n",
       " 'course': 'Выпечка и десерты',\n",
       " 'cuisine': 'Карибская кухня',\n",
       " 'ingredients': ['Бананы',\n",
       "  'Лимонный сок',\n",
       "  'Молотая корица',\n",
       "  'Ванильное мороженое']}"
      ]
     },
     "execution_count": 13,
     "metadata": {},
     "output_type": "execute_result"
    }
   ],
   "source": [
    "all_instances_flattened = data_processing_lens.collect()(dict_json_by_course_processed)\n",
    "all_instances_flattened[0]"
   ]
  },
  {
   "cell_type": "code",
   "execution_count": 14,
   "id": "a5b2378e-f3fd-4593-907a-59b099dc8838",
   "metadata": {},
   "outputs": [
    {
     "data": {
      "text/html": [
       "<div>\n",
       "<style scoped>\n",
       "    .dataframe tbody tr th:only-of-type {\n",
       "        vertical-align: middle;\n",
       "    }\n",
       "\n",
       "    .dataframe tbody tr th {\n",
       "        vertical-align: top;\n",
       "    }\n",
       "\n",
       "    .dataframe thead th {\n",
       "        text-align: right;\n",
       "    }\n",
       "</style>\n",
       "<table border=\"1\" class=\"dataframe\">\n",
       "  <thead>\n",
       "    <tr style=\"text-align: right;\">\n",
       "      <th></th>\n",
       "      <th>id</th>\n",
       "      <th>title</th>\n",
       "      <th>course</th>\n",
       "      <th>cuisine</th>\n",
       "      <th>ingredients</th>\n",
       "    </tr>\n",
       "  </thead>\n",
       "  <tbody>\n",
       "    <tr>\n",
       "      <th>0</th>\n",
       "      <td>28195</td>\n",
       "      <td>Банановое мороженое с корицей</td>\n",
       "      <td>Выпечка и десерты</td>\n",
       "      <td>Карибская кухня</td>\n",
       "      <td>(Бананы, Лимонный сок, Молотая корица, Ванильн...</td>\n",
       "    </tr>\n",
       "    <tr>\n",
       "      <th>1</th>\n",
       "      <td>28141</td>\n",
       "      <td>Ананасово-кокосовый шербет</td>\n",
       "      <td>Выпечка и десерты</td>\n",
       "      <td>Карибская кухня</td>\n",
       "      <td>(Сахар, Кокосовое молоко, Корень имбиря, Анана...</td>\n",
       "    </tr>\n",
       "    <tr>\n",
       "      <th>2</th>\n",
       "      <td>27929</td>\n",
       "      <td>Десерт из манго, клубники и текилы</td>\n",
       "      <td>Выпечка и десерты</td>\n",
       "      <td>Карибская кухня</td>\n",
       "      <td>(Клубника, Манго, Сахар, Тертая цедра лайма, Т...</td>\n",
       "    </tr>\n",
       "    <tr>\n",
       "      <th>3</th>\n",
       "      <td>28192</td>\n",
       "      <td>Ананас с соусом из манго и рома</td>\n",
       "      <td>Выпечка и десерты</td>\n",
       "      <td>Карибская кухня</td>\n",
       "      <td>(Манго, Темный ром, Сок лайма, Сахар, Тертая ц...</td>\n",
       "    </tr>\n",
       "    <tr>\n",
       "      <th>4</th>\n",
       "      <td>28463</td>\n",
       "      <td>Клубничный соус с текилой</td>\n",
       "      <td>Выпечка и десерты</td>\n",
       "      <td>Карибская кухня</td>\n",
       "      <td>(Клубника, Сахарная пудра, Сок лайма, Текила, ...</td>\n",
       "    </tr>\n",
       "    <tr>\n",
       "      <th>...</th>\n",
       "      <td>...</td>\n",
       "      <td>...</td>\n",
       "      <td>...</td>\n",
       "      <td>...</td>\n",
       "      <td>...</td>\n",
       "    </tr>\n",
       "    <tr>\n",
       "      <th>42196</th>\n",
       "      <td>43380</td>\n",
       "      <td>Постный борщ с фасолью</td>\n",
       "      <td>Супы</td>\n",
       "      <td>Украинская кухня</td>\n",
       "      <td>(Белая фасоль, Овощной бульон, Свекла, Картофе...</td>\n",
       "    </tr>\n",
       "    <tr>\n",
       "      <th>42197</th>\n",
       "      <td>80446</td>\n",
       "      <td>Суп энгамат</td>\n",
       "      <td>Супы</td>\n",
       "      <td>Шведская кухня</td>\n",
       "      <td>(Цветная капуста, Морковь, Картофель, Лук-поре...</td>\n",
       "    </tr>\n",
       "    <tr>\n",
       "      <th>42198</th>\n",
       "      <td>136820</td>\n",
       "      <td>Гороховый суп с блинчиками</td>\n",
       "      <td>Супы</td>\n",
       "      <td>Шведская кухня</td>\n",
       "      <td>(Горох, Репчатый лук, Гвоздика, Свиная рулька,...</td>\n",
       "    </tr>\n",
       "    <tr>\n",
       "      <th>42199</th>\n",
       "      <td>18014</td>\n",
       "      <td>Суп из брокколи и кростини с сыром бри</td>\n",
       "      <td>Супы</td>\n",
       "      <td>Шведская кухня</td>\n",
       "      <td>(Оливковое масло, Репчатый лук, Овощной бульон...</td>\n",
       "    </tr>\n",
       "    <tr>\n",
       "      <th>42200</th>\n",
       "      <td>49530</td>\n",
       "      <td>Сливочный суп с фрикадельками</td>\n",
       "      <td>Супы</td>\n",
       "      <td>Шведская кухня</td>\n",
       "      <td>(Картофель, Репчатый лук, Мясной фарш, Морковь...</td>\n",
       "    </tr>\n",
       "  </tbody>\n",
       "</table>\n",
       "<p>42201 rows × 5 columns</p>\n",
       "</div>"
      ],
      "text/plain": [
       "           id                                   title             course  \\\n",
       "0       28195           Банановое мороженое с корицей  Выпечка и десерты   \n",
       "1       28141              Ананасово-кокосовый шербет  Выпечка и десерты   \n",
       "2       27929      Десерт из манго, клубники и текилы  Выпечка и десерты   \n",
       "3       28192         Ананас с соусом из манго и рома  Выпечка и десерты   \n",
       "4       28463               Клубничный соус с текилой  Выпечка и десерты   \n",
       "...       ...                                     ...                ...   \n",
       "42196   43380                  Постный борщ с фасолью               Супы   \n",
       "42197   80446                             Суп энгамат               Супы   \n",
       "42198  136820              Гороховый суп с блинчиками               Супы   \n",
       "42199   18014  Суп из брокколи и кростини с сыром бри               Супы   \n",
       "42200   49530           Сливочный суп с фрикадельками               Супы   \n",
       "\n",
       "                cuisine                                        ingredients  \n",
       "0       Карибская кухня  (Бананы, Лимонный сок, Молотая корица, Ванильн...  \n",
       "1       Карибская кухня  (Сахар, Кокосовое молоко, Корень имбиря, Анана...  \n",
       "2       Карибская кухня  (Клубника, Манго, Сахар, Тертая цедра лайма, Т...  \n",
       "3       Карибская кухня  (Манго, Темный ром, Сок лайма, Сахар, Тертая ц...  \n",
       "4       Карибская кухня  (Клубника, Сахарная пудра, Сок лайма, Текила, ...  \n",
       "...                 ...                                                ...  \n",
       "42196  Украинская кухня  (Белая фасоль, Овощной бульон, Свекла, Картофе...  \n",
       "42197    Шведская кухня  (Цветная капуста, Морковь, Картофель, Лук-поре...  \n",
       "42198    Шведская кухня  (Горох, Репчатый лук, Гвоздика, Свиная рулька,...  \n",
       "42199    Шведская кухня  (Оливковое масло, Репчатый лук, Овощной бульон...  \n",
       "42200    Шведская кухня  (Картофель, Репчатый лук, Мясной фарш, Морковь...  \n",
       "\n",
       "[42201 rows x 5 columns]"
      ]
     },
     "execution_count": 14,
     "metadata": {},
     "output_type": "execute_result"
    }
   ],
   "source": [
    "df = pd.DataFrame(all_instances_flattened)\n",
    "df['ingredients'] = df['ingredients'].map(tuple)\n",
    "df"
   ]
  },
  {
   "cell_type": "code",
   "execution_count": 15,
   "id": "bf32a01e-ee90-4148-a817-f04f484c0540",
   "metadata": {},
   "outputs": [
    {
     "name": "stdout",
     "output_type": "stream",
     "text": [
      "there were 763 duplicate rows!\n"
     ]
    },
    {
     "data": {
      "text/html": [
       "<div>\n",
       "<style scoped>\n",
       "    .dataframe tbody tr th:only-of-type {\n",
       "        vertical-align: middle;\n",
       "    }\n",
       "\n",
       "    .dataframe tbody tr th {\n",
       "        vertical-align: top;\n",
       "    }\n",
       "\n",
       "    .dataframe thead th {\n",
       "        text-align: right;\n",
       "    }\n",
       "</style>\n",
       "<table border=\"1\" class=\"dataframe\">\n",
       "  <thead>\n",
       "    <tr style=\"text-align: right;\">\n",
       "      <th></th>\n",
       "      <th>id</th>\n",
       "      <th>title</th>\n",
       "      <th>course</th>\n",
       "      <th>cuisine</th>\n",
       "      <th>ingredients</th>\n",
       "    </tr>\n",
       "  </thead>\n",
       "  <tbody>\n",
       "    <tr>\n",
       "      <th>0</th>\n",
       "      <td>28195</td>\n",
       "      <td>Банановое мороженое с корицей</td>\n",
       "      <td>Выпечка и десерты</td>\n",
       "      <td>Карибская кухня</td>\n",
       "      <td>(Бананы, Лимонный сок, Молотая корица, Ванильн...</td>\n",
       "    </tr>\n",
       "    <tr>\n",
       "      <th>1</th>\n",
       "      <td>28141</td>\n",
       "      <td>Ананасово-кокосовый шербет</td>\n",
       "      <td>Выпечка и десерты</td>\n",
       "      <td>Карибская кухня</td>\n",
       "      <td>(Сахар, Кокосовое молоко, Корень имбиря, Анана...</td>\n",
       "    </tr>\n",
       "    <tr>\n",
       "      <th>2</th>\n",
       "      <td>27929</td>\n",
       "      <td>Десерт из манго, клубники и текилы</td>\n",
       "      <td>Выпечка и десерты</td>\n",
       "      <td>Карибская кухня</td>\n",
       "      <td>(Клубника, Манго, Сахар, Тертая цедра лайма, Т...</td>\n",
       "    </tr>\n",
       "    <tr>\n",
       "      <th>3</th>\n",
       "      <td>28192</td>\n",
       "      <td>Ананас с соусом из манго и рома</td>\n",
       "      <td>Выпечка и десерты</td>\n",
       "      <td>Карибская кухня</td>\n",
       "      <td>(Манго, Темный ром, Сок лайма, Сахар, Тертая ц...</td>\n",
       "    </tr>\n",
       "    <tr>\n",
       "      <th>4</th>\n",
       "      <td>28463</td>\n",
       "      <td>Клубничный соус с текилой</td>\n",
       "      <td>Выпечка и десерты</td>\n",
       "      <td>Карибская кухня</td>\n",
       "      <td>(Клубника, Сахарная пудра, Сок лайма, Текила, ...</td>\n",
       "    </tr>\n",
       "    <tr>\n",
       "      <th>...</th>\n",
       "      <td>...</td>\n",
       "      <td>...</td>\n",
       "      <td>...</td>\n",
       "      <td>...</td>\n",
       "      <td>...</td>\n",
       "    </tr>\n",
       "    <tr>\n",
       "      <th>41433</th>\n",
       "      <td>43380</td>\n",
       "      <td>Постный борщ с фасолью</td>\n",
       "      <td>Супы</td>\n",
       "      <td>Украинская кухня</td>\n",
       "      <td>(Белая фасоль, Овощной бульон, Свекла, Картофе...</td>\n",
       "    </tr>\n",
       "    <tr>\n",
       "      <th>41434</th>\n",
       "      <td>80446</td>\n",
       "      <td>Суп энгамат</td>\n",
       "      <td>Супы</td>\n",
       "      <td>Шведская кухня</td>\n",
       "      <td>(Цветная капуста, Морковь, Картофель, Лук-поре...</td>\n",
       "    </tr>\n",
       "    <tr>\n",
       "      <th>41435</th>\n",
       "      <td>136820</td>\n",
       "      <td>Гороховый суп с блинчиками</td>\n",
       "      <td>Супы</td>\n",
       "      <td>Шведская кухня</td>\n",
       "      <td>(Горох, Репчатый лук, Гвоздика, Свиная рулька,...</td>\n",
       "    </tr>\n",
       "    <tr>\n",
       "      <th>41436</th>\n",
       "      <td>18014</td>\n",
       "      <td>Суп из брокколи и кростини с сыром бри</td>\n",
       "      <td>Супы</td>\n",
       "      <td>Шведская кухня</td>\n",
       "      <td>(Оливковое масло, Репчатый лук, Овощной бульон...</td>\n",
       "    </tr>\n",
       "    <tr>\n",
       "      <th>41437</th>\n",
       "      <td>49530</td>\n",
       "      <td>Сливочный суп с фрикадельками</td>\n",
       "      <td>Супы</td>\n",
       "      <td>Шведская кухня</td>\n",
       "      <td>(Картофель, Репчатый лук, Мясной фарш, Морковь...</td>\n",
       "    </tr>\n",
       "  </tbody>\n",
       "</table>\n",
       "<p>41438 rows × 5 columns</p>\n",
       "</div>"
      ],
      "text/plain": [
       "           id                                   title             course  \\\n",
       "0       28195           Банановое мороженое с корицей  Выпечка и десерты   \n",
       "1       28141              Ананасово-кокосовый шербет  Выпечка и десерты   \n",
       "2       27929      Десерт из манго, клубники и текилы  Выпечка и десерты   \n",
       "3       28192         Ананас с соусом из манго и рома  Выпечка и десерты   \n",
       "4       28463               Клубничный соус с текилой  Выпечка и десерты   \n",
       "...       ...                                     ...                ...   \n",
       "41433   43380                  Постный борщ с фасолью               Супы   \n",
       "41434   80446                             Суп энгамат               Супы   \n",
       "41435  136820              Гороховый суп с блинчиками               Супы   \n",
       "41436   18014  Суп из брокколи и кростини с сыром бри               Супы   \n",
       "41437   49530           Сливочный суп с фрикадельками               Супы   \n",
       "\n",
       "                cuisine                                        ingredients  \n",
       "0       Карибская кухня  (Бананы, Лимонный сок, Молотая корица, Ванильн...  \n",
       "1       Карибская кухня  (Сахар, Кокосовое молоко, Корень имбиря, Анана...  \n",
       "2       Карибская кухня  (Клубника, Манго, Сахар, Тертая цедра лайма, Т...  \n",
       "3       Карибская кухня  (Манго, Темный ром, Сок лайма, Сахар, Тертая ц...  \n",
       "4       Карибская кухня  (Клубника, Сахарная пудра, Сок лайма, Текила, ...  \n",
       "...                 ...                                                ...  \n",
       "41433  Украинская кухня  (Белая фасоль, Овощной бульон, Свекла, Картофе...  \n",
       "41434    Шведская кухня  (Цветная капуста, Морковь, Картофель, Лук-поре...  \n",
       "41435    Шведская кухня  (Горох, Репчатый лук, Гвоздика, Свиная рулька,...  \n",
       "41436    Шведская кухня  (Оливковое масло, Репчатый лук, Овощной бульон...  \n",
       "41437    Шведская кухня  (Картофель, Репчатый лук, Мясной фарш, Морковь...  \n",
       "\n",
       "[41438 rows x 5 columns]"
      ]
     },
     "execution_count": 15,
     "metadata": {},
     "output_type": "execute_result"
    }
   ],
   "source": [
    "dups = df.duplicated()\n",
    "print(f'there were {dups.sum()} duplicate rows!')\n",
    "df_without_duplicates = df[~dups].reset_index(drop=True)\n",
    "df_without_duplicates"
   ]
  },
  {
   "cell_type": "markdown",
   "id": "7a5dd614-0fbc-43f7-be17-e025ae97cdd4",
   "metadata": {},
   "source": [
    "### As one can see, ids don't repeat:"
   ]
  },
  {
   "cell_type": "code",
   "execution_count": 16,
   "id": "1934776f-7e52-439d-a6c3-feb35dd7d536",
   "metadata": {},
   "outputs": [
    {
     "data": {
      "text/plain": [
       "0"
      ]
     },
     "execution_count": 16,
     "metadata": {},
     "output_type": "execute_result"
    }
   ],
   "source": [
    "it = df_without_duplicates.groupby('id').count()\n",
    "it = it[it['course'] > 1]\n",
    "len(it.index)"
   ]
  },
  {
   "cell_type": "code",
   "execution_count": 17,
   "id": "0b0287bd-983a-4903-a49d-444366873e99",
   "metadata": {},
   "outputs": [],
   "source": [
    "df_without_duplicates.to_json(data_path.joinpath('ready_dataframe.json'),force_ascii=False)"
   ]
  }
 ],
 "metadata": {
  "kernelspec": {
   "display_name": "Python 3 (ipykernel)",
   "language": "python",
   "name": "python3"
  },
  "language_info": {
   "codemirror_mode": {
    "name": "ipython",
    "version": 3
   },
   "file_extension": ".py",
   "mimetype": "text/x-python",
   "name": "python",
   "nbconvert_exporter": "python",
   "pygments_lexer": "ipython3",
   "version": "3.10.6"
  }
 },
 "nbformat": 4,
 "nbformat_minor": 5
}
